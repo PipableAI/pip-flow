{
  "cells": [
    {
      "cell_type": "code",
      "source": [
        "!pip3 install git+https://github.com/PipableAI/pip-flow.git"
      ],
      "metadata": {
        "id": "r14xxOvxWz-S"
      },
      "execution_count": null,
      "outputs": []
    },
    {
      "cell_type": "code",
      "execution_count": 2,
      "metadata": {
        "id": "BN5KJYoKWwge"
      },
      "outputs": [],
      "source": [
        "from pip_flow import PipFlow"
      ]
    },
    {
      "cell_type": "markdown",
      "source": [
        "## Intitialise the class and model\n",
        "\n",
        "By default, when initializing the `PipEtl` class without passing any device parameter, the model inference will require a GPU with at least 10-12 GB of VRAM.\n",
        "\n",
        "```python\n",
        "generator = PipEtl(device = 'cuda')\n",
        "```\n",
        "\n",
        "To test out the model without the need for a GPU, you can utilize the model hosted at PipableAI's end by initializing the model with \"cloud\" as the value for the device parameter.\n",
        "\n",
        "\n",
        "\n",
        "\n"
      ],
      "metadata": {
        "id": "la5xDpQt5teS"
      }
    },
    {
      "cell_type": "code",
      "execution_count": 3,
      "metadata": {
        "id": "FbE3fj0oWwgg"
      },
      "outputs": [],
      "source": [
        "pip_flow = PipFlow(device = 'cloud', model_key = \"PipableAI/pip-code-bandit\")"
      ]
    },
    {
      "cell_type": "markdown",
      "metadata": {
        "id": "9yk92zZzWwgg"
      },
      "source": [
        "## Generate from a prompt [Miscellaneous Examples]"
      ]
    },
    {
      "cell_type": "code",
      "execution_count": 4,
      "metadata": {
        "colab": {
          "base_uri": "https://localhost:8080/"
        },
        "id": "oJNpX6xoWwgh",
        "outputId": "5518f812-535c-46df-f915-4cf4e0dd9ade"
      },
      "outputs": [
        {
          "output_type": "stream",
          "name": "stdout",
          "text": [
            "\n",
            "The story begins with a boy who grows bored and watches over a village sheep. He yells to a wolf to chase the sheep, but no wolf is seen. The boy tells the villagers to not do it again. Later, the boy sees a wolf sneaking amongst the flock, and he calls for help. The villagers tell him that the boy is lying, but he is still lying. The story ends with the boy telling the villagers that there is a\n"
          ]
        }
      ],
      "source": [
        "prompt = \"\"\"\n",
        "<story>\n",
        "There once was a boy who grew bored while watching over the village sheep. He wanted to make things more exciting. So, he yelled out that he saw a wolf chasing the sheep. All the villagers came running to drive the wolf away. However, they saw no wolf. The boy was amused, but the villagers were not. They told him not to do it again. Shortly after, he repeated this antic. The villagers came running again, only to find that he was lying. Later that day, the boy really sees a wolf sneaking amongst the flock. He jumped up and called out for help. But no one came this time because they thought he was still joking around. At sunset, the villagers looked for the boy. He had not returned with their sheep. They found him crying. He told them that there really was a wolf, and the entire flock was gone. An old man came to comfort him and told him that nobody would believe a liar even when they are being honest.\n",
        "</story>\n",
        "<question>\n",
        "Give a short summary of the above story.\n",
        "</question>\n",
        "\"\"\"\n",
        "\n",
        "print(pip_flow.generate(prompt, eos_token=\"response\", max_new_tokens=100))"
      ]
    },
    {
      "cell_type": "code",
      "execution_count": 5,
      "metadata": {
        "colab": {
          "base_uri": "https://localhost:8080/"
        },
        "id": "_JuQVUnGWwgi",
        "outputId": "a2664d86-6e1b-4e40-eb25-e64f5c18ae8b"
      },
      "outputs": [
        {
          "output_type": "stream",
          "name": "stdout",
          "text": [
            "\n",
            "<data>\n",
            "<a>1, 3 and 5</a>\n",
            "<b>John and Michael</b>\n",
            "</data>\n",
            "\n"
          ]
        }
      ],
      "source": [
        "prompt = \"\"\"\n",
        "<data>\n",
        "a = 1, 3 and 5\n",
        "b = 'John' and 'Michael'\n",
        "</data>\n",
        "<question>\n",
        "Create a XML file with the data above.\n",
        "</question>\n",
        "\"\"\"\n",
        "\n",
        "print(pip_flow.generate(prompt, eos_token=\"xml\", max_new_tokens=50))"
      ]
    },
    {
      "cell_type": "code",
      "execution_count": 6,
      "metadata": {
        "colab": {
          "base_uri": "https://localhost:8080/"
        },
        "id": "-AnfEvLOWwgj",
        "outputId": "6c682363-8849-4daa-93ca-e7b7ae8ee8ba"
      },
      "outputs": [
        {
          "output_type": "stream",
          "name": "stdout",
          "text": [
            "\n",
            "{\n",
            "  \"a\": [1, 3, 5],\n",
            "  \"b\": ['John', 'Michael']\n",
            "}\n",
            "\n"
          ]
        }
      ],
      "source": [
        "prompt = \"\"\"\n",
        "<data>\n",
        "a = 1, 3 and 5\n",
        "b = 'John' and 'Michael'\n",
        "</data>\n",
        "<question>\n",
        "Create a JSON file with the data above.\n",
        "</question>\n",
        "\"\"\"\n",
        "\n",
        "print(pip_flow.generate(prompt, eos_token=\"json\", max_new_tokens=50))"
      ]
    },
    {
      "cell_type": "code",
      "execution_count": 7,
      "metadata": {
        "colab": {
          "base_uri": "https://localhost:8080/"
        },
        "id": "063qROW8Wwgk",
        "outputId": "bb8a87a6-c858-4a06-8a1a-9c236b7bde6d"
      },
      "outputs": [
        {
          "output_type": "stream",
          "name": "stdout",
          "text": [
            "\n",
            "\n",
            "\n",
            "```python\n",
            "def double_number(n):\n",
            "  return n * 2\n",
            "```\n",
            "\n",
            "\n"
          ]
        }
      ],
      "source": [
        "prompt = \"\"\"\n",
        "<question>\n",
        "write a python function to double the input number.\n",
        "</question>\n",
        "\"\"\"\n",
        "\n",
        "print(pip_flow.generate(prompt, eos_token=\"code\", max_new_tokens=50))"
      ]
    },
    {
      "cell_type": "code",
      "execution_count": 8,
      "metadata": {
        "colab": {
          "base_uri": "https://localhost:8080/"
        },
        "id": "i_KfU8y5Wwgk",
        "outputId": "23869fb4-d70f-45a4-864a-95c0d3cea678"
      },
      "outputs": [
        {
          "output_type": "stream",
          "name": "stdout",
          "text": [
            "\n",
            "<a>[1, 3, 5]</a>\n",
            "<b>John, Michael</b>\n",
            "\n"
          ]
        }
      ],
      "source": [
        "prompt = \"\"\"\n",
        "<json>\n",
        "{\n",
        "  \"a\": [1, 3, 5],\n",
        "  \"b\": ['John', 'Michael']\n",
        "}\n",
        "</json>\n",
        "<question>\n",
        "Parse the json to xml.\n",
        "</question>\n",
        "\"\"\"\n",
        "\n",
        "print(pip_flow.generate(prompt, eos_token=\"xml\", max_new_tokens=50))"
      ]
    },
    {
      "cell_type": "markdown",
      "metadata": {
        "id": "xjEX7IJBWwgl"
      },
      "source": [
        "## Generate SQL\n",
        "\n",
        "In this example, we will attempt to generate a SQL query. We will explore various examples demonstrating how to utilize instructions and examples for a more precise and accurate response."
      ]
    },
    {
      "cell_type": "code",
      "execution_count": 30,
      "metadata": {
        "colab": {
          "base_uri": "https://localhost:8080/",
          "height": 34
        },
        "id": "Anqlojx_Wwgl",
        "outputId": "4afa07dd-72ec-4539-99ee-c20ffbca17d5"
      },
      "outputs": [
        {
          "output_type": "display_data",
          "data": {
            "text/plain": [
              "\n",
              "SELECT name FROM head WHERE born_state != 'California';"
            ],
            "text/html": [
              "<style>pre { line-height: 125%; }\n",
              "td.linenos .normal { color: inherit; background-color: transparent; padding-left: 5px; padding-right: 5px; }\n",
              "span.linenos { color: inherit; background-color: transparent; padding-left: 5px; padding-right: 5px; }\n",
              "td.linenos .special { color: #000000; background-color: #ffffc0; padding-left: 5px; padding-right: 5px; }\n",
              "span.linenos.special { color: #000000; background-color: #ffffc0; padding-left: 5px; padding-right: 5px; }\n",
              ".output_html .hll { background-color: #ffffcc }\n",
              ".output_html { background: #f8f8f8; }\n",
              ".output_html .c { color: #3D7B7B; font-style: italic } /* Comment */\n",
              ".output_html .err { border: 1px solid #FF0000 } /* Error */\n",
              ".output_html .k { color: #008000; font-weight: bold } /* Keyword */\n",
              ".output_html .o { color: #666666 } /* Operator */\n",
              ".output_html .ch { color: #3D7B7B; font-style: italic } /* Comment.Hashbang */\n",
              ".output_html .cm { color: #3D7B7B; font-style: italic } /* Comment.Multiline */\n",
              ".output_html .cp { color: #9C6500 } /* Comment.Preproc */\n",
              ".output_html .cpf { color: #3D7B7B; font-style: italic } /* Comment.PreprocFile */\n",
              ".output_html .c1 { color: #3D7B7B; font-style: italic } /* Comment.Single */\n",
              ".output_html .cs { color: #3D7B7B; font-style: italic } /* Comment.Special */\n",
              ".output_html .gd { color: #A00000 } /* Generic.Deleted */\n",
              ".output_html .ge { font-style: italic } /* Generic.Emph */\n",
              ".output_html .ges { font-weight: bold; font-style: italic } /* Generic.EmphStrong */\n",
              ".output_html .gr { color: #E40000 } /* Generic.Error */\n",
              ".output_html .gh { color: #000080; font-weight: bold } /* Generic.Heading */\n",
              ".output_html .gi { color: #008400 } /* Generic.Inserted */\n",
              ".output_html .go { color: #717171 } /* Generic.Output */\n",
              ".output_html .gp { color: #000080; font-weight: bold } /* Generic.Prompt */\n",
              ".output_html .gs { font-weight: bold } /* Generic.Strong */\n",
              ".output_html .gu { color: #800080; font-weight: bold } /* Generic.Subheading */\n",
              ".output_html .gt { color: #0044DD } /* Generic.Traceback */\n",
              ".output_html .kc { color: #008000; font-weight: bold } /* Keyword.Constant */\n",
              ".output_html .kd { color: #008000; font-weight: bold } /* Keyword.Declaration */\n",
              ".output_html .kn { color: #008000; font-weight: bold } /* Keyword.Namespace */\n",
              ".output_html .kp { color: #008000 } /* Keyword.Pseudo */\n",
              ".output_html .kr { color: #008000; font-weight: bold } /* Keyword.Reserved */\n",
              ".output_html .kt { color: #B00040 } /* Keyword.Type */\n",
              ".output_html .m { color: #666666 } /* Literal.Number */\n",
              ".output_html .s { color: #BA2121 } /* Literal.String */\n",
              ".output_html .na { color: #687822 } /* Name.Attribute */\n",
              ".output_html .nb { color: #008000 } /* Name.Builtin */\n",
              ".output_html .nc { color: #0000FF; font-weight: bold } /* Name.Class */\n",
              ".output_html .no { color: #880000 } /* Name.Constant */\n",
              ".output_html .nd { color: #AA22FF } /* Name.Decorator */\n",
              ".output_html .ni { color: #717171; font-weight: bold } /* Name.Entity */\n",
              ".output_html .ne { color: #CB3F38; font-weight: bold } /* Name.Exception */\n",
              ".output_html .nf { color: #0000FF } /* Name.Function */\n",
              ".output_html .nl { color: #767600 } /* Name.Label */\n",
              ".output_html .nn { color: #0000FF; font-weight: bold } /* Name.Namespace */\n",
              ".output_html .nt { color: #008000; font-weight: bold } /* Name.Tag */\n",
              ".output_html .nv { color: #19177C } /* Name.Variable */\n",
              ".output_html .ow { color: #AA22FF; font-weight: bold } /* Operator.Word */\n",
              ".output_html .w { color: #bbbbbb } /* Text.Whitespace */\n",
              ".output_html .mb { color: #666666 } /* Literal.Number.Bin */\n",
              ".output_html .mf { color: #666666 } /* Literal.Number.Float */\n",
              ".output_html .mh { color: #666666 } /* Literal.Number.Hex */\n",
              ".output_html .mi { color: #666666 } /* Literal.Number.Integer */\n",
              ".output_html .mo { color: #666666 } /* Literal.Number.Oct */\n",
              ".output_html .sa { color: #BA2121 } /* Literal.String.Affix */\n",
              ".output_html .sb { color: #BA2121 } /* Literal.String.Backtick */\n",
              ".output_html .sc { color: #BA2121 } /* Literal.String.Char */\n",
              ".output_html .dl { color: #BA2121 } /* Literal.String.Delimiter */\n",
              ".output_html .sd { color: #BA2121; font-style: italic } /* Literal.String.Doc */\n",
              ".output_html .s2 { color: #BA2121 } /* Literal.String.Double */\n",
              ".output_html .se { color: #AA5D1F; font-weight: bold } /* Literal.String.Escape */\n",
              ".output_html .sh { color: #BA2121 } /* Literal.String.Heredoc */\n",
              ".output_html .si { color: #A45A77; font-weight: bold } /* Literal.String.Interpol */\n",
              ".output_html .sx { color: #008000 } /* Literal.String.Other */\n",
              ".output_html .sr { color: #A45A77 } /* Literal.String.Regex */\n",
              ".output_html .s1 { color: #BA2121 } /* Literal.String.Single */\n",
              ".output_html .ss { color: #19177C } /* Literal.String.Symbol */\n",
              ".output_html .bp { color: #008000 } /* Name.Builtin.Pseudo */\n",
              ".output_html .fm { color: #0000FF } /* Name.Function.Magic */\n",
              ".output_html .vc { color: #19177C } /* Name.Variable.Class */\n",
              ".output_html .vg { color: #19177C } /* Name.Variable.Global */\n",
              ".output_html .vi { color: #19177C } /* Name.Variable.Instance */\n",
              ".output_html .vm { color: #19177C } /* Name.Variable.Magic */\n",
              ".output_html .il { color: #666666 } /* Literal.Number.Integer.Long */</style><div class=\"highlight\"><pre><span></span><span class=\"nt\">SELECT</span><span class=\"w\"> </span><span class=\"nt\">name</span><span class=\"w\"> </span><span class=\"nt\">FROM</span><span class=\"w\"> </span><span class=\"nt\">head</span><span class=\"w\"> </span><span class=\"nt\">WHERE</span><span class=\"w\"> </span><span class=\"nt\">born_state</span><span class=\"w\"> </span><span class=\"o\">!=</span><span class=\"w\"> </span><span class=\"s1\">&#39;California&#39;</span><span class=\"o\">;</span>\n",
              "</pre></div>\n"
            ],
            "text/latex": "\\begin{Verbatim}[commandchars=\\\\\\{\\}]\n\\PY{n+nt}{SELECT}\\PY{+w}{ }\\PY{n+nt}{name}\\PY{+w}{ }\\PY{n+nt}{FROM}\\PY{+w}{ }\\PY{n+nt}{head}\\PY{+w}{ }\\PY{n+nt}{WHERE}\\PY{+w}{ }\\PY{n+nt}{born\\PYZus{}state}\\PY{+w}{ }\\PY{o}{!}\\PY{o}{=}\\PY{+w}{ }\\PY{l+s+s1}{\\PYZsq{}California\\PYZsq{}}\\PY{o}{;}\n\\end{Verbatim}\n"
          },
          "metadata": {}
        }
      ],
      "source": [
        "schema = f\"\"\"\n",
        "CREATE TABLE department (Department_ID number,\n",
        "  Name text,\n",
        "  Creation text,\n",
        "  Ranking number,\n",
        "  Budget_in_Billions number,\n",
        "  Num_Employees number);\n",
        "\n",
        "CREATE TABLE head (head_ID number,\n",
        "  name text,\n",
        "  born_state text,\n",
        "  age number);\n",
        "\n",
        "CREATE TABLE management (department_ID number,\n",
        "  head_ID number,\n",
        "  temporary_acting text);\n",
        "\"\"\"\n",
        "\n",
        "question = \"What are the names of the heads who are born outside the California state ?\"\n",
        "\n",
        "query = pip_flow.generate_sql(\n",
        "    schema=schema, question=question,\n",
        ")"
      ]
    },
    {
      "cell_type": "markdown",
      "source": [
        "### Use of instructions parameter\n",
        "\n",
        "By utilizing the `instruction` parameter, you have the flexibility to provide supplementary context directly relevant to your question."
      ],
      "metadata": {
        "id": "fLFVNzm_8CMZ"
      }
    },
    {
      "cell_type": "code",
      "source": [
        "schema = f\"\"\"\n",
        "CREATE TABLE department (Department_ID number,\n",
        "  Name text,\n",
        "  Creation text,\n",
        "  Ranking number,\n",
        "  Budget_in_Billions number,\n",
        "  Num_Employees number);\n",
        "\n",
        "CREATE TABLE head (head_ID number,\n",
        "  name text,\n",
        "  born_state text,\n",
        "  age number);\n",
        "\n",
        "CREATE TABLE management (department_ID number,\n",
        "  head_ID number,\n",
        "  temporary_acting text);\n",
        "\"\"\"\n",
        "\n",
        "instructions = \"\"\"\n",
        "1. In department table, column Budget_in_Billions is in billions, so numeric 1 will represent 1 billion.\n",
        "\"\"\"\n",
        "\n",
        "question = \"What are the names of department with budget more than 3 billions ?\"\n",
        "\n",
        "\n",
        "query = pip_flow.generate_sql(schema=schema, question=question, instructions=instructions)\n"
      ],
      "metadata": {
        "colab": {
          "base_uri": "https://localhost:8080/",
          "height": 34
        },
        "id": "G8hKnkeF8J3g",
        "outputId": "022dad13-bc2f-4db3-a267-1f8d83bc4109"
      },
      "execution_count": 31,
      "outputs": [
        {
          "output_type": "display_data",
          "data": {
            "text/plain": [
              "\n",
              "SELECT Name FROM department WHERE Budget_in_Billions > 3;"
            ],
            "text/html": [
              "<style>pre { line-height: 125%; }\n",
              "td.linenos .normal { color: inherit; background-color: transparent; padding-left: 5px; padding-right: 5px; }\n",
              "span.linenos { color: inherit; background-color: transparent; padding-left: 5px; padding-right: 5px; }\n",
              "td.linenos .special { color: #000000; background-color: #ffffc0; padding-left: 5px; padding-right: 5px; }\n",
              "span.linenos.special { color: #000000; background-color: #ffffc0; padding-left: 5px; padding-right: 5px; }\n",
              ".output_html .hll { background-color: #ffffcc }\n",
              ".output_html { background: #f8f8f8; }\n",
              ".output_html .c { color: #3D7B7B; font-style: italic } /* Comment */\n",
              ".output_html .err { border: 1px solid #FF0000 } /* Error */\n",
              ".output_html .k { color: #008000; font-weight: bold } /* Keyword */\n",
              ".output_html .o { color: #666666 } /* Operator */\n",
              ".output_html .ch { color: #3D7B7B; font-style: italic } /* Comment.Hashbang */\n",
              ".output_html .cm { color: #3D7B7B; font-style: italic } /* Comment.Multiline */\n",
              ".output_html .cp { color: #9C6500 } /* Comment.Preproc */\n",
              ".output_html .cpf { color: #3D7B7B; font-style: italic } /* Comment.PreprocFile */\n",
              ".output_html .c1 { color: #3D7B7B; font-style: italic } /* Comment.Single */\n",
              ".output_html .cs { color: #3D7B7B; font-style: italic } /* Comment.Special */\n",
              ".output_html .gd { color: #A00000 } /* Generic.Deleted */\n",
              ".output_html .ge { font-style: italic } /* Generic.Emph */\n",
              ".output_html .ges { font-weight: bold; font-style: italic } /* Generic.EmphStrong */\n",
              ".output_html .gr { color: #E40000 } /* Generic.Error */\n",
              ".output_html .gh { color: #000080; font-weight: bold } /* Generic.Heading */\n",
              ".output_html .gi { color: #008400 } /* Generic.Inserted */\n",
              ".output_html .go { color: #717171 } /* Generic.Output */\n",
              ".output_html .gp { color: #000080; font-weight: bold } /* Generic.Prompt */\n",
              ".output_html .gs { font-weight: bold } /* Generic.Strong */\n",
              ".output_html .gu { color: #800080; font-weight: bold } /* Generic.Subheading */\n",
              ".output_html .gt { color: #0044DD } /* Generic.Traceback */\n",
              ".output_html .kc { color: #008000; font-weight: bold } /* Keyword.Constant */\n",
              ".output_html .kd { color: #008000; font-weight: bold } /* Keyword.Declaration */\n",
              ".output_html .kn { color: #008000; font-weight: bold } /* Keyword.Namespace */\n",
              ".output_html .kp { color: #008000 } /* Keyword.Pseudo */\n",
              ".output_html .kr { color: #008000; font-weight: bold } /* Keyword.Reserved */\n",
              ".output_html .kt { color: #B00040 } /* Keyword.Type */\n",
              ".output_html .m { color: #666666 } /* Literal.Number */\n",
              ".output_html .s { color: #BA2121 } /* Literal.String */\n",
              ".output_html .na { color: #687822 } /* Name.Attribute */\n",
              ".output_html .nb { color: #008000 } /* Name.Builtin */\n",
              ".output_html .nc { color: #0000FF; font-weight: bold } /* Name.Class */\n",
              ".output_html .no { color: #880000 } /* Name.Constant */\n",
              ".output_html .nd { color: #AA22FF } /* Name.Decorator */\n",
              ".output_html .ni { color: #717171; font-weight: bold } /* Name.Entity */\n",
              ".output_html .ne { color: #CB3F38; font-weight: bold } /* Name.Exception */\n",
              ".output_html .nf { color: #0000FF } /* Name.Function */\n",
              ".output_html .nl { color: #767600 } /* Name.Label */\n",
              ".output_html .nn { color: #0000FF; font-weight: bold } /* Name.Namespace */\n",
              ".output_html .nt { color: #008000; font-weight: bold } /* Name.Tag */\n",
              ".output_html .nv { color: #19177C } /* Name.Variable */\n",
              ".output_html .ow { color: #AA22FF; font-weight: bold } /* Operator.Word */\n",
              ".output_html .w { color: #bbbbbb } /* Text.Whitespace */\n",
              ".output_html .mb { color: #666666 } /* Literal.Number.Bin */\n",
              ".output_html .mf { color: #666666 } /* Literal.Number.Float */\n",
              ".output_html .mh { color: #666666 } /* Literal.Number.Hex */\n",
              ".output_html .mi { color: #666666 } /* Literal.Number.Integer */\n",
              ".output_html .mo { color: #666666 } /* Literal.Number.Oct */\n",
              ".output_html .sa { color: #BA2121 } /* Literal.String.Affix */\n",
              ".output_html .sb { color: #BA2121 } /* Literal.String.Backtick */\n",
              ".output_html .sc { color: #BA2121 } /* Literal.String.Char */\n",
              ".output_html .dl { color: #BA2121 } /* Literal.String.Delimiter */\n",
              ".output_html .sd { color: #BA2121; font-style: italic } /* Literal.String.Doc */\n",
              ".output_html .s2 { color: #BA2121 } /* Literal.String.Double */\n",
              ".output_html .se { color: #AA5D1F; font-weight: bold } /* Literal.String.Escape */\n",
              ".output_html .sh { color: #BA2121 } /* Literal.String.Heredoc */\n",
              ".output_html .si { color: #A45A77; font-weight: bold } /* Literal.String.Interpol */\n",
              ".output_html .sx { color: #008000 } /* Literal.String.Other */\n",
              ".output_html .sr { color: #A45A77 } /* Literal.String.Regex */\n",
              ".output_html .s1 { color: #BA2121 } /* Literal.String.Single */\n",
              ".output_html .ss { color: #19177C } /* Literal.String.Symbol */\n",
              ".output_html .bp { color: #008000 } /* Name.Builtin.Pseudo */\n",
              ".output_html .fm { color: #0000FF } /* Name.Function.Magic */\n",
              ".output_html .vc { color: #19177C } /* Name.Variable.Class */\n",
              ".output_html .vg { color: #19177C } /* Name.Variable.Global */\n",
              ".output_html .vi { color: #19177C } /* Name.Variable.Instance */\n",
              ".output_html .vm { color: #19177C } /* Name.Variable.Magic */\n",
              ".output_html .il { color: #666666 } /* Literal.Number.Integer.Long */</style><div class=\"highlight\"><pre><span></span><span class=\"nt\">SELECT</span><span class=\"w\"> </span><span class=\"nt\">Name</span><span class=\"w\"> </span><span class=\"nt\">FROM</span><span class=\"w\"> </span><span class=\"nt\">department</span><span class=\"w\"> </span><span class=\"nt\">WHERE</span><span class=\"w\"> </span><span class=\"nt\">Budget_in_Billions</span><span class=\"w\"> </span><span class=\"o\">&gt;</span><span class=\"w\"> </span><span class=\"nt\">3</span><span class=\"o\">;</span>\n",
              "</pre></div>\n"
            ],
            "text/latex": "\\begin{Verbatim}[commandchars=\\\\\\{\\}]\n\\PY{n+nt}{SELECT}\\PY{+w}{ }\\PY{n+nt}{Name}\\PY{+w}{ }\\PY{n+nt}{FROM}\\PY{+w}{ }\\PY{n+nt}{department}\\PY{+w}{ }\\PY{n+nt}{WHERE}\\PY{+w}{ }\\PY{n+nt}{Budget\\PYZus{}in\\PYZus{}Billions}\\PY{+w}{ }\\PY{o}{\\PYZgt{}}\\PY{+w}{ }\\PY{n+nt}{3}\\PY{o}{;}\n\\end{Verbatim}\n"
          },
          "metadata": {}
        }
      ]
    },
    {
      "cell_type": "markdown",
      "source": [
        "### Use of Example Parameter\n",
        "\n",
        "For complex queries or queries requiring specific jargons and query formats, you can provide them as examples. Then, you can ask the model similar questions, which will result in the generation of appropriate and accurate queries."
      ],
      "metadata": {
        "id": "0ZA3bULb8UbT"
      }
    },
    {
      "cell_type": "code",
      "source": [
        "schema = f\"\"\"\n",
        "CREATE TABLE department (Department_ID number,\n",
        "  Name text,\n",
        "  Creation text,\n",
        "  Ranking number,\n",
        "  Budget_in_Billions number,\n",
        "  Num_Employees number);\n",
        "\n",
        "CREATE TABLE head (head_ID number,\n",
        "  name text,\n",
        "  born_state text,\n",
        "  age number);\n",
        "\n",
        "CREATE TABLE management (department_ID number,\n",
        "  head_ID number,\n",
        "  temporary_acting text);\n",
        "\"\"\"\n",
        "\n",
        "instructions = \"\"\"\n",
        "1. In department table, column Budget_in_Billions is in billions, so numeric 1 will represent 1 billion.\n",
        "\"\"\"\n",
        "\n",
        "examples = \"\"\"\n",
        "--question: Fetch the name of the departments, the ages of their heads, and whether there is any temporary acting head for departments with a budget exceeding $1 billion.\n",
        "--sql:\n",
        "SELECT d.Name AS Department_Name, h.age AS Head_Age,\n",
        "    CASE\n",
        "        WHEN m.temporary_acting IS NOT NULL THEN 'Yes'\n",
        "        ELSE 'No'\n",
        "    END AS Temporary_Acting_Head\n",
        "FROM department d\n",
        "JOIN management m ON d.Department_ID = m.department_ID\n",
        "JOIN head h ON m.head_ID = h.head_ID\n",
        "WHERE d.Budget_in_Billions > 1;\n",
        "\"\"\"\n",
        "question = \"Fetch the name of the departments, the ages of their heads, and whether there is any temporary acting head for departments with a budget exceeding $3 billion.\"\n",
        "\n",
        "\n",
        "query = pip_flow.generate_sql(schema=schema, question=question, instructions=instructions, examples=examples)"
      ],
      "metadata": {
        "colab": {
          "base_uri": "https://localhost:8080/",
          "height": 170
        },
        "id": "LwpCBq5u8WeO",
        "outputId": "634a747e-4918-4ffc-fac0-236fdf2ad9bd"
      },
      "execution_count": 32,
      "outputs": [
        {
          "output_type": "display_data",
          "data": {
            "text/plain": [
              "\n",
              "SELECT d.Name AS Department_Name, h.age AS Head_Age,\n",
              "    CASE\n",
              "        WHEN m.temporary_acting IS NOT NULL THEN 'Yes'\n",
              "        ELSE 'No'\n",
              "    END AS Temporary_Acting_Head\n",
              "FROM department d\n",
              "JOIN management m ON d.Department_ID = m.department_ID\n",
              "JOIN head h ON m.head_ID = h.head_ID\n",
              "WHERE d.Budget_in_Billions > 3;"
            ],
            "text/html": [
              "<style>pre { line-height: 125%; }\n",
              "td.linenos .normal { color: inherit; background-color: transparent; padding-left: 5px; padding-right: 5px; }\n",
              "span.linenos { color: inherit; background-color: transparent; padding-left: 5px; padding-right: 5px; }\n",
              "td.linenos .special { color: #000000; background-color: #ffffc0; padding-left: 5px; padding-right: 5px; }\n",
              "span.linenos.special { color: #000000; background-color: #ffffc0; padding-left: 5px; padding-right: 5px; }\n",
              ".output_html .hll { background-color: #ffffcc }\n",
              ".output_html { background: #f8f8f8; }\n",
              ".output_html .c { color: #3D7B7B; font-style: italic } /* Comment */\n",
              ".output_html .err { border: 1px solid #FF0000 } /* Error */\n",
              ".output_html .k { color: #008000; font-weight: bold } /* Keyword */\n",
              ".output_html .o { color: #666666 } /* Operator */\n",
              ".output_html .ch { color: #3D7B7B; font-style: italic } /* Comment.Hashbang */\n",
              ".output_html .cm { color: #3D7B7B; font-style: italic } /* Comment.Multiline */\n",
              ".output_html .cp { color: #9C6500 } /* Comment.Preproc */\n",
              ".output_html .cpf { color: #3D7B7B; font-style: italic } /* Comment.PreprocFile */\n",
              ".output_html .c1 { color: #3D7B7B; font-style: italic } /* Comment.Single */\n",
              ".output_html .cs { color: #3D7B7B; font-style: italic } /* Comment.Special */\n",
              ".output_html .gd { color: #A00000 } /* Generic.Deleted */\n",
              ".output_html .ge { font-style: italic } /* Generic.Emph */\n",
              ".output_html .ges { font-weight: bold; font-style: italic } /* Generic.EmphStrong */\n",
              ".output_html .gr { color: #E40000 } /* Generic.Error */\n",
              ".output_html .gh { color: #000080; font-weight: bold } /* Generic.Heading */\n",
              ".output_html .gi { color: #008400 } /* Generic.Inserted */\n",
              ".output_html .go { color: #717171 } /* Generic.Output */\n",
              ".output_html .gp { color: #000080; font-weight: bold } /* Generic.Prompt */\n",
              ".output_html .gs { font-weight: bold } /* Generic.Strong */\n",
              ".output_html .gu { color: #800080; font-weight: bold } /* Generic.Subheading */\n",
              ".output_html .gt { color: #0044DD } /* Generic.Traceback */\n",
              ".output_html .kc { color: #008000; font-weight: bold } /* Keyword.Constant */\n",
              ".output_html .kd { color: #008000; font-weight: bold } /* Keyword.Declaration */\n",
              ".output_html .kn { color: #008000; font-weight: bold } /* Keyword.Namespace */\n",
              ".output_html .kp { color: #008000 } /* Keyword.Pseudo */\n",
              ".output_html .kr { color: #008000; font-weight: bold } /* Keyword.Reserved */\n",
              ".output_html .kt { color: #B00040 } /* Keyword.Type */\n",
              ".output_html .m { color: #666666 } /* Literal.Number */\n",
              ".output_html .s { color: #BA2121 } /* Literal.String */\n",
              ".output_html .na { color: #687822 } /* Name.Attribute */\n",
              ".output_html .nb { color: #008000 } /* Name.Builtin */\n",
              ".output_html .nc { color: #0000FF; font-weight: bold } /* Name.Class */\n",
              ".output_html .no { color: #880000 } /* Name.Constant */\n",
              ".output_html .nd { color: #AA22FF } /* Name.Decorator */\n",
              ".output_html .ni { color: #717171; font-weight: bold } /* Name.Entity */\n",
              ".output_html .ne { color: #CB3F38; font-weight: bold } /* Name.Exception */\n",
              ".output_html .nf { color: #0000FF } /* Name.Function */\n",
              ".output_html .nl { color: #767600 } /* Name.Label */\n",
              ".output_html .nn { color: #0000FF; font-weight: bold } /* Name.Namespace */\n",
              ".output_html .nt { color: #008000; font-weight: bold } /* Name.Tag */\n",
              ".output_html .nv { color: #19177C } /* Name.Variable */\n",
              ".output_html .ow { color: #AA22FF; font-weight: bold } /* Operator.Word */\n",
              ".output_html .w { color: #bbbbbb } /* Text.Whitespace */\n",
              ".output_html .mb { color: #666666 } /* Literal.Number.Bin */\n",
              ".output_html .mf { color: #666666 } /* Literal.Number.Float */\n",
              ".output_html .mh { color: #666666 } /* Literal.Number.Hex */\n",
              ".output_html .mi { color: #666666 } /* Literal.Number.Integer */\n",
              ".output_html .mo { color: #666666 } /* Literal.Number.Oct */\n",
              ".output_html .sa { color: #BA2121 } /* Literal.String.Affix */\n",
              ".output_html .sb { color: #BA2121 } /* Literal.String.Backtick */\n",
              ".output_html .sc { color: #BA2121 } /* Literal.String.Char */\n",
              ".output_html .dl { color: #BA2121 } /* Literal.String.Delimiter */\n",
              ".output_html .sd { color: #BA2121; font-style: italic } /* Literal.String.Doc */\n",
              ".output_html .s2 { color: #BA2121 } /* Literal.String.Double */\n",
              ".output_html .se { color: #AA5D1F; font-weight: bold } /* Literal.String.Escape */\n",
              ".output_html .sh { color: #BA2121 } /* Literal.String.Heredoc */\n",
              ".output_html .si { color: #A45A77; font-weight: bold } /* Literal.String.Interpol */\n",
              ".output_html .sx { color: #008000 } /* Literal.String.Other */\n",
              ".output_html .sr { color: #A45A77 } /* Literal.String.Regex */\n",
              ".output_html .s1 { color: #BA2121 } /* Literal.String.Single */\n",
              ".output_html .ss { color: #19177C } /* Literal.String.Symbol */\n",
              ".output_html .bp { color: #008000 } /* Name.Builtin.Pseudo */\n",
              ".output_html .fm { color: #0000FF } /* Name.Function.Magic */\n",
              ".output_html .vc { color: #19177C } /* Name.Variable.Class */\n",
              ".output_html .vg { color: #19177C } /* Name.Variable.Global */\n",
              ".output_html .vi { color: #19177C } /* Name.Variable.Instance */\n",
              ".output_html .vm { color: #19177C } /* Name.Variable.Magic */\n",
              ".output_html .il { color: #666666 } /* Literal.Number.Integer.Long */</style><div class=\"highlight\"><pre><span></span><span class=\"nt\">SELECT</span><span class=\"w\"> </span><span class=\"nt\">d</span><span class=\"p\">.</span><span class=\"nc\">Name</span><span class=\"w\"> </span><span class=\"nt\">AS</span><span class=\"w\"> </span><span class=\"nt\">Department_Name</span><span class=\"o\">,</span><span class=\"w\"> </span><span class=\"nt\">h</span><span class=\"p\">.</span><span class=\"nc\">age</span><span class=\"w\"> </span><span class=\"nt\">AS</span><span class=\"w\"> </span><span class=\"nt\">Head_Age</span><span class=\"o\">,</span>\n",
              "<span class=\"w\">    </span><span class=\"nt\">CASE</span>\n",
              "<span class=\"w\">        </span><span class=\"nt\">WHEN</span><span class=\"w\"> </span><span class=\"nt\">m</span><span class=\"p\">.</span><span class=\"nc\">temporary_acting</span><span class=\"w\"> </span><span class=\"nt\">IS</span><span class=\"w\"> </span><span class=\"nt\">NOT</span><span class=\"w\"> </span><span class=\"nt\">NULL</span><span class=\"w\"> </span><span class=\"nt\">THEN</span><span class=\"w\"> </span><span class=\"s1\">&#39;Yes&#39;</span>\n",
              "<span class=\"w\">        </span><span class=\"nt\">ELSE</span><span class=\"w\"> </span><span class=\"s1\">&#39;No&#39;</span>\n",
              "<span class=\"w\">    </span><span class=\"nt\">END</span><span class=\"w\"> </span><span class=\"nt\">AS</span><span class=\"w\"> </span><span class=\"nt\">Temporary_Acting_Head</span>\n",
              "<span class=\"nt\">FROM</span><span class=\"w\"> </span><span class=\"nt\">department</span><span class=\"w\"> </span><span class=\"nt\">d</span>\n",
              "<span class=\"nt\">JOIN</span><span class=\"w\"> </span><span class=\"nt\">management</span><span class=\"w\"> </span><span class=\"nt\">m</span><span class=\"w\"> </span><span class=\"nt\">ON</span><span class=\"w\"> </span><span class=\"nt\">d</span><span class=\"p\">.</span><span class=\"nc\">Department_ID</span><span class=\"w\"> </span><span class=\"o\">=</span><span class=\"w\"> </span><span class=\"nt\">m</span><span class=\"p\">.</span><span class=\"nc\">department_ID</span>\n",
              "<span class=\"nt\">JOIN</span><span class=\"w\"> </span><span class=\"nt\">head</span><span class=\"w\"> </span><span class=\"nt\">h</span><span class=\"w\"> </span><span class=\"nt\">ON</span><span class=\"w\"> </span><span class=\"nt\">m</span><span class=\"p\">.</span><span class=\"nc\">head_ID</span><span class=\"w\"> </span><span class=\"o\">=</span><span class=\"w\"> </span><span class=\"nt\">h</span><span class=\"p\">.</span><span class=\"nc\">head_ID</span>\n",
              "<span class=\"nt\">WHERE</span><span class=\"w\"> </span><span class=\"nt\">d</span><span class=\"p\">.</span><span class=\"nc\">Budget_in_Billions</span><span class=\"w\"> </span><span class=\"o\">&gt;</span><span class=\"w\"> </span><span class=\"nt\">3</span><span class=\"o\">;</span>\n",
              "</pre></div>\n"
            ],
            "text/latex": "\\begin{Verbatim}[commandchars=\\\\\\{\\}]\n\\PY{n+nt}{SELECT}\\PY{+w}{ }\\PY{n+nt}{d}\\PY{p}{.}\\PY{n+nc}{Name}\\PY{+w}{ }\\PY{n+nt}{AS}\\PY{+w}{ }\\PY{n+nt}{Department\\PYZus{}Name}\\PY{o}{,}\\PY{+w}{ }\\PY{n+nt}{h}\\PY{p}{.}\\PY{n+nc}{age}\\PY{+w}{ }\\PY{n+nt}{AS}\\PY{+w}{ }\\PY{n+nt}{Head\\PYZus{}Age}\\PY{o}{,}\n\\PY{+w}{    }\\PY{n+nt}{CASE}\n\\PY{+w}{        }\\PY{n+nt}{WHEN}\\PY{+w}{ }\\PY{n+nt}{m}\\PY{p}{.}\\PY{n+nc}{temporary\\PYZus{}acting}\\PY{+w}{ }\\PY{n+nt}{IS}\\PY{+w}{ }\\PY{n+nt}{NOT}\\PY{+w}{ }\\PY{n+nt}{NULL}\\PY{+w}{ }\\PY{n+nt}{THEN}\\PY{+w}{ }\\PY{l+s+s1}{\\PYZsq{}Yes\\PYZsq{}}\n\\PY{+w}{        }\\PY{n+nt}{ELSE}\\PY{+w}{ }\\PY{l+s+s1}{\\PYZsq{}No\\PYZsq{}}\n\\PY{+w}{    }\\PY{n+nt}{END}\\PY{+w}{ }\\PY{n+nt}{AS}\\PY{+w}{ }\\PY{n+nt}{Temporary\\PYZus{}Acting\\PYZus{}Head}\n\\PY{n+nt}{FROM}\\PY{+w}{ }\\PY{n+nt}{department}\\PY{+w}{ }\\PY{n+nt}{d}\n\\PY{n+nt}{JOIN}\\PY{+w}{ }\\PY{n+nt}{management}\\PY{+w}{ }\\PY{n+nt}{m}\\PY{+w}{ }\\PY{n+nt}{ON}\\PY{+w}{ }\\PY{n+nt}{d}\\PY{p}{.}\\PY{n+nc}{Department\\PYZus{}ID}\\PY{+w}{ }\\PY{o}{=}\\PY{+w}{ }\\PY{n+nt}{m}\\PY{p}{.}\\PY{n+nc}{department\\PYZus{}ID}\n\\PY{n+nt}{JOIN}\\PY{+w}{ }\\PY{n+nt}{head}\\PY{+w}{ }\\PY{n+nt}{h}\\PY{+w}{ }\\PY{n+nt}{ON}\\PY{+w}{ }\\PY{n+nt}{m}\\PY{p}{.}\\PY{n+nc}{head\\PYZus{}ID}\\PY{+w}{ }\\PY{o}{=}\\PY{+w}{ }\\PY{n+nt}{h}\\PY{p}{.}\\PY{n+nc}{head\\PYZus{}ID}\n\\PY{n+nt}{WHERE}\\PY{+w}{ }\\PY{n+nt}{d}\\PY{p}{.}\\PY{n+nc}{Budget\\PYZus{}in\\PYZus{}Billions}\\PY{+w}{ }\\PY{o}{\\PYZgt{}}\\PY{+w}{ }\\PY{n+nt}{3}\\PY{o}{;}\n\\end{Verbatim}\n"
          },
          "metadata": {}
        }
      ]
    },
    {
      "cell_type": "markdown",
      "metadata": {
        "id": "LH7p9SwqWwgm"
      },
      "source": [
        "## Generate Docs\n",
        "\n",
        "This code snippet demonstrates how to utilize the PipFlow class from the pip_flow module to automatically generate a docstring for a given Python code snippet / Function."
      ]
    },
    {
      "cell_type": "markdown",
      "source": [
        "#### Code"
      ],
      "metadata": {
        "id": "PCgkOh4S7Ts5"
      }
    },
    {
      "cell_type": "code",
      "execution_count": 10,
      "metadata": {
        "colab": {
          "base_uri": "https://localhost:8080/",
          "height": 178
        },
        "id": "4PnBX_HsWwgm",
        "outputId": "bf7021bc-e79f-4281-8219-bc836e01df3f"
      },
      "outputs": [
        {
          "output_type": "display_data",
          "data": {
            "text/plain": [
              "<IPython.core.display.Markdown object>"
            ],
            "text/markdown": "\nThe function `add_numbers` takes two parameters: `a` and `b`. \n\n- `a` is a float. It represents the first number to be added.\n- `b` is a float. It represents the second number to be added.\n\nThe function returns a float. The result of the addition of `a` and `b`.\n\nPossible values for `a` and `b` are any numeric values.\n\nThe default value of `a` is 0.0 and `b` is 0.0.\n\nThe function returns a float.\n\n"
          },
          "metadata": {}
        }
      ],
      "source": [
        "# code with syntax error\n",
        "code = \"\"\"\n",
        "def add_numbers(a: float, b:float):\n",
        "    returrn a + b\n",
        "\"\"\"\n",
        "\n",
        "docs = pip_flow.generate_docs(code=code)"
      ]
    },
    {
      "cell_type": "markdown",
      "source": [
        "#### Function"
      ],
      "metadata": {
        "id": "f1uRzw5z7Y-1"
      }
    },
    {
      "cell_type": "code",
      "execution_count": 11,
      "metadata": {
        "colab": {
          "base_uri": "https://localhost:8080/",
          "height": 503
        },
        "id": "i6ClA2-nWwgm",
        "outputId": "b89ecfb1-9e8c-4d7f-9d71-750bc4d4f722"
      },
      "outputs": [
        {
          "output_type": "display_data",
          "data": {
            "text/plain": [
              "<IPython.core.display.Markdown object>"
            ],
            "text/markdown": "\nThe function `post` sends a POST request to the specified URL. It takes several parameters, including `url` for the target URL, `data` for sending data in the body of the request, `json` for sending JSON data, and `**kwargs` for passing additional parameters to the `request` function.\n\nThe function returns a `Response` object from the `request` function.\n\n**Parameters:**\n\n- `url`: The URL of the server to which the request is sent. It should be a string.\n- `data`: The data to be sent in the body of the request. It can be a dictionary, list of tuples, bytes, or file-like object.\n- `json`: A JSON serializable Python object to be sent in the body of the request.\n- `**kwargs`: Additional parameters to be passed to the `request` function.\n\n**Return Value:**\n\n- A `Response` object from the `request` function.\n\n**Dtypes:**\n\n- `url`: A string.\n- `data`: A dictionary, list of tuples, bytes, or file-like object.\n- `json`: A dictionary, list of tuples, bytes, or file-like object.\n- `**kwargs`: A dictionary.\n\n**Possible Param Values:**\n\n- `url`: A string representing the URL of the server to which the request is sent.\n- `data`: A dictionary, list of tuples, bytes, or file-like object representing the data to be sent in the body of the request.\n- `json`: A dictionary, list of tuples, bytes, or file-like object representing the JSON data to be sent in the body of the request.\n- `**kwargs`: A dictionary containing additional parameters to be passed to the `request` function.\n\n**Default Param Value:**\n\n- `url`: A string representing the URL of the server to which the request is sent.\n- `data`: A dictionary, list of tuples, bytes, or file-like object representing the data to be sent in the body of the request.\n- `json`: A dictionary, list of tuples, bytes, or file-like"
          },
          "metadata": {}
        }
      ],
      "source": [
        "import requests\n",
        "\n",
        "docs = pip_flow.generate_docs(requests.post)"
      ]
    },
    {
      "cell_type": "markdown",
      "metadata": {
        "id": "Bt6KiX2xWwgm"
      },
      "source": [
        "## Generate Function Call\n",
        "\n",
        "\n",
        "This functionality enables the model to comprehend various types of docstrings / function / code and subsequently prompt a question in natural language regarding the desired function call. The model then produces a Python-parsable function call, which can be executed directly using `exec` or through additional processing steps."
      ]
    },
    {
      "cell_type": "markdown",
      "source": [
        "### Function"
      ],
      "metadata": {
        "id": "AwtpQc59618Y"
      }
    },
    {
      "cell_type": "code",
      "execution_count": 26,
      "metadata": {
        "colab": {
          "base_uri": "https://localhost:8080/",
          "height": 34
        },
        "id": "6ypog2aMWwgm",
        "outputId": "3daaeb0f-7db7-4a29-a2de-06d57515f4de"
      },
      "outputs": [
        {
          "output_type": "display_data",
          "data": {
            "text/plain": [
              "\n",
              "requests.post(url='https://website.co.in', data='{\"name\": \"John\", \"age\": 30}', headers='Content-Type: application/json')"
            ],
            "text/html": [
              "<style>pre { line-height: 125%; }\n",
              "td.linenos .normal { color: inherit; background-color: transparent; padding-left: 5px; padding-right: 5px; }\n",
              "span.linenos { color: inherit; background-color: transparent; padding-left: 5px; padding-right: 5px; }\n",
              "td.linenos .special { color: #000000; background-color: #ffffc0; padding-left: 5px; padding-right: 5px; }\n",
              "span.linenos.special { color: #000000; background-color: #ffffc0; padding-left: 5px; padding-right: 5px; }\n",
              ".output_html .hll { background-color: #ffffcc }\n",
              ".output_html { background: #f8f8f8; }\n",
              ".output_html .c { color: #3D7B7B; font-style: italic } /* Comment */\n",
              ".output_html .err { border: 1px solid #FF0000 } /* Error */\n",
              ".output_html .k { color: #008000; font-weight: bold } /* Keyword */\n",
              ".output_html .o { color: #666666 } /* Operator */\n",
              ".output_html .ch { color: #3D7B7B; font-style: italic } /* Comment.Hashbang */\n",
              ".output_html .cm { color: #3D7B7B; font-style: italic } /* Comment.Multiline */\n",
              ".output_html .cp { color: #9C6500 } /* Comment.Preproc */\n",
              ".output_html .cpf { color: #3D7B7B; font-style: italic } /* Comment.PreprocFile */\n",
              ".output_html .c1 { color: #3D7B7B; font-style: italic } /* Comment.Single */\n",
              ".output_html .cs { color: #3D7B7B; font-style: italic } /* Comment.Special */\n",
              ".output_html .gd { color: #A00000 } /* Generic.Deleted */\n",
              ".output_html .ge { font-style: italic } /* Generic.Emph */\n",
              ".output_html .ges { font-weight: bold; font-style: italic } /* Generic.EmphStrong */\n",
              ".output_html .gr { color: #E40000 } /* Generic.Error */\n",
              ".output_html .gh { color: #000080; font-weight: bold } /* Generic.Heading */\n",
              ".output_html .gi { color: #008400 } /* Generic.Inserted */\n",
              ".output_html .go { color: #717171 } /* Generic.Output */\n",
              ".output_html .gp { color: #000080; font-weight: bold } /* Generic.Prompt */\n",
              ".output_html .gs { font-weight: bold } /* Generic.Strong */\n",
              ".output_html .gu { color: #800080; font-weight: bold } /* Generic.Subheading */\n",
              ".output_html .gt { color: #0044DD } /* Generic.Traceback */\n",
              ".output_html .kc { color: #008000; font-weight: bold } /* Keyword.Constant */\n",
              ".output_html .kd { color: #008000; font-weight: bold } /* Keyword.Declaration */\n",
              ".output_html .kn { color: #008000; font-weight: bold } /* Keyword.Namespace */\n",
              ".output_html .kp { color: #008000 } /* Keyword.Pseudo */\n",
              ".output_html .kr { color: #008000; font-weight: bold } /* Keyword.Reserved */\n",
              ".output_html .kt { color: #B00040 } /* Keyword.Type */\n",
              ".output_html .m { color: #666666 } /* Literal.Number */\n",
              ".output_html .s { color: #BA2121 } /* Literal.String */\n",
              ".output_html .na { color: #687822 } /* Name.Attribute */\n",
              ".output_html .nb { color: #008000 } /* Name.Builtin */\n",
              ".output_html .nc { color: #0000FF; font-weight: bold } /* Name.Class */\n",
              ".output_html .no { color: #880000 } /* Name.Constant */\n",
              ".output_html .nd { color: #AA22FF } /* Name.Decorator */\n",
              ".output_html .ni { color: #717171; font-weight: bold } /* Name.Entity */\n",
              ".output_html .ne { color: #CB3F38; font-weight: bold } /* Name.Exception */\n",
              ".output_html .nf { color: #0000FF } /* Name.Function */\n",
              ".output_html .nl { color: #767600 } /* Name.Label */\n",
              ".output_html .nn { color: #0000FF; font-weight: bold } /* Name.Namespace */\n",
              ".output_html .nt { color: #008000; font-weight: bold } /* Name.Tag */\n",
              ".output_html .nv { color: #19177C } /* Name.Variable */\n",
              ".output_html .ow { color: #AA22FF; font-weight: bold } /* Operator.Word */\n",
              ".output_html .w { color: #bbbbbb } /* Text.Whitespace */\n",
              ".output_html .mb { color: #666666 } /* Literal.Number.Bin */\n",
              ".output_html .mf { color: #666666 } /* Literal.Number.Float */\n",
              ".output_html .mh { color: #666666 } /* Literal.Number.Hex */\n",
              ".output_html .mi { color: #666666 } /* Literal.Number.Integer */\n",
              ".output_html .mo { color: #666666 } /* Literal.Number.Oct */\n",
              ".output_html .sa { color: #BA2121 } /* Literal.String.Affix */\n",
              ".output_html .sb { color: #BA2121 } /* Literal.String.Backtick */\n",
              ".output_html .sc { color: #BA2121 } /* Literal.String.Char */\n",
              ".output_html .dl { color: #BA2121 } /* Literal.String.Delimiter */\n",
              ".output_html .sd { color: #BA2121; font-style: italic } /* Literal.String.Doc */\n",
              ".output_html .s2 { color: #BA2121 } /* Literal.String.Double */\n",
              ".output_html .se { color: #AA5D1F; font-weight: bold } /* Literal.String.Escape */\n",
              ".output_html .sh { color: #BA2121 } /* Literal.String.Heredoc */\n",
              ".output_html .si { color: #A45A77; font-weight: bold } /* Literal.String.Interpol */\n",
              ".output_html .sx { color: #008000 } /* Literal.String.Other */\n",
              ".output_html .sr { color: #A45A77 } /* Literal.String.Regex */\n",
              ".output_html .s1 { color: #BA2121 } /* Literal.String.Single */\n",
              ".output_html .ss { color: #19177C } /* Literal.String.Symbol */\n",
              ".output_html .bp { color: #008000 } /* Name.Builtin.Pseudo */\n",
              ".output_html .fm { color: #0000FF } /* Name.Function.Magic */\n",
              ".output_html .vc { color: #19177C } /* Name.Variable.Class */\n",
              ".output_html .vg { color: #19177C } /* Name.Variable.Global */\n",
              ".output_html .vi { color: #19177C } /* Name.Variable.Instance */\n",
              ".output_html .vm { color: #19177C } /* Name.Variable.Magic */\n",
              ".output_html .il { color: #666666 } /* Literal.Number.Integer.Long */</style><div class=\"highlight\"><pre><span></span><span class=\"nt\">requests</span><span class=\"p\">.</span><span class=\"nc\">post</span><span class=\"o\">(</span><span class=\"nt\">url</span><span class=\"o\">=</span><span class=\"s1\">&#39;https://website.co.in&#39;</span><span class=\"o\">,</span><span class=\"w\"> </span><span class=\"nt\">data</span><span class=\"o\">=</span><span class=\"s1\">&#39;{&quot;name&quot;: &quot;John&quot;, &quot;age&quot;: 30}&#39;</span><span class=\"o\">,</span><span class=\"w\"> </span><span class=\"nt\">headers</span><span class=\"o\">=</span><span class=\"s1\">&#39;Content-Type: application/json&#39;</span><span class=\"o\">)</span>\n",
              "</pre></div>\n"
            ],
            "text/latex": "\\begin{Verbatim}[commandchars=\\\\\\{\\}]\n\\PY{n+nt}{requests}\\PY{p}{.}\\PY{n+nc}{post}\\PY{o}{(}\\PY{n+nt}{url}\\PY{o}{=}\\PY{l+s+s1}{\\PYZsq{}https://website.co.in\\PYZsq{}}\\PY{o}{,}\\PY{+w}{ }\\PY{n+nt}{data}\\PY{o}{=}\\PY{l+s+s1}{\\PYZsq{}\\PYZob{}\\PYZdq{}name\\PYZdq{}: \\PYZdq{}John\\PYZdq{}, \\PYZdq{}age\\PYZdq{}: 30\\PYZcb{}\\PYZsq{}}\\PY{o}{,}\\PY{+w}{ }\\PY{n+nt}{headers}\\PY{o}{=}\\PY{l+s+s1}{\\PYZsq{}Content\\PYZhy{}Type: application/json\\PYZsq{}}\\PY{o}{)}\n\\end{Verbatim}\n"
          },
          "metadata": {}
        }
      ],
      "source": [
        "import requests\n",
        "\n",
        "question = \"\"\"\n",
        "Make a POST request to https://website.co.in, with data '{\"name\": \"John\", \"age\": 30}' and headers 'Content-Type: application/json'.\n",
        "\"\"\"\n",
        "\n",
        "function_call = pip_flow.generate_function_call(question=question, function=requests.post)"
      ]
    },
    {
      "cell_type": "markdown",
      "source": [
        "#### Code"
      ],
      "metadata": {
        "id": "V5J4XpXQ6_8N"
      }
    },
    {
      "cell_type": "code",
      "execution_count": 28,
      "metadata": {
        "colab": {
          "base_uri": "https://localhost:8080/",
          "height": 309
        },
        "id": "2KUGb3FqWwgn",
        "outputId": "150abb89-da15-47fb-c7c0-584564d98c5e"
      },
      "outputs": [
        {
          "output_type": "stream",
          "name": "stdout",
          "text": [
            "Generating docstring for the code..\n"
          ]
        },
        {
          "output_type": "display_data",
          "data": {
            "text/plain": [
              "<IPython.core.display.Markdown object>"
            ],
            "text/markdown": "\n\nThe function `add_numbers` takes two parameters: `a` and `b`. It is designed to add two numbers together. The function takes two parameters, `a` and `b`, which are both of type `float`. The function returns a single value of type `float`.\n\nThe function has the following parameters:\n\n- `a`: The first number to be added. It is of type `float`.\n- `b`: The second number to be added. It is of type `float`.\n\nThe function returns a value of type `float`.\n\nThe function has the following parameters with default values:\n\n- `a`: Defaults to `0.0`.\n- `b`: Defaults to `0.0`.\n\nThe function has the following parameters with possible values:\n\n- `a`: Possible values range from `-1.7976931348623157e+308` to `1.7976931348623157e+308`.\n- `b`: Possible values range from `-1.7976931348623157e+308` to `1.7976931348623157e+308`.\n\n"
          },
          "metadata": {}
        },
        {
          "output_type": "display_data",
          "data": {
            "text/plain": [
              "\n",
              "add_numbers(a=4.5, b=6.7)"
            ],
            "text/html": [
              "<style>pre { line-height: 125%; }\n",
              "td.linenos .normal { color: inherit; background-color: transparent; padding-left: 5px; padding-right: 5px; }\n",
              "span.linenos { color: inherit; background-color: transparent; padding-left: 5px; padding-right: 5px; }\n",
              "td.linenos .special { color: #000000; background-color: #ffffc0; padding-left: 5px; padding-right: 5px; }\n",
              "span.linenos.special { color: #000000; background-color: #ffffc0; padding-left: 5px; padding-right: 5px; }\n",
              ".output_html .hll { background-color: #ffffcc }\n",
              ".output_html { background: #f8f8f8; }\n",
              ".output_html .c { color: #3D7B7B; font-style: italic } /* Comment */\n",
              ".output_html .err { border: 1px solid #FF0000 } /* Error */\n",
              ".output_html .k { color: #008000; font-weight: bold } /* Keyword */\n",
              ".output_html .o { color: #666666 } /* Operator */\n",
              ".output_html .ch { color: #3D7B7B; font-style: italic } /* Comment.Hashbang */\n",
              ".output_html .cm { color: #3D7B7B; font-style: italic } /* Comment.Multiline */\n",
              ".output_html .cp { color: #9C6500 } /* Comment.Preproc */\n",
              ".output_html .cpf { color: #3D7B7B; font-style: italic } /* Comment.PreprocFile */\n",
              ".output_html .c1 { color: #3D7B7B; font-style: italic } /* Comment.Single */\n",
              ".output_html .cs { color: #3D7B7B; font-style: italic } /* Comment.Special */\n",
              ".output_html .gd { color: #A00000 } /* Generic.Deleted */\n",
              ".output_html .ge { font-style: italic } /* Generic.Emph */\n",
              ".output_html .ges { font-weight: bold; font-style: italic } /* Generic.EmphStrong */\n",
              ".output_html .gr { color: #E40000 } /* Generic.Error */\n",
              ".output_html .gh { color: #000080; font-weight: bold } /* Generic.Heading */\n",
              ".output_html .gi { color: #008400 } /* Generic.Inserted */\n",
              ".output_html .go { color: #717171 } /* Generic.Output */\n",
              ".output_html .gp { color: #000080; font-weight: bold } /* Generic.Prompt */\n",
              ".output_html .gs { font-weight: bold } /* Generic.Strong */\n",
              ".output_html .gu { color: #800080; font-weight: bold } /* Generic.Subheading */\n",
              ".output_html .gt { color: #0044DD } /* Generic.Traceback */\n",
              ".output_html .kc { color: #008000; font-weight: bold } /* Keyword.Constant */\n",
              ".output_html .kd { color: #008000; font-weight: bold } /* Keyword.Declaration */\n",
              ".output_html .kn { color: #008000; font-weight: bold } /* Keyword.Namespace */\n",
              ".output_html .kp { color: #008000 } /* Keyword.Pseudo */\n",
              ".output_html .kr { color: #008000; font-weight: bold } /* Keyword.Reserved */\n",
              ".output_html .kt { color: #B00040 } /* Keyword.Type */\n",
              ".output_html .m { color: #666666 } /* Literal.Number */\n",
              ".output_html .s { color: #BA2121 } /* Literal.String */\n",
              ".output_html .na { color: #687822 } /* Name.Attribute */\n",
              ".output_html .nb { color: #008000 } /* Name.Builtin */\n",
              ".output_html .nc { color: #0000FF; font-weight: bold } /* Name.Class */\n",
              ".output_html .no { color: #880000 } /* Name.Constant */\n",
              ".output_html .nd { color: #AA22FF } /* Name.Decorator */\n",
              ".output_html .ni { color: #717171; font-weight: bold } /* Name.Entity */\n",
              ".output_html .ne { color: #CB3F38; font-weight: bold } /* Name.Exception */\n",
              ".output_html .nf { color: #0000FF } /* Name.Function */\n",
              ".output_html .nl { color: #767600 } /* Name.Label */\n",
              ".output_html .nn { color: #0000FF; font-weight: bold } /* Name.Namespace */\n",
              ".output_html .nt { color: #008000; font-weight: bold } /* Name.Tag */\n",
              ".output_html .nv { color: #19177C } /* Name.Variable */\n",
              ".output_html .ow { color: #AA22FF; font-weight: bold } /* Operator.Word */\n",
              ".output_html .w { color: #bbbbbb } /* Text.Whitespace */\n",
              ".output_html .mb { color: #666666 } /* Literal.Number.Bin */\n",
              ".output_html .mf { color: #666666 } /* Literal.Number.Float */\n",
              ".output_html .mh { color: #666666 } /* Literal.Number.Hex */\n",
              ".output_html .mi { color: #666666 } /* Literal.Number.Integer */\n",
              ".output_html .mo { color: #666666 } /* Literal.Number.Oct */\n",
              ".output_html .sa { color: #BA2121 } /* Literal.String.Affix */\n",
              ".output_html .sb { color: #BA2121 } /* Literal.String.Backtick */\n",
              ".output_html .sc { color: #BA2121 } /* Literal.String.Char */\n",
              ".output_html .dl { color: #BA2121 } /* Literal.String.Delimiter */\n",
              ".output_html .sd { color: #BA2121; font-style: italic } /* Literal.String.Doc */\n",
              ".output_html .s2 { color: #BA2121 } /* Literal.String.Double */\n",
              ".output_html .se { color: #AA5D1F; font-weight: bold } /* Literal.String.Escape */\n",
              ".output_html .sh { color: #BA2121 } /* Literal.String.Heredoc */\n",
              ".output_html .si { color: #A45A77; font-weight: bold } /* Literal.String.Interpol */\n",
              ".output_html .sx { color: #008000 } /* Literal.String.Other */\n",
              ".output_html .sr { color: #A45A77 } /* Literal.String.Regex */\n",
              ".output_html .s1 { color: #BA2121 } /* Literal.String.Single */\n",
              ".output_html .ss { color: #19177C } /* Literal.String.Symbol */\n",
              ".output_html .bp { color: #008000 } /* Name.Builtin.Pseudo */\n",
              ".output_html .fm { color: #0000FF } /* Name.Function.Magic */\n",
              ".output_html .vc { color: #19177C } /* Name.Variable.Class */\n",
              ".output_html .vg { color: #19177C } /* Name.Variable.Global */\n",
              ".output_html .vi { color: #19177C } /* Name.Variable.Instance */\n",
              ".output_html .vm { color: #19177C } /* Name.Variable.Magic */\n",
              ".output_html .il { color: #666666 } /* Literal.Number.Integer.Long */</style><div class=\"highlight\"><pre><span></span><span class=\"nt\">add_numbers</span><span class=\"o\">(</span><span class=\"nt\">a</span><span class=\"o\">=</span><span class=\"nt\">4</span><span class=\"p\">.</span><span class=\"nc\">5</span><span class=\"o\">,</span><span class=\"w\"> </span><span class=\"nt\">b</span><span class=\"o\">=</span><span class=\"nt\">6</span><span class=\"p\">.</span><span class=\"nc\">7</span><span class=\"o\">)</span>\n",
              "</pre></div>\n"
            ],
            "text/latex": "\\begin{Verbatim}[commandchars=\\\\\\{\\}]\n\\PY{n+nt}{add\\PYZus{}numbers}\\PY{o}{(}\\PY{n+nt}{a}\\PY{o}{=}\\PY{n+nt}{4}\\PY{p}{.}\\PY{n+nc}{5}\\PY{o}{,}\\PY{+w}{ }\\PY{n+nt}{b}\\PY{o}{=}\\PY{n+nt}{6}\\PY{p}{.}\\PY{n+nc}{7}\\PY{o}{)}\n\\end{Verbatim}\n"
          },
          "metadata": {}
        }
      ],
      "source": [
        "code = \"\"\"\n",
        "def add_numbers(a: float, b:float):\n",
        "    return a + b\n",
        "\"\"\"\n",
        "\n",
        "question = \"\"\"\n",
        "I want to add 4.5 and 6.7\n",
        "\"\"\"\n",
        "function_call = pip_flow.generate_function_call(question=question, code=code)"
      ]
    },
    {
      "cell_type": "markdown",
      "source": [
        "#### Docstring"
      ],
      "metadata": {
        "id": "8xeuyACD7Fbg"
      }
    },
    {
      "cell_type": "code",
      "execution_count": 14,
      "metadata": {
        "colab": {
          "base_uri": "https://localhost:8080/",
          "height": 34
        },
        "id": "pRjxXmqwWwgn",
        "outputId": "1fe60ddc-29f8-4c2f-965a-ba2a9aa02974"
      },
      "outputs": [
        {
          "output_type": "display_data",
          "data": {
            "text/plain": [
              "\n",
              "make_get_req(path='variable_2', data=variable_1, params={'weight': variable_3}, headers={}, not_json_response=True, absolute=True)"
            ],
            "text/html": [
              "<style>pre { line-height: 125%; }\n",
              "td.linenos .normal { color: inherit; background-color: transparent; padding-left: 5px; padding-right: 5px; }\n",
              "span.linenos { color: inherit; background-color: transparent; padding-left: 5px; padding-right: 5px; }\n",
              "td.linenos .special { color: #000000; background-color: #ffffc0; padding-left: 5px; padding-right: 5px; }\n",
              "span.linenos.special { color: #000000; background-color: #ffffc0; padding-left: 5px; padding-right: 5px; }\n",
              ".output_html .hll { background-color: #ffffcc }\n",
              ".output_html { background: #f8f8f8; }\n",
              ".output_html .c { color: #3D7B7B; font-style: italic } /* Comment */\n",
              ".output_html .err { border: 1px solid #FF0000 } /* Error */\n",
              ".output_html .k { color: #008000; font-weight: bold } /* Keyword */\n",
              ".output_html .o { color: #666666 } /* Operator */\n",
              ".output_html .ch { color: #3D7B7B; font-style: italic } /* Comment.Hashbang */\n",
              ".output_html .cm { color: #3D7B7B; font-style: italic } /* Comment.Multiline */\n",
              ".output_html .cp { color: #9C6500 } /* Comment.Preproc */\n",
              ".output_html .cpf { color: #3D7B7B; font-style: italic } /* Comment.PreprocFile */\n",
              ".output_html .c1 { color: #3D7B7B; font-style: italic } /* Comment.Single */\n",
              ".output_html .cs { color: #3D7B7B; font-style: italic } /* Comment.Special */\n",
              ".output_html .gd { color: #A00000 } /* Generic.Deleted */\n",
              ".output_html .ge { font-style: italic } /* Generic.Emph */\n",
              ".output_html .ges { font-weight: bold; font-style: italic } /* Generic.EmphStrong */\n",
              ".output_html .gr { color: #E40000 } /* Generic.Error */\n",
              ".output_html .gh { color: #000080; font-weight: bold } /* Generic.Heading */\n",
              ".output_html .gi { color: #008400 } /* Generic.Inserted */\n",
              ".output_html .go { color: #717171 } /* Generic.Output */\n",
              ".output_html .gp { color: #000080; font-weight: bold } /* Generic.Prompt */\n",
              ".output_html .gs { font-weight: bold } /* Generic.Strong */\n",
              ".output_html .gu { color: #800080; font-weight: bold } /* Generic.Subheading */\n",
              ".output_html .gt { color: #0044DD } /* Generic.Traceback */\n",
              ".output_html .kc { color: #008000; font-weight: bold } /* Keyword.Constant */\n",
              ".output_html .kd { color: #008000; font-weight: bold } /* Keyword.Declaration */\n",
              ".output_html .kn { color: #008000; font-weight: bold } /* Keyword.Namespace */\n",
              ".output_html .kp { color: #008000 } /* Keyword.Pseudo */\n",
              ".output_html .kr { color: #008000; font-weight: bold } /* Keyword.Reserved */\n",
              ".output_html .kt { color: #B00040 } /* Keyword.Type */\n",
              ".output_html .m { color: #666666 } /* Literal.Number */\n",
              ".output_html .s { color: #BA2121 } /* Literal.String */\n",
              ".output_html .na { color: #687822 } /* Name.Attribute */\n",
              ".output_html .nb { color: #008000 } /* Name.Builtin */\n",
              ".output_html .nc { color: #0000FF; font-weight: bold } /* Name.Class */\n",
              ".output_html .no { color: #880000 } /* Name.Constant */\n",
              ".output_html .nd { color: #AA22FF } /* Name.Decorator */\n",
              ".output_html .ni { color: #717171; font-weight: bold } /* Name.Entity */\n",
              ".output_html .ne { color: #CB3F38; font-weight: bold } /* Name.Exception */\n",
              ".output_html .nf { color: #0000FF } /* Name.Function */\n",
              ".output_html .nl { color: #767600 } /* Name.Label */\n",
              ".output_html .nn { color: #0000FF; font-weight: bold } /* Name.Namespace */\n",
              ".output_html .nt { color: #008000; font-weight: bold } /* Name.Tag */\n",
              ".output_html .nv { color: #19177C } /* Name.Variable */\n",
              ".output_html .ow { color: #AA22FF; font-weight: bold } /* Operator.Word */\n",
              ".output_html .w { color: #bbbbbb } /* Text.Whitespace */\n",
              ".output_html .mb { color: #666666 } /* Literal.Number.Bin */\n",
              ".output_html .mf { color: #666666 } /* Literal.Number.Float */\n",
              ".output_html .mh { color: #666666 } /* Literal.Number.Hex */\n",
              ".output_html .mi { color: #666666 } /* Literal.Number.Integer */\n",
              ".output_html .mo { color: #666666 } /* Literal.Number.Oct */\n",
              ".output_html .sa { color: #BA2121 } /* Literal.String.Affix */\n",
              ".output_html .sb { color: #BA2121 } /* Literal.String.Backtick */\n",
              ".output_html .sc { color: #BA2121 } /* Literal.String.Char */\n",
              ".output_html .dl { color: #BA2121 } /* Literal.String.Delimiter */\n",
              ".output_html .sd { color: #BA2121; font-style: italic } /* Literal.String.Doc */\n",
              ".output_html .s2 { color: #BA2121 } /* Literal.String.Double */\n",
              ".output_html .se { color: #AA5D1F; font-weight: bold } /* Literal.String.Escape */\n",
              ".output_html .sh { color: #BA2121 } /* Literal.String.Heredoc */\n",
              ".output_html .si { color: #A45A77; font-weight: bold } /* Literal.String.Interpol */\n",
              ".output_html .sx { color: #008000 } /* Literal.String.Other */\n",
              ".output_html .sr { color: #A45A77 } /* Literal.String.Regex */\n",
              ".output_html .s1 { color: #BA2121 } /* Literal.String.Single */\n",
              ".output_html .ss { color: #19177C } /* Literal.String.Symbol */\n",
              ".output_html .bp { color: #008000 } /* Name.Builtin.Pseudo */\n",
              ".output_html .fm { color: #0000FF } /* Name.Function.Magic */\n",
              ".output_html .vc { color: #19177C } /* Name.Variable.Class */\n",
              ".output_html .vg { color: #19177C } /* Name.Variable.Global */\n",
              ".output_html .vi { color: #19177C } /* Name.Variable.Instance */\n",
              ".output_html .vm { color: #19177C } /* Name.Variable.Magic */\n",
              ".output_html .il { color: #666666 } /* Literal.Number.Integer.Long */</style><div class=\"highlight\"><pre><span></span><span class=\"nt\">make_get_req</span><span class=\"o\">(</span><span class=\"nt\">path</span><span class=\"o\">=</span><span class=\"s1\">&#39;variable_2&#39;</span><span class=\"o\">,</span><span class=\"w\"> </span><span class=\"nt\">data</span><span class=\"o\">=</span><span class=\"nt\">variable_1</span><span class=\"o\">,</span><span class=\"w\"> </span><span class=\"nt\">params</span><span class=\"o\">=</span><span class=\"p\">{</span><span class=\"err\">&#39;weight&#39;:</span><span class=\"w\"> </span><span class=\"err\">variable_3</span><span class=\"p\">}</span><span class=\"o\">,</span><span class=\"w\"> </span><span class=\"nt\">headers</span><span class=\"o\">=</span><span class=\"p\">{}</span><span class=\"o\">,</span><span class=\"w\"> </span><span class=\"nt\">not_json_response</span><span class=\"o\">=</span><span class=\"nt\">True</span><span class=\"o\">,</span><span class=\"w\"> </span><span class=\"nt\">absolute</span><span class=\"o\">=</span><span class=\"nt\">True</span><span class=\"o\">)</span>\n",
              "</pre></div>\n"
            ],
            "text/latex": "\\begin{Verbatim}[commandchars=\\\\\\{\\}]\n\\PY{n+nt}{make\\PYZus{}get\\PYZus{}req}\\PY{o}{(}\\PY{n+nt}{path}\\PY{o}{=}\\PY{l+s+s1}{\\PYZsq{}variable\\PYZus{}2\\PYZsq{}}\\PY{o}{,}\\PY{+w}{ }\\PY{n+nt}{data}\\PY{o}{=}\\PY{n+nt}{variable\\PYZus{}1}\\PY{o}{,}\\PY{+w}{ }\\PY{n+nt}{params}\\PY{o}{=}\\PY{p}{\\PYZob{}}\\PY{err}{\\PYZsq{}}\\PY{err}{w}\\PY{err}{e}\\PY{err}{i}\\PY{err}{g}\\PY{err}{h}\\PY{err}{t}\\PY{err}{\\PYZsq{}}\\PY{err}{:}\\PY{+w}{ }\\PY{err}{v}\\PY{err}{a}\\PY{err}{r}\\PY{err}{i}\\PY{err}{a}\\PY{err}{b}\\PY{err}{l}\\PY{err}{e}\\PY{err}{\\PYZus{}}\\PY{err}{3}\\PY{p}{\\PYZcb{}}\\PY{o}{,}\\PY{+w}{ }\\PY{n+nt}{headers}\\PY{o}{=}\\PY{p}{\\PYZob{}}\\PY{p}{\\PYZcb{}}\\PY{o}{,}\\PY{+w}{ }\\PY{n+nt}{not\\PYZus{}json\\PYZus{}response}\\PY{o}{=}\\PY{n+nt}{True}\\PY{o}{,}\\PY{+w}{ }\\PY{n+nt}{absolute}\\PY{o}{=}\\PY{n+nt}{True}\\PY{o}{)}\n\\end{Verbatim}\n"
          },
          "metadata": {}
        }
      ],
      "source": [
        "docstring = \"\"\"\n",
        "Function Name: make_get_req\n",
        "Description: This function is used to make a GET request.\n",
        "Parameters:\n",
        "- path (str): The path of the URL to be requested.\n",
        "- data (dict): The data to be sent in the body of the request.\n",
        "- flags (dict): The flags to be sent in the request.\n",
        "- params (dict): The parameters to be sent in the request.\n",
        "- headers (dict): The headers to be sent in the request.\n",
        "- not_json_response (bool): OPTIONAL: If set to True, the function will return the raw response content instead of trying to parse it as JSON.\n",
        "- trailing (str): OPTIONAL: For wrapping slash symbol in the end of string.\n",
        "- absolute (bool): OPTIONAL: If set to True, the function will not prefix the URL with the base URL.\n",
        "- advanced_mode (bool): OPTIONAL: If set to True, the function will return the raw response instead of trying to parse it as JSON.\n",
        "Returns:\n",
        "- Union[str, dict, list, None]: The response content as a string, a dictionary, a list, or None if the response was not successful.\n",
        "\"\"\"\n",
        "\n",
        "question = \"\"\"\n",
        "Make a GET request for the URL parameter using variable_2. For the params parameter, use 'weight' as one of the keys with variable_3 as its value, and 'width' as another key with a value of 10. For the data parameter, use variable_1. Prefix the URL with the base URL, and ensure the response is in raw format.\n",
        "\"\"\"\n",
        "\n",
        "\n",
        "function_call = pip_flow.generate_function_call(question=question, docstring=docstring)"
      ]
    },
    {
      "cell_type": "markdown",
      "metadata": {
        "id": "M2LJt9mGWwgn"
      },
      "source": [
        "## Generate Plan"
      ]
    },
    {
      "cell_type": "markdown",
      "metadata": {
        "id": "IsyC1DPgWwgn"
      },
      "source": [
        "### Add functions / callbales to PipFlow class"
      ]
    },
    {
      "cell_type": "code",
      "execution_count": 15,
      "metadata": {
        "colab": {
          "base_uri": "https://localhost:8080/"
        },
        "id": "PyJATC2_Wwgo",
        "outputId": "5a824589-db4f-4fed-e0f1-412342da94b8"
      },
      "outputs": [
        {
          "output_type": "execute_result",
          "data": {
            "text/plain": [
              "[Function(signature='(url, params=None, **kwargs)', docs='Sends a GET request.\\n\\n    :param url: URL for the new :class:`Request` object.\\n    :param params: (optional) Dictionary, list of tuples or bytes to send\\n        in the query string for the :class:`Request`.\\n    :param \\\\*\\\\*kwargs: Optional arguments that ``request`` takes.\\n    :return: :class:`Response <Response>` object\\n    :rtype: requests.Response\\n    ', name='get', full_name='requests.api.get'),\n",
              " Function(signature=\"(markup='', features=None, builder=None, parse_only=None, from_encoding=None, exclude_encodings=None, element_classes=None, **kwargs)\", docs='A data structure representing a parsed HTML or XML document.\\n\\n    Most of the methods you\\'ll call on a BeautifulSoup object are inherited from\\n    PageElement or Tag.\\n\\n    Internally, this class defines the basic interface called by the\\n    tree builders when converting an HTML/XML document into a data\\n    structure. The interface abstracts away the differences between\\n    parsers. To write a new tree builder, you\\'ll need to understand\\n    these methods as a whole.\\n\\n    These methods will be called by the BeautifulSoup constructor:\\n      * reset()\\n      * feed(markup)\\n\\n    The tree builder may call these methods from its feed() implementation:\\n      * handle_starttag(name, attrs) # See note about return value\\n      * handle_endtag(name)\\n      * handle_data(data) # Appends to the current data node\\n      * endData(containerClass) # Ends the current data node\\n\\n    No matter how complicated the underlying parser is, you should be\\n    able to build a tree using \\'start tag\\' events, \\'end tag\\' events,\\n    \\'data\\' events, and \"done with data\" events.\\n\\n    If you encounter an empty-element tag (aka a self-closing tag,\\n    like HTML\\'s <br> tag), call handle_starttag and then\\n    handle_endtag.\\n    ', name='BeautifulSoup', full_name='bs4.BeautifulSoup'),\n",
              " Function(signature='(self, name=None, attrs={}, recursive=True, string=None, limit=None, **kwargs)', docs=\"Look in the children of this PageElement and find all\\n        PageElements that match the given criteria.\\n\\n        All find_* methods take a common set of arguments. See the online\\n        documentation for detailed explanations.\\n\\n        :param name: A filter on tag name.\\n        :param attrs: A dictionary of filters on attribute values.\\n        :param recursive: If this is True, find_all() will perform a\\n            recursive search of this PageElement's children. Otherwise,\\n            only the direct children will be considered.\\n        :param limit: Stop looking after finding this many results.\\n        :kwargs: A dictionary of filters on attribute values.\\n        :return: A ResultSet of PageElements.\\n        :rtype: bs4.element.ResultSet\\n        \", name='find_all', full_name='bs4.element.Tag.find_all')]"
            ]
          },
          "metadata": {},
          "execution_count": 15
        }
      ],
      "source": [
        "import requests\n",
        "from bs4 import BeautifulSoup\n",
        "\n",
        "functions = [\n",
        "    requests.get,\n",
        "    BeautifulSoup,\n",
        "    BeautifulSoup.find_all,\n",
        "]\n",
        "\n",
        "pip_flow.add_callables(\n",
        "    functions, generate_docs=False\n",
        ")\n",
        "\n",
        "pip_flow.functions"
      ]
    },
    {
      "cell_type": "markdown",
      "metadata": {
        "id": "bnlUr80hWwgo"
      },
      "source": [
        "### Create a Plan"
      ]
    },
    {
      "cell_type": "code",
      "execution_count": 16,
      "metadata": {
        "colab": {
          "base_uri": "https://localhost:8080/"
        },
        "id": "4IhhEE4qWwgo",
        "outputId": "31ade726-01ec-425b-ae98-098de71caf7e"
      },
      "outputs": [
        {
          "output_type": "stream",
          "name": "stdout",
          "text": [
            "{\n",
            "    \"tasks\": [\n",
            "        {\n",
            "            \"task_id\": 1,\n",
            "            \"function_name\": \"get\",\n",
            "            \"parameters\": [\n",
            "                {\n",
            "                    \"name\": \"url\",\n",
            "                    \"value\": \"https://colab.research.google.com/drive/1mB2v-d72k5DJ2sXqm7GsaAZdWOJBmmof?authuser=1#scrollTo=9NgzJt0-FoNw\",\n",
            "                    \"description\": \"URL of the page to be scraped\",\n",
            "                    \"dtype\": \"string\"\n",
            "                }\n",
            "            ],\n",
            "            \"outputs\": [\n",
            "                \"variable_1\"\n",
            "            ],\n",
            "            \"description\": \"Fetches the content of the page and converts it into a BeautifulSoup object.\"\n",
            "        },\n",
            "        {\n",
            "            \"task_id\": 2,\n",
            "            \"function_name\": \"BeautifulSoup\",\n",
            "            \"parameters\": [\n",
            "                {\n",
            "                    \"name\": \"markup\",\n",
            "                    \"value\": \"variable_1\",\n",
            "                    \"description\": \"The markup content of the page\",\n",
            "                    \"dtype\": \"string\"\n",
            "                }\n",
            "            ],\n",
            "            \"outputs\": [\n",
            "                \"variable_2\"\n",
            "            ],\n",
            "            \"description\": \"Creates a BeautifulSoup object from the markup content.\"\n",
            "        },\n",
            "        {\n",
            "            \"task_id\": 3,\n",
            "            \"function_name\": \"find_all\",\n",
            "            \"parameters\": [\n",
            "                {\n",
            "                    \"name\": \"self\",\n",
            "                    \"value\": \"variable_2\",\n",
            "                    \"description\": \"The BeautifulSoup object created from the markup content\",\n",
            "                    \"dtype\": \"BeautifulSoup object\"\n",
            "                },\n",
            "                {\n",
            "                    \"name\": \"name\",\n",
            "                    \"value\": \"div\",\n",
            "                    \"description\": \"The name of the tag to find\",\n",
            "                    \"dtype\": \"string\"\n",
            "                }\n",
            "            ],\n",
            "            \"outputs\": [\n",
            "                \"variable_3\"\n",
            "            ],\n",
            "            \"description\": \"Finds all div elements on the page.\"\n",
            "        }\n",
            "    ]\n",
            "}\n"
          ]
        }
      ],
      "source": [
        "question = \"\"\"\n",
        "Make get request to https://colab.research.google.com/drive/1mB2v-d72k5DJ2sXqm7GsaAZdWOJBmmof?authuser=1#scrollTo=9NgzJt0-FoNw.\n",
        "Create Beautiful soup class and find all the divs\n",
        "\"\"\"\n",
        "\n",
        "plan = pip_flow.generate_plan(question)"
      ]
    },
    {
      "cell_type": "markdown",
      "metadata": {
        "id": "MYMht0coWwgo"
      },
      "source": [
        "### Generate Code from the Plan"
      ]
    },
    {
      "cell_type": "code",
      "execution_count": 17,
      "metadata": {
        "colab": {
          "base_uri": "https://localhost:8080/",
          "height": 306
        },
        "id": "-t9cYqGtWwgo",
        "outputId": "e30da44c-c611-4194-f24b-9cd4fdb3cf53"
      },
      "outputs": [
        {
          "output_type": "display_data",
          "data": {
            "text/plain": [
              "\n",
              "\n",
              "# Importing required libraries\n",
              "from bs4 import BeautifulSoup\n",
              "import requests\n",
              "\n",
              "# Get the page content\n",
              "url = 'https://colab.research.google.com/drive/1mB2v-d72k5DJ2sXqm7GsaAZdWOJBmmof?authuser=1#scrollTo=9NgzJt0-FoNw'\n",
              "response = requests.get(url)\n",
              "\n",
              "# Create BeautifulSoup object\n",
              "soup = BeautifulSoup(response.text, 'html.parser')\n",
              "\n",
              "# Find all div elements\n",
              "divs = soup.find_all('div')\n",
              "\n",
              "# Print the divs\n",
              "for div in divs:\n",
              "    print(div)\n"
            ],
            "text/html": [
              "<style>pre { line-height: 125%; }\n",
              "td.linenos .normal { color: inherit; background-color: transparent; padding-left: 5px; padding-right: 5px; }\n",
              "span.linenos { color: inherit; background-color: transparent; padding-left: 5px; padding-right: 5px; }\n",
              "td.linenos .special { color: #000000; background-color: #ffffc0; padding-left: 5px; padding-right: 5px; }\n",
              "span.linenos.special { color: #000000; background-color: #ffffc0; padding-left: 5px; padding-right: 5px; }\n",
              ".output_html .hll { background-color: #ffffcc }\n",
              ".output_html { background: #f8f8f8; }\n",
              ".output_html .c { color: #3D7B7B; font-style: italic } /* Comment */\n",
              ".output_html .err { border: 1px solid #FF0000 } /* Error */\n",
              ".output_html .k { color: #008000; font-weight: bold } /* Keyword */\n",
              ".output_html .o { color: #666666 } /* Operator */\n",
              ".output_html .ch { color: #3D7B7B; font-style: italic } /* Comment.Hashbang */\n",
              ".output_html .cm { color: #3D7B7B; font-style: italic } /* Comment.Multiline */\n",
              ".output_html .cp { color: #9C6500 } /* Comment.Preproc */\n",
              ".output_html .cpf { color: #3D7B7B; font-style: italic } /* Comment.PreprocFile */\n",
              ".output_html .c1 { color: #3D7B7B; font-style: italic } /* Comment.Single */\n",
              ".output_html .cs { color: #3D7B7B; font-style: italic } /* Comment.Special */\n",
              ".output_html .gd { color: #A00000 } /* Generic.Deleted */\n",
              ".output_html .ge { font-style: italic } /* Generic.Emph */\n",
              ".output_html .ges { font-weight: bold; font-style: italic } /* Generic.EmphStrong */\n",
              ".output_html .gr { color: #E40000 } /* Generic.Error */\n",
              ".output_html .gh { color: #000080; font-weight: bold } /* Generic.Heading */\n",
              ".output_html .gi { color: #008400 } /* Generic.Inserted */\n",
              ".output_html .go { color: #717171 } /* Generic.Output */\n",
              ".output_html .gp { color: #000080; font-weight: bold } /* Generic.Prompt */\n",
              ".output_html .gs { font-weight: bold } /* Generic.Strong */\n",
              ".output_html .gu { color: #800080; font-weight: bold } /* Generic.Subheading */\n",
              ".output_html .gt { color: #0044DD } /* Generic.Traceback */\n",
              ".output_html .kc { color: #008000; font-weight: bold } /* Keyword.Constant */\n",
              ".output_html .kd { color: #008000; font-weight: bold } /* Keyword.Declaration */\n",
              ".output_html .kn { color: #008000; font-weight: bold } /* Keyword.Namespace */\n",
              ".output_html .kp { color: #008000 } /* Keyword.Pseudo */\n",
              ".output_html .kr { color: #008000; font-weight: bold } /* Keyword.Reserved */\n",
              ".output_html .kt { color: #B00040 } /* Keyword.Type */\n",
              ".output_html .m { color: #666666 } /* Literal.Number */\n",
              ".output_html .s { color: #BA2121 } /* Literal.String */\n",
              ".output_html .na { color: #687822 } /* Name.Attribute */\n",
              ".output_html .nb { color: #008000 } /* Name.Builtin */\n",
              ".output_html .nc { color: #0000FF; font-weight: bold } /* Name.Class */\n",
              ".output_html .no { color: #880000 } /* Name.Constant */\n",
              ".output_html .nd { color: #AA22FF } /* Name.Decorator */\n",
              ".output_html .ni { color: #717171; font-weight: bold } /* Name.Entity */\n",
              ".output_html .ne { color: #CB3F38; font-weight: bold } /* Name.Exception */\n",
              ".output_html .nf { color: #0000FF } /* Name.Function */\n",
              ".output_html .nl { color: #767600 } /* Name.Label */\n",
              ".output_html .nn { color: #0000FF; font-weight: bold } /* Name.Namespace */\n",
              ".output_html .nt { color: #008000; font-weight: bold } /* Name.Tag */\n",
              ".output_html .nv { color: #19177C } /* Name.Variable */\n",
              ".output_html .ow { color: #AA22FF; font-weight: bold } /* Operator.Word */\n",
              ".output_html .w { color: #bbbbbb } /* Text.Whitespace */\n",
              ".output_html .mb { color: #666666 } /* Literal.Number.Bin */\n",
              ".output_html .mf { color: #666666 } /* Literal.Number.Float */\n",
              ".output_html .mh { color: #666666 } /* Literal.Number.Hex */\n",
              ".output_html .mi { color: #666666 } /* Literal.Number.Integer */\n",
              ".output_html .mo { color: #666666 } /* Literal.Number.Oct */\n",
              ".output_html .sa { color: #BA2121 } /* Literal.String.Affix */\n",
              ".output_html .sb { color: #BA2121 } /* Literal.String.Backtick */\n",
              ".output_html .sc { color: #BA2121 } /* Literal.String.Char */\n",
              ".output_html .dl { color: #BA2121 } /* Literal.String.Delimiter */\n",
              ".output_html .sd { color: #BA2121; font-style: italic } /* Literal.String.Doc */\n",
              ".output_html .s2 { color: #BA2121 } /* Literal.String.Double */\n",
              ".output_html .se { color: #AA5D1F; font-weight: bold } /* Literal.String.Escape */\n",
              ".output_html .sh { color: #BA2121 } /* Literal.String.Heredoc */\n",
              ".output_html .si { color: #A45A77; font-weight: bold } /* Literal.String.Interpol */\n",
              ".output_html .sx { color: #008000 } /* Literal.String.Other */\n",
              ".output_html .sr { color: #A45A77 } /* Literal.String.Regex */\n",
              ".output_html .s1 { color: #BA2121 } /* Literal.String.Single */\n",
              ".output_html .ss { color: #19177C } /* Literal.String.Symbol */\n",
              ".output_html .bp { color: #008000 } /* Name.Builtin.Pseudo */\n",
              ".output_html .fm { color: #0000FF } /* Name.Function.Magic */\n",
              ".output_html .vc { color: #19177C } /* Name.Variable.Class */\n",
              ".output_html .vg { color: #19177C } /* Name.Variable.Global */\n",
              ".output_html .vi { color: #19177C } /* Name.Variable.Instance */\n",
              ".output_html .vm { color: #19177C } /* Name.Variable.Magic */\n",
              ".output_html .il { color: #666666 } /* Literal.Number.Integer.Long */</style><div class=\"highlight\"><pre><span></span><span class=\"err\">#</span><span class=\"w\"> </span><span class=\"nt\">Importing</span><span class=\"w\"> </span><span class=\"nt\">required</span><span class=\"w\"> </span><span class=\"nt\">libraries</span>\n",
              "<span class=\"nt\">from</span><span class=\"w\"> </span><span class=\"nt\">bs4</span><span class=\"w\"> </span><span class=\"nt\">import</span><span class=\"w\"> </span><span class=\"nt\">BeautifulSoup</span>\n",
              "<span class=\"nt\">import</span><span class=\"w\"> </span><span class=\"nt\">requests</span>\n",
              "\n",
              "<span class=\"err\">#</span><span class=\"w\"> </span><span class=\"nt\">Get</span><span class=\"w\"> </span><span class=\"nt\">the</span><span class=\"w\"> </span><span class=\"nt\">page</span><span class=\"w\"> </span><span class=\"nt\">content</span>\n",
              "<span class=\"nt\">url</span><span class=\"w\"> </span><span class=\"o\">=</span><span class=\"w\"> </span><span class=\"s1\">&#39;https://colab.research.google.com/drive/1mB2v-d72k5DJ2sXqm7GsaAZdWOJBmmof?authuser=1#scrollTo=9NgzJt0-FoNw&#39;</span>\n",
              "<span class=\"nt\">response</span><span class=\"w\"> </span><span class=\"o\">=</span><span class=\"w\"> </span><span class=\"nt\">requests</span><span class=\"p\">.</span><span class=\"nc\">get</span><span class=\"o\">(</span><span class=\"nt\">url</span><span class=\"o\">)</span>\n",
              "\n",
              "<span class=\"err\">#</span><span class=\"w\"> </span><span class=\"nt\">Create</span><span class=\"w\"> </span><span class=\"nt\">BeautifulSoup</span><span class=\"w\"> </span><span class=\"nt\">object</span>\n",
              "<span class=\"nt\">soup</span><span class=\"w\"> </span><span class=\"o\">=</span><span class=\"w\"> </span><span class=\"nt\">BeautifulSoup</span><span class=\"o\">(</span><span class=\"nt\">response</span><span class=\"p\">.</span><span class=\"nc\">text</span><span class=\"o\">,</span><span class=\"w\"> </span><span class=\"s1\">&#39;html.parser&#39;</span><span class=\"o\">)</span>\n",
              "\n",
              "<span class=\"err\">#</span><span class=\"w\"> </span><span class=\"nt\">Find</span><span class=\"w\"> </span><span class=\"nt\">all</span><span class=\"w\"> </span><span class=\"nt\">div</span><span class=\"w\"> </span><span class=\"nt\">elements</span>\n",
              "<span class=\"nt\">divs</span><span class=\"w\"> </span><span class=\"o\">=</span><span class=\"w\"> </span><span class=\"nt\">soup</span><span class=\"p\">.</span><span class=\"nc\">find_all</span><span class=\"o\">(</span><span class=\"s1\">&#39;div&#39;</span><span class=\"o\">)</span>\n",
              "\n",
              "<span class=\"err\">#</span><span class=\"w\"> </span><span class=\"nt\">Print</span><span class=\"w\"> </span><span class=\"nt\">the</span><span class=\"w\"> </span><span class=\"nt\">divs</span>\n",
              "<span class=\"nt\">for</span><span class=\"w\"> </span><span class=\"nt\">div</span><span class=\"w\"> </span><span class=\"nt\">in</span><span class=\"w\"> </span><span class=\"nt\">divs</span><span class=\"o\">:</span>\n",
              "<span class=\"w\">    </span><span class=\"nt\">print</span><span class=\"o\">(</span><span class=\"nt\">div</span><span class=\"o\">)</span>\n",
              "</pre></div>\n"
            ],
            "text/latex": "\\begin{Verbatim}[commandchars=\\\\\\{\\}]\n\\PY{err}{\\PYZsh{}}\\PY{+w}{ }\\PY{n+nt}{Importing}\\PY{+w}{ }\\PY{n+nt}{required}\\PY{+w}{ }\\PY{n+nt}{libraries}\n\\PY{n+nt}{from}\\PY{+w}{ }\\PY{n+nt}{bs4}\\PY{+w}{ }\\PY{n+nt}{import}\\PY{+w}{ }\\PY{n+nt}{BeautifulSoup}\n\\PY{n+nt}{import}\\PY{+w}{ }\\PY{n+nt}{requests}\n\n\\PY{err}{\\PYZsh{}}\\PY{+w}{ }\\PY{n+nt}{Get}\\PY{+w}{ }\\PY{n+nt}{the}\\PY{+w}{ }\\PY{n+nt}{page}\\PY{+w}{ }\\PY{n+nt}{content}\n\\PY{n+nt}{url}\\PY{+w}{ }\\PY{o}{=}\\PY{+w}{ }\\PY{l+s+s1}{\\PYZsq{}https://colab.research.google.com/drive/1mB2v\\PYZhy{}d72k5DJ2sXqm7GsaAZdWOJBmmof?authuser=1\\PYZsh{}scrollTo=9NgzJt0\\PYZhy{}FoNw\\PYZsq{}}\n\\PY{n+nt}{response}\\PY{+w}{ }\\PY{o}{=}\\PY{+w}{ }\\PY{n+nt}{requests}\\PY{p}{.}\\PY{n+nc}{get}\\PY{o}{(}\\PY{n+nt}{url}\\PY{o}{)}\n\n\\PY{err}{\\PYZsh{}}\\PY{+w}{ }\\PY{n+nt}{Create}\\PY{+w}{ }\\PY{n+nt}{BeautifulSoup}\\PY{+w}{ }\\PY{n+nt}{object}\n\\PY{n+nt}{soup}\\PY{+w}{ }\\PY{o}{=}\\PY{+w}{ }\\PY{n+nt}{BeautifulSoup}\\PY{o}{(}\\PY{n+nt}{response}\\PY{p}{.}\\PY{n+nc}{text}\\PY{o}{,}\\PY{+w}{ }\\PY{l+s+s1}{\\PYZsq{}html.parser\\PYZsq{}}\\PY{o}{)}\n\n\\PY{err}{\\PYZsh{}}\\PY{+w}{ }\\PY{n+nt}{Find}\\PY{+w}{ }\\PY{n+nt}{all}\\PY{+w}{ }\\PY{n+nt}{div}\\PY{+w}{ }\\PY{n+nt}{elements}\n\\PY{n+nt}{divs}\\PY{+w}{ }\\PY{o}{=}\\PY{+w}{ }\\PY{n+nt}{soup}\\PY{p}{.}\\PY{n+nc}{find\\PYZus{}all}\\PY{o}{(}\\PY{l+s+s1}{\\PYZsq{}div\\PYZsq{}}\\PY{o}{)}\n\n\\PY{err}{\\PYZsh{}}\\PY{+w}{ }\\PY{n+nt}{Print}\\PY{+w}{ }\\PY{n+nt}{the}\\PY{+w}{ }\\PY{n+nt}{divs}\n\\PY{n+nt}{for}\\PY{+w}{ }\\PY{n+nt}{div}\\PY{+w}{ }\\PY{n+nt}{in}\\PY{+w}{ }\\PY{n+nt}{divs}\\PY{o}{:}\n\\PY{+w}{    }\\PY{n+nt}{print}\\PY{o}{(}\\PY{n+nt}{div}\\PY{o}{)}\n\\end{Verbatim}\n"
          },
          "metadata": {}
        }
      ],
      "source": [
        "pip_flow.plan_to_code()"
      ]
    },
    {
      "cell_type": "markdown",
      "metadata": {
        "id": "Uoxx8_ORWwgo"
      },
      "source": [
        "### Visualise the Plan"
      ]
    },
    {
      "cell_type": "code",
      "execution_count": 18,
      "metadata": {
        "colab": {
          "base_uri": "https://localhost:8080/",
          "height": 699
        },
        "id": "oxBe4DYPWwgo",
        "outputId": "20971a0a-000a-4a47-a1ea-55b9109dd310"
      },
      "outputs": [
        {
          "output_type": "stream",
          "name": "stderr",
          "text": [
            "/usr/local/lib/python3.10/dist-packages/pip_flow/pip_flow.py:399: UserWarning: Visualisation is not supported in VS code yet.\n",
            "  warnings.warn(\"Visualisation is not supported in VS code yet.\")\n"
          ]
        },
        {
          "output_type": "stream",
          "name": "stdout",
          "text": [
            "network.html\n"
          ]
        },
        {
          "output_type": "display_data",
          "data": {
            "text/plain": [
              "<IPython.core.display.HTML object>"
            ],
            "text/html": [
              "<html>\n",
              "    <head>\n",
              "        <meta charset=\"utf-8\">\n",
              "        \n",
              "            <script>function neighbourhoodHighlight(params) {\n",
              "  // console.log(\"in nieghbourhoodhighlight\");\n",
              "  allNodes = nodes.get({ returnType: \"Object\" });\n",
              "  // originalNodes = JSON.parse(JSON.stringify(allNodes));\n",
              "  // if something is selected:\n",
              "  if (params.nodes.length > 0) {\n",
              "    highlightActive = true;\n",
              "    var i, j;\n",
              "    var selectedNode = params.nodes[0];\n",
              "    var degrees = 2;\n",
              "\n",
              "    // mark all nodes as hard to read.\n",
              "    for (let nodeId in allNodes) {\n",
              "      // nodeColors[nodeId] = allNodes[nodeId].color;\n",
              "      allNodes[nodeId].color = \"rgba(200,200,200,0.5)\";\n",
              "      if (allNodes[nodeId].hiddenLabel === undefined) {\n",
              "        allNodes[nodeId].hiddenLabel = allNodes[nodeId].label;\n",
              "        allNodes[nodeId].label = undefined;\n",
              "      }\n",
              "    }\n",
              "    var connectedNodes = network.getConnectedNodes(selectedNode);\n",
              "    var allConnectedNodes = [];\n",
              "\n",
              "    // get the second degree nodes\n",
              "    for (i = 1; i < degrees; i++) {\n",
              "      for (j = 0; j < connectedNodes.length; j++) {\n",
              "        allConnectedNodes = allConnectedNodes.concat(\n",
              "          network.getConnectedNodes(connectedNodes[j])\n",
              "        );\n",
              "      }\n",
              "    }\n",
              "\n",
              "    // all second degree nodes get a different color and their label back\n",
              "    for (i = 0; i < allConnectedNodes.length; i++) {\n",
              "      // allNodes[allConnectedNodes[i]].color = \"pink\";\n",
              "      allNodes[allConnectedNodes[i]].color = \"rgba(150,150,150,0.75)\";\n",
              "      if (allNodes[allConnectedNodes[i]].hiddenLabel !== undefined) {\n",
              "        allNodes[allConnectedNodes[i]].label =\n",
              "          allNodes[allConnectedNodes[i]].hiddenLabel;\n",
              "        allNodes[allConnectedNodes[i]].hiddenLabel = undefined;\n",
              "      }\n",
              "    }\n",
              "\n",
              "    // all first degree nodes get their own color and their label back\n",
              "    for (i = 0; i < connectedNodes.length; i++) {\n",
              "      // allNodes[connectedNodes[i]].color = undefined;\n",
              "      allNodes[connectedNodes[i]].color = nodeColors[connectedNodes[i]];\n",
              "      if (allNodes[connectedNodes[i]].hiddenLabel !== undefined) {\n",
              "        allNodes[connectedNodes[i]].label =\n",
              "          allNodes[connectedNodes[i]].hiddenLabel;\n",
              "        allNodes[connectedNodes[i]].hiddenLabel = undefined;\n",
              "      }\n",
              "    }\n",
              "\n",
              "    // the main node gets its own color and its label back.\n",
              "    // allNodes[selectedNode].color = undefined;\n",
              "    allNodes[selectedNode].color = nodeColors[selectedNode];\n",
              "    if (allNodes[selectedNode].hiddenLabel !== undefined) {\n",
              "      allNodes[selectedNode].label = allNodes[selectedNode].hiddenLabel;\n",
              "      allNodes[selectedNode].hiddenLabel = undefined;\n",
              "    }\n",
              "  } else if (highlightActive === true) {\n",
              "    // console.log(\"highlightActive was true\");\n",
              "    // reset all nodes\n",
              "    for (let nodeId in allNodes) {\n",
              "      // allNodes[nodeId].color = \"purple\";\n",
              "      allNodes[nodeId].color = nodeColors[nodeId];\n",
              "      // delete allNodes[nodeId].color;\n",
              "      if (allNodes[nodeId].hiddenLabel !== undefined) {\n",
              "        allNodes[nodeId].label = allNodes[nodeId].hiddenLabel;\n",
              "        allNodes[nodeId].hiddenLabel = undefined;\n",
              "      }\n",
              "    }\n",
              "    highlightActive = false;\n",
              "  }\n",
              "\n",
              "  // transform the object into an array\n",
              "  var updateArray = [];\n",
              "  if (params.nodes.length > 0) {\n",
              "    for (let nodeId in allNodes) {\n",
              "      if (allNodes.hasOwnProperty(nodeId)) {\n",
              "        // console.log(allNodes[nodeId]);\n",
              "        updateArray.push(allNodes[nodeId]);\n",
              "      }\n",
              "    }\n",
              "    nodes.update(updateArray);\n",
              "  } else {\n",
              "    // console.log(\"Nothing was selected\");\n",
              "    for (let nodeId in allNodes) {\n",
              "      if (allNodes.hasOwnProperty(nodeId)) {\n",
              "        // console.log(allNodes[nodeId]);\n",
              "        // allNodes[nodeId].color = {};\n",
              "        updateArray.push(allNodes[nodeId]);\n",
              "      }\n",
              "    }\n",
              "    nodes.update(updateArray);\n",
              "  }\n",
              "}\n",
              "\n",
              "function filterHighlight(params) {\n",
              "  allNodes = nodes.get({ returnType: \"Object\" });\n",
              "  // if something is selected:\n",
              "  if (params.nodes.length > 0) {\n",
              "    filterActive = true;\n",
              "    let selectedNodes = params.nodes;\n",
              "\n",
              "    // hiding all nodes and saving the label\n",
              "    for (let nodeId in allNodes) {\n",
              "      allNodes[nodeId].hidden = true;\n",
              "      if (allNodes[nodeId].savedLabel === undefined) {\n",
              "        allNodes[nodeId].savedLabel = allNodes[nodeId].label;\n",
              "        allNodes[nodeId].label = undefined;\n",
              "      }\n",
              "    }\n",
              "\n",
              "    for (let i=0; i < selectedNodes.length; i++) {\n",
              "      allNodes[selectedNodes[i]].hidden = false;\n",
              "      if (allNodes[selectedNodes[i]].savedLabel !== undefined) {\n",
              "        allNodes[selectedNodes[i]].label = allNodes[selectedNodes[i]].savedLabel;\n",
              "        allNodes[selectedNodes[i]].savedLabel = undefined;\n",
              "      }\n",
              "    }\n",
              "\n",
              "  } else if (filterActive === true) {\n",
              "    // reset all nodes\n",
              "    for (let nodeId in allNodes) {\n",
              "      allNodes[nodeId].hidden = false;\n",
              "      if (allNodes[nodeId].savedLabel !== undefined) {\n",
              "        allNodes[nodeId].label = allNodes[nodeId].savedLabel;\n",
              "        allNodes[nodeId].savedLabel = undefined;\n",
              "      }\n",
              "    }\n",
              "    filterActive = false;\n",
              "  }\n",
              "\n",
              "  // transform the object into an array\n",
              "  var updateArray = [];\n",
              "  if (params.nodes.length > 0) {\n",
              "    for (let nodeId in allNodes) {\n",
              "      if (allNodes.hasOwnProperty(nodeId)) {\n",
              "        updateArray.push(allNodes[nodeId]);\n",
              "      }\n",
              "    }\n",
              "    nodes.update(updateArray);\n",
              "  } else {\n",
              "    for (let nodeId in allNodes) {\n",
              "      if (allNodes.hasOwnProperty(nodeId)) {\n",
              "        updateArray.push(allNodes[nodeId]);\n",
              "      }\n",
              "    }\n",
              "    nodes.update(updateArray);\n",
              "  }\n",
              "}\n",
              "\n",
              "function selectNode(nodes) {\n",
              "  network.selectNodes(nodes);\n",
              "  neighbourhoodHighlight({ nodes: nodes });\n",
              "  return nodes;\n",
              "}\n",
              "\n",
              "function selectNodes(nodes) {\n",
              "  network.selectNodes(nodes);\n",
              "  filterHighlight({nodes: nodes});\n",
              "  return nodes;\n",
              "}\n",
              "\n",
              "function highlightFilter(filter) {\n",
              "  let selectedNodes = []\n",
              "  let selectedProp = filter['property']\n",
              "  if (filter['item'] === 'node') {\n",
              "    let allNodes = nodes.get({ returnType: \"Object\" });\n",
              "    for (let nodeId in allNodes) {\n",
              "      if (allNodes[nodeId][selectedProp] && filter['value'].includes((allNodes[nodeId][selectedProp]).toString())) {\n",
              "        selectedNodes.push(nodeId)\n",
              "      }\n",
              "    }\n",
              "  }\n",
              "  else if (filter['item'] === 'edge'){\n",
              "    let allEdges = edges.get({returnType: 'object'});\n",
              "    // check if the selected property exists for selected edge and select the nodes connected to the edge\n",
              "    for (let edge in allEdges) {\n",
              "      if (allEdges[edge][selectedProp] && filter['value'].includes((allEdges[edge][selectedProp]).toString())) {\n",
              "        selectedNodes.push(allEdges[edge]['from'])\n",
              "        selectedNodes.push(allEdges[edge]['to'])\n",
              "      }\n",
              "    }\n",
              "  }\n",
              "  selectNodes(selectedNodes)\n",
              "}</script>\n",
              "            <link rel=\"stylesheet\" href=\"https://cdnjs.cloudflare.com/ajax/libs/vis-network/9.1.2/dist/dist/vis-network.min.css\" integrity=\"sha512-WgxfT5LWjfszlPHXRmBWHkV2eceiWTOBvrKCNbdgDYTHrT2AeLCGbF4sZlZw3UMN3WtL0tGUoIAKsu8mllg/XA==\" crossorigin=\"anonymous\" referrerpolicy=\"no-referrer\" />\n",
              "            <script src=\"https://cdnjs.cloudflare.com/ajax/libs/vis-network/9.1.2/dist/vis-network.min.js\" integrity=\"sha512-LnvoEWDFrqGHlHmDD2101OrLcbsfkrzoSpvtSQtxK3RMnRV0eOkhhBN2dXHKRrUU8p2DGRTk35n4O8nWSVe1mQ==\" crossorigin=\"anonymous\" referrerpolicy=\"no-referrer\"></script>\n",
              "            \n",
              "            \n",
              "            \n",
              "            \n",
              "            \n",
              "            \n",
              "\n",
              "        \n",
              "<center>\n",
              "<h1></h1>\n",
              "</center>\n",
              "\n",
              "<!-- <link rel=\"stylesheet\" href=\"../node_modules/vis/dist/vis.min.css\" type=\"text/css\" />\n",
              "<script type=\"text/javascript\" src=\"../node_modules/vis/dist/vis.js\"> </script>-->\n",
              "        <link\n",
              "          href=\"https://cdn.jsdelivr.net/npm/bootstrap@5.0.0-beta3/dist/css/bootstrap.min.css\"\n",
              "          rel=\"stylesheet\"\n",
              "          integrity=\"sha384-eOJMYsd53ii+scO/bJGFsiCZc+5NDVN2yr8+0RDqr0Ql0h+rP48ckxlpbzKgwra6\"\n",
              "          crossorigin=\"anonymous\"\n",
              "        />\n",
              "        <script\n",
              "          src=\"https://cdn.jsdelivr.net/npm/bootstrap@5.0.0-beta3/dist/js/bootstrap.bundle.min.js\"\n",
              "          integrity=\"sha384-JEW9xMcG8R+pH31jmWH6WWP0WintQrMb4s7ZOdauHnUtxwoG2vI5DkLtS3qm9Ekf\"\n",
              "          crossorigin=\"anonymous\"\n",
              "        ></script>\n",
              "\n",
              "\n",
              "        <center>\n",
              "          <h1></h1>\n",
              "        </center>\n",
              "        <style type=\"text/css\">\n",
              "\n",
              "             #mynetwork {\n",
              "                 width: 100%;\n",
              "                 height: 600px;\n",
              "                 background-color: #222222;\n",
              "                 border: 1px solid lightgray;\n",
              "                 position: relative;\n",
              "                 float: left;\n",
              "             }\n",
              "\n",
              "             \n",
              "\n",
              "             \n",
              "\n",
              "             \n",
              "        </style>\n",
              "    </head>\n",
              "\n",
              "\n",
              "    <body>\n",
              "        <div class=\"card\" style=\"width: 100%\">\n",
              "            \n",
              "            \n",
              "            <div id=\"mynetwork\" class=\"card-body\"></div>\n",
              "        </div>\n",
              "\n",
              "        \n",
              "        \n",
              "\n",
              "        <script type=\"text/javascript\">\n",
              "\n",
              "              // initialize global variables.\n",
              "              var edges;\n",
              "              var nodes;\n",
              "              var allNodes;\n",
              "              var allEdges;\n",
              "              var nodeColors;\n",
              "              var originalNodes;\n",
              "              var network;\n",
              "              var container;\n",
              "              var options, data;\n",
              "              var filter = {\n",
              "                  item : '',\n",
              "                  property : '',\n",
              "                  value : []\n",
              "              };\n",
              "\n",
              "              \n",
              "\n",
              "              \n",
              "\n",
              "              // This method is responsible for drawing the graph, returns the drawn network\n",
              "              function drawGraph() {\n",
              "                  var container = document.getElementById('mynetwork');\n",
              "\n",
              "                  \n",
              "\n",
              "                  // parsing and collecting nodes and edges from the python\n",
              "                  nodes = new vis.DataSet([{\"color\": \"#9dd2d8\", \"font\": {\"color\": \"white\"}, \"id\": 1, \"label\": \"get\", \"physics\": false, \"shape\": \"dot\", \"size\": 20}, {\"color\": \"#9dd2d8\", \"font\": {\"color\": \"white\"}, \"id\": 2, \"label\": \"BeautifulSoup\", \"physics\": false, \"shape\": \"dot\", \"size\": 20}, {\"color\": \"#9dd2d8\", \"font\": {\"color\": \"white\"}, \"id\": 3, \"label\": \"find_all\", \"physics\": false, \"shape\": \"dot\", \"size\": 20}, {\"color\": \"#e2b9db\", \"font\": {\"color\": \"white\"}, \"id\": \"https://colab.research.google.com/drive/1mB2v-d72k5DJ2sXqm7GsaAZdWOJBmmof?authuser=1#scrollTo=9NgzJt0-FoNw\", \"label\": \"url\", \"physics\": false, \"shape\": \"dot\", \"size\": 10}, {\"color\": \"#e2b9db\", \"font\": {\"color\": \"white\"}, \"id\": \"div\", \"label\": \"name\", \"physics\": false, \"shape\": \"dot\", \"size\": 10}, {\"color\": \"#9dc3e2\", \"font\": {\"color\": \"white\"}, \"id\": \"variable_3\", \"label\": \"variable_3\", \"shape\": \"dot\", \"size\": 10}]);\n",
              "                  edges = new vis.DataSet([{\"arrows\": \"to\", \"from\": 1, \"label\": \"markup\", \"physics\": false, \"to\": 2}, {\"arrows\": \"to\", \"from\": 2, \"label\": \"self\", \"physics\": false, \"to\": 3}, {\"arrows\": \"to\", \"from\": \"https://colab.research.google.com/drive/1mB2v-d72k5DJ2sXqm7GsaAZdWOJBmmof?authuser=1#scrollTo=9NgzJt0-FoNw\", \"physics\": false, \"to\": 1}, {\"arrows\": \"to\", \"from\": \"div\", \"physics\": false, \"to\": 3}, {\"arrows\": \"to\", \"from\": 3, \"to\": \"variable_3\"}]);\n",
              "\n",
              "                  nodeColors = {};\n",
              "                  allNodes = nodes.get({ returnType: \"Object\" });\n",
              "                  for (nodeId in allNodes) {\n",
              "                    nodeColors[nodeId] = allNodes[nodeId].color;\n",
              "                  }\n",
              "                  allEdges = edges.get({ returnType: \"Object\" });\n",
              "                  // adding nodes and edges to the graph\n",
              "                  data = {nodes: nodes, edges: edges};\n",
              "\n",
              "                  var options = {\n",
              "    \"configure\": {\n",
              "        \"enabled\": false\n",
              "    },\n",
              "    \"edges\": {\n",
              "        \"color\": {\n",
              "            \"inherit\": true\n",
              "        },\n",
              "        \"smooth\": {\n",
              "            \"enabled\": true,\n",
              "            \"type\": \"dynamic\"\n",
              "        }\n",
              "    },\n",
              "    \"interaction\": {\n",
              "        \"dragNodes\": true,\n",
              "        \"hideEdgesOnDrag\": false,\n",
              "        \"hideNodesOnDrag\": false\n",
              "    },\n",
              "    \"physics\": {\n",
              "        \"enabled\": true,\n",
              "        \"stabilization\": {\n",
              "            \"enabled\": true,\n",
              "            \"fit\": true,\n",
              "            \"iterations\": 1000,\n",
              "            \"onlyDynamicEdges\": false,\n",
              "            \"updateInterval\": 50\n",
              "        }\n",
              "    }\n",
              "};\n",
              "\n",
              "                  \n",
              "\n",
              "\n",
              "                  \n",
              "\n",
              "                  network = new vis.Network(container, data, options);\n",
              "\n",
              "                  \n",
              "\n",
              "                  \n",
              "\n",
              "                  \n",
              "\n",
              "\n",
              "                  \n",
              "\n",
              "                  return network;\n",
              "\n",
              "              }\n",
              "              drawGraph();\n",
              "        </script>\n",
              "    </body>\n",
              "</html>"
            ]
          },
          "metadata": {}
        }
      ],
      "source": [
        "pip_flow.visualise_plan()"
      ]
    },
    {
      "cell_type": "markdown",
      "metadata": {
        "id": "urP-5X_FWwgo"
      },
      "source": [
        "### Create Custom Plan Templates"
      ]
    },
    {
      "cell_type": "markdown",
      "metadata": {
        "id": "A67LDBhzWwgp"
      },
      "source": [
        "#### Register template with a unique name"
      ]
    },
    {
      "cell_type": "code",
      "execution_count": 19,
      "metadata": {
        "colab": {
          "base_uri": "https://localhost:8080/"
        },
        "id": "Us_vyoy_Wwgp",
        "outputId": "c8a103e7-5bb4-4abb-f3d2-d16080f2827e"
      },
      "outputs": [
        {
          "output_type": "stream",
          "name": "stdout",
          "text": [
            "Template Name : default\n",
            "Template Name : template_name\n"
          ]
        }
      ],
      "source": [
        "prompt = \"\"\"\n",
        "<functions>\n",
        "{func_info}\n",
        "</functions>\n",
        "<json_structure>\n",
        "{{\n",
        "  \"tasks\": [\n",
        "    {{\n",
        "      \"task_id\": 1,\n",
        "      \"function_name\": \"function name\",\n",
        "      \"parameters\": [\n",
        "        {{\n",
        "        \"name\":\"name of this parameter according to annotations.\",\n",
        "        \"value\":\"value to be passed for this parameter\",\n",
        "        \"dtype\":\"type annotation of the variable\",\n",
        "        \"description\": \"An explanation of why this value should be utilized.\"\n",
        "        }},\n",
        "        {{\n",
        "        \"name\":\"self\",\n",
        "        \"value\":\"variable name to be passed for this parameter self.\",\n",
        "        \"dtype\":\"type annotation of the self parameter\",\n",
        "        \"description\": \"An explanation of why the cariable should be used for this self parameter.\"\n",
        "        }}\n",
        "      ],\n",
        "      \"outputs\": [\"variable_1\"],\n",
        "      \"description\": \"some description\"\n",
        "    }},\n",
        "    {{\n",
        "      \"task_id\": 2,\n",
        "      \"function_name\": \"function name\",\n",
        "      \"parameters\": [\n",
        "        {{\n",
        "        \"name\":\"self\",\n",
        "        \"value\":\"variable name to be passed for this parameter self.\",\n",
        "        \"dtype\":\"type annotation of the self parameter\",\n",
        "        \"description\": \"An explanation of why the cariable should be used for this self parameter.\"\n",
        "        }},\n",
        "        {{,\n",
        "        \"name\":\"name of this parameter according to annotations.\",\n",
        "        \"value\":\"value to be passed for this parameter\",\n",
        "        \"dtype\":\"type annotation of the variable\",\n",
        "        \"description\": \"An explanation of why this value should be utilized.\"\n",
        "        }}\n",
        "      ],\n",
        "      \"outputs\": [\"variable_2\"],\n",
        "      \"description\": \"some description\"\n",
        "    }}\n",
        "  ]\n",
        "}}\n",
        "</json_structure>\n",
        "<instructions>\n",
        "- use self parameter with proper value based on the question.\n",
        "- name outputs as variable_1 , variable_2 , variable_3 , variable_4 and more variables in chronological order.\n",
        "- give attention to the type annotation of the parameter given while filling values.\n",
        "{instructions}\n",
        "</instructions>\n",
        "<question>\n",
        "Given the above functions,\n",
        "- Do not give the parameters in json which have null values and default values of the function, only give the sequencial function calls with parameters to execute the below question:\n",
        "{question}\n",
        "</question>\n",
        "\"\"\"\n",
        "\n",
        "pip_flow.add_plan_template(\"template_name\", prompt)\n",
        "\n",
        "for template_name in pip_flow.prompt_templates.keys():\n",
        "  print(f\"Template Name : {template_name}\")\n"
      ]
    },
    {
      "cell_type": "markdown",
      "metadata": {
        "id": "Jp5eu3VpWwgp"
      },
      "source": [
        "#### Load templates from JSON file"
      ]
    },
    {
      "cell_type": "code",
      "execution_count": 20,
      "metadata": {
        "colab": {
          "base_uri": "https://localhost:8080/"
        },
        "id": "j-3OC1CRWwgp",
        "outputId": "bd482522-28fd-497a-e361-7753609fc84b"
      },
      "outputs": [
        {
          "output_type": "stream",
          "name": "stdout",
          "text": [
            "Couldn load template with error [Errno 2] No such file or directory: 'templates.json'\n",
            "Template Name : default\n",
            "Template Name : template_name\n"
          ]
        }
      ],
      "source": [
        "pip_flow.load_templates(filepath=\"templates.json\")\n",
        "\n",
        "for template_name in pip_flow.prompt_templates.keys():\n",
        "  print(f\"Template Name : {template_name}\")"
      ]
    },
    {
      "cell_type": "markdown",
      "metadata": {
        "id": "vaEZRBmQWwgp"
      },
      "source": [
        "#### Update Configurations in Templates\n",
        "\n",
        "- When we create a plan using `generate_plan`, the latest base template and configs are used to substitute the values in the selected template.\n",
        "\n",
        "- We can override that with the `make_live_prompt` function."
      ]
    },
    {
      "cell_type": "code",
      "execution_count": 35,
      "metadata": {
        "colab": {
          "base_uri": "https://localhost:8080/",
          "height": 35
        },
        "id": "CIOpnFuKWwgp",
        "outputId": "9edfadb5-f4d8-4e75-bd6e-7d2611d274d2"
      },
      "outputs": [
        {
          "output_type": "execute_result",
          "data": {
            "text/plain": [
              "'Updated config and base prompt template successfully.'"
            ],
            "application/vnd.google.colaboratory.intrinsic+json": {
              "type": "string"
            }
          },
          "metadata": {},
          "execution_count": 35
        }
      ],
      "source": [
        "config = {\n",
        "    \"func_info\": str(\n",
        "        [\n",
        "            f\"\"\"--name:{function.name}\\n--annotations:{function.signature}\\n--doc:{function.docs}\\n\\n\"\"\"\n",
        "            for function in pip_flow.functions[:2]\n",
        "        ]\n",
        "    ),\n",
        "    \"function_list\": [function.name for function in pip_flow.functions[:2]],\n",
        "    \"instructions\": \"Some new Instruction\",\n",
        "}\n",
        "\n",
        "template_name = \"default\"\n",
        "\n",
        "pip_flow.make_live_prompt(template_name, config)"
      ]
    },
    {
      "cell_type": "code",
      "execution_count": 36,
      "metadata": {
        "colab": {
          "base_uri": "https://localhost:8080/"
        },
        "id": "UXWhleugWwgp",
        "outputId": "fbae4619-47b3-4ea7-e706-378997a5549a"
      },
      "outputs": [
        {
          "output_type": "stream",
          "name": "stdout",
          "text": [
            "\n",
            "<functions>\n",
            "{func_info}\n",
            "</functions>\n",
            "<json_structure>\n",
            "{{\n",
            "  \"tasks\": [\n",
            "    {{\n",
            "      \"task_id\": 1,\n",
            "      \"function_name\": \"function name\",\n",
            "      \"parameters\": [\n",
            "        {{\n",
            "        \"name\":\"name of this parameter according to annotations.\",\n",
            "        \"value\":\"value to be passed for this parameter\",\n",
            "        \"dtype\":\"type annotation of the variable\",\n",
            "        \"description\": \"An explanation of why this value should be utilized.\"\n",
            "        }},\n",
            "        {{\n",
            "        \"name\":\"self\",\n",
            "        \"value\":\"variable name to be passed for this parameter self.\",\n",
            "        \"dtype\":\"type annotation of the self parameter\",\n",
            "        \"description\": \"An explanation of why the cariable should be used for this self parameter.\"\n",
            "        }}\n",
            "      ],\n",
            "      \"outputs\": [\"variable_1\"],\n",
            "      \"description\": \"some description\"\n",
            "    }},\n",
            "    {{\n",
            "      \"task_id\": 2,\n",
            "      \"function_name\": \"function name\",\n",
            "      \"parameters\": [\n",
            "        {{\n",
            "        \"name\":\"self\",\n",
            "        \"value\":\"variable name to be passed for this parameter self.\",\n",
            "        \"dtype\":\"type annotation of the self parameter\",\n",
            "        \"description\": \"An explanation of why the cariable should be used for this self parameter.\"\n",
            "        }},\n",
            "        {{,\n",
            "        \"name\":\"name of this parameter according to annotations.\",\n",
            "        \"value\":\"value to be passed for this parameter\",\n",
            "        \"dtype\":\"type annotation of the variable\",\n",
            "        \"description\": \"An explanation of why this value should be utilized.\"\n",
            "        }}\n",
            "      ],\n",
            "      \"outputs\": [\"variable_2\"],\n",
            "      \"description\": \"some description\"\n",
            "    }}\n",
            "  ]\n",
            "}}\n",
            "</json_structure>\n",
            "<instructions>\n",
            "- use self as the parameter name when passing the object variable to some method.\n",
            "- Use names of functions from the list {function_list} while making plans\n",
            "- name outputs as variable_1 , variable_2 , variable_3 , variable_4 and more variables in chronological order.\n",
            "- give attention to the type annotation of the parameter given while filling values.\n",
            "{instructions}\n",
            "</instructions>\n",
            "<question>\n",
            "Given the above functions,\n",
            "- Do not give the parameters in json which have null values and default values of the function, only give the sequencial function calls with parameters to execute the below question:\n",
            "{question}\n",
            "</question>\n",
            "\n"
          ]
        }
      ],
      "source": [
        "print(pip_flow.latest_base_prompt)"
      ]
    },
    {
      "cell_type": "code",
      "execution_count": 37,
      "metadata": {
        "colab": {
          "base_uri": "https://localhost:8080/"
        },
        "id": "iKx-pF1jWwgp",
        "outputId": "1e81eb03-d10d-4669-b2c9-2d99517cd25d"
      },
      "outputs": [
        {
          "output_type": "execute_result",
          "data": {
            "text/plain": [
              "{'func_info': '[\\'--name:get\\\\n--annotations:(url, params=None, **kwargs)\\\\n--doc:Sends a GET request.\\\\n\\\\n    :param url: URL for the new :class:`Request` object.\\\\n    :param params: (optional) Dictionary, list of tuples or bytes to send\\\\n        in the query string for the :class:`Request`.\\\\n    :param \\\\\\\\*\\\\\\\\*kwargs: Optional arguments that ``request`` takes.\\\\n    :return: :class:`Response <Response>` object\\\\n    :rtype: requests.Response\\\\n    \\\\n\\\\n\\', \\'--name:BeautifulSoup\\\\n--annotations:(markup=\\\\\\'\\\\\\', features=None, builder=None, parse_only=None, from_encoding=None, exclude_encodings=None, element_classes=None, **kwargs)\\\\n--doc:A data structure representing a parsed HTML or XML document.\\\\n\\\\n    Most of the methods you\\\\\\'ll call on a BeautifulSoup object are inherited from\\\\n    PageElement or Tag.\\\\n\\\\n    Internally, this class defines the basic interface called by the\\\\n    tree builders when converting an HTML/XML document into a data\\\\n    structure. The interface abstracts away the differences between\\\\n    parsers. To write a new tree builder, you\\\\\\'ll need to understand\\\\n    these methods as a whole.\\\\n\\\\n    These methods will be called by the BeautifulSoup constructor:\\\\n      * reset()\\\\n      * feed(markup)\\\\n\\\\n    The tree builder may call these methods from its feed() implementation:\\\\n      * handle_starttag(name, attrs) # See note about return value\\\\n      * handle_endtag(name)\\\\n      * handle_data(data) # Appends to the current data node\\\\n      * endData(containerClass) # Ends the current data node\\\\n\\\\n    No matter how complicated the underlying parser is, you should be\\\\n    able to build a tree using \\\\\\'start tag\\\\\\' events, \\\\\\'end tag\\\\\\' events,\\\\n    \\\\\\'data\\\\\\' events, and \"done with data\" events.\\\\n\\\\n    If you encounter an empty-element tag (aka a self-closing tag,\\\\n    like HTML\\\\\\'s <br> tag), call handle_starttag and then\\\\n    handle_endtag.\\\\n    \\\\n\\\\n\\']',\n",
              " 'function_list': ['get', 'BeautifulSoup'],\n",
              " 'instructions': 'Some new Instruction',\n",
              " 'question': '\\nMake get request to https://colab.research.google.com/drive/1mB2v-d72k5DJ2sXqm7GsaAZdWOJBmmof?authuser=1#scrollTo=9NgzJt0-FoNw, and Create Beautiful soup class\\n'}"
            ]
          },
          "metadata": {},
          "execution_count": 37
        }
      ],
      "source": [
        "pip_flow.latest_configs\n"
      ]
    },
    {
      "cell_type": "code",
      "execution_count": 41,
      "metadata": {
        "colab": {
          "base_uri": "https://localhost:8080/"
        },
        "id": "Z-ECNdyUWwgq",
        "outputId": "4bafc0fe-d2e8-46c4-d32f-91a9efdcfcaa"
      },
      "outputs": [
        {
          "output_type": "stream",
          "name": "stdout",
          "text": [
            "{\n",
            "    \"tasks\": [\n",
            "        {\n",
            "            \"task_id\": 1,\n",
            "            \"function_name\": \"get\",\n",
            "            \"parameters\": [\n",
            "                {\n",
            "                    \"name\": \"url\",\n",
            "                    \"value\": \"https://colab.research.google.com/drive/1mB2v-d72k5DJ2sXqm7GsaAZdWOJBmmof?authuser=1#scrollTo=9NgzJt0-FoNw\",\n",
            "                    \"description\": \"URL for the new :class:`Request` object.\",\n",
            "                    \"dtype\": \"string\"\n",
            "                }\n",
            "            ],\n",
            "            \"outputs\": [\n",
            "                \"variable_1\"\n",
            "            ],\n",
            "            \"description\": \"Sends a GET request to the specified URL.\"\n",
            "        },\n",
            "        {\n",
            "            \"task_id\": 2,\n",
            "            \"function_name\": \"BeautifulSoup\",\n",
            "            \"parameters\": [\n",
            "                {\n",
            "                    \"name\": \"markup\",\n",
            "                    \"value\": \"variable_1\",\n",
            "                    \"description\": \"The markup (HTML, XML, etc.) to parse.\",\n",
            "                    \"dtype\": \"string\"\n",
            "                }\n",
            "            ],\n",
            "            \"outputs\": [\n",
            "                \"variable_2\"\n",
            "            ],\n",
            "            \"description\": \"Creates a BeautifulSoup object from the markup.\"\n",
            "        }\n",
            "    ]\n",
            "}\n"
          ]
        }
      ],
      "source": [
        "question = \"\"\"\n",
        "Make get request to https://colab.research.google.com/drive/1mB2v-d72k5DJ2sXqm7GsaAZdWOJBmmof?authuser=1#scrollTo=9NgzJt0-FoNw,\n",
        "Create Beautiful soup class from it\n",
        "\"\"\"\n",
        "\n",
        "plan = pip_flow.generate_plan(question)"
      ]
    }
  ],
  "metadata": {
    "kernelspec": {
      "display_name": "Python 3",
      "language": "python",
      "name": "python3"
    },
    "language_info": {
      "codemirror_mode": {
        "name": "ipython",
        "version": 3
      },
      "file_extension": ".py",
      "mimetype": "text/x-python",
      "name": "python",
      "nbconvert_exporter": "python",
      "pygments_lexer": "ipython3",
      "version": "3.10.14"
    },
    "colab": {
      "provenance": [],
      "collapsed_sections": [
        "la5xDpQt5teS",
        "9yk92zZzWwgg",
        "xjEX7IJBWwgl",
        "fLFVNzm_8CMZ",
        "0ZA3bULb8UbT",
        "LH7p9SwqWwgm",
        "PCgkOh4S7Ts5",
        "f1uRzw5z7Y-1",
        "Bt6KiX2xWwgm",
        "AwtpQc59618Y",
        "V5J4XpXQ6_8N",
        "8xeuyACD7Fbg",
        "IsyC1DPgWwgn",
        "MYMht0coWwgo",
        "Uoxx8_ORWwgo",
        "A67LDBhzWwgp",
        "Jp5eu3VpWwgp"
      ]
    }
  },
  "nbformat": 4,
  "nbformat_minor": 0
}