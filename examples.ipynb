{
  "cells": [
    {
      "cell_type": "code",
      "execution_count": 3,
      "metadata": {
        "colab": {
          "base_uri": "https://localhost:8080/"
        },
        "collapsed": true,
        "id": "r14xxOvxWz-S",
        "outputId": "7f6a38de-81da-44d1-afc6-7a953243f64f"
      },
      "outputs": [],
      "source": [
        "!pip3 install git+https://github.com/PipableAI/pipflow.git"
      ]
    },
    {
      "cell_type": "code",
      "execution_count": 5,
      "metadata": {
        "id": "BN5KJYoKWwge"
      },
      "outputs": [],
      "source": [
        "from pipflow import PipFlow"
      ]
    },
    {
      "cell_type": "markdown",
      "metadata": {
        "id": "la5xDpQt5teS"
      },
      "source": [
        "## Intitialise the class and model\n",
        "\n",
        "By default, when initializing the `pip_flow` class without passing any device parameter, the model inference will require a GPU with at least 10-12 GB of VRAM.\n",
        "\n",
        "```python\n",
        "pip_flow = PipFlow(device = 'cuda', model_key = \"PipableAI/pip-code-bandit\")\n",
        "```\n",
        "\n",
        "To test out the model without the need for a GPU, you can utilize the model hosted at PipableAI's end by initializing the model with \"cloud\" as the value for the device parameter.\n",
        "\n",
        "\n",
        "\n",
        "\n"
      ]
    },
    {
      "cell_type": "code",
      "execution_count": 6,
      "metadata": {
        "id": "FbE3fj0oWwgg"
      },
      "outputs": [],
      "source": [
        "pip_flow = PipFlow(device = 'cloud', model_key = \"PipableAI/pip-code-bandit\")"
      ]
    },
    {
      "cell_type": "markdown",
      "metadata": {
        "id": "rYBwNICHTSm5"
      },
      "source": [
        "## Generate from a prompt [Miscellaneous Examples]"
      ]
    },
    {
      "cell_type": "code",
      "execution_count": 6,
      "metadata": {
        "colab": {
          "base_uri": "https://localhost:8080/"
        },
        "id": "NQBckVz8TSm6",
        "outputId": "6eb58d4c-9a36-4aef-fa7a-b512e5f2defa"
      },
      "outputs": [
        {
          "name": "stdout",
          "output_type": "stream",
          "text": [
            "\n",
            "The story begins with a boy who grows bored while watching a village sheep. He yells for a wolf to chase the sheep, but no wolf is seen. The boy tells the villagers not to do it again, but the villagers tell him that the boy is lying. Later, the boy sees a wolf sneaking amongst the flock, so he calls for help. The villagers tell him that the boy is lying again, but no one comes this time. The story ends with the boy telling the villagers that there is a wolf, and the entire flock is gone.\n",
            "\n"
          ]
        }
      ],
      "source": [
        "prompt = \"\"\"\n",
        "<story>\n",
        "There once was a boy who grew bored while watching over the village sheep. He wanted to make things more exciting. So, he yelled out that he saw a wolf chasing the sheep. All the villagers came running to drive the wolf away. However, they saw no wolf. The boy was amused, but the villagers were not. They told him not to do it again. Shortly after, he repeated this antic. The villagers came running again, only to find that he was lying. Later that day, the boy really sees a wolf sneaking amongst the flock. He jumped up and called out for help. But no one came this time because they thought he was still joking around. At sunset, the villagers looked for the boy. He had not returned with their sheep. They found him crying. He told them that there really was a wolf, and the entire flock was gone. An old man came to comfort him and told him that nobody would believe a liar even when they are being honest.\n",
        "</story>\n",
        "<question>\n",
        "Give a short summary of the story.\n",
        "</question>\n",
        "\"\"\"\n",
        "\n",
        "print(pip_flow.generate(prompt, eos_token=\"response\", max_new_tokens=200))"
      ]
    },
    {
      "cell_type": "code",
      "execution_count": 7,
      "metadata": {
        "colab": {
          "base_uri": "https://localhost:8080/"
        },
        "id": "tj6MrUP6TSm7",
        "outputId": "37131498-bf3e-4d9b-9d55-b7ba115625b1"
      },
      "outputs": [
        {
          "name": "stdout",
          "output_type": "stream",
          "text": [
            "\n",
            "{\n",
            "  \"a\": [1, 3, 5],\n",
            "  \"b\": ['John', 'Michael']\n",
            "}\n",
            "\n"
          ]
        }
      ],
      "source": [
        "prompt = \"\"\"\n",
        "<data>\n",
        "a = 1, 3 and 5\n",
        "b = 'John' and 'Michael'\n",
        "</data>\n",
        "<question>\n",
        "Create a JSON format file.\n",
        "</question>\n",
        "\"\"\"\n",
        "\n",
        "print(pip_flow.generate(prompt, eos_token=\"json\", max_new_tokens=50))"
      ]
    },
    {
      "cell_type": "code",
      "execution_count": 8,
      "metadata": {
        "colab": {
          "base_uri": "https://localhost:8080/"
        },
        "id": "YBbPNVSjTSm7",
        "outputId": "687b1a36-ef0e-47cf-e5db-1625c5a2c30d"
      },
      "outputs": [
        {
          "name": "stdout",
          "output_type": "stream",
          "text": [
            "\n",
            "\n",
            "\n",
            "```python\n",
            "def double_number(n):\n",
            "  return n * 2\n",
            "```\n",
            "\n",
            "\n"
          ]
        }
      ],
      "source": [
        "prompt = \"\"\"\n",
        "<question>\n",
        "write a python function to double the input number.\n",
        "</question>\n",
        "\"\"\"\n",
        "\n",
        "print(pip_flow.generate(prompt, eos_token=\"code\", max_new_tokens=50))"
      ]
    },
    {
      "cell_type": "markdown",
      "metadata": {
        "id": "Bt6KiX2xWwgm"
      },
      "source": [
        "## Generate Function Call\n",
        "\n",
        "\n",
        "This functionality enables the model to comprehend various types of docstrings / function / code and subsequently prompt a question in natural language regarding the desired function call. The model then produces a Python-parsable function call, which can be executed directly using `exec` or through additional processing steps."
      ]
    },
    {
      "cell_type": "markdown",
      "metadata": {
        "id": "AwtpQc59618Y"
      },
      "source": [
        "### Function"
      ]
    },
    {
      "cell_type": "code",
      "execution_count": 9,
      "metadata": {
        "colab": {
          "base_uri": "https://localhost:8080/",
          "height": 34
        },
        "id": "6ypog2aMWwgm",
        "outputId": "586fed19-7778-42e0-be0e-2d6be41d8f06"
      },
      "outputs": [
        {
          "data": {
            "text/html": [
              "<style>pre { line-height: 125%; }\n",
              "td.linenos .normal { color: inherit; background-color: transparent; padding-left: 5px; padding-right: 5px; }\n",
              "span.linenos { color: inherit; background-color: transparent; padding-left: 5px; padding-right: 5px; }\n",
              "td.linenos .special { color: #000000; background-color: #ffffc0; padding-left: 5px; padding-right: 5px; }\n",
              "span.linenos.special { color: #000000; background-color: #ffffc0; padding-left: 5px; padding-right: 5px; }\n",
              ".output_html .hll { background-color: #ffffcc }\n",
              ".output_html { background: #f8f8f8; }\n",
              ".output_html .c { color: #3D7B7B; font-style: italic } /* Comment */\n",
              ".output_html .err { border: 1px solid #FF0000 } /* Error */\n",
              ".output_html .k { color: #008000; font-weight: bold } /* Keyword */\n",
              ".output_html .o { color: #666666 } /* Operator */\n",
              ".output_html .ch { color: #3D7B7B; font-style: italic } /* Comment.Hashbang */\n",
              ".output_html .cm { color: #3D7B7B; font-style: italic } /* Comment.Multiline */\n",
              ".output_html .cp { color: #9C6500 } /* Comment.Preproc */\n",
              ".output_html .cpf { color: #3D7B7B; font-style: italic } /* Comment.PreprocFile */\n",
              ".output_html .c1 { color: #3D7B7B; font-style: italic } /* Comment.Single */\n",
              ".output_html .cs { color: #3D7B7B; font-style: italic } /* Comment.Special */\n",
              ".output_html .gd { color: #A00000 } /* Generic.Deleted */\n",
              ".output_html .ge { font-style: italic } /* Generic.Emph */\n",
              ".output_html .ges { font-weight: bold; font-style: italic } /* Generic.EmphStrong */\n",
              ".output_html .gr { color: #E40000 } /* Generic.Error */\n",
              ".output_html .gh { color: #000080; font-weight: bold } /* Generic.Heading */\n",
              ".output_html .gi { color: #008400 } /* Generic.Inserted */\n",
              ".output_html .go { color: #717171 } /* Generic.Output */\n",
              ".output_html .gp { color: #000080; font-weight: bold } /* Generic.Prompt */\n",
              ".output_html .gs { font-weight: bold } /* Generic.Strong */\n",
              ".output_html .gu { color: #800080; font-weight: bold } /* Generic.Subheading */\n",
              ".output_html .gt { color: #0044DD } /* Generic.Traceback */\n",
              ".output_html .kc { color: #008000; font-weight: bold } /* Keyword.Constant */\n",
              ".output_html .kd { color: #008000; font-weight: bold } /* Keyword.Declaration */\n",
              ".output_html .kn { color: #008000; font-weight: bold } /* Keyword.Namespace */\n",
              ".output_html .kp { color: #008000 } /* Keyword.Pseudo */\n",
              ".output_html .kr { color: #008000; font-weight: bold } /* Keyword.Reserved */\n",
              ".output_html .kt { color: #B00040 } /* Keyword.Type */\n",
              ".output_html .m { color: #666666 } /* Literal.Number */\n",
              ".output_html .s { color: #BA2121 } /* Literal.String */\n",
              ".output_html .na { color: #687822 } /* Name.Attribute */\n",
              ".output_html .nb { color: #008000 } /* Name.Builtin */\n",
              ".output_html .nc { color: #0000FF; font-weight: bold } /* Name.Class */\n",
              ".output_html .no { color: #880000 } /* Name.Constant */\n",
              ".output_html .nd { color: #AA22FF } /* Name.Decorator */\n",
              ".output_html .ni { color: #717171; font-weight: bold } /* Name.Entity */\n",
              ".output_html .ne { color: #CB3F38; font-weight: bold } /* Name.Exception */\n",
              ".output_html .nf { color: #0000FF } /* Name.Function */\n",
              ".output_html .nl { color: #767600 } /* Name.Label */\n",
              ".output_html .nn { color: #0000FF; font-weight: bold } /* Name.Namespace */\n",
              ".output_html .nt { color: #008000; font-weight: bold } /* Name.Tag */\n",
              ".output_html .nv { color: #19177C } /* Name.Variable */\n",
              ".output_html .ow { color: #AA22FF; font-weight: bold } /* Operator.Word */\n",
              ".output_html .w { color: #bbbbbb } /* Text.Whitespace */\n",
              ".output_html .mb { color: #666666 } /* Literal.Number.Bin */\n",
              ".output_html .mf { color: #666666 } /* Literal.Number.Float */\n",
              ".output_html .mh { color: #666666 } /* Literal.Number.Hex */\n",
              ".output_html .mi { color: #666666 } /* Literal.Number.Integer */\n",
              ".output_html .mo { color: #666666 } /* Literal.Number.Oct */\n",
              ".output_html .sa { color: #BA2121 } /* Literal.String.Affix */\n",
              ".output_html .sb { color: #BA2121 } /* Literal.String.Backtick */\n",
              ".output_html .sc { color: #BA2121 } /* Literal.String.Char */\n",
              ".output_html .dl { color: #BA2121 } /* Literal.String.Delimiter */\n",
              ".output_html .sd { color: #BA2121; font-style: italic } /* Literal.String.Doc */\n",
              ".output_html .s2 { color: #BA2121 } /* Literal.String.Double */\n",
              ".output_html .se { color: #AA5D1F; font-weight: bold } /* Literal.String.Escape */\n",
              ".output_html .sh { color: #BA2121 } /* Literal.String.Heredoc */\n",
              ".output_html .si { color: #A45A77; font-weight: bold } /* Literal.String.Interpol */\n",
              ".output_html .sx { color: #008000 } /* Literal.String.Other */\n",
              ".output_html .sr { color: #A45A77 } /* Literal.String.Regex */\n",
              ".output_html .s1 { color: #BA2121 } /* Literal.String.Single */\n",
              ".output_html .ss { color: #19177C } /* Literal.String.Symbol */\n",
              ".output_html .bp { color: #008000 } /* Name.Builtin.Pseudo */\n",
              ".output_html .fm { color: #0000FF } /* Name.Function.Magic */\n",
              ".output_html .vc { color: #19177C } /* Name.Variable.Class */\n",
              ".output_html .vg { color: #19177C } /* Name.Variable.Global */\n",
              ".output_html .vi { color: #19177C } /* Name.Variable.Instance */\n",
              ".output_html .vm { color: #19177C } /* Name.Variable.Magic */\n",
              ".output_html .il { color: #666666 } /* Literal.Number.Integer.Long */</style><div class=\"highlight\"><pre><span></span><span class=\"nt\">requests</span><span class=\"p\">.</span><span class=\"nc\">post</span><span class=\"o\">(</span><span class=\"nt\">url</span><span class=\"o\">=</span><span class=\"s1\">&#39;https://website.co.in&#39;</span><span class=\"o\">,</span><span class=\"w\"> </span><span class=\"nt\">data</span><span class=\"o\">=</span><span class=\"s1\">&#39;{&quot;name&quot;: &quot;John&quot;, &quot;age&quot;: 30}&#39;</span><span class=\"o\">,</span><span class=\"w\"> </span><span class=\"nt\">headers</span><span class=\"o\">=</span><span class=\"s1\">&#39;Content-Type: application/json&#39;</span><span class=\"o\">)</span>\n",
              "</pre></div>\n"
            ],
            "text/latex": [
              "\\begin{Verbatim}[commandchars=\\\\\\{\\}]\n",
              "\\PY{n+nt}{requests}\\PY{p}{.}\\PY{n+nc}{post}\\PY{o}{(}\\PY{n+nt}{url}\\PY{o}{=}\\PY{l+s+s1}{\\PYZsq{}https://website.co.in\\PYZsq{}}\\PY{o}{,}\\PY{+w}{ }\\PY{n+nt}{data}\\PY{o}{=}\\PY{l+s+s1}{\\PYZsq{}\\PYZob{}\\PYZdq{}name\\PYZdq{}: \\PYZdq{}John\\PYZdq{}, \\PYZdq{}age\\PYZdq{}: 30\\PYZcb{}\\PYZsq{}}\\PY{o}{,}\\PY{+w}{ }\\PY{n+nt}{headers}\\PY{o}{=}\\PY{l+s+s1}{\\PYZsq{}Content\\PYZhy{}Type: application/json\\PYZsq{}}\\PY{o}{)}\n",
              "\\end{Verbatim}\n"
            ],
            "text/plain": [
              "\n",
              "requests.post(url='https://website.co.in', data='{\"name\": \"John\", \"age\": 30}', headers='Content-Type: application/json')"
            ]
          },
          "metadata": {},
          "output_type": "display_data"
        }
      ],
      "source": [
        "import requests\n",
        "\n",
        "\n",
        "question = \"\"\"\n",
        "Make a POST request to https://website.co.in, with data '{\"name\": \"John\", \"age\": 30}' and headers 'Content-Type: application/json'.\n",
        "\"\"\"\n",
        "\n",
        "function_call = pip_flow.generate_function_call(question=question, function=requests.post)"
      ]
    },
    {
      "cell_type": "markdown",
      "metadata": {
        "id": "V5J4XpXQ6_8N"
      },
      "source": [
        "#### Code"
      ]
    },
    {
      "cell_type": "code",
      "execution_count": 10,
      "metadata": {
        "colab": {
          "base_uri": "https://localhost:8080/",
          "height": 309
        },
        "id": "2KUGb3FqWwgn",
        "outputId": "33435863-ab8a-4809-d9bc-818982ef2600"
      },
      "outputs": [
        {
          "name": "stdout",
          "output_type": "stream",
          "text": [
            "Generating docstring for the code..\n"
          ]
        },
        {
          "data": {
            "text/markdown": [
              "\n",
              "\n",
              "The function `add_numbers` takes two parameters: `a` and `b`. It is designed to add two numbers together. The function takes two parameters, `a` and `b`, which are both of type `float`. The function returns a single value of type `float`.\n",
              "\n",
              "The function has the following parameters:\n",
              "\n",
              "- `a`: The first number to be added. It is of type `float`.\n",
              "- `b`: The second number to be added. It is of type `float`.\n",
              "\n",
              "The function returns a value of type `float`.\n",
              "\n",
              "The function has the following parameters with default values:\n",
              "\n",
              "- `a`: Defaults to `0.0`.\n",
              "- `b`: Defaults to `0.0`.\n",
              "\n",
              "The function has the following parameters with possible values:\n",
              "\n",
              "- `a`: Possible values range from `-1.7976931348623157e+308` to `1.7976931348623157e+308`.\n",
              "- `b`: Possible values range from `-1.7976931348623157e+308` to `1.7976931348623157e+308`.\n",
              "\n"
            ],
            "text/plain": [
              "<IPython.core.display.Markdown object>"
            ]
          },
          "metadata": {},
          "output_type": "display_data"
        },
        {
          "data": {
            "text/html": [
              "<style>pre { line-height: 125%; }\n",
              "td.linenos .normal { color: inherit; background-color: transparent; padding-left: 5px; padding-right: 5px; }\n",
              "span.linenos { color: inherit; background-color: transparent; padding-left: 5px; padding-right: 5px; }\n",
              "td.linenos .special { color: #000000; background-color: #ffffc0; padding-left: 5px; padding-right: 5px; }\n",
              "span.linenos.special { color: #000000; background-color: #ffffc0; padding-left: 5px; padding-right: 5px; }\n",
              ".output_html .hll { background-color: #ffffcc }\n",
              ".output_html { background: #f8f8f8; }\n",
              ".output_html .c { color: #3D7B7B; font-style: italic } /* Comment */\n",
              ".output_html .err { border: 1px solid #FF0000 } /* Error */\n",
              ".output_html .k { color: #008000; font-weight: bold } /* Keyword */\n",
              ".output_html .o { color: #666666 } /* Operator */\n",
              ".output_html .ch { color: #3D7B7B; font-style: italic } /* Comment.Hashbang */\n",
              ".output_html .cm { color: #3D7B7B; font-style: italic } /* Comment.Multiline */\n",
              ".output_html .cp { color: #9C6500 } /* Comment.Preproc */\n",
              ".output_html .cpf { color: #3D7B7B; font-style: italic } /* Comment.PreprocFile */\n",
              ".output_html .c1 { color: #3D7B7B; font-style: italic } /* Comment.Single */\n",
              ".output_html .cs { color: #3D7B7B; font-style: italic } /* Comment.Special */\n",
              ".output_html .gd { color: #A00000 } /* Generic.Deleted */\n",
              ".output_html .ge { font-style: italic } /* Generic.Emph */\n",
              ".output_html .ges { font-weight: bold; font-style: italic } /* Generic.EmphStrong */\n",
              ".output_html .gr { color: #E40000 } /* Generic.Error */\n",
              ".output_html .gh { color: #000080; font-weight: bold } /* Generic.Heading */\n",
              ".output_html .gi { color: #008400 } /* Generic.Inserted */\n",
              ".output_html .go { color: #717171 } /* Generic.Output */\n",
              ".output_html .gp { color: #000080; font-weight: bold } /* Generic.Prompt */\n",
              ".output_html .gs { font-weight: bold } /* Generic.Strong */\n",
              ".output_html .gu { color: #800080; font-weight: bold } /* Generic.Subheading */\n",
              ".output_html .gt { color: #0044DD } /* Generic.Traceback */\n",
              ".output_html .kc { color: #008000; font-weight: bold } /* Keyword.Constant */\n",
              ".output_html .kd { color: #008000; font-weight: bold } /* Keyword.Declaration */\n",
              ".output_html .kn { color: #008000; font-weight: bold } /* Keyword.Namespace */\n",
              ".output_html .kp { color: #008000 } /* Keyword.Pseudo */\n",
              ".output_html .kr { color: #008000; font-weight: bold } /* Keyword.Reserved */\n",
              ".output_html .kt { color: #B00040 } /* Keyword.Type */\n",
              ".output_html .m { color: #666666 } /* Literal.Number */\n",
              ".output_html .s { color: #BA2121 } /* Literal.String */\n",
              ".output_html .na { color: #687822 } /* Name.Attribute */\n",
              ".output_html .nb { color: #008000 } /* Name.Builtin */\n",
              ".output_html .nc { color: #0000FF; font-weight: bold } /* Name.Class */\n",
              ".output_html .no { color: #880000 } /* Name.Constant */\n",
              ".output_html .nd { color: #AA22FF } /* Name.Decorator */\n",
              ".output_html .ni { color: #717171; font-weight: bold } /* Name.Entity */\n",
              ".output_html .ne { color: #CB3F38; font-weight: bold } /* Name.Exception */\n",
              ".output_html .nf { color: #0000FF } /* Name.Function */\n",
              ".output_html .nl { color: #767600 } /* Name.Label */\n",
              ".output_html .nn { color: #0000FF; font-weight: bold } /* Name.Namespace */\n",
              ".output_html .nt { color: #008000; font-weight: bold } /* Name.Tag */\n",
              ".output_html .nv { color: #19177C } /* Name.Variable */\n",
              ".output_html .ow { color: #AA22FF; font-weight: bold } /* Operator.Word */\n",
              ".output_html .w { color: #bbbbbb } /* Text.Whitespace */\n",
              ".output_html .mb { color: #666666 } /* Literal.Number.Bin */\n",
              ".output_html .mf { color: #666666 } /* Literal.Number.Float */\n",
              ".output_html .mh { color: #666666 } /* Literal.Number.Hex */\n",
              ".output_html .mi { color: #666666 } /* Literal.Number.Integer */\n",
              ".output_html .mo { color: #666666 } /* Literal.Number.Oct */\n",
              ".output_html .sa { color: #BA2121 } /* Literal.String.Affix */\n",
              ".output_html .sb { color: #BA2121 } /* Literal.String.Backtick */\n",
              ".output_html .sc { color: #BA2121 } /* Literal.String.Char */\n",
              ".output_html .dl { color: #BA2121 } /* Literal.String.Delimiter */\n",
              ".output_html .sd { color: #BA2121; font-style: italic } /* Literal.String.Doc */\n",
              ".output_html .s2 { color: #BA2121 } /* Literal.String.Double */\n",
              ".output_html .se { color: #AA5D1F; font-weight: bold } /* Literal.String.Escape */\n",
              ".output_html .sh { color: #BA2121 } /* Literal.String.Heredoc */\n",
              ".output_html .si { color: #A45A77; font-weight: bold } /* Literal.String.Interpol */\n",
              ".output_html .sx { color: #008000 } /* Literal.String.Other */\n",
              ".output_html .sr { color: #A45A77 } /* Literal.String.Regex */\n",
              ".output_html .s1 { color: #BA2121 } /* Literal.String.Single */\n",
              ".output_html .ss { color: #19177C } /* Literal.String.Symbol */\n",
              ".output_html .bp { color: #008000 } /* Name.Builtin.Pseudo */\n",
              ".output_html .fm { color: #0000FF } /* Name.Function.Magic */\n",
              ".output_html .vc { color: #19177C } /* Name.Variable.Class */\n",
              ".output_html .vg { color: #19177C } /* Name.Variable.Global */\n",
              ".output_html .vi { color: #19177C } /* Name.Variable.Instance */\n",
              ".output_html .vm { color: #19177C } /* Name.Variable.Magic */\n",
              ".output_html .il { color: #666666 } /* Literal.Number.Integer.Long */</style><div class=\"highlight\"><pre><span></span><span class=\"nt\">add_numbers</span><span class=\"o\">(</span><span class=\"nt\">a</span><span class=\"o\">=</span><span class=\"nt\">4</span><span class=\"p\">.</span><span class=\"nc\">5</span><span class=\"o\">,</span><span class=\"w\"> </span><span class=\"nt\">b</span><span class=\"o\">=</span><span class=\"nt\">6</span><span class=\"p\">.</span><span class=\"nc\">7</span><span class=\"o\">)</span>\n",
              "</pre></div>\n"
            ],
            "text/latex": [
              "\\begin{Verbatim}[commandchars=\\\\\\{\\}]\n",
              "\\PY{n+nt}{add\\PYZus{}numbers}\\PY{o}{(}\\PY{n+nt}{a}\\PY{o}{=}\\PY{n+nt}{4}\\PY{p}{.}\\PY{n+nc}{5}\\PY{o}{,}\\PY{+w}{ }\\PY{n+nt}{b}\\PY{o}{=}\\PY{n+nt}{6}\\PY{p}{.}\\PY{n+nc}{7}\\PY{o}{)}\n",
              "\\end{Verbatim}\n"
            ],
            "text/plain": [
              "\n",
              "add_numbers(a=4.5, b=6.7)"
            ]
          },
          "metadata": {},
          "output_type": "display_data"
        }
      ],
      "source": [
        "code = \"\"\"\n",
        "def add_numbers(a: float, b:float):\n",
        "    return a + b\n",
        "\"\"\"\n",
        "\n",
        "question = \"\"\"\n",
        "I want to add 4.5 and 6.7\n",
        "\"\"\"\n",
        "function_call = pip_flow.generate_function_call(question=question, code=code)"
      ]
    },
    {
      "cell_type": "markdown",
      "metadata": {
        "id": "8xeuyACD7Fbg"
      },
      "source": [
        "#### Docstring"
      ]
    },
    {
      "cell_type": "code",
      "execution_count": 11,
      "metadata": {
        "colab": {
          "base_uri": "https://localhost:8080/",
          "height": 34
        },
        "id": "pRjxXmqwWwgn",
        "outputId": "fb5fdafc-c320-4f74-c371-dfd904ce070d"
      },
      "outputs": [
        {
          "data": {
            "text/html": [
              "<style>pre { line-height: 125%; }\n",
              "td.linenos .normal { color: inherit; background-color: transparent; padding-left: 5px; padding-right: 5px; }\n",
              "span.linenos { color: inherit; background-color: transparent; padding-left: 5px; padding-right: 5px; }\n",
              "td.linenos .special { color: #000000; background-color: #ffffc0; padding-left: 5px; padding-right: 5px; }\n",
              "span.linenos.special { color: #000000; background-color: #ffffc0; padding-left: 5px; padding-right: 5px; }\n",
              ".output_html .hll { background-color: #ffffcc }\n",
              ".output_html { background: #f8f8f8; }\n",
              ".output_html .c { color: #3D7B7B; font-style: italic } /* Comment */\n",
              ".output_html .err { border: 1px solid #FF0000 } /* Error */\n",
              ".output_html .k { color: #008000; font-weight: bold } /* Keyword */\n",
              ".output_html .o { color: #666666 } /* Operator */\n",
              ".output_html .ch { color: #3D7B7B; font-style: italic } /* Comment.Hashbang */\n",
              ".output_html .cm { color: #3D7B7B; font-style: italic } /* Comment.Multiline */\n",
              ".output_html .cp { color: #9C6500 } /* Comment.Preproc */\n",
              ".output_html .cpf { color: #3D7B7B; font-style: italic } /* Comment.PreprocFile */\n",
              ".output_html .c1 { color: #3D7B7B; font-style: italic } /* Comment.Single */\n",
              ".output_html .cs { color: #3D7B7B; font-style: italic } /* Comment.Special */\n",
              ".output_html .gd { color: #A00000 } /* Generic.Deleted */\n",
              ".output_html .ge { font-style: italic } /* Generic.Emph */\n",
              ".output_html .ges { font-weight: bold; font-style: italic } /* Generic.EmphStrong */\n",
              ".output_html .gr { color: #E40000 } /* Generic.Error */\n",
              ".output_html .gh { color: #000080; font-weight: bold } /* Generic.Heading */\n",
              ".output_html .gi { color: #008400 } /* Generic.Inserted */\n",
              ".output_html .go { color: #717171 } /* Generic.Output */\n",
              ".output_html .gp { color: #000080; font-weight: bold } /* Generic.Prompt */\n",
              ".output_html .gs { font-weight: bold } /* Generic.Strong */\n",
              ".output_html .gu { color: #800080; font-weight: bold } /* Generic.Subheading */\n",
              ".output_html .gt { color: #0044DD } /* Generic.Traceback */\n",
              ".output_html .kc { color: #008000; font-weight: bold } /* Keyword.Constant */\n",
              ".output_html .kd { color: #008000; font-weight: bold } /* Keyword.Declaration */\n",
              ".output_html .kn { color: #008000; font-weight: bold } /* Keyword.Namespace */\n",
              ".output_html .kp { color: #008000 } /* Keyword.Pseudo */\n",
              ".output_html .kr { color: #008000; font-weight: bold } /* Keyword.Reserved */\n",
              ".output_html .kt { color: #B00040 } /* Keyword.Type */\n",
              ".output_html .m { color: #666666 } /* Literal.Number */\n",
              ".output_html .s { color: #BA2121 } /* Literal.String */\n",
              ".output_html .na { color: #687822 } /* Name.Attribute */\n",
              ".output_html .nb { color: #008000 } /* Name.Builtin */\n",
              ".output_html .nc { color: #0000FF; font-weight: bold } /* Name.Class */\n",
              ".output_html .no { color: #880000 } /* Name.Constant */\n",
              ".output_html .nd { color: #AA22FF } /* Name.Decorator */\n",
              ".output_html .ni { color: #717171; font-weight: bold } /* Name.Entity */\n",
              ".output_html .ne { color: #CB3F38; font-weight: bold } /* Name.Exception */\n",
              ".output_html .nf { color: #0000FF } /* Name.Function */\n",
              ".output_html .nl { color: #767600 } /* Name.Label */\n",
              ".output_html .nn { color: #0000FF; font-weight: bold } /* Name.Namespace */\n",
              ".output_html .nt { color: #008000; font-weight: bold } /* Name.Tag */\n",
              ".output_html .nv { color: #19177C } /* Name.Variable */\n",
              ".output_html .ow { color: #AA22FF; font-weight: bold } /* Operator.Word */\n",
              ".output_html .w { color: #bbbbbb } /* Text.Whitespace */\n",
              ".output_html .mb { color: #666666 } /* Literal.Number.Bin */\n",
              ".output_html .mf { color: #666666 } /* Literal.Number.Float */\n",
              ".output_html .mh { color: #666666 } /* Literal.Number.Hex */\n",
              ".output_html .mi { color: #666666 } /* Literal.Number.Integer */\n",
              ".output_html .mo { color: #666666 } /* Literal.Number.Oct */\n",
              ".output_html .sa { color: #BA2121 } /* Literal.String.Affix */\n",
              ".output_html .sb { color: #BA2121 } /* Literal.String.Backtick */\n",
              ".output_html .sc { color: #BA2121 } /* Literal.String.Char */\n",
              ".output_html .dl { color: #BA2121 } /* Literal.String.Delimiter */\n",
              ".output_html .sd { color: #BA2121; font-style: italic } /* Literal.String.Doc */\n",
              ".output_html .s2 { color: #BA2121 } /* Literal.String.Double */\n",
              ".output_html .se { color: #AA5D1F; font-weight: bold } /* Literal.String.Escape */\n",
              ".output_html .sh { color: #BA2121 } /* Literal.String.Heredoc */\n",
              ".output_html .si { color: #A45A77; font-weight: bold } /* Literal.String.Interpol */\n",
              ".output_html .sx { color: #008000 } /* Literal.String.Other */\n",
              ".output_html .sr { color: #A45A77 } /* Literal.String.Regex */\n",
              ".output_html .s1 { color: #BA2121 } /* Literal.String.Single */\n",
              ".output_html .ss { color: #19177C } /* Literal.String.Symbol */\n",
              ".output_html .bp { color: #008000 } /* Name.Builtin.Pseudo */\n",
              ".output_html .fm { color: #0000FF } /* Name.Function.Magic */\n",
              ".output_html .vc { color: #19177C } /* Name.Variable.Class */\n",
              ".output_html .vg { color: #19177C } /* Name.Variable.Global */\n",
              ".output_html .vi { color: #19177C } /* Name.Variable.Instance */\n",
              ".output_html .vm { color: #19177C } /* Name.Variable.Magic */\n",
              ".output_html .il { color: #666666 } /* Literal.Number.Integer.Long */</style><div class=\"highlight\"><pre><span></span><span class=\"nt\">make_get_req</span><span class=\"o\">(</span><span class=\"nt\">path</span><span class=\"o\">=</span><span class=\"nt\">variable_2</span><span class=\"o\">,</span><span class=\"w\"> </span><span class=\"nt\">data</span><span class=\"o\">=</span><span class=\"nt\">variable_1</span><span class=\"o\">,</span><span class=\"w\"> </span><span class=\"nt\">params</span><span class=\"o\">=</span><span class=\"p\">{</span><span class=\"err\">&#39;weight&#39;:</span><span class=\"w\"> </span><span class=\"err\">variable_3,</span><span class=\"w\"> </span><span class=\"err\">&#39;width&#39;:</span><span class=\"w\"> </span><span class=\"err\">10</span><span class=\"p\">}</span><span class=\"o\">,</span><span class=\"w\"> </span><span class=\"nt\">headers</span><span class=\"o\">=</span><span class=\"p\">{}</span><span class=\"o\">,</span><span class=\"w\"> </span><span class=\"nt\">not_json_response</span><span class=\"o\">=</span><span class=\"nt\">True</span><span class=\"o\">,</span><span class=\"w\"> </span><span class=\"nt\">absolute</span><span class=\"o\">=</span><span class=\"nt\">True</span><span class=\"o\">)</span>\n",
              "</pre></div>\n"
            ],
            "text/latex": [
              "\\begin{Verbatim}[commandchars=\\\\\\{\\}]\n",
              "\\PY{n+nt}{make\\PYZus{}get\\PYZus{}req}\\PY{o}{(}\\PY{n+nt}{path}\\PY{o}{=}\\PY{n+nt}{variable\\PYZus{}2}\\PY{o}{,}\\PY{+w}{ }\\PY{n+nt}{data}\\PY{o}{=}\\PY{n+nt}{variable\\PYZus{}1}\\PY{o}{,}\\PY{+w}{ }\\PY{n+nt}{params}\\PY{o}{=}\\PY{p}{\\PYZob{}}\\PY{err}{\\PYZsq{}}\\PY{err}{w}\\PY{err}{e}\\PY{err}{i}\\PY{err}{g}\\PY{err}{h}\\PY{err}{t}\\PY{err}{\\PYZsq{}}\\PY{err}{:}\\PY{+w}{ }\\PY{err}{v}\\PY{err}{a}\\PY{err}{r}\\PY{err}{i}\\PY{err}{a}\\PY{err}{b}\\PY{err}{l}\\PY{err}{e}\\PY{err}{\\PYZus{}}\\PY{err}{3}\\PY{err}{,}\\PY{+w}{ }\\PY{err}{\\PYZsq{}}\\PY{err}{w}\\PY{err}{i}\\PY{err}{d}\\PY{err}{t}\\PY{err}{h}\\PY{err}{\\PYZsq{}}\\PY{err}{:}\\PY{+w}{ }\\PY{err}{1}\\PY{err}{0}\\PY{p}{\\PYZcb{}}\\PY{o}{,}\\PY{+w}{ }\\PY{n+nt}{headers}\\PY{o}{=}\\PY{p}{\\PYZob{}}\\PY{p}{\\PYZcb{}}\\PY{o}{,}\\PY{+w}{ }\\PY{n+nt}{not\\PYZus{}json\\PYZus{}response}\\PY{o}{=}\\PY{n+nt}{True}\\PY{o}{,}\\PY{+w}{ }\\PY{n+nt}{absolute}\\PY{o}{=}\\PY{n+nt}{True}\\PY{o}{)}\n",
              "\\end{Verbatim}\n"
            ],
            "text/plain": [
              "\n",
              "make_get_req(path=variable_2, data=variable_1, params={'weight': variable_3, 'width': 10}, headers={}, not_json_response=True, absolute=True)"
            ]
          },
          "metadata": {},
          "output_type": "display_data"
        }
      ],
      "source": [
        "docstring = \"\"\"\n",
        "Function Name: make_get_req\n",
        "Description: This function is used to make a GET request.\n",
        "Parameters:\n",
        "- path (str): The path of the URL to be requested.\n",
        "- data (dict): The data to be sent in the body of the request.\n",
        "- flags (dict): The flags to be sent in the request.\n",
        "- params (dict): The parameters to be sent in the request.\n",
        "- headers (dict): The headers to be sent in the request.\n",
        "- not_json_response (bool): OPTIONAL: If set to True, the function will return the raw response content instead of trying to parse it as JSON.\n",
        "- trailing (str): OPTIONAL: For wrapping slash symbol in the end of string.\n",
        "- absolute (bool): OPTIONAL: If set to True, the function will not prefix the URL with the base URL.\n",
        "- advanced_mode (bool): OPTIONAL: If set to True, the function will return the raw response instead of trying to parse it as JSON.\n",
        "Returns:\n",
        "- Union[str, dict, list, None]: The response content as a string, a dictionary, a list, or None if the response was not successful.\n",
        "\"\"\"\n",
        "\n",
        "question = \"\"\"\n",
        "Make a GET request for the URL parameter using variable_2. For the params parameter, use a dict with 'weight' as a key with a value variable_3 and 'width' as another key with a value of 10. For the data parameter, use variable_1. Prefix the URL with the base URL, and ensure the response is in raw format.\n",
        "\"\"\"\n",
        "\n",
        "\n",
        "function_call = pip_flow.generate_function_call(question=question, docstring=docstring)"
      ]
    },
    {
      "cell_type": "markdown",
      "metadata": {
        "id": "M2LJt9mGWwgn"
      },
      "source": [
        "## Generate Plan"
      ]
    },
    {
      "cell_type": "markdown",
      "metadata": {
        "id": "IsyC1DPgWwgn"
      },
      "source": [
        "### Add functions / callbales to PipFlow class"
      ]
    },
    {
      "cell_type": "code",
      "execution_count": 12,
      "metadata": {
        "id": "PyJATC2_Wwgo"
      },
      "outputs": [],
      "source": [
        "import requests\n",
        "from bs4 import BeautifulSoup\n",
        "\n",
        "pip_flow = PipFlow(device = 'cloud', model_key = \"PipableAI/pip-code-bandit\")\n",
        "\n",
        "functions = [\n",
        "    requests.get,\n",
        "    BeautifulSoup,\n",
        "    BeautifulSoup.find_all,\n",
        "]\n",
        "\n",
        "pip_flow.add_callables(\n",
        "    functions, generate_docs=False\n",
        ")"
      ]
    },
    {
      "cell_type": "markdown",
      "metadata": {
        "id": "bnlUr80hWwgo"
      },
      "source": [
        "### Create a Plan"
      ]
    },
    {
      "cell_type": "code",
      "execution_count": 13,
      "metadata": {
        "colab": {
          "base_uri": "https://localhost:8080/"
        },
        "id": "4IhhEE4qWwgo",
        "outputId": "5a459ae5-cd4e-474b-c5af-f2e76f6a590f"
      },
      "outputs": [
        {
          "name": "stdout",
          "output_type": "stream",
          "text": [
            "{\n",
            "    \"tasks\": [\n",
            "        {\n",
            "            \"task_id\": 1,\n",
            "            \"function_name\": \"get\",\n",
            "            \"parameters\": [\n",
            "                {\n",
            "                    \"name\": \"url\",\n",
            "                    \"value\": \"https://colab.research.google.com/drive/1mB2v-d72k5DJ2sXqm7GsaAZdWOJBmmof?authuser=1#scrollTo=9NgzJt0-FoNw\",\n",
            "                    \"description\": \"URL to make a request to.\",\n",
            "                    \"dtype\": \"string\"\n",
            "                }\n",
            "            ],\n",
            "            \"outputs\": [\n",
            "                \"variable_1\"\n",
            "            ],\n",
            "            \"description\": \"Makes a GET request to the specified URL.\"\n",
            "        },\n",
            "        {\n",
            "            \"task_id\": 2,\n",
            "            \"function_name\": \"BeautifulSoup\",\n",
            "            \"parameters\": [\n",
            "                {\n",
            "                    \"name\": \"markup\",\n",
            "                    \"value\": \"variable_1\",\n",
            "                    \"description\": \"Markup to be parsed.\",\n",
            "                    \"dtype\": \"string\"\n",
            "                }\n",
            "            ],\n",
            "            \"outputs\": [\n",
            "                \"variable_2\"\n",
            "            ],\n",
            "            \"description\": \"Creates a BeautifulSoup object from the markup.\"\n",
            "        },\n",
            "        {\n",
            "            \"task_id\": 3,\n",
            "            \"function_name\": \"find_all\",\n",
            "            \"parameters\": [\n",
            "                {\n",
            "                    \"name\": \"self\",\n",
            "                    \"value\": \"variable_2\",\n",
            "                    \"description\": \"BeautifulSoup object to search in.\",\n",
            "                    \"dtype\": \"BeautifulSoup object\"\n",
            "                },\n",
            "                {\n",
            "                    \"name\": \"name\",\n",
            "                    \"value\": \"div\",\n",
            "                    \"description\": \"Name of the tag to find.\",\n",
            "                    \"dtype\": \"string\"\n",
            "                }\n",
            "            ],\n",
            "            \"outputs\": [\n",
            "                \"variable_3\"\n",
            "            ],\n",
            "            \"description\": \"Finds all div elements in the BeautifulSoup object.\"\n",
            "        }\n",
            "    ]\n",
            "}\n"
          ]
        }
      ],
      "source": [
        "question = \"\"\"\n",
        "- Make get request to https://colab.research.google.com/drive/1mB2v-d72k5DJ2sXqm7GsaAZdWOJBmmof?authuser=1#scrollTo=9NgzJt0-FoNw.\n",
        "- Create a Beautiful soup class and find all the divs in it.\n",
        "\"\"\"\n",
        "\n",
        "plan = pip_flow.generate_plan(question)"
      ]
    },
    {
      "cell_type": "markdown",
      "metadata": {
        "id": "G3GeiMwB-9Rv"
      },
      "source": [
        "### Visualise the Plan"
      ]
    },
    {
      "cell_type": "code",
      "execution_count": 14,
      "metadata": {
        "colab": {
          "base_uri": "https://localhost:8080/",
          "height": 699
        },
        "id": "Qc85MaV2-9Rv",
        "outputId": "5ba1a36a-4395-4443-b016-3cc9bbad6821"
      },
      "outputs": [],
      "source": [
        "pip_flow.visualise_plan()"
      ]
    },
    {
      "cell_type": "markdown",
      "metadata": {
        "id": "MYMht0coWwgo"
      },
      "source": [
        "### Generate Code from the Plan"
      ]
    },
    {
      "cell_type": "code",
      "execution_count": 15,
      "metadata": {
        "colab": {
          "base_uri": "https://localhost:8080/",
          "height": 255
        },
        "id": "jQLrG7JI6sjD",
        "outputId": "1d980ed7-06f8-4712-ca06-626bc8ef1f37"
      },
      "outputs": [
        {
          "data": {
            "text/html": [
              "<style>pre { line-height: 125%; }\n",
              "td.linenos .normal { color: inherit; background-color: transparent; padding-left: 5px; padding-right: 5px; }\n",
              "span.linenos { color: inherit; background-color: transparent; padding-left: 5px; padding-right: 5px; }\n",
              "td.linenos .special { color: #000000; background-color: #ffffc0; padding-left: 5px; padding-right: 5px; }\n",
              "span.linenos.special { color: #000000; background-color: #ffffc0; padding-left: 5px; padding-right: 5px; }\n",
              ".output_html .hll { background-color: #ffffcc }\n",
              ".output_html { background: #f8f8f8; }\n",
              ".output_html .c { color: #3D7B7B; font-style: italic } /* Comment */\n",
              ".output_html .err { border: 1px solid #FF0000 } /* Error */\n",
              ".output_html .k { color: #008000; font-weight: bold } /* Keyword */\n",
              ".output_html .o { color: #666666 } /* Operator */\n",
              ".output_html .ch { color: #3D7B7B; font-style: italic } /* Comment.Hashbang */\n",
              ".output_html .cm { color: #3D7B7B; font-style: italic } /* Comment.Multiline */\n",
              ".output_html .cp { color: #9C6500 } /* Comment.Preproc */\n",
              ".output_html .cpf { color: #3D7B7B; font-style: italic } /* Comment.PreprocFile */\n",
              ".output_html .c1 { color: #3D7B7B; font-style: italic } /* Comment.Single */\n",
              ".output_html .cs { color: #3D7B7B; font-style: italic } /* Comment.Special */\n",
              ".output_html .gd { color: #A00000 } /* Generic.Deleted */\n",
              ".output_html .ge { font-style: italic } /* Generic.Emph */\n",
              ".output_html .ges { font-weight: bold; font-style: italic } /* Generic.EmphStrong */\n",
              ".output_html .gr { color: #E40000 } /* Generic.Error */\n",
              ".output_html .gh { color: #000080; font-weight: bold } /* Generic.Heading */\n",
              ".output_html .gi { color: #008400 } /* Generic.Inserted */\n",
              ".output_html .go { color: #717171 } /* Generic.Output */\n",
              ".output_html .gp { color: #000080; font-weight: bold } /* Generic.Prompt */\n",
              ".output_html .gs { font-weight: bold } /* Generic.Strong */\n",
              ".output_html .gu { color: #800080; font-weight: bold } /* Generic.Subheading */\n",
              ".output_html .gt { color: #0044DD } /* Generic.Traceback */\n",
              ".output_html .kc { color: #008000; font-weight: bold } /* Keyword.Constant */\n",
              ".output_html .kd { color: #008000; font-weight: bold } /* Keyword.Declaration */\n",
              ".output_html .kn { color: #008000; font-weight: bold } /* Keyword.Namespace */\n",
              ".output_html .kp { color: #008000 } /* Keyword.Pseudo */\n",
              ".output_html .kr { color: #008000; font-weight: bold } /* Keyword.Reserved */\n",
              ".output_html .kt { color: #B00040 } /* Keyword.Type */\n",
              ".output_html .m { color: #666666 } /* Literal.Number */\n",
              ".output_html .s { color: #BA2121 } /* Literal.String */\n",
              ".output_html .na { color: #687822 } /* Name.Attribute */\n",
              ".output_html .nb { color: #008000 } /* Name.Builtin */\n",
              ".output_html .nc { color: #0000FF; font-weight: bold } /* Name.Class */\n",
              ".output_html .no { color: #880000 } /* Name.Constant */\n",
              ".output_html .nd { color: #AA22FF } /* Name.Decorator */\n",
              ".output_html .ni { color: #717171; font-weight: bold } /* Name.Entity */\n",
              ".output_html .ne { color: #CB3F38; font-weight: bold } /* Name.Exception */\n",
              ".output_html .nf { color: #0000FF } /* Name.Function */\n",
              ".output_html .nl { color: #767600 } /* Name.Label */\n",
              ".output_html .nn { color: #0000FF; font-weight: bold } /* Name.Namespace */\n",
              ".output_html .nt { color: #008000; font-weight: bold } /* Name.Tag */\n",
              ".output_html .nv { color: #19177C } /* Name.Variable */\n",
              ".output_html .ow { color: #AA22FF; font-weight: bold } /* Operator.Word */\n",
              ".output_html .w { color: #bbbbbb } /* Text.Whitespace */\n",
              ".output_html .mb { color: #666666 } /* Literal.Number.Bin */\n",
              ".output_html .mf { color: #666666 } /* Literal.Number.Float */\n",
              ".output_html .mh { color: #666666 } /* Literal.Number.Hex */\n",
              ".output_html .mi { color: #666666 } /* Literal.Number.Integer */\n",
              ".output_html .mo { color: #666666 } /* Literal.Number.Oct */\n",
              ".output_html .sa { color: #BA2121 } /* Literal.String.Affix */\n",
              ".output_html .sb { color: #BA2121 } /* Literal.String.Backtick */\n",
              ".output_html .sc { color: #BA2121 } /* Literal.String.Char */\n",
              ".output_html .dl { color: #BA2121 } /* Literal.String.Delimiter */\n",
              ".output_html .sd { color: #BA2121; font-style: italic } /* Literal.String.Doc */\n",
              ".output_html .s2 { color: #BA2121 } /* Literal.String.Double */\n",
              ".output_html .se { color: #AA5D1F; font-weight: bold } /* Literal.String.Escape */\n",
              ".output_html .sh { color: #BA2121 } /* Literal.String.Heredoc */\n",
              ".output_html .si { color: #A45A77; font-weight: bold } /* Literal.String.Interpol */\n",
              ".output_html .sx { color: #008000 } /* Literal.String.Other */\n",
              ".output_html .sr { color: #A45A77 } /* Literal.String.Regex */\n",
              ".output_html .s1 { color: #BA2121 } /* Literal.String.Single */\n",
              ".output_html .ss { color: #19177C } /* Literal.String.Symbol */\n",
              ".output_html .bp { color: #008000 } /* Name.Builtin.Pseudo */\n",
              ".output_html .fm { color: #0000FF } /* Name.Function.Magic */\n",
              ".output_html .vc { color: #19177C } /* Name.Variable.Class */\n",
              ".output_html .vg { color: #19177C } /* Name.Variable.Global */\n",
              ".output_html .vi { color: #19177C } /* Name.Variable.Instance */\n",
              ".output_html .vm { color: #19177C } /* Name.Variable.Magic */\n",
              ".output_html .il { color: #666666 } /* Literal.Number.Integer.Long */</style><div class=\"highlight\"><pre><span></span><span class=\"nt\">import</span><span class=\"w\"> </span><span class=\"nt\">requests</span>\n",
              "<span class=\"nt\">from</span><span class=\"w\"> </span><span class=\"nt\">bs4</span><span class=\"w\"> </span><span class=\"nt\">import</span><span class=\"w\"> </span><span class=\"nt\">BeautifulSoup</span>\n",
              "\n",
              "<span class=\"err\">#</span><span class=\"w\"> </span><span class=\"nt\">Make</span><span class=\"w\"> </span><span class=\"nt\">get</span><span class=\"w\"> </span><span class=\"nt\">request</span><span class=\"w\"> </span><span class=\"nt\">to</span><span class=\"w\"> </span><span class=\"nt\">https</span><span class=\"o\">://</span><span class=\"nt\">colab</span><span class=\"p\">.</span><span class=\"nc\">research</span><span class=\"p\">.</span><span class=\"nc\">google</span><span class=\"p\">.</span><span class=\"nc\">com</span><span class=\"o\">/</span><span class=\"nt\">drive</span><span class=\"o\">/</span><span class=\"nt\">1mB2v-d72k5DJ2sXqm7GsaAZdWOJBmmof</span><span class=\"o\">?</span><span class=\"nt\">authuser</span><span class=\"o\">=</span><span class=\"nt\">1</span><span class=\"p\">#</span><span class=\"nn\">scrollTo</span><span class=\"o\">=</span><span class=\"nt\">9NgzJt0-FoNw</span>\n",
              "<span class=\"nt\">url</span><span class=\"w\"> </span><span class=\"o\">=</span><span class=\"w\"> </span><span class=\"s2\">&quot;https://colab.research.google.com/drive/1mB2v-d72k5DJ2sXqm7GsaAZdWOJBmmof?authuser=1#scrollTo=9NgzJt0-FoNw&quot;</span>\n",
              "<span class=\"nt\">response</span><span class=\"w\"> </span><span class=\"o\">=</span><span class=\"w\"> </span><span class=\"nt\">requests</span><span class=\"p\">.</span><span class=\"nc\">get</span><span class=\"o\">(</span><span class=\"nt\">url</span><span class=\"o\">)</span>\n",
              "\n",
              "<span class=\"err\">#</span><span class=\"w\"> </span><span class=\"nt\">Create</span><span class=\"w\"> </span><span class=\"nt\">a</span><span class=\"w\"> </span><span class=\"nt\">Beautiful</span><span class=\"w\"> </span><span class=\"nt\">soup</span><span class=\"w\"> </span><span class=\"nt\">class</span><span class=\"w\"> </span><span class=\"nt\">and</span><span class=\"w\"> </span><span class=\"nt\">find</span><span class=\"w\"> </span><span class=\"nt\">all</span><span class=\"w\"> </span><span class=\"nt\">the</span><span class=\"w\"> </span><span class=\"nt\">divs</span><span class=\"w\"> </span><span class=\"nt\">in</span><span class=\"w\"> </span><span class=\"nt\">it</span>\n",
              "<span class=\"nt\">soup</span><span class=\"w\"> </span><span class=\"o\">=</span><span class=\"w\"> </span><span class=\"nt\">BeautifulSoup</span><span class=\"o\">(</span><span class=\"nt\">response</span><span class=\"p\">.</span><span class=\"nc\">text</span><span class=\"o\">,</span><span class=\"w\"> </span><span class=\"s1\">&#39;html.parser&#39;</span><span class=\"o\">)</span>\n",
              "<span class=\"nt\">divs</span><span class=\"w\"> </span><span class=\"o\">=</span><span class=\"w\"> </span><span class=\"nt\">soup</span><span class=\"p\">.</span><span class=\"nc\">find_all</span><span class=\"o\">(</span><span class=\"s1\">&#39;div&#39;</span><span class=\"o\">)</span>\n",
              "\n",
              "<span class=\"err\">#</span><span class=\"w\"> </span><span class=\"nt\">Print</span><span class=\"w\"> </span><span class=\"nt\">the</span><span class=\"w\"> </span><span class=\"nt\">divs</span>\n",
              "<span class=\"nt\">for</span><span class=\"w\"> </span><span class=\"nt\">div</span><span class=\"w\"> </span><span class=\"nt\">in</span><span class=\"w\"> </span><span class=\"nt\">divs</span><span class=\"o\">:</span>\n",
              "<span class=\"w\">    </span><span class=\"nt\">print</span><span class=\"o\">(</span><span class=\"nt\">div</span><span class=\"o\">)</span>\n",
              "</pre></div>\n"
            ],
            "text/latex": [
              "\\begin{Verbatim}[commandchars=\\\\\\{\\}]\n",
              "\\PY{n+nt}{import}\\PY{+w}{ }\\PY{n+nt}{requests}\n",
              "\\PY{n+nt}{from}\\PY{+w}{ }\\PY{n+nt}{bs4}\\PY{+w}{ }\\PY{n+nt}{import}\\PY{+w}{ }\\PY{n+nt}{BeautifulSoup}\n",
              "\n",
              "\\PY{err}{\\PYZsh{}}\\PY{+w}{ }\\PY{n+nt}{Make}\\PY{+w}{ }\\PY{n+nt}{get}\\PY{+w}{ }\\PY{n+nt}{request}\\PY{+w}{ }\\PY{n+nt}{to}\\PY{+w}{ }\\PY{n+nt}{https}\\PY{o}{:}\\PY{o}{/}\\PY{o}{/}\\PY{n+nt}{colab}\\PY{p}{.}\\PY{n+nc}{research}\\PY{p}{.}\\PY{n+nc}{google}\\PY{p}{.}\\PY{n+nc}{com}\\PY{o}{/}\\PY{n+nt}{drive}\\PY{o}{/}\\PY{n+nt}{1mB2v\\PYZhy{}d72k5DJ2sXqm7GsaAZdWOJBmmof}\\PY{o}{?}\\PY{n+nt}{authuser}\\PY{o}{=}\\PY{n+nt}{1}\\PY{p}{\\PYZsh{}}\\PY{n+nn}{scrollTo}\\PY{o}{=}\\PY{n+nt}{9NgzJt0\\PYZhy{}FoNw}\n",
              "\\PY{n+nt}{url}\\PY{+w}{ }\\PY{o}{=}\\PY{+w}{ }\\PY{l+s+s2}{\\PYZdq{}https://colab.research.google.com/drive/1mB2v\\PYZhy{}d72k5DJ2sXqm7GsaAZdWOJBmmof?authuser=1\\PYZsh{}scrollTo=9NgzJt0\\PYZhy{}FoNw\\PYZdq{}}\n",
              "\\PY{n+nt}{response}\\PY{+w}{ }\\PY{o}{=}\\PY{+w}{ }\\PY{n+nt}{requests}\\PY{p}{.}\\PY{n+nc}{get}\\PY{o}{(}\\PY{n+nt}{url}\\PY{o}{)}\n",
              "\n",
              "\\PY{err}{\\PYZsh{}}\\PY{+w}{ }\\PY{n+nt}{Create}\\PY{+w}{ }\\PY{n+nt}{a}\\PY{+w}{ }\\PY{n+nt}{Beautiful}\\PY{+w}{ }\\PY{n+nt}{soup}\\PY{+w}{ }\\PY{n+nt}{class}\\PY{+w}{ }\\PY{n+nt}{and}\\PY{+w}{ }\\PY{n+nt}{find}\\PY{+w}{ }\\PY{n+nt}{all}\\PY{+w}{ }\\PY{n+nt}{the}\\PY{+w}{ }\\PY{n+nt}{divs}\\PY{+w}{ }\\PY{n+nt}{in}\\PY{+w}{ }\\PY{n+nt}{it}\n",
              "\\PY{n+nt}{soup}\\PY{+w}{ }\\PY{o}{=}\\PY{+w}{ }\\PY{n+nt}{BeautifulSoup}\\PY{o}{(}\\PY{n+nt}{response}\\PY{p}{.}\\PY{n+nc}{text}\\PY{o}{,}\\PY{+w}{ }\\PY{l+s+s1}{\\PYZsq{}html.parser\\PYZsq{}}\\PY{o}{)}\n",
              "\\PY{n+nt}{divs}\\PY{+w}{ }\\PY{o}{=}\\PY{+w}{ }\\PY{n+nt}{soup}\\PY{p}{.}\\PY{n+nc}{find\\PYZus{}all}\\PY{o}{(}\\PY{l+s+s1}{\\PYZsq{}div\\PYZsq{}}\\PY{o}{)}\n",
              "\n",
              "\\PY{err}{\\PYZsh{}}\\PY{+w}{ }\\PY{n+nt}{Print}\\PY{+w}{ }\\PY{n+nt}{the}\\PY{+w}{ }\\PY{n+nt}{divs}\n",
              "\\PY{n+nt}{for}\\PY{+w}{ }\\PY{n+nt}{div}\\PY{+w}{ }\\PY{n+nt}{in}\\PY{+w}{ }\\PY{n+nt}{divs}\\PY{o}{:}\n",
              "\\PY{+w}{    }\\PY{n+nt}{print}\\PY{o}{(}\\PY{n+nt}{div}\\PY{o}{)}\n",
              "\\end{Verbatim}\n"
            ],
            "text/plain": [
              "\n",
              "\n",
              "import requests\n",
              "from bs4 import BeautifulSoup\n",
              "\n",
              "# Make get request to https://colab.research.google.com/drive/1mB2v-d72k5DJ2sXqm7GsaAZdWOJBmmof?authuser=1#scrollTo=9NgzJt0-FoNw\n",
              "url = \"https://colab.research.google.com/drive/1mB2v-d72k5DJ2sXqm7GsaAZdWOJBmmof?authuser=1#scrollTo=9NgzJt0-FoNw\"\n",
              "response = requests.get(url)\n",
              "\n",
              "# Create a Beautiful soup class and find all the divs in it\n",
              "soup = BeautifulSoup(response.text, 'html.parser')\n",
              "divs = soup.find_all('div')\n",
              "\n",
              "# Print the divs\n",
              "for div in divs:\n",
              "    print(div)\n"
            ]
          },
          "metadata": {},
          "output_type": "display_data"
        }
      ],
      "source": [
        "pip_flow.plan_to_code()"
      ]
    },
    {
      "cell_type": "markdown",
      "metadata": {
        "id": "hna91eZbEfrn"
      },
      "source": [
        "### Another Plan example"
      ]
    },
    {
      "cell_type": "code",
      "execution_count": 18,
      "metadata": {
        "colab": {
          "base_uri": "https://localhost:8080/"
        },
        "id": "PKT7sfG7EhrV",
        "outputId": "f5b71f7e-a747-4ce1-85f1-f35a9d4ca735"
      },
      "outputs": [
        {
          "name": "stdout",
          "output_type": "stream",
          "text": [
            "{\n",
            "    \"tasks\": [\n",
            "        {\n",
            "            \"task_id\": 1,\n",
            "            \"function_name\": \"read_csv\",\n",
            "            \"parameters\": [\n",
            "                {\n",
            "                    \"name\": \"filepath_or_buffer\",\n",
            "                    \"value\": \"a.csv\",\n",
            "                    \"description\": \"Path to the CSV file to be read\",\n",
            "                    \"dtype\": \"str\"\n",
            "                }\n",
            "            ],\n",
            "            \"outputs\": [\n",
            "                \"variable_1\"\n",
            "            ],\n",
            "            \"description\": \"Reads a CSV file and converts it into a DataFrame.\"\n",
            "        },\n",
            "        {\n",
            "            \"task_id\": 2,\n",
            "            \"function_name\": \"describe\",\n",
            "            \"parameters\": [\n",
            "                {\n",
            "                    \"name\": \"self\",\n",
            "                    \"value\": \"variable_1\",\n",
            "                    \"description\": \"DataFrame to describe\",\n",
            "                    \"dtype\": \"DataFrame\"\n",
            "                },\n",
            "                {\n",
            "                    \"name\": \"percentiles\",\n",
            "                    \"value\": \"[\\\".25\\\", \\\".50\\\", \\\".75\\\"]\",\n",
            "                    \"description\": \"Percentiles to describe\",\n",
            "                    \"dtype\": \"list of str\"\n",
            "                }\n",
            "            ],\n",
            "            \"outputs\": [\n",
            "                \"variable_2\"\n",
            "            ],\n",
            "            \"description\": \"Describes the given percentiles in the DataFrame.\"\n",
            "        }\n",
            "    ]\n",
            "}\n"
          ]
        }
      ],
      "source": [
        "import pandas\n",
        "\n",
        "pip_flow = PipFlow(device = 'cloud', model_key = \"PipableAI/pip-code-bandit\")\n",
        "\n",
        "functions = [\n",
        "pandas.read_csv, pandas.DataFrame.describe,\n",
        "]\n",
        "\n",
        "pip_flow.add_callables(\n",
        "    functions, generate_docs=False\n",
        ")\n",
        "\n",
        "question = \"\"\"\n",
        "read a.csv and describe the .25, .50 and .75 percentiles in it.\n",
        "\"\"\"\n",
        "\n",
        "plan = pip_flow.generate_plan(question)"
      ]
    },
    {
      "cell_type": "code",
      "execution_count": null,
      "metadata": {
        "colab": {
          "base_uri": "https://localhost:8080/",
          "height": 699
        },
        "id": "4KTGUIOgElqF",
        "outputId": "583b79be-4acc-4061-e142-eb7db6efc54c"
      },
      "outputs": [],
      "source": [
        "# pip_flow.visualise_plan()"
      ]
    },
    {
      "cell_type": "code",
      "execution_count": 19,
      "metadata": {
        "colab": {
          "base_uri": "https://localhost:8080/",
          "height": 272
        },
        "id": "xbfmLSfwEm_e",
        "outputId": "a5697cf6-186d-4813-97ef-143b35f8d011"
      },
      "outputs": [
        {
          "data": {
            "text/html": [
              "<style>pre { line-height: 125%; }\n",
              "td.linenos .normal { color: inherit; background-color: transparent; padding-left: 5px; padding-right: 5px; }\n",
              "span.linenos { color: inherit; background-color: transparent; padding-left: 5px; padding-right: 5px; }\n",
              "td.linenos .special { color: #000000; background-color: #ffffc0; padding-left: 5px; padding-right: 5px; }\n",
              "span.linenos.special { color: #000000; background-color: #ffffc0; padding-left: 5px; padding-right: 5px; }\n",
              ".output_html .hll { background-color: #ffffcc }\n",
              ".output_html { background: #f8f8f8; }\n",
              ".output_html .c { color: #3D7B7B; font-style: italic } /* Comment */\n",
              ".output_html .err { border: 1px solid #FF0000 } /* Error */\n",
              ".output_html .k { color: #008000; font-weight: bold } /* Keyword */\n",
              ".output_html .o { color: #666666 } /* Operator */\n",
              ".output_html .ch { color: #3D7B7B; font-style: italic } /* Comment.Hashbang */\n",
              ".output_html .cm { color: #3D7B7B; font-style: italic } /* Comment.Multiline */\n",
              ".output_html .cp { color: #9C6500 } /* Comment.Preproc */\n",
              ".output_html .cpf { color: #3D7B7B; font-style: italic } /* Comment.PreprocFile */\n",
              ".output_html .c1 { color: #3D7B7B; font-style: italic } /* Comment.Single */\n",
              ".output_html .cs { color: #3D7B7B; font-style: italic } /* Comment.Special */\n",
              ".output_html .gd { color: #A00000 } /* Generic.Deleted */\n",
              ".output_html .ge { font-style: italic } /* Generic.Emph */\n",
              ".output_html .ges { font-weight: bold; font-style: italic } /* Generic.EmphStrong */\n",
              ".output_html .gr { color: #E40000 } /* Generic.Error */\n",
              ".output_html .gh { color: #000080; font-weight: bold } /* Generic.Heading */\n",
              ".output_html .gi { color: #008400 } /* Generic.Inserted */\n",
              ".output_html .go { color: #717171 } /* Generic.Output */\n",
              ".output_html .gp { color: #000080; font-weight: bold } /* Generic.Prompt */\n",
              ".output_html .gs { font-weight: bold } /* Generic.Strong */\n",
              ".output_html .gu { color: #800080; font-weight: bold } /* Generic.Subheading */\n",
              ".output_html .gt { color: #0044DD } /* Generic.Traceback */\n",
              ".output_html .kc { color: #008000; font-weight: bold } /* Keyword.Constant */\n",
              ".output_html .kd { color: #008000; font-weight: bold } /* Keyword.Declaration */\n",
              ".output_html .kn { color: #008000; font-weight: bold } /* Keyword.Namespace */\n",
              ".output_html .kp { color: #008000 } /* Keyword.Pseudo */\n",
              ".output_html .kr { color: #008000; font-weight: bold } /* Keyword.Reserved */\n",
              ".output_html .kt { color: #B00040 } /* Keyword.Type */\n",
              ".output_html .m { color: #666666 } /* Literal.Number */\n",
              ".output_html .s { color: #BA2121 } /* Literal.String */\n",
              ".output_html .na { color: #687822 } /* Name.Attribute */\n",
              ".output_html .nb { color: #008000 } /* Name.Builtin */\n",
              ".output_html .nc { color: #0000FF; font-weight: bold } /* Name.Class */\n",
              ".output_html .no { color: #880000 } /* Name.Constant */\n",
              ".output_html .nd { color: #AA22FF } /* Name.Decorator */\n",
              ".output_html .ni { color: #717171; font-weight: bold } /* Name.Entity */\n",
              ".output_html .ne { color: #CB3F38; font-weight: bold } /* Name.Exception */\n",
              ".output_html .nf { color: #0000FF } /* Name.Function */\n",
              ".output_html .nl { color: #767600 } /* Name.Label */\n",
              ".output_html .nn { color: #0000FF; font-weight: bold } /* Name.Namespace */\n",
              ".output_html .nt { color: #008000; font-weight: bold } /* Name.Tag */\n",
              ".output_html .nv { color: #19177C } /* Name.Variable */\n",
              ".output_html .ow { color: #AA22FF; font-weight: bold } /* Operator.Word */\n",
              ".output_html .w { color: #bbbbbb } /* Text.Whitespace */\n",
              ".output_html .mb { color: #666666 } /* Literal.Number.Bin */\n",
              ".output_html .mf { color: #666666 } /* Literal.Number.Float */\n",
              ".output_html .mh { color: #666666 } /* Literal.Number.Hex */\n",
              ".output_html .mi { color: #666666 } /* Literal.Number.Integer */\n",
              ".output_html .mo { color: #666666 } /* Literal.Number.Oct */\n",
              ".output_html .sa { color: #BA2121 } /* Literal.String.Affix */\n",
              ".output_html .sb { color: #BA2121 } /* Literal.String.Backtick */\n",
              ".output_html .sc { color: #BA2121 } /* Literal.String.Char */\n",
              ".output_html .dl { color: #BA2121 } /* Literal.String.Delimiter */\n",
              ".output_html .sd { color: #BA2121; font-style: italic } /* Literal.String.Doc */\n",
              ".output_html .s2 { color: #BA2121 } /* Literal.String.Double */\n",
              ".output_html .se { color: #AA5D1F; font-weight: bold } /* Literal.String.Escape */\n",
              ".output_html .sh { color: #BA2121 } /* Literal.String.Heredoc */\n",
              ".output_html .si { color: #A45A77; font-weight: bold } /* Literal.String.Interpol */\n",
              ".output_html .sx { color: #008000 } /* Literal.String.Other */\n",
              ".output_html .sr { color: #A45A77 } /* Literal.String.Regex */\n",
              ".output_html .s1 { color: #BA2121 } /* Literal.String.Single */\n",
              ".output_html .ss { color: #19177C } /* Literal.String.Symbol */\n",
              ".output_html .bp { color: #008000 } /* Name.Builtin.Pseudo */\n",
              ".output_html .fm { color: #0000FF } /* Name.Function.Magic */\n",
              ".output_html .vc { color: #19177C } /* Name.Variable.Class */\n",
              ".output_html .vg { color: #19177C } /* Name.Variable.Global */\n",
              ".output_html .vi { color: #19177C } /* Name.Variable.Instance */\n",
              ".output_html .vm { color: #19177C } /* Name.Variable.Magic */\n",
              ".output_html .il { color: #666666 } /* Literal.Number.Integer.Long */</style><div class=\"highlight\"><pre><span></span><span class=\"nt\">import</span><span class=\"w\"> </span><span class=\"nt\">pandas</span><span class=\"w\"> </span><span class=\"nt\">as</span><span class=\"w\"> </span><span class=\"nt\">pd</span>\n",
              "\n",
              "<span class=\"err\">#</span><span class=\"w\"> </span><span class=\"nt\">Read</span><span class=\"w\"> </span><span class=\"nt\">the</span><span class=\"w\"> </span><span class=\"nt\">CSV</span><span class=\"w\"> </span><span class=\"nt\">file</span>\n",
              "<span class=\"nt\">try</span><span class=\"o\">:</span>\n",
              "<span class=\"w\">    </span><span class=\"nt\">df</span><span class=\"w\"> </span><span class=\"o\">=</span><span class=\"w\"> </span><span class=\"nt\">pd</span><span class=\"p\">.</span><span class=\"nc\">read_csv</span><span class=\"o\">(</span><span class=\"s1\">&#39;a.csv&#39;</span><span class=\"o\">)</span>\n",
              "<span class=\"nt\">except</span><span class=\"w\"> </span><span class=\"nt\">Exception</span><span class=\"w\"> </span><span class=\"nt\">as</span><span class=\"w\"> </span><span class=\"nt\">e</span><span class=\"o\">:</span>\n",
              "<span class=\"w\">    </span><span class=\"nt\">print</span><span class=\"o\">(</span><span class=\"nt\">f</span><span class=\"s2\">&quot;An error occurred: {e}&quot;</span><span class=\"o\">)</span>\n",
              "\n",
              "<span class=\"err\">#</span><span class=\"w\"> </span><span class=\"nt\">Describe</span><span class=\"w\"> </span><span class=\"nt\">the</span><span class=\"w\"> </span><span class=\"nt\">percentiles</span>\n",
              "<span class=\"nt\">try</span><span class=\"o\">:</span>\n",
              "<span class=\"w\">    </span><span class=\"nt\">df_described</span><span class=\"w\"> </span><span class=\"o\">=</span><span class=\"w\"> </span><span class=\"nt\">df</span><span class=\"p\">.</span><span class=\"nc\">describe</span><span class=\"o\">(</span><span class=\"nt\">percentiles</span><span class=\"o\">=[</span><span class=\"s2\">&quot;.25&quot;</span><span class=\"o\">,</span><span class=\"w\"> </span><span class=\"s2\">&quot;.50&quot;</span><span class=\"o\">,</span><span class=\"w\"> </span><span class=\"s2\">&quot;.75&quot;</span><span class=\"o\">])</span>\n",
              "<span class=\"w\">    </span><span class=\"nt\">print</span><span class=\"o\">(</span><span class=\"nt\">df_described</span><span class=\"o\">)</span>\n",
              "<span class=\"nt\">except</span><span class=\"w\"> </span><span class=\"nt\">Exception</span><span class=\"w\"> </span><span class=\"nt\">as</span><span class=\"w\"> </span><span class=\"nt\">e</span><span class=\"o\">:</span>\n",
              "<span class=\"w\">    </span><span class=\"nt\">print</span><span class=\"o\">(</span><span class=\"nt\">f</span><span class=\"s2\">&quot;An error occurred: {e}&quot;</span><span class=\"o\">)</span>\n",
              "</pre></div>\n"
            ],
            "text/latex": [
              "\\begin{Verbatim}[commandchars=\\\\\\{\\}]\n",
              "\\PY{n+nt}{import}\\PY{+w}{ }\\PY{n+nt}{pandas}\\PY{+w}{ }\\PY{n+nt}{as}\\PY{+w}{ }\\PY{n+nt}{pd}\n",
              "\n",
              "\\PY{err}{\\PYZsh{}}\\PY{+w}{ }\\PY{n+nt}{Read}\\PY{+w}{ }\\PY{n+nt}{the}\\PY{+w}{ }\\PY{n+nt}{CSV}\\PY{+w}{ }\\PY{n+nt}{file}\n",
              "\\PY{n+nt}{try}\\PY{o}{:}\n",
              "\\PY{+w}{    }\\PY{n+nt}{df}\\PY{+w}{ }\\PY{o}{=}\\PY{+w}{ }\\PY{n+nt}{pd}\\PY{p}{.}\\PY{n+nc}{read\\PYZus{}csv}\\PY{o}{(}\\PY{l+s+s1}{\\PYZsq{}a.csv\\PYZsq{}}\\PY{o}{)}\n",
              "\\PY{n+nt}{except}\\PY{+w}{ }\\PY{n+nt}{Exception}\\PY{+w}{ }\\PY{n+nt}{as}\\PY{+w}{ }\\PY{n+nt}{e}\\PY{o}{:}\n",
              "\\PY{+w}{    }\\PY{n+nt}{print}\\PY{o}{(}\\PY{n+nt}{f}\\PY{l+s+s2}{\\PYZdq{}An error occurred: \\PYZob{}e\\PYZcb{}\\PYZdq{}}\\PY{o}{)}\n",
              "\n",
              "\\PY{err}{\\PYZsh{}}\\PY{+w}{ }\\PY{n+nt}{Describe}\\PY{+w}{ }\\PY{n+nt}{the}\\PY{+w}{ }\\PY{n+nt}{percentiles}\n",
              "\\PY{n+nt}{try}\\PY{o}{:}\n",
              "\\PY{+w}{    }\\PY{n+nt}{df\\PYZus{}described}\\PY{+w}{ }\\PY{o}{=}\\PY{+w}{ }\\PY{n+nt}{df}\\PY{p}{.}\\PY{n+nc}{describe}\\PY{o}{(}\\PY{n+nt}{percentiles}\\PY{o}{=}\\PY{o}{[}\\PY{l+s+s2}{\\PYZdq{}.25\\PYZdq{}}\\PY{o}{,}\\PY{+w}{ }\\PY{l+s+s2}{\\PYZdq{}.50\\PYZdq{}}\\PY{o}{,}\\PY{+w}{ }\\PY{l+s+s2}{\\PYZdq{}.75\\PYZdq{}}\\PY{o}{]}\\PY{o}{)}\n",
              "\\PY{+w}{    }\\PY{n+nt}{print}\\PY{o}{(}\\PY{n+nt}{df\\PYZus{}described}\\PY{o}{)}\n",
              "\\PY{n+nt}{except}\\PY{+w}{ }\\PY{n+nt}{Exception}\\PY{+w}{ }\\PY{n+nt}{as}\\PY{+w}{ }\\PY{n+nt}{e}\\PY{o}{:}\n",
              "\\PY{+w}{    }\\PY{n+nt}{print}\\PY{o}{(}\\PY{n+nt}{f}\\PY{l+s+s2}{\\PYZdq{}An error occurred: \\PYZob{}e\\PYZcb{}\\PYZdq{}}\\PY{o}{)}\n",
              "\\end{Verbatim}\n"
            ],
            "text/plain": [
              "\n",
              "\n",
              "import pandas as pd\n",
              "\n",
              "# Read the CSV file\n",
              "try:\n",
              "    df = pd.read_csv('a.csv')\n",
              "except Exception as e:\n",
              "    print(f\"An error occurred: {e}\")\n",
              "\n",
              "# Describe the percentiles\n",
              "try:\n",
              "    df_described = df.describe(percentiles=[\".25\", \".50\", \".75\"])\n",
              "    print(df_described)\n",
              "except Exception as e:\n",
              "    print(f\"An error occurred: {e}\")\n"
            ]
          },
          "metadata": {},
          "output_type": "display_data"
        }
      ],
      "source": [
        "pip_flow.plan_to_code()"
      ]
    },
    {
      "cell_type": "markdown",
      "metadata": {
        "id": "urP-5X_FWwgo"
      },
      "source": [
        "### Create Custom Plan Templates"
      ]
    },
    {
      "cell_type": "markdown",
      "metadata": {
        "id": "A67LDBhzWwgp"
      },
      "source": [
        "#### Register template with a unique name"
      ]
    },
    {
      "cell_type": "code",
      "execution_count": null,
      "metadata": {
        "colab": {
          "base_uri": "https://localhost:8080/"
        },
        "id": "Us_vyoy_Wwgp",
        "outputId": "d0fb7d95-4a21-4d7c-ab4a-8e651ebf0aff"
      },
      "outputs": [],
      "source": [
        "prompt = \"\"\"\n",
        "<functions>\n",
        "{func_info}\n",
        "</functions>\n",
        "<json_structure>\n",
        "{{\n",
        "  \"tasks\": [\n",
        "    {{\n",
        "      \"task_id\": 1,\n",
        "      \"function_name\": \"function name\",\n",
        "      \"parameters\": [\n",
        "        {{\n",
        "        \"name\":\"name of this parameter according to annotations.\",\n",
        "        \"value\":\"value to be passed for this parameter\",\n",
        "        \"dtype\":\"type annotation of the variable\",\n",
        "        \"description\": \"An explanation of why this value should be utilized.\"\n",
        "        }},\n",
        "        {{\n",
        "        \"name\":\"self\",\n",
        "        \"value\":\"variable name to be passed for this parameter self.\",\n",
        "        \"dtype\":\"type annotation of the self parameter\",\n",
        "        \"description\": \"An explanation of why the cariable should be used for this self parameter.\"\n",
        "        }}\n",
        "      ],\n",
        "      \"outputs\": [\"variable_1\"],\n",
        "      \"description\": \"some description\"\n",
        "    }},\n",
        "    {{\n",
        "      \"task_id\": 2,\n",
        "      \"function_name\": \"function name\",\n",
        "      \"parameters\": [\n",
        "        {{\n",
        "        \"name\":\"self\",\n",
        "        \"value\":\"variable name to be passed for this parameter self.\",\n",
        "        \"dtype\":\"type annotation of the self parameter\",\n",
        "        \"description\": \"An explanation of why the cariable should be used for this self parameter.\"\n",
        "        }},\n",
        "        {{,\n",
        "        \"name\":\"name of this parameter according to annotations.\",\n",
        "        \"value\":\"value to be passed for this parameter\",\n",
        "        \"dtype\":\"type annotation of the variable\",\n",
        "        \"description\": \"An explanation of why this value should be utilized.\"\n",
        "        }}\n",
        "      ],\n",
        "      \"outputs\": [\"variable_2\"],\n",
        "      \"description\": \"some description\"\n",
        "    }}\n",
        "  ]\n",
        "}}\n",
        "</json_structure>\n",
        "<instructions>\n",
        "- use self parameter with proper value based on the question.\n",
        "- name outputs as variable_1 , variable_2 , variable_3 , variable_4 and more variables in chronological order.\n",
        "- give attention to the type annotation of the parameter given while filling values.\n",
        "{instructions}\n",
        "</instructions>\n",
        "<question>\n",
        "Given the above functions,\n",
        "- Do not give the parameters in json which have null values and default values of the function, only give the sequencial function calls with parameters to execute the below question:\n",
        "{question}\n",
        "</question>\n",
        "\"\"\"\n",
        "\n",
        "pip_flow.add_plan_template(\"template_name\", prompt)\n",
        "\n",
        "for template_name in pip_flow.prompt_templates.keys():\n",
        "  print(f\"Template Name : {template_name}\")\n"
      ]
    },
    {
      "cell_type": "markdown",
      "metadata": {
        "id": "Jp5eu3VpWwgp"
      },
      "source": [
        "#### Load templates from JSON file"
      ]
    },
    {
      "cell_type": "code",
      "execution_count": null,
      "metadata": {
        "colab": {
          "base_uri": "https://localhost:8080/"
        },
        "id": "j-3OC1CRWwgp",
        "outputId": "90d1be07-905e-4431-c60d-64046e31bca0"
      },
      "outputs": [],
      "source": [
        "pip_flow.load_templates(filepath=\"templates.json\")\n",
        "\n",
        "for template_name in pip_flow.prompt_templates.keys():\n",
        "  print(f\"Template Name : {template_name}\")"
      ]
    },
    {
      "cell_type": "markdown",
      "metadata": {
        "id": "vaEZRBmQWwgp"
      },
      "source": [
        "#### Update Configurations in Templates\n",
        "\n",
        "- When we create a plan using `generate_plan`, the latest base template and configs are used to substitute the values in the selected template.\n",
        "\n",
        "- We can override that with the `make_live_prompt` function."
      ]
    },
    {
      "cell_type": "code",
      "execution_count": null,
      "metadata": {
        "colab": {
          "base_uri": "https://localhost:8080/",
          "height": 35
        },
        "id": "CIOpnFuKWwgp",
        "outputId": "5ec12366-f75d-4e31-8910-175344eb9af7"
      },
      "outputs": [],
      "source": [
        "functions = [requests.get, BeautifulSoup]\n",
        "config = {\n",
        "    \"func_info\": str(\n",
        "        [\n",
        "            f\"--name:{function.__name__}\\n--annotations:{function.__annotations__}\\n--doc:{function.__doc__}\\n\\n\"\n",
        "            for function in functions\n",
        "        ]\n",
        "    ),\n",
        "    \"function_list\": [function.__name__ for function in functions],\n",
        "    \"instructions\": \"Some new Instruction\",\n",
        "}\n",
        "\n",
        "\n",
        "template_name = \"default\"\n",
        "\n",
        "pip_flow.freeze_template(template_name, config)"
      ]
    },
    {
      "cell_type": "code",
      "execution_count": null,
      "metadata": {
        "colab": {
          "base_uri": "https://localhost:8080/"
        },
        "id": "UXWhleugWwgp",
        "outputId": "89428d39-67e1-4805-ec89-0f75c270631a"
      },
      "outputs": [],
      "source": [
        "print(pip_flow.latest_base_prompt)"
      ]
    },
    {
      "cell_type": "code",
      "execution_count": null,
      "metadata": {
        "colab": {
          "base_uri": "https://localhost:8080/"
        },
        "id": "iKx-pF1jWwgp",
        "outputId": "054b0de0-bb64-4f05-b87a-b412bf6597ac"
      },
      "outputs": [],
      "source": [
        "pip_flow.latest_configs\n"
      ]
    },
    {
      "cell_type": "code",
      "execution_count": null,
      "metadata": {
        "colab": {
          "base_uri": "https://localhost:8080/"
        },
        "id": "Z-ECNdyUWwgq",
        "outputId": "78d93de1-54e9-4fd6-ab49-30f1b0a14e7d"
      },
      "outputs": [],
      "source": [
        "question = \"\"\"\n",
        "Make get request to https://colab.research.google.com/drive/1mB2v-d72k5DJ2sXqm7GsaAZdWOJBmmof?authuser=1#scrollTo=9NgzJt0-FoNw,\n",
        "Create Beautiful soup class using it\n",
        "\"\"\"\n",
        "\n",
        "plan = pip_flow.generate_plan(question)"
      ]
    },
    {
      "cell_type": "code",
      "execution_count": null,
      "metadata": {
        "colab": {
          "base_uri": "https://localhost:8080/",
          "height": 699
        },
        "id": "3o2v9Rq3OXkE",
        "outputId": "4c793de9-ae83-469d-e625-091e4706851d"
      },
      "outputs": [],
      "source": [
        "pip_flow.visualise_plan()"
      ]
    },
    {
      "cell_type": "code",
      "execution_count": null,
      "metadata": {
        "colab": {
          "base_uri": "https://localhost:8080/",
          "height": 255
        },
        "id": "nCIzM-DUOqxK",
        "outputId": "825f207a-0690-4421-d2c8-a2cb7965b080"
      },
      "outputs": [],
      "source": [
        "pip_flow.plan_to_code()"
      ]
    },
    {
      "cell_type": "markdown",
      "metadata": {
        "id": "QPzXX1CfUIKM"
      },
      "source": [
        "## Generate Docs\n",
        "\n",
        "This code snippet demonstrates how to utilize the PipFlow class from the pip_flow module to automatically generate a docstring for a given Python code snippet / Function."
      ]
    },
    {
      "cell_type": "markdown",
      "metadata": {
        "id": "mtX4pM07UIKM"
      },
      "source": [
        "#### Code"
      ]
    },
    {
      "cell_type": "code",
      "execution_count": null,
      "metadata": {
        "colab": {
          "base_uri": "https://localhost:8080/",
          "height": 275
        },
        "id": "FVRyh_mTUIKM",
        "outputId": "f46db069-c6fd-41cd-ef23-f8843024b715"
      },
      "outputs": [],
      "source": [
        "# code with syntax error\n",
        "code = \"\"\"\n",
        "def add_numbers(a: float, b:float):\n",
        "    return a + b\n",
        "\"\"\"\n",
        "\n",
        "docs = pip_flow.generate_docs(code=code)"
      ]
    },
    {
      "cell_type": "markdown",
      "metadata": {
        "id": "f1uRzw5z7Y-1"
      },
      "source": [
        "#### Function"
      ]
    },
    {
      "cell_type": "code",
      "execution_count": null,
      "metadata": {
        "colab": {
          "base_uri": "https://localhost:8080/",
          "height": 503
        },
        "id": "i6ClA2-nWwgm",
        "outputId": "97a79462-da27-4783-d742-bd4b91d8058d"
      },
      "outputs": [],
      "source": [
        "import requests\n",
        "\n",
        "docs = pip_flow.generate_docs(requests.post)"
      ]
    },
    {
      "cell_type": "markdown",
      "metadata": {
        "id": "6zlTqxDfT10f"
      },
      "source": [
        "## Generate SQL\n",
        "\n",
        "In this example, we will attempt to generate a SQL query. We will explore various examples demonstrating how to utilize instructions and examples for a more precise and accurate response."
      ]
    },
    {
      "cell_type": "code",
      "execution_count": 11,
      "metadata": {
        "colab": {
          "base_uri": "https://localhost:8080/",
          "height": 34
        },
        "id": "duLDz28iT10g",
        "outputId": "a2dfa39e-7bcc-4827-c7e6-7d89c03bfa64"
      },
      "outputs": [
        {
          "data": {
            "text/html": [
              "<style>pre { line-height: 125%; }\n",
              "td.linenos .normal { color: inherit; background-color: transparent; padding-left: 5px; padding-right: 5px; }\n",
              "span.linenos { color: inherit; background-color: transparent; padding-left: 5px; padding-right: 5px; }\n",
              "td.linenos .special { color: #000000; background-color: #ffffc0; padding-left: 5px; padding-right: 5px; }\n",
              "span.linenos.special { color: #000000; background-color: #ffffc0; padding-left: 5px; padding-right: 5px; }\n",
              ".output_html .hll { background-color: #ffffcc }\n",
              ".output_html { background: #f8f8f8; }\n",
              ".output_html .c { color: #3D7B7B; font-style: italic } /* Comment */\n",
              ".output_html .err { border: 1px solid #FF0000 } /* Error */\n",
              ".output_html .k { color: #008000; font-weight: bold } /* Keyword */\n",
              ".output_html .o { color: #666666 } /* Operator */\n",
              ".output_html .ch { color: #3D7B7B; font-style: italic } /* Comment.Hashbang */\n",
              ".output_html .cm { color: #3D7B7B; font-style: italic } /* Comment.Multiline */\n",
              ".output_html .cp { color: #9C6500 } /* Comment.Preproc */\n",
              ".output_html .cpf { color: #3D7B7B; font-style: italic } /* Comment.PreprocFile */\n",
              ".output_html .c1 { color: #3D7B7B; font-style: italic } /* Comment.Single */\n",
              ".output_html .cs { color: #3D7B7B; font-style: italic } /* Comment.Special */\n",
              ".output_html .gd { color: #A00000 } /* Generic.Deleted */\n",
              ".output_html .ge { font-style: italic } /* Generic.Emph */\n",
              ".output_html .ges { font-weight: bold; font-style: italic } /* Generic.EmphStrong */\n",
              ".output_html .gr { color: #E40000 } /* Generic.Error */\n",
              ".output_html .gh { color: #000080; font-weight: bold } /* Generic.Heading */\n",
              ".output_html .gi { color: #008400 } /* Generic.Inserted */\n",
              ".output_html .go { color: #717171 } /* Generic.Output */\n",
              ".output_html .gp { color: #000080; font-weight: bold } /* Generic.Prompt */\n",
              ".output_html .gs { font-weight: bold } /* Generic.Strong */\n",
              ".output_html .gu { color: #800080; font-weight: bold } /* Generic.Subheading */\n",
              ".output_html .gt { color: #0044DD } /* Generic.Traceback */\n",
              ".output_html .kc { color: #008000; font-weight: bold } /* Keyword.Constant */\n",
              ".output_html .kd { color: #008000; font-weight: bold } /* Keyword.Declaration */\n",
              ".output_html .kn { color: #008000; font-weight: bold } /* Keyword.Namespace */\n",
              ".output_html .kp { color: #008000 } /* Keyword.Pseudo */\n",
              ".output_html .kr { color: #008000; font-weight: bold } /* Keyword.Reserved */\n",
              ".output_html .kt { color: #B00040 } /* Keyword.Type */\n",
              ".output_html .m { color: #666666 } /* Literal.Number */\n",
              ".output_html .s { color: #BA2121 } /* Literal.String */\n",
              ".output_html .na { color: #687822 } /* Name.Attribute */\n",
              ".output_html .nb { color: #008000 } /* Name.Builtin */\n",
              ".output_html .nc { color: #0000FF; font-weight: bold } /* Name.Class */\n",
              ".output_html .no { color: #880000 } /* Name.Constant */\n",
              ".output_html .nd { color: #AA22FF } /* Name.Decorator */\n",
              ".output_html .ni { color: #717171; font-weight: bold } /* Name.Entity */\n",
              ".output_html .ne { color: #CB3F38; font-weight: bold } /* Name.Exception */\n",
              ".output_html .nf { color: #0000FF } /* Name.Function */\n",
              ".output_html .nl { color: #767600 } /* Name.Label */\n",
              ".output_html .nn { color: #0000FF; font-weight: bold } /* Name.Namespace */\n",
              ".output_html .nt { color: #008000; font-weight: bold } /* Name.Tag */\n",
              ".output_html .nv { color: #19177C } /* Name.Variable */\n",
              ".output_html .ow { color: #AA22FF; font-weight: bold } /* Operator.Word */\n",
              ".output_html .w { color: #bbbbbb } /* Text.Whitespace */\n",
              ".output_html .mb { color: #666666 } /* Literal.Number.Bin */\n",
              ".output_html .mf { color: #666666 } /* Literal.Number.Float */\n",
              ".output_html .mh { color: #666666 } /* Literal.Number.Hex */\n",
              ".output_html .mi { color: #666666 } /* Literal.Number.Integer */\n",
              ".output_html .mo { color: #666666 } /* Literal.Number.Oct */\n",
              ".output_html .sa { color: #BA2121 } /* Literal.String.Affix */\n",
              ".output_html .sb { color: #BA2121 } /* Literal.String.Backtick */\n",
              ".output_html .sc { color: #BA2121 } /* Literal.String.Char */\n",
              ".output_html .dl { color: #BA2121 } /* Literal.String.Delimiter */\n",
              ".output_html .sd { color: #BA2121; font-style: italic } /* Literal.String.Doc */\n",
              ".output_html .s2 { color: #BA2121 } /* Literal.String.Double */\n",
              ".output_html .se { color: #AA5D1F; font-weight: bold } /* Literal.String.Escape */\n",
              ".output_html .sh { color: #BA2121 } /* Literal.String.Heredoc */\n",
              ".output_html .si { color: #A45A77; font-weight: bold } /* Literal.String.Interpol */\n",
              ".output_html .sx { color: #008000 } /* Literal.String.Other */\n",
              ".output_html .sr { color: #A45A77 } /* Literal.String.Regex */\n",
              ".output_html .s1 { color: #BA2121 } /* Literal.String.Single */\n",
              ".output_html .ss { color: #19177C } /* Literal.String.Symbol */\n",
              ".output_html .bp { color: #008000 } /* Name.Builtin.Pseudo */\n",
              ".output_html .fm { color: #0000FF } /* Name.Function.Magic */\n",
              ".output_html .vc { color: #19177C } /* Name.Variable.Class */\n",
              ".output_html .vg { color: #19177C } /* Name.Variable.Global */\n",
              ".output_html .vi { color: #19177C } /* Name.Variable.Instance */\n",
              ".output_html .vm { color: #19177C } /* Name.Variable.Magic */\n",
              ".output_html .il { color: #666666 } /* Literal.Number.Integer.Long */</style><div class=\"highlight\"><pre><span></span><span class=\"nt\">SELECT</span><span class=\"w\"> </span><span class=\"nt\">name</span><span class=\"w\"> </span><span class=\"nt\">FROM</span><span class=\"w\"> </span><span class=\"nt\">head</span><span class=\"w\"> </span><span class=\"nt\">WHERE</span><span class=\"w\"> </span><span class=\"nt\">born_state</span><span class=\"w\"> </span><span class=\"o\">!=</span><span class=\"w\"> </span><span class=\"s1\">&#39;California&#39;</span><span class=\"o\">;</span>\n",
              "</pre></div>\n"
            ],
            "text/latex": [
              "\\begin{Verbatim}[commandchars=\\\\\\{\\}]\n",
              "\\PY{n+nt}{SELECT}\\PY{+w}{ }\\PY{n+nt}{name}\\PY{+w}{ }\\PY{n+nt}{FROM}\\PY{+w}{ }\\PY{n+nt}{head}\\PY{+w}{ }\\PY{n+nt}{WHERE}\\PY{+w}{ }\\PY{n+nt}{born\\PYZus{}state}\\PY{+w}{ }\\PY{o}{!}\\PY{o}{=}\\PY{+w}{ }\\PY{l+s+s1}{\\PYZsq{}California\\PYZsq{}}\\PY{o}{;}\n",
              "\\end{Verbatim}\n"
            ],
            "text/plain": [
              "\n",
              "SELECT name FROM head WHERE born_state != 'California';"
            ]
          },
          "metadata": {},
          "output_type": "display_data"
        }
      ],
      "source": [
        "schema = f\"\"\"\n",
        "CREATE TABLE department (Department_ID number,\n",
        "  Name text,\n",
        "  Creation text,\n",
        "  Ranking number,\n",
        "  Budget_in_Billions number,\n",
        "  Num_Employees number);\n",
        "\n",
        "CREATE TABLE head (head_ID number,\n",
        "  name text,\n",
        "  born_state text,\n",
        "  age number);\n",
        "\n",
        "CREATE TABLE management (department_ID number,\n",
        "  head_ID number,\n",
        "  temporary_acting text);\n",
        "\"\"\"\n",
        "\n",
        "question = \"What are the names of the heads who are born outside the California state ?\"\n",
        "\n",
        "query = pip_flow.generate_sql(\n",
        "    schema=schema, question=question,\n",
        ")"
      ]
    },
    {
      "cell_type": "markdown",
      "metadata": {
        "id": "x31l3NLNT10g"
      },
      "source": [
        "### Use of instructions parameter\n",
        "\n",
        "By utilizing the `instruction` parameter, you have the flexibility to provide supplementary context directly relevant to your question."
      ]
    },
    {
      "cell_type": "code",
      "execution_count": 12,
      "metadata": {
        "colab": {
          "base_uri": "https://localhost:8080/",
          "height": 34
        },
        "id": "BU7Gn6fWT10h",
        "outputId": "76949071-857a-45e9-d2e1-11225f0e03ec"
      },
      "outputs": [
        {
          "data": {
            "text/html": [
              "<style>pre { line-height: 125%; }\n",
              "td.linenos .normal { color: inherit; background-color: transparent; padding-left: 5px; padding-right: 5px; }\n",
              "span.linenos { color: inherit; background-color: transparent; padding-left: 5px; padding-right: 5px; }\n",
              "td.linenos .special { color: #000000; background-color: #ffffc0; padding-left: 5px; padding-right: 5px; }\n",
              "span.linenos.special { color: #000000; background-color: #ffffc0; padding-left: 5px; padding-right: 5px; }\n",
              ".output_html .hll { background-color: #ffffcc }\n",
              ".output_html { background: #f8f8f8; }\n",
              ".output_html .c { color: #3D7B7B; font-style: italic } /* Comment */\n",
              ".output_html .err { border: 1px solid #FF0000 } /* Error */\n",
              ".output_html .k { color: #008000; font-weight: bold } /* Keyword */\n",
              ".output_html .o { color: #666666 } /* Operator */\n",
              ".output_html .ch { color: #3D7B7B; font-style: italic } /* Comment.Hashbang */\n",
              ".output_html .cm { color: #3D7B7B; font-style: italic } /* Comment.Multiline */\n",
              ".output_html .cp { color: #9C6500 } /* Comment.Preproc */\n",
              ".output_html .cpf { color: #3D7B7B; font-style: italic } /* Comment.PreprocFile */\n",
              ".output_html .c1 { color: #3D7B7B; font-style: italic } /* Comment.Single */\n",
              ".output_html .cs { color: #3D7B7B; font-style: italic } /* Comment.Special */\n",
              ".output_html .gd { color: #A00000 } /* Generic.Deleted */\n",
              ".output_html .ge { font-style: italic } /* Generic.Emph */\n",
              ".output_html .ges { font-weight: bold; font-style: italic } /* Generic.EmphStrong */\n",
              ".output_html .gr { color: #E40000 } /* Generic.Error */\n",
              ".output_html .gh { color: #000080; font-weight: bold } /* Generic.Heading */\n",
              ".output_html .gi { color: #008400 } /* Generic.Inserted */\n",
              ".output_html .go { color: #717171 } /* Generic.Output */\n",
              ".output_html .gp { color: #000080; font-weight: bold } /* Generic.Prompt */\n",
              ".output_html .gs { font-weight: bold } /* Generic.Strong */\n",
              ".output_html .gu { color: #800080; font-weight: bold } /* Generic.Subheading */\n",
              ".output_html .gt { color: #0044DD } /* Generic.Traceback */\n",
              ".output_html .kc { color: #008000; font-weight: bold } /* Keyword.Constant */\n",
              ".output_html .kd { color: #008000; font-weight: bold } /* Keyword.Declaration */\n",
              ".output_html .kn { color: #008000; font-weight: bold } /* Keyword.Namespace */\n",
              ".output_html .kp { color: #008000 } /* Keyword.Pseudo */\n",
              ".output_html .kr { color: #008000; font-weight: bold } /* Keyword.Reserved */\n",
              ".output_html .kt { color: #B00040 } /* Keyword.Type */\n",
              ".output_html .m { color: #666666 } /* Literal.Number */\n",
              ".output_html .s { color: #BA2121 } /* Literal.String */\n",
              ".output_html .na { color: #687822 } /* Name.Attribute */\n",
              ".output_html .nb { color: #008000 } /* Name.Builtin */\n",
              ".output_html .nc { color: #0000FF; font-weight: bold } /* Name.Class */\n",
              ".output_html .no { color: #880000 } /* Name.Constant */\n",
              ".output_html .nd { color: #AA22FF } /* Name.Decorator */\n",
              ".output_html .ni { color: #717171; font-weight: bold } /* Name.Entity */\n",
              ".output_html .ne { color: #CB3F38; font-weight: bold } /* Name.Exception */\n",
              ".output_html .nf { color: #0000FF } /* Name.Function */\n",
              ".output_html .nl { color: #767600 } /* Name.Label */\n",
              ".output_html .nn { color: #0000FF; font-weight: bold } /* Name.Namespace */\n",
              ".output_html .nt { color: #008000; font-weight: bold } /* Name.Tag */\n",
              ".output_html .nv { color: #19177C } /* Name.Variable */\n",
              ".output_html .ow { color: #AA22FF; font-weight: bold } /* Operator.Word */\n",
              ".output_html .w { color: #bbbbbb } /* Text.Whitespace */\n",
              ".output_html .mb { color: #666666 } /* Literal.Number.Bin */\n",
              ".output_html .mf { color: #666666 } /* Literal.Number.Float */\n",
              ".output_html .mh { color: #666666 } /* Literal.Number.Hex */\n",
              ".output_html .mi { color: #666666 } /* Literal.Number.Integer */\n",
              ".output_html .mo { color: #666666 } /* Literal.Number.Oct */\n",
              ".output_html .sa { color: #BA2121 } /* Literal.String.Affix */\n",
              ".output_html .sb { color: #BA2121 } /* Literal.String.Backtick */\n",
              ".output_html .sc { color: #BA2121 } /* Literal.String.Char */\n",
              ".output_html .dl { color: #BA2121 } /* Literal.String.Delimiter */\n",
              ".output_html .sd { color: #BA2121; font-style: italic } /* Literal.String.Doc */\n",
              ".output_html .s2 { color: #BA2121 } /* Literal.String.Double */\n",
              ".output_html .se { color: #AA5D1F; font-weight: bold } /* Literal.String.Escape */\n",
              ".output_html .sh { color: #BA2121 } /* Literal.String.Heredoc */\n",
              ".output_html .si { color: #A45A77; font-weight: bold } /* Literal.String.Interpol */\n",
              ".output_html .sx { color: #008000 } /* Literal.String.Other */\n",
              ".output_html .sr { color: #A45A77 } /* Literal.String.Regex */\n",
              ".output_html .s1 { color: #BA2121 } /* Literal.String.Single */\n",
              ".output_html .ss { color: #19177C } /* Literal.String.Symbol */\n",
              ".output_html .bp { color: #008000 } /* Name.Builtin.Pseudo */\n",
              ".output_html .fm { color: #0000FF } /* Name.Function.Magic */\n",
              ".output_html .vc { color: #19177C } /* Name.Variable.Class */\n",
              ".output_html .vg { color: #19177C } /* Name.Variable.Global */\n",
              ".output_html .vi { color: #19177C } /* Name.Variable.Instance */\n",
              ".output_html .vm { color: #19177C } /* Name.Variable.Magic */\n",
              ".output_html .il { color: #666666 } /* Literal.Number.Integer.Long */</style><div class=\"highlight\"><pre><span></span><span class=\"nt\">SELECT</span><span class=\"w\"> </span><span class=\"nt\">Name</span><span class=\"w\"> </span><span class=\"nt\">FROM</span><span class=\"w\"> </span><span class=\"nt\">department</span><span class=\"w\"> </span><span class=\"nt\">WHERE</span><span class=\"w\"> </span><span class=\"nt\">Budget_in_Billions</span><span class=\"w\"> </span><span class=\"o\">&gt;</span><span class=\"w\"> </span><span class=\"nt\">3</span><span class=\"o\">;</span>\n",
              "</pre></div>\n"
            ],
            "text/latex": [
              "\\begin{Verbatim}[commandchars=\\\\\\{\\}]\n",
              "\\PY{n+nt}{SELECT}\\PY{+w}{ }\\PY{n+nt}{Name}\\PY{+w}{ }\\PY{n+nt}{FROM}\\PY{+w}{ }\\PY{n+nt}{department}\\PY{+w}{ }\\PY{n+nt}{WHERE}\\PY{+w}{ }\\PY{n+nt}{Budget\\PYZus{}in\\PYZus{}Billions}\\PY{+w}{ }\\PY{o}{\\PYZgt{}}\\PY{+w}{ }\\PY{n+nt}{3}\\PY{o}{;}\n",
              "\\end{Verbatim}\n"
            ],
            "text/plain": [
              "\n",
              "SELECT Name FROM department WHERE Budget_in_Billions > 3;"
            ]
          },
          "metadata": {},
          "output_type": "display_data"
        }
      ],
      "source": [
        "schema = f\"\"\"\n",
        "CREATE TABLE department (Department_ID number,\n",
        "  Name text,\n",
        "  Creation text,\n",
        "  Ranking number,\n",
        "  Budget_in_Billions number,\n",
        "  Num_Employees number);\n",
        "\n",
        "CREATE TABLE head (head_ID number,\n",
        "  name text,\n",
        "  born_state text,\n",
        "  age number);\n",
        "\n",
        "CREATE TABLE management (department_ID number,\n",
        "  head_ID number,\n",
        "  temporary_acting text);\n",
        "\"\"\"\n",
        "\n",
        "instructions = \"\"\"\n",
        "1. In department table, column Budget_in_Billions is in billions, so numeric 1 will represent 1 billion.\n",
        "\"\"\"\n",
        "\n",
        "question = \"What are the names of department with budget more than 3 billions ?\"\n",
        "\n",
        "\n",
        "query = pip_flow.generate_sql(schema=schema, question=question, instructions=instructions)\n"
      ]
    },
    {
      "cell_type": "markdown",
      "metadata": {
        "id": "VNsfT2f9T10h"
      },
      "source": [
        "### Use of Example Parameter\n",
        "\n",
        "For complex queries or queries requiring specific jargons and query formats, you can provide them as examples. Then, you can ask the model similar questions, which will result in the generation of appropriate and accurate queries."
      ]
    },
    {
      "cell_type": "code",
      "execution_count": 13,
      "metadata": {
        "colab": {
          "base_uri": "https://localhost:8080/",
          "height": 170
        },
        "id": "aioIVCd7T10h",
        "outputId": "e7f06844-da61-4462-d5cd-715f6a95cb1d"
      },
      "outputs": [
        {
          "data": {
            "text/html": [
              "<style>pre { line-height: 125%; }\n",
              "td.linenos .normal { color: inherit; background-color: transparent; padding-left: 5px; padding-right: 5px; }\n",
              "span.linenos { color: inherit; background-color: transparent; padding-left: 5px; padding-right: 5px; }\n",
              "td.linenos .special { color: #000000; background-color: #ffffc0; padding-left: 5px; padding-right: 5px; }\n",
              "span.linenos.special { color: #000000; background-color: #ffffc0; padding-left: 5px; padding-right: 5px; }\n",
              ".output_html .hll { background-color: #ffffcc }\n",
              ".output_html { background: #f8f8f8; }\n",
              ".output_html .c { color: #3D7B7B; font-style: italic } /* Comment */\n",
              ".output_html .err { border: 1px solid #FF0000 } /* Error */\n",
              ".output_html .k { color: #008000; font-weight: bold } /* Keyword */\n",
              ".output_html .o { color: #666666 } /* Operator */\n",
              ".output_html .ch { color: #3D7B7B; font-style: italic } /* Comment.Hashbang */\n",
              ".output_html .cm { color: #3D7B7B; font-style: italic } /* Comment.Multiline */\n",
              ".output_html .cp { color: #9C6500 } /* Comment.Preproc */\n",
              ".output_html .cpf { color: #3D7B7B; font-style: italic } /* Comment.PreprocFile */\n",
              ".output_html .c1 { color: #3D7B7B; font-style: italic } /* Comment.Single */\n",
              ".output_html .cs { color: #3D7B7B; font-style: italic } /* Comment.Special */\n",
              ".output_html .gd { color: #A00000 } /* Generic.Deleted */\n",
              ".output_html .ge { font-style: italic } /* Generic.Emph */\n",
              ".output_html .ges { font-weight: bold; font-style: italic } /* Generic.EmphStrong */\n",
              ".output_html .gr { color: #E40000 } /* Generic.Error */\n",
              ".output_html .gh { color: #000080; font-weight: bold } /* Generic.Heading */\n",
              ".output_html .gi { color: #008400 } /* Generic.Inserted */\n",
              ".output_html .go { color: #717171 } /* Generic.Output */\n",
              ".output_html .gp { color: #000080; font-weight: bold } /* Generic.Prompt */\n",
              ".output_html .gs { font-weight: bold } /* Generic.Strong */\n",
              ".output_html .gu { color: #800080; font-weight: bold } /* Generic.Subheading */\n",
              ".output_html .gt { color: #0044DD } /* Generic.Traceback */\n",
              ".output_html .kc { color: #008000; font-weight: bold } /* Keyword.Constant */\n",
              ".output_html .kd { color: #008000; font-weight: bold } /* Keyword.Declaration */\n",
              ".output_html .kn { color: #008000; font-weight: bold } /* Keyword.Namespace */\n",
              ".output_html .kp { color: #008000 } /* Keyword.Pseudo */\n",
              ".output_html .kr { color: #008000; font-weight: bold } /* Keyword.Reserved */\n",
              ".output_html .kt { color: #B00040 } /* Keyword.Type */\n",
              ".output_html .m { color: #666666 } /* Literal.Number */\n",
              ".output_html .s { color: #BA2121 } /* Literal.String */\n",
              ".output_html .na { color: #687822 } /* Name.Attribute */\n",
              ".output_html .nb { color: #008000 } /* Name.Builtin */\n",
              ".output_html .nc { color: #0000FF; font-weight: bold } /* Name.Class */\n",
              ".output_html .no { color: #880000 } /* Name.Constant */\n",
              ".output_html .nd { color: #AA22FF } /* Name.Decorator */\n",
              ".output_html .ni { color: #717171; font-weight: bold } /* Name.Entity */\n",
              ".output_html .ne { color: #CB3F38; font-weight: bold } /* Name.Exception */\n",
              ".output_html .nf { color: #0000FF } /* Name.Function */\n",
              ".output_html .nl { color: #767600 } /* Name.Label */\n",
              ".output_html .nn { color: #0000FF; font-weight: bold } /* Name.Namespace */\n",
              ".output_html .nt { color: #008000; font-weight: bold } /* Name.Tag */\n",
              ".output_html .nv { color: #19177C } /* Name.Variable */\n",
              ".output_html .ow { color: #AA22FF; font-weight: bold } /* Operator.Word */\n",
              ".output_html .w { color: #bbbbbb } /* Text.Whitespace */\n",
              ".output_html .mb { color: #666666 } /* Literal.Number.Bin */\n",
              ".output_html .mf { color: #666666 } /* Literal.Number.Float */\n",
              ".output_html .mh { color: #666666 } /* Literal.Number.Hex */\n",
              ".output_html .mi { color: #666666 } /* Literal.Number.Integer */\n",
              ".output_html .mo { color: #666666 } /* Literal.Number.Oct */\n",
              ".output_html .sa { color: #BA2121 } /* Literal.String.Affix */\n",
              ".output_html .sb { color: #BA2121 } /* Literal.String.Backtick */\n",
              ".output_html .sc { color: #BA2121 } /* Literal.String.Char */\n",
              ".output_html .dl { color: #BA2121 } /* Literal.String.Delimiter */\n",
              ".output_html .sd { color: #BA2121; font-style: italic } /* Literal.String.Doc */\n",
              ".output_html .s2 { color: #BA2121 } /* Literal.String.Double */\n",
              ".output_html .se { color: #AA5D1F; font-weight: bold } /* Literal.String.Escape */\n",
              ".output_html .sh { color: #BA2121 } /* Literal.String.Heredoc */\n",
              ".output_html .si { color: #A45A77; font-weight: bold } /* Literal.String.Interpol */\n",
              ".output_html .sx { color: #008000 } /* Literal.String.Other */\n",
              ".output_html .sr { color: #A45A77 } /* Literal.String.Regex */\n",
              ".output_html .s1 { color: #BA2121 } /* Literal.String.Single */\n",
              ".output_html .ss { color: #19177C } /* Literal.String.Symbol */\n",
              ".output_html .bp { color: #008000 } /* Name.Builtin.Pseudo */\n",
              ".output_html .fm { color: #0000FF } /* Name.Function.Magic */\n",
              ".output_html .vc { color: #19177C } /* Name.Variable.Class */\n",
              ".output_html .vg { color: #19177C } /* Name.Variable.Global */\n",
              ".output_html .vi { color: #19177C } /* Name.Variable.Instance */\n",
              ".output_html .vm { color: #19177C } /* Name.Variable.Magic */\n",
              ".output_html .il { color: #666666 } /* Literal.Number.Integer.Long */</style><div class=\"highlight\"><pre><span></span><span class=\"nt\">SELECT</span><span class=\"w\"> </span><span class=\"nt\">d</span><span class=\"p\">.</span><span class=\"nc\">Name</span><span class=\"w\"> </span><span class=\"nt\">AS</span><span class=\"w\"> </span><span class=\"nt\">Department_Name</span><span class=\"o\">,</span><span class=\"w\"> </span><span class=\"nt\">h</span><span class=\"p\">.</span><span class=\"nc\">age</span><span class=\"w\"> </span><span class=\"nt\">AS</span><span class=\"w\"> </span><span class=\"nt\">Head_Age</span><span class=\"o\">,</span>\n",
              "<span class=\"w\">    </span><span class=\"nt\">CASE</span>\n",
              "<span class=\"w\">        </span><span class=\"nt\">WHEN</span><span class=\"w\"> </span><span class=\"nt\">m</span><span class=\"p\">.</span><span class=\"nc\">temporary_acting</span><span class=\"w\"> </span><span class=\"nt\">IS</span><span class=\"w\"> </span><span class=\"nt\">NOT</span><span class=\"w\"> </span><span class=\"nt\">NULL</span><span class=\"w\"> </span><span class=\"nt\">THEN</span><span class=\"w\"> </span><span class=\"s1\">&#39;Yes&#39;</span>\n",
              "<span class=\"w\">        </span><span class=\"nt\">ELSE</span><span class=\"w\"> </span><span class=\"s1\">&#39;No&#39;</span>\n",
              "<span class=\"w\">    </span><span class=\"nt\">END</span><span class=\"w\"> </span><span class=\"nt\">AS</span><span class=\"w\"> </span><span class=\"nt\">Temporary_Acting_Head</span>\n",
              "<span class=\"nt\">FROM</span><span class=\"w\"> </span><span class=\"nt\">department</span><span class=\"w\"> </span><span class=\"nt\">d</span>\n",
              "<span class=\"nt\">JOIN</span><span class=\"w\"> </span><span class=\"nt\">management</span><span class=\"w\"> </span><span class=\"nt\">m</span><span class=\"w\"> </span><span class=\"nt\">ON</span><span class=\"w\"> </span><span class=\"nt\">d</span><span class=\"p\">.</span><span class=\"nc\">Department_ID</span><span class=\"w\"> </span><span class=\"o\">=</span><span class=\"w\"> </span><span class=\"nt\">m</span><span class=\"p\">.</span><span class=\"nc\">department_ID</span>\n",
              "<span class=\"nt\">JOIN</span><span class=\"w\"> </span><span class=\"nt\">head</span><span class=\"w\"> </span><span class=\"nt\">h</span><span class=\"w\"> </span><span class=\"nt\">ON</span><span class=\"w\"> </span><span class=\"nt\">m</span><span class=\"p\">.</span><span class=\"nc\">head_ID</span><span class=\"w\"> </span><span class=\"o\">=</span><span class=\"w\"> </span><span class=\"nt\">h</span><span class=\"p\">.</span><span class=\"nc\">head_ID</span>\n",
              "<span class=\"nt\">WHERE</span><span class=\"w\"> </span><span class=\"nt\">d</span><span class=\"p\">.</span><span class=\"nc\">Budget_in_Billions</span><span class=\"w\"> </span><span class=\"o\">&gt;</span><span class=\"w\"> </span><span class=\"nt\">3</span><span class=\"o\">;</span>\n",
              "</pre></div>\n"
            ],
            "text/latex": [
              "\\begin{Verbatim}[commandchars=\\\\\\{\\}]\n",
              "\\PY{n+nt}{SELECT}\\PY{+w}{ }\\PY{n+nt}{d}\\PY{p}{.}\\PY{n+nc}{Name}\\PY{+w}{ }\\PY{n+nt}{AS}\\PY{+w}{ }\\PY{n+nt}{Department\\PYZus{}Name}\\PY{o}{,}\\PY{+w}{ }\\PY{n+nt}{h}\\PY{p}{.}\\PY{n+nc}{age}\\PY{+w}{ }\\PY{n+nt}{AS}\\PY{+w}{ }\\PY{n+nt}{Head\\PYZus{}Age}\\PY{o}{,}\n",
              "\\PY{+w}{    }\\PY{n+nt}{CASE}\n",
              "\\PY{+w}{        }\\PY{n+nt}{WHEN}\\PY{+w}{ }\\PY{n+nt}{m}\\PY{p}{.}\\PY{n+nc}{temporary\\PYZus{}acting}\\PY{+w}{ }\\PY{n+nt}{IS}\\PY{+w}{ }\\PY{n+nt}{NOT}\\PY{+w}{ }\\PY{n+nt}{NULL}\\PY{+w}{ }\\PY{n+nt}{THEN}\\PY{+w}{ }\\PY{l+s+s1}{\\PYZsq{}Yes\\PYZsq{}}\n",
              "\\PY{+w}{        }\\PY{n+nt}{ELSE}\\PY{+w}{ }\\PY{l+s+s1}{\\PYZsq{}No\\PYZsq{}}\n",
              "\\PY{+w}{    }\\PY{n+nt}{END}\\PY{+w}{ }\\PY{n+nt}{AS}\\PY{+w}{ }\\PY{n+nt}{Temporary\\PYZus{}Acting\\PYZus{}Head}\n",
              "\\PY{n+nt}{FROM}\\PY{+w}{ }\\PY{n+nt}{department}\\PY{+w}{ }\\PY{n+nt}{d}\n",
              "\\PY{n+nt}{JOIN}\\PY{+w}{ }\\PY{n+nt}{management}\\PY{+w}{ }\\PY{n+nt}{m}\\PY{+w}{ }\\PY{n+nt}{ON}\\PY{+w}{ }\\PY{n+nt}{d}\\PY{p}{.}\\PY{n+nc}{Department\\PYZus{}ID}\\PY{+w}{ }\\PY{o}{=}\\PY{+w}{ }\\PY{n+nt}{m}\\PY{p}{.}\\PY{n+nc}{department\\PYZus{}ID}\n",
              "\\PY{n+nt}{JOIN}\\PY{+w}{ }\\PY{n+nt}{head}\\PY{+w}{ }\\PY{n+nt}{h}\\PY{+w}{ }\\PY{n+nt}{ON}\\PY{+w}{ }\\PY{n+nt}{m}\\PY{p}{.}\\PY{n+nc}{head\\PYZus{}ID}\\PY{+w}{ }\\PY{o}{=}\\PY{+w}{ }\\PY{n+nt}{h}\\PY{p}{.}\\PY{n+nc}{head\\PYZus{}ID}\n",
              "\\PY{n+nt}{WHERE}\\PY{+w}{ }\\PY{n+nt}{d}\\PY{p}{.}\\PY{n+nc}{Budget\\PYZus{}in\\PYZus{}Billions}\\PY{+w}{ }\\PY{o}{\\PYZgt{}}\\PY{+w}{ }\\PY{n+nt}{3}\\PY{o}{;}\n",
              "\\end{Verbatim}\n"
            ],
            "text/plain": [
              "\n",
              "SELECT d.Name AS Department_Name, h.age AS Head_Age,\n",
              "    CASE\n",
              "        WHEN m.temporary_acting IS NOT NULL THEN 'Yes'\n",
              "        ELSE 'No'\n",
              "    END AS Temporary_Acting_Head\n",
              "FROM department d\n",
              "JOIN management m ON d.Department_ID = m.department_ID\n",
              "JOIN head h ON m.head_ID = h.head_ID\n",
              "WHERE d.Budget_in_Billions > 3;"
            ]
          },
          "metadata": {},
          "output_type": "display_data"
        }
      ],
      "source": [
        "schema = f\"\"\"\n",
        "CREATE TABLE department (Department_ID number,\n",
        "  Name text,\n",
        "  Creation text,\n",
        "  Ranking number,\n",
        "  Budget_in_Billions number,\n",
        "  Num_Employees number);\n",
        "\n",
        "CREATE TABLE head (head_ID number,\n",
        "  name text,\n",
        "  born_state text,\n",
        "  age number);\n",
        "\n",
        "CREATE TABLE management (department_ID number,\n",
        "  head_ID number,\n",
        "  temporary_acting text);\n",
        "\"\"\"\n",
        "\n",
        "instructions = \"\"\"\n",
        "1. In department table, column Budget_in_Billions is in billions, so numeric 1 will represent 1 billion.\n",
        "\"\"\"\n",
        "\n",
        "examples = \"\"\"\n",
        "--question: Fetch the name of the departments, the ages of their heads, and whether there is any temporary acting head for departments with a budget exceeding $1 billion.\n",
        "--sql:\n",
        "SELECT d.Name AS Department_Name, h.age AS Head_Age,\n",
        "    CASE\n",
        "        WHEN m.temporary_acting IS NOT NULL THEN 'Yes'\n",
        "        ELSE 'No'\n",
        "    END AS Temporary_Acting_Head\n",
        "FROM department d\n",
        "JOIN management m ON d.Department_ID = m.department_ID\n",
        "JOIN head h ON m.head_ID = h.head_ID\n",
        "WHERE d.Budget_in_Billions > 1;\n",
        "\"\"\"\n",
        "question = \"Fetch the name of the departments, the ages of their heads, and whether there is any temporary acting head for departments with a budget exceeding $3 billion.\"\n",
        "\n",
        "\n",
        "query = pip_flow.generate_sql(schema=schema, question=question, instructions=instructions, examples=examples)"
      ]
    },
    {
      "cell_type": "markdown",
      "metadata": {
        "id": "cGN_i_pQSQmj"
      },
      "source": [
        "## Parse data to JSON\n",
        "\n",
        "The function processes the `data` and generates a json response based on the provided `question`. The response is limited by the `max_new_tokens` parameter to control its length. "
      ]
    },
    {
      "cell_type": "code",
      "execution_count": null,
      "metadata": {
        "colab": {
          "base_uri": "https://localhost:8080/"
        },
        "id": "douBICeNSTIh",
        "outputId": "b614e31b-9c35-4124-e68a-d76ecad20cc3"
      },
      "outputs": [],
      "source": [
        "data = \"\"\"\n",
        "a is a list : [1,2,3] and another key 'B' with value \"Some Text\"\n",
        "}\n",
        "\"\"\"\n",
        "\n",
        "question = \"Parse the above data to json\"\n",
        "\n",
        "res = pip_flow.parse_data_to_json(data, question, 50)\n",
        "\n",
        "print(res)\n"
      ]
    }
  ],
  "metadata": {
    "colab": {
      "collapsed_sections": [
        "urP-5X_FWwgo",
        "A67LDBhzWwgp",
        "QPzXX1CfUIKM"
      ],
      "provenance": []
    },
    "kernelspec": {
      "display_name": "Python 3",
      "name": "python3"
    },
    "language_info": {
      "codemirror_mode": {
        "name": "ipython",
        "version": 3
      },
      "file_extension": ".py",
      "mimetype": "text/x-python",
      "name": "python",
      "nbconvert_exporter": "python",
      "pygments_lexer": "ipython3",
      "version": "3.10.14"
    }
  },
  "nbformat": 4,
  "nbformat_minor": 0
}
