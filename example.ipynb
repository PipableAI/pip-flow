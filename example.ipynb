{
 "cells": [
  {
   "cell_type": "code",
   "execution_count": 1,
   "metadata": {},
   "outputs": [],
   "source": [
    "from pip_flow.pip_flow import PipFlow\n",
    "\n",
    "\n",
    "pip_flow=PipFlow(device='cloud', model_key=\"PipableAI/pipable-worflow-automaton-private-v2\")"
   ]
  },
  {
   "cell_type": "code",
   "execution_count": 2,
   "metadata": {},
   "outputs": [
    {
     "name": "stdout",
     "output_type": "stream",
     "text": [
      "\n",
      "\n",
      "```python\n",
      "def double_number(num):\n",
      "  return num * 2\n",
      "```\n",
      "\n",
      "\n"
     ]
    }
   ],
   "source": [
    "prompt=\"\"\"\n",
    "<question>\n",
    "write a python function to double the input number.\n",
    "</question>\n",
    "\"\"\"\n",
    "print(pip_flow.generate(prompt, eos_token=\"code\"))"
   ]
  },
  {
   "cell_type": "code",
   "execution_count": 3,
   "metadata": {},
   "outputs": [],
   "source": [
    "import requests\n",
    "from bs4 import BeautifulSoup\n",
    "\n",
    "functions = [\n",
    "requests.get,\n",
    "BeautifulSoup,\n",
    "BeautifulSoup.find_all,\n",
    "]\n",
    "# docs= pip_flow.generate_docs(requests.post)\n",
    "# print(docs)\n",
    "pip_flow.register_callables(functions,generate_docs=False) #keeps on appending to the object"
   ]
  },
  {
   "cell_type": "code",
   "execution_count": 4,
   "metadata": {},
   "outputs": [
    {
     "data": {
      "text/plain": [
       "[Function(signature='(url, params=None, **kwargs)', docs='Sends a GET request.\\n\\n    :param url: URL for the new :class:`Request` object.\\n    :param params: (optional) Dictionary, list of tuples or bytes to send\\n        in the query string for the :class:`Request`.\\n    :param \\\\*\\\\*kwargs: Optional arguments that ``request`` takes.\\n    :return: :class:`Response <Response>` object\\n    :rtype: requests.Response\\n    ', name='get', full_name='requests.api.get'),\n",
       " Function(signature=\"(markup='', features=None, builder=None, parse_only=None, from_encoding=None, exclude_encodings=None, element_classes=None, **kwargs)\", docs='A data structure representing a parsed HTML or XML document.\\n\\n    Most of the methods you\\'ll call on a BeautifulSoup object are inherited from\\n    PageElement or Tag.\\n\\n    Internally, this class defines the basic interface called by the\\n    tree builders when converting an HTML/XML document into a data\\n    structure. The interface abstracts away the differences between\\n    parsers. To write a new tree builder, you\\'ll need to understand\\n    these methods as a whole.\\n\\n    These methods will be called by the BeautifulSoup constructor:\\n      * reset()\\n      * feed(markup)\\n\\n    The tree builder may call these methods from its feed() implementation:\\n      * handle_starttag(name, attrs) # See note about return value\\n      * handle_endtag(name)\\n      * handle_data(data) # Appends to the current data node\\n      * endData(containerClass) # Ends the current data node\\n\\n    No matter how complicated the underlying parser is, you should be\\n    able to build a tree using \\'start tag\\' events, \\'end tag\\' events,\\n    \\'data\\' events, and \"done with data\" events.\\n\\n    If you encounter an empty-element tag (aka a self-closing tag,\\n    like HTML\\'s <br> tag), call handle_starttag and then\\n    handle_endtag.\\n    ', name='BeautifulSoup', full_name='bs4.BeautifulSoup'),\n",
       " Function(signature='(self, name=None, attrs={}, recursive=True, string=None, limit=None, **kwargs)', docs=\"Look in the children of this PageElement and find all\\n        PageElements that match the given criteria.\\n\\n        All find_* methods take a common set of arguments. See the online\\n        documentation for detailed explanations.\\n\\n        :param name: A filter on tag name.\\n        :param attrs: A dictionary of filters on attribute values.\\n        :param recursive: If this is True, find_all() will perform a\\n            recursive search of this PageElement's children. Otherwise,\\n            only the direct children will be considered.\\n        :param limit: Stop looking after finding this many results.\\n        :kwargs: A dictionary of filters on attribute values.\\n        :return: A ResultSet of PageElements.\\n        :rtype: bs4.element.ResultSet\\n        \", name='find_all', full_name='bs4.element.Tag.find_all')]"
      ]
     },
     "execution_count": 4,
     "metadata": {},
     "output_type": "execute_result"
    }
   ],
   "source": [
    "pip_flow.functions"
   ]
  },
  {
   "cell_type": "code",
   "execution_count": 5,
   "metadata": {},
   "outputs": [
    {
     "name": "stdout",
     "output_type": "stream",
     "text": [
      "Updated config and base prompt template successfully fetched.\n"
     ]
    }
   ],
   "source": [
    "\n",
    "config = {\n",
    "\"instructions\": \"be smarter\"\n",
    "}\n",
    "print(pip_flow.make_live_prompt(\"default\", config))"
   ]
  },
  {
   "cell_type": "code",
   "execution_count": 6,
   "metadata": {},
   "outputs": [
    {
     "data": {
      "text/plain": [
       "{'func_info': '[\\'--name:get\\\\n--annotations:(url, params=None, **kwargs)\\\\n--doc:Sends a GET request.\\\\n\\\\n    :param url: URL for the new :class:`Request` object.\\\\n    :param params: (optional) Dictionary, list of tuples or bytes to send\\\\n        in the query string for the :class:`Request`.\\\\n    :param \\\\\\\\*\\\\\\\\*kwargs: Optional arguments that ``request`` takes.\\\\n    :return: :class:`Response <Response>` object\\\\n    :rtype: requests.Response\\\\n    \\\\n\\\\n\\', \\'--name:BeautifulSoup\\\\n--annotations:(markup=\\\\\\'\\\\\\', features=None, builder=None, parse_only=None, from_encoding=None, exclude_encodings=None, element_classes=None, **kwargs)\\\\n--doc:A data structure representing a parsed HTML or XML document.\\\\n\\\\n    Most of the methods you\\\\\\'ll call on a BeautifulSoup object are inherited from\\\\n    PageElement or Tag.\\\\n\\\\n    Internally, this class defines the basic interface called by the\\\\n    tree builders when converting an HTML/XML document into a data\\\\n    structure. The interface abstracts away the differences between\\\\n    parsers. To write a new tree builder, you\\\\\\'ll need to understand\\\\n    these methods as a whole.\\\\n\\\\n    These methods will be called by the BeautifulSoup constructor:\\\\n      * reset()\\\\n      * feed(markup)\\\\n\\\\n    The tree builder may call these methods from its feed() implementation:\\\\n      * handle_starttag(name, attrs) # See note about return value\\\\n      * handle_endtag(name)\\\\n      * handle_data(data) # Appends to the current data node\\\\n      * endData(containerClass) # Ends the current data node\\\\n\\\\n    No matter how complicated the underlying parser is, you should be\\\\n    able to build a tree using \\\\\\'start tag\\\\\\' events, \\\\\\'end tag\\\\\\' events,\\\\n    \\\\\\'data\\\\\\' events, and \"done with data\" events.\\\\n\\\\n    If you encounter an empty-element tag (aka a self-closing tag,\\\\n    like HTML\\\\\\'s <br> tag), call handle_starttag and then\\\\n    handle_endtag.\\\\n    \\\\n\\\\n\\', \"--name:find_all\\\\n--annotations:(self, name=None, attrs={}, recursive=True, string=None, limit=None, **kwargs)\\\\n--doc:Look in the children of this PageElement and find all\\\\n        PageElements that match the given criteria.\\\\n\\\\n        All find_* methods take a common set of arguments. See the online\\\\n        documentation for detailed explanations.\\\\n\\\\n        :param name: A filter on tag name.\\\\n        :param attrs: A dictionary of filters on attribute values.\\\\n        :param recursive: If this is True, find_all() will perform a\\\\n            recursive search of this PageElement\\'s children. Otherwise,\\\\n            only the direct children will be considered.\\\\n        :param limit: Stop looking after finding this many results.\\\\n        :kwargs: A dictionary of filters on attribute values.\\\\n        :return: A ResultSet of PageElements.\\\\n        :rtype: bs4.element.ResultSet\\\\n        \\\\n\\\\n\"]',\n",
       " 'instructions': 'be smarter'}"
      ]
     },
     "execution_count": 6,
     "metadata": {},
     "output_type": "execute_result"
    }
   ],
   "source": [
    "pip_flow.latest_config"
   ]
  },
  {
   "cell_type": "code",
   "execution_count": 7,
   "metadata": {},
   "outputs": [
    {
     "name": "stdout",
     "output_type": "stream",
     "text": [
      "{\n",
      "    \"tasks\": [\n",
      "        {\n",
      "            \"task_id\": 1,\n",
      "            \"function_name\": \"get\",\n",
      "            \"parameters\": [\n",
      "                {\n",
      "                    \"name\": \"url\",\n",
      "                    \"value\": \"https://google.com\",\n",
      "                    \"description\": \"URL to be fetched\",\n",
      "                    \"dtype\": \"string\"\n",
      "                }\n",
      "            ],\n",
      "            \"outputs\": [\n",
      "                \"variable_1\"\n",
      "            ],\n",
      "            \"description\": \"Fetches the content of the specified URL using the GET method.\"\n",
      "        },\n",
      "        {\n",
      "            \"task_id\": 2,\n",
      "            \"function_name\": \"BeautifulSoup\",\n",
      "            \"parameters\": [\n",
      "                {\n",
      "                    \"name\": \"markup\",\n",
      "                    \"value\": \"variable_1\",\n",
      "                    \"description\": \"Markup to be parsed\",\n",
      "                    \"dtype\": \"string\"\n",
      "                }\n",
      "            ],\n",
      "            \"outputs\": [\n",
      "                \"variable_2\"\n",
      "            ],\n",
      "            \"description\": \"Creates a BeautifulSoup object from the parsed HTML content.\"\n",
      "        },\n",
      "        {\n",
      "            \"task_id\": 3,\n",
      "            \"function_name\": \"find_all\",\n",
      "            \"parameters\": [\n",
      "                {\n",
      "                    \"name\": \"self\",\n",
      "                    \"value\": \"variable_2\",\n",
      "                    \"description\": \"BeautifulSoup object to search in\",\n",
      "                    \"dtype\": \"BeautifulSoup object\"\n",
      "                },\n",
      "                {\n",
      "                    \"name\": \"name\",\n",
      "                    \"value\": \"div\",\n",
      "                    \"description\": \"Name of the tag to search for\",\n",
      "                    \"dtype\": \"string\"\n",
      "                }\n",
      "            ],\n",
      "            \"outputs\": [\n",
      "                \"variable_3\"\n",
      "            ],\n",
      "            \"description\": \"Finds all div elements in the BeautifulSoup object.\"\n",
      "        }\n",
      "    ]\n",
      "}\n"
     ]
    }
   ],
   "source": [
    "ques = \"get the content of https://google.com, create beautiful soup class and find all divs in it\"\n",
    "plan =pip_flow.generate_plan(ques)\n",
    "print(plan)"
   ]
  },
  {
   "cell_type": "code",
   "execution_count": 8,
   "metadata": {},
   "outputs": [
    {
     "data": {
      "text/markdown": [
       "\n",
       "```python\n",
       "import requests\n",
       "from bs4 import BeautifulSoup\n",
       "\n",
       "# Fetch the content of the URL using the GET method\n",
       "url = 'https://google.com'\n",
       "response = requests.api.get(url)\n",
       "\n",
       "# Parse the HTML content\n",
       "soup = BeautifulSoup(response.text, 'html.parser')\n",
       "\n",
       "# Find all div elements\n",
       "divs = soup.find_all('div')\n",
       "\n",
       "# Assign the BeautifulSoup object to a variable\n",
       "bs = soup\n",
       "\n",
       "# Assign the divs to a variable\n",
       "divs = divs\n",
       "```\n"
      ],
      "text/plain": [
       "<IPython.core.display.Markdown object>"
      ]
     },
     "metadata": {},
     "output_type": "display_data"
    }
   ],
   "source": [
    "pip_flow.plan_to_code()"
   ]
  },
  {
   "cell_type": "code",
   "execution_count": null,
   "metadata": {},
   "outputs": [],
   "source": []
  }
 ],
 "metadata": {
  "kernelspec": {
   "display_name": "Python 3",
   "language": "python",
   "name": "python3"
  },
  "language_info": {
   "codemirror_mode": {
    "name": "ipython",
    "version": 3
   },
   "file_extension": ".py",
   "mimetype": "text/x-python",
   "name": "python",
   "nbconvert_exporter": "python",
   "pygments_lexer": "ipython3",
   "version": "3.10.13"
  }
 },
 "nbformat": 4,
 "nbformat_minor": 2
}
