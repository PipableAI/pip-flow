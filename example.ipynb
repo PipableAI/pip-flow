{
 "cells": [
  {
   "cell_type": "code",
   "execution_count": 1,
   "metadata": {},
   "outputs": [],
   "source": [
    "from pip_flow.pip_flow import PipFlow"
   ]
  },
  {
   "cell_type": "code",
   "execution_count": 2,
   "metadata": {},
   "outputs": [],
   "source": [
    "pip_flow=PipFlow(device='cloud', model_key=\"PipableAI/pip-software-Qbandit\")"
   ]
  },
  {
   "cell_type": "code",
   "execution_count": 7,
   "metadata": {},
   "outputs": [],
   "source": [
    "prompt=\"\"\"\n",
    "<question>\n",
    "write a python function to double the input number.\n",
    "</question>\n",
    "\"\"\"\n",
    "print(pip_flow.generate(prompt, eos_token=\"code\", max_new_tokens=50))"
   ]
  },
  {
   "cell_type": "code",
   "execution_count": 3,
   "metadata": {},
   "outputs": [
    {
     "data": {
      "text/markdown": [
       "\n",
       "The function `post` sends a POST request to the specified URL. It takes several parameters including `url` for the URL of the site to be accessed, `data` for sending data in the body of the POST request, `json` for sending JSON data, and `**kwargs` for any other parameters that the `requests.post()` function might take.\n",
       "\n",
       "The function returns a `Response` object from the `requests` module.\n",
       "\n",
       "**Parameters**\n",
       "\n",
       "- `url`: The URL of the site to be accessed. It should be a string.\n",
       "- `data`: The data to be sent in the body of the POST request. It can be a dictionary, list of tuples, bytes, or file-like object. The default value is `None`.\n",
       "- `json`: A JSON serializable Python object to be sent in the body of the POST request. It can be a dictionary, list, tuple, string, int, float, bool, or None. The default value is `None`.\n",
       "- `**kwargs`: Any other parameters that the `requests.post()` function might take.\n",
       "\n",
       "**Return**\n",
       "\n",
       "- A `Response` object from the `requests` module.\n",
       "\n",
       "**Dtypes**\n",
       "\n",
       "- `url`: A string.\n",
       "- `data`: A dictionary, list of tuples, bytes, or file-like object.\n",
       "- `json`: A dictionary, list, tuple, string, int, float, bool, or None.\n",
       "- `**kwargs`: Any other parameters that the `requests.post()` function might take.\n",
       "\n",
       "**Possible Param Values**\n",
       "\n",
       "- `url`: A string representing the URL of the site to be accessed.\n",
       "- `data`: A dictionary, list of tuples, bytes, or file-like object representing the data to be sent in the body of the POST request.\n",
       "- `json`: A dictionary, list, tuple, string, int, float, bool, or None representing the JSON serializable Python object to be sent in the body of the POST request.\n",
       "- `**kwargs`: Any other parameters that the `requests.post()` function might take.\n",
       "\n",
       "**Default Param Value**\n",
       "\n",
       "- `url`: The default value is `None"
      ],
      "text/plain": [
       "<IPython.core.display.Markdown object>"
      ]
     },
     "metadata": {},
     "output_type": "display_data"
    }
   ],
   "source": [
    "import requests\n",
    "\n",
    "docs = pip_flow.generate_docs(requests.post)\n"
   ]
  },
  {
   "cell_type": "code",
   "execution_count": 4,
   "metadata": {},
   "outputs": [
    {
     "data": {
      "text/html": [
       "<style>pre { line-height: 125%; }\n",
       "td.linenos .normal { color: inherit; background-color: transparent; padding-left: 5px; padding-right: 5px; }\n",
       "span.linenos { color: inherit; background-color: transparent; padding-left: 5px; padding-right: 5px; }\n",
       "td.linenos .special { color: #000000; background-color: #ffffc0; padding-left: 5px; padding-right: 5px; }\n",
       "span.linenos.special { color: #000000; background-color: #ffffc0; padding-left: 5px; padding-right: 5px; }\n",
       ".output_html .hll { background-color: #ffffcc }\n",
       ".output_html { background: #f8f8f8; }\n",
       ".output_html .c { color: #3D7B7B; font-style: italic } /* Comment */\n",
       ".output_html .err { border: 1px solid #FF0000 } /* Error */\n",
       ".output_html .k { color: #008000; font-weight: bold } /* Keyword */\n",
       ".output_html .o { color: #666666 } /* Operator */\n",
       ".output_html .ch { color: #3D7B7B; font-style: italic } /* Comment.Hashbang */\n",
       ".output_html .cm { color: #3D7B7B; font-style: italic } /* Comment.Multiline */\n",
       ".output_html .cp { color: #9C6500 } /* Comment.Preproc */\n",
       ".output_html .cpf { color: #3D7B7B; font-style: italic } /* Comment.PreprocFile */\n",
       ".output_html .c1 { color: #3D7B7B; font-style: italic } /* Comment.Single */\n",
       ".output_html .cs { color: #3D7B7B; font-style: italic } /* Comment.Special */\n",
       ".output_html .gd { color: #A00000 } /* Generic.Deleted */\n",
       ".output_html .ge { font-style: italic } /* Generic.Emph */\n",
       ".output_html .ges { font-weight: bold; font-style: italic } /* Generic.EmphStrong */\n",
       ".output_html .gr { color: #E40000 } /* Generic.Error */\n",
       ".output_html .gh { color: #000080; font-weight: bold } /* Generic.Heading */\n",
       ".output_html .gi { color: #008400 } /* Generic.Inserted */\n",
       ".output_html .go { color: #717171 } /* Generic.Output */\n",
       ".output_html .gp { color: #000080; font-weight: bold } /* Generic.Prompt */\n",
       ".output_html .gs { font-weight: bold } /* Generic.Strong */\n",
       ".output_html .gu { color: #800080; font-weight: bold } /* Generic.Subheading */\n",
       ".output_html .gt { color: #0044DD } /* Generic.Traceback */\n",
       ".output_html .kc { color: #008000; font-weight: bold } /* Keyword.Constant */\n",
       ".output_html .kd { color: #008000; font-weight: bold } /* Keyword.Declaration */\n",
       ".output_html .kn { color: #008000; font-weight: bold } /* Keyword.Namespace */\n",
       ".output_html .kp { color: #008000 } /* Keyword.Pseudo */\n",
       ".output_html .kr { color: #008000; font-weight: bold } /* Keyword.Reserved */\n",
       ".output_html .kt { color: #B00040 } /* Keyword.Type */\n",
       ".output_html .m { color: #666666 } /* Literal.Number */\n",
       ".output_html .s { color: #BA2121 } /* Literal.String */\n",
       ".output_html .na { color: #687822 } /* Name.Attribute */\n",
       ".output_html .nb { color: #008000 } /* Name.Builtin */\n",
       ".output_html .nc { color: #0000FF; font-weight: bold } /* Name.Class */\n",
       ".output_html .no { color: #880000 } /* Name.Constant */\n",
       ".output_html .nd { color: #AA22FF } /* Name.Decorator */\n",
       ".output_html .ni { color: #717171; font-weight: bold } /* Name.Entity */\n",
       ".output_html .ne { color: #CB3F38; font-weight: bold } /* Name.Exception */\n",
       ".output_html .nf { color: #0000FF } /* Name.Function */\n",
       ".output_html .nl { color: #767600 } /* Name.Label */\n",
       ".output_html .nn { color: #0000FF; font-weight: bold } /* Name.Namespace */\n",
       ".output_html .nt { color: #008000; font-weight: bold } /* Name.Tag */\n",
       ".output_html .nv { color: #19177C } /* Name.Variable */\n",
       ".output_html .ow { color: #AA22FF; font-weight: bold } /* Operator.Word */\n",
       ".output_html .w { color: #bbbbbb } /* Text.Whitespace */\n",
       ".output_html .mb { color: #666666 } /* Literal.Number.Bin */\n",
       ".output_html .mf { color: #666666 } /* Literal.Number.Float */\n",
       ".output_html .mh { color: #666666 } /* Literal.Number.Hex */\n",
       ".output_html .mi { color: #666666 } /* Literal.Number.Integer */\n",
       ".output_html .mo { color: #666666 } /* Literal.Number.Oct */\n",
       ".output_html .sa { color: #BA2121 } /* Literal.String.Affix */\n",
       ".output_html .sb { color: #BA2121 } /* Literal.String.Backtick */\n",
       ".output_html .sc { color: #BA2121 } /* Literal.String.Char */\n",
       ".output_html .dl { color: #BA2121 } /* Literal.String.Delimiter */\n",
       ".output_html .sd { color: #BA2121; font-style: italic } /* Literal.String.Doc */\n",
       ".output_html .s2 { color: #BA2121 } /* Literal.String.Double */\n",
       ".output_html .se { color: #AA5D1F; font-weight: bold } /* Literal.String.Escape */\n",
       ".output_html .sh { color: #BA2121 } /* Literal.String.Heredoc */\n",
       ".output_html .si { color: #A45A77; font-weight: bold } /* Literal.String.Interpol */\n",
       ".output_html .sx { color: #008000 } /* Literal.String.Other */\n",
       ".output_html .sr { color: #A45A77 } /* Literal.String.Regex */\n",
       ".output_html .s1 { color: #BA2121 } /* Literal.String.Single */\n",
       ".output_html .ss { color: #19177C } /* Literal.String.Symbol */\n",
       ".output_html .bp { color: #008000 } /* Name.Builtin.Pseudo */\n",
       ".output_html .fm { color: #0000FF } /* Name.Function.Magic */\n",
       ".output_html .vc { color: #19177C } /* Name.Variable.Class */\n",
       ".output_html .vg { color: #19177C } /* Name.Variable.Global */\n",
       ".output_html .vi { color: #19177C } /* Name.Variable.Instance */\n",
       ".output_html .vm { color: #19177C } /* Name.Variable.Magic */\n",
       ".output_html .il { color: #666666 } /* Literal.Number.Integer.Long */</style><div class=\"highlight\"><pre><span></span><span class=\"nt\">make_get_req</span><span class=\"o\">(</span><span class=\"nt\">path</span><span class=\"o\">=</span><span class=\"s1\">&#39;https://web.io/&#39;</span><span class=\"o\">,</span><span class=\"w\"> </span><span class=\"nt\">data</span><span class=\"o\">=</span><span class=\"nt\">variable_1</span><span class=\"o\">,</span><span class=\"w\"> </span><span class=\"nt\">params</span><span class=\"o\">=</span><span class=\"p\">{</span><span class=\"err\">&#39;weight&#39;:</span><span class=\"w\"> </span><span class=\"err\">variable_3,</span><span class=\"w\"> </span><span class=\"err\">&#39;width&#39;:</span><span class=\"w\"> </span><span class=\"err\">10</span><span class=\"p\">}</span><span class=\"o\">,</span><span class=\"w\"> </span><span class=\"nt\">headers</span><span class=\"o\">=</span><span class=\"p\">{</span><span class=\"err\">&#39;Content-Type&#39;:</span><span class=\"w\"> </span><span class=\"err\">&#39;application/json&#39;</span><span class=\"p\">}</span><span class=\"o\">,</span><span class=\"w\"> </span><span class=\"nt\">not_json_response</span><span class=\"o\">=</span><span class=\"nt\">True</span><span class=\"o\">,</span><span class=\"w\"> </span><span class=\"nt\">absolute</span><span class=\"o\">=</span><span class=\"nt\">True</span><span class=\"o\">)</span>\n",
       "</pre></div>\n"
      ],
      "text/latex": [
       "\\begin{Verbatim}[commandchars=\\\\\\{\\}]\n",
       "\\PY{n+nt}{make\\PYZus{}get\\PYZus{}req}\\PY{o}{(}\\PY{n+nt}{path}\\PY{o}{=}\\PY{l+s+s1}{\\PYZsq{}https://web.io/\\PYZsq{}}\\PY{o}{,}\\PY{+w}{ }\\PY{n+nt}{data}\\PY{o}{=}\\PY{n+nt}{variable\\PYZus{}1}\\PY{o}{,}\\PY{+w}{ }\\PY{n+nt}{params}\\PY{o}{=}\\PY{p}{\\PYZob{}}\\PY{err}{\\PYZsq{}}\\PY{err}{w}\\PY{err}{e}\\PY{err}{i}\\PY{err}{g}\\PY{err}{h}\\PY{err}{t}\\PY{err}{\\PYZsq{}}\\PY{err}{:}\\PY{+w}{ }\\PY{err}{v}\\PY{err}{a}\\PY{err}{r}\\PY{err}{i}\\PY{err}{a}\\PY{err}{b}\\PY{err}{l}\\PY{err}{e}\\PY{err}{\\PYZus{}}\\PY{err}{3}\\PY{err}{,}\\PY{+w}{ }\\PY{err}{\\PYZsq{}}\\PY{err}{w}\\PY{err}{i}\\PY{err}{d}\\PY{err}{t}\\PY{err}{h}\\PY{err}{\\PYZsq{}}\\PY{err}{:}\\PY{+w}{ }\\PY{err}{1}\\PY{err}{0}\\PY{p}{\\PYZcb{}}\\PY{o}{,}\\PY{+w}{ }\\PY{n+nt}{headers}\\PY{o}{=}\\PY{p}{\\PYZob{}}\\PY{err}{\\PYZsq{}}\\PY{err}{C}\\PY{err}{o}\\PY{err}{n}\\PY{err}{t}\\PY{err}{e}\\PY{err}{n}\\PY{err}{t}\\PY{err}{\\PYZhy{}}\\PY{err}{T}\\PY{err}{y}\\PY{err}{p}\\PY{err}{e}\\PY{err}{\\PYZsq{}}\\PY{err}{:}\\PY{+w}{ }\\PY{err}{\\PYZsq{}}\\PY{err}{a}\\PY{err}{p}\\PY{err}{p}\\PY{err}{l}\\PY{err}{i}\\PY{err}{c}\\PY{err}{a}\\PY{err}{t}\\PY{err}{i}\\PY{err}{o}\\PY{err}{n}\\PY{err}{/}\\PY{err}{j}\\PY{err}{s}\\PY{err}{o}\\PY{err}{n}\\PY{err}{\\PYZsq{}}\\PY{p}{\\PYZcb{}}\\PY{o}{,}\\PY{+w}{ }\\PY{n+nt}{not\\PYZus{}json\\PYZus{}response}\\PY{o}{=}\\PY{n+nt}{True}\\PY{o}{,}\\PY{+w}{ }\\PY{n+nt}{absolute}\\PY{o}{=}\\PY{n+nt}{True}\\PY{o}{)}\n",
       "\\end{Verbatim}\n"
      ],
      "text/plain": [
       "\n",
       "make_get_req(path='https://web.io/', data=variable_1, params={'weight': variable_3, 'width': 10}, headers={'Content-Type': 'application/json'}, not_json_response=True, absolute=True)"
      ]
     },
     "metadata": {},
     "output_type": "display_data"
    }
   ],
   "source": [
    "docstring = \"\"\"\n",
    "Function Name: make_get_req\n",
    "Description: This function is used to make a GET request.\n",
    "Parameters:\n",
    "- path (str): The path of the URL to be requested.\n",
    "- data (dict): The data to be sent in the body of the request.\n",
    "- flags (dict): The flags to be sent in the request.\n",
    "- params (dict): The parameters to be sent in the request.\n",
    "- headers (dict): The headers to be sent in the request.\n",
    "- not_json_response (bool): OPTIONAL: If set to True, the function will return the raw response content instead of trying to parse it as JSON.\n",
    "- trailing (str): OPTIONAL: For wrapping slash symbol in the end of string.\n",
    "- absolute (bool): OPTIONAL: If set to True, the function will not prefix the URL with the base URL.\n",
    "- advanced_mode (bool): OPTIONAL: If set to True, the function will return the raw response instead of trying to parse it as JSON.\n",
    "Returns:\n",
    "- Union[str, dict, list, None]: The response content as a string, a dictionary, a list, or None if the response was not successful.\n",
    "\"\"\"\n",
    "\n",
    "question = \"\"\"\n",
    "Make a GET request for the URL parameter using variable_2. For the params parameter, use 'weight' as one of the keys with variable_3 as its value, and 'width' as another key with a value of 10. For the data parameter, use variable_1. Prefix the URL with the base URL, and ensure the response is in raw format.\n",
    "\"\"\"\n",
    "\n",
    "\n",
    "function_call = pip_flow.function_call(question = question ,docstring=docstring)"
   ]
  },
  {
   "cell_type": "code",
   "execution_count": 3,
   "metadata": {},
   "outputs": [],
   "source": [
    "import requests\n",
    "from bs4 import BeautifulSoup\n",
    "\n",
    "functions = [\n",
    "requests.get,\n",
    "BeautifulSoup,\n",
    "BeautifulSoup.find_all,\n",
    "]\n",
    "\n",
    "pip_flow.register_callables(functions,generate_docs=False) #keeps on appending to the object"
   ]
  },
  {
   "cell_type": "code",
   "execution_count": null,
   "metadata": {},
   "outputs": [
    {
     "data": {
      "text/plain": [
       "[Function(signature='(url, params=None, **kwargs)', docs='Sends a GET request.\\n\\n    :param url: URL for the new :class:`Request` object.\\n    :param params: (optional) Dictionary, list of tuples or bytes to send\\n        in the query string for the :class:`Request`.\\n    :param \\\\*\\\\*kwargs: Optional arguments that ``request`` takes.\\n    :return: :class:`Response <Response>` object\\n    :rtype: requests.Response\\n    ', name='get', full_name='requests.api.get'),\n",
       " Function(signature=\"(markup='', features=None, builder=None, parse_only=None, from_encoding=None, exclude_encodings=None, element_classes=None, **kwargs)\", docs='A data structure representing a parsed HTML or XML document.\\n\\n    Most of the methods you\\'ll call on a BeautifulSoup object are inherited from\\n    PageElement or Tag.\\n\\n    Internally, this class defines the basic interface called by the\\n    tree builders when converting an HTML/XML document into a data\\n    structure. The interface abstracts away the differences between\\n    parsers. To write a new tree builder, you\\'ll need to understand\\n    these methods as a whole.\\n\\n    These methods will be called by the BeautifulSoup constructor:\\n      * reset()\\n      * feed(markup)\\n\\n    The tree builder may call these methods from its feed() implementation:\\n      * handle_starttag(name, attrs) # See note about return value\\n      * handle_endtag(name)\\n      * handle_data(data) # Appends to the current data node\\n      * endData(containerClass) # Ends the current data node\\n\\n    No matter how complicated the underlying parser is, you should be\\n    able to build a tree using \\'start tag\\' events, \\'end tag\\' events,\\n    \\'data\\' events, and \"done with data\" events.\\n\\n    If you encounter an empty-element tag (aka a self-closing tag,\\n    like HTML\\'s <br> tag), call handle_starttag and then\\n    handle_endtag.\\n    ', name='BeautifulSoup', full_name='bs4.BeautifulSoup'),\n",
       " Function(signature='(self, name=None, attrs={}, recursive=True, string=None, limit=None, **kwargs)', docs=\"Look in the children of this PageElement and find all\\n        PageElements that match the given criteria.\\n\\n        All find_* methods take a common set of arguments. See the online\\n        documentation for detailed explanations.\\n\\n        :param name: A filter on tag name.\\n        :param attrs: A dictionary of filters on attribute values.\\n        :param recursive: If this is True, find_all() will perform a\\n            recursive search of this PageElement's children. Otherwise,\\n            only the direct children will be considered.\\n        :param limit: Stop looking after finding this many results.\\n        :kwargs: A dictionary of filters on attribute values.\\n        :return: A ResultSet of PageElements.\\n        :rtype: bs4.element.ResultSet\\n        \", name='find_all', full_name='bs4.element.Tag.find_all')]"
      ]
     },
     "execution_count": 5,
     "metadata": {},
     "output_type": "execute_result"
    }
   ],
   "source": [
    "pip_flow.functions"
   ]
  },
  {
   "cell_type": "code",
   "execution_count": null,
   "metadata": {},
   "outputs": [],
   "source": [
    "prompt = \"\"\"\n",
    "<functions>\n",
    "{func_info}\n",
    "</functions>\n",
    "<json_structure>\n",
    "{{\n",
    "  \"tasks\": [\n",
    "    {{\n",
    "      \"task_id\": 1,\n",
    "      \"function_name\": \"function name\",\n",
    "      \"parameters\": [\n",
    "        {{\n",
    "        \"name\":\"name of this parameter according to annotations.\",\n",
    "        \"value\":\"value to be passed for this parameter\",\n",
    "        \"dtype\":\"type annotation of the variable\",\n",
    "        \"description\": \"An explanation of why this value should be utilized.\"\n",
    "        }},\n",
    "        {{\n",
    "        \"name\":\"self\",\n",
    "        \"value\":\"variable name to be passed for this parameter self.\",\n",
    "        \"dtype\":\"type annotation of the self parameter\",\n",
    "        \"description\": \"An explanation of why the cariable should be used for this self parameter.\"\n",
    "        }}\n",
    "      ],\n",
    "      \"outputs\": [\"variable_1\"],\n",
    "      \"description\": \"some description\"\n",
    "    }},\n",
    "    {{\n",
    "      \"task_id\": 2,\n",
    "      \"function_name\": \"function name\",\n",
    "      \"parameters\": [\n",
    "        {{\n",
    "        \"name\":\"self\",\n",
    "        \"value\":\"variable name to be passed for this parameter self.\",\n",
    "        \"dtype\":\"type annotation of the self parameter\",\n",
    "        \"description\": \"An explanation of why the cariable should be used for this self parameter.\"\n",
    "        }},\n",
    "        {{,\n",
    "        \"name\":\"name of this parameter according to annotations.\",\n",
    "        \"value\":\"value to be passed for this parameter\",\n",
    "        \"dtype\":\"type annotation of the variable\",\n",
    "        \"description\": \"An explanation of why this value should be utilized.\"\n",
    "        }}\n",
    "      ],\n",
    "      \"outputs\": [\"variable_2\"],\n",
    "      \"description\": \"some description\"\n",
    "    }}\n",
    "  ]\n",
    "}}\n",
    "</json_structure>\n",
    "<instructions>\n",
    "- use self parameter with proper value based on the question.\n",
    "- name outputs as variable_1 , variable_2 , variable_3 , variable_4 and more variables in chronological order.\n",
    "- give attention to the type annotation of the parameter given while filling values.\n",
    "{instructions}\n",
    "</instructions>\n",
    "<question>\n",
    "Given the above functions,\n",
    "- Do not give the parameters in json which have null values and default values of the function, only give the sequencial function calls with parameters to execute the below question:\n",
    "{question}\n",
    "</question>\n",
    "\"\"\"\n",
    "pip_flow.add_plan_template(\"new2\", prompt)"
   ]
  },
  {
   "cell_type": "code",
   "execution_count": null,
   "metadata": {},
   "outputs": [],
   "source": [
    "pip_flow.load_templates()\n",
    "pip_flow.prompt_templates"
   ]
  },
  {
   "cell_type": "code",
   "execution_count": null,
   "metadata": {},
   "outputs": [],
   "source": [
    "config = {\n",
    "\"func_info\":  str([\n",
    "                f\"\"\"--name:{function.name}\\n--annotations:{function.signature}\\n--doc:{function.docs}\\n\\n\"\"\"\n",
    "                for function in pip_flow.functions\n",
    "            ]),\n",
    "\"instructions\": \"\"\n",
    "}\n",
    "print(pip_flow.make_live_prompt(\"new\", config))"
   ]
  },
  {
   "cell_type": "code",
   "execution_count": null,
   "metadata": {},
   "outputs": [],
   "source": [
    "print(pip_flow.last_base_prompt)\n",
    "pip_flow.latest_config"
   ]
  },
  {
   "cell_type": "code",
   "execution_count": 4,
   "metadata": {},
   "outputs": [],
   "source": [
    "ques = \"get the content of https://colab.research.google.com/drive/1mB2v-d72k5DJ2sXqm7GsaAZdWOJBmmof?authuser=1#scrollTo=9NgzJt0-FoNw create beautiful soup class and find all divs in it\"\n",
    "plan = pip_flow.generate_plan(ques)\n",
    "print(plan)"
   ]
  },
  {
   "cell_type": "markdown",
   "metadata": {},
   "source": []
  },
  {
   "cell_type": "code",
   "execution_count": 4,
   "metadata": {},
   "outputs": [
    {
     "data": {
      "text/html": [
       "<style>pre { line-height: 125%; }\n",
       "td.linenos .normal { color: inherit; background-color: transparent; padding-left: 5px; padding-right: 5px; }\n",
       "span.linenos { color: inherit; background-color: transparent; padding-left: 5px; padding-right: 5px; }\n",
       "td.linenos .special { color: #000000; background-color: #ffffc0; padding-left: 5px; padding-right: 5px; }\n",
       "span.linenos.special { color: #000000; background-color: #ffffc0; padding-left: 5px; padding-right: 5px; }\n",
       ".output_html .hll { background-color: #ffffcc }\n",
       ".output_html { background: #f8f8f8; }\n",
       ".output_html .c { color: #3D7B7B; font-style: italic } /* Comment */\n",
       ".output_html .err { border: 1px solid #FF0000 } /* Error */\n",
       ".output_html .k { color: #008000; font-weight: bold } /* Keyword */\n",
       ".output_html .o { color: #666666 } /* Operator */\n",
       ".output_html .ch { color: #3D7B7B; font-style: italic } /* Comment.Hashbang */\n",
       ".output_html .cm { color: #3D7B7B; font-style: italic } /* Comment.Multiline */\n",
       ".output_html .cp { color: #9C6500 } /* Comment.Preproc */\n",
       ".output_html .cpf { color: #3D7B7B; font-style: italic } /* Comment.PreprocFile */\n",
       ".output_html .c1 { color: #3D7B7B; font-style: italic } /* Comment.Single */\n",
       ".output_html .cs { color: #3D7B7B; font-style: italic } /* Comment.Special */\n",
       ".output_html .gd { color: #A00000 } /* Generic.Deleted */\n",
       ".output_html .ge { font-style: italic } /* Generic.Emph */\n",
       ".output_html .ges { font-weight: bold; font-style: italic } /* Generic.EmphStrong */\n",
       ".output_html .gr { color: #E40000 } /* Generic.Error */\n",
       ".output_html .gh { color: #000080; font-weight: bold } /* Generic.Heading */\n",
       ".output_html .gi { color: #008400 } /* Generic.Inserted */\n",
       ".output_html .go { color: #717171 } /* Generic.Output */\n",
       ".output_html .gp { color: #000080; font-weight: bold } /* Generic.Prompt */\n",
       ".output_html .gs { font-weight: bold } /* Generic.Strong */\n",
       ".output_html .gu { color: #800080; font-weight: bold } /* Generic.Subheading */\n",
       ".output_html .gt { color: #0044DD } /* Generic.Traceback */\n",
       ".output_html .kc { color: #008000; font-weight: bold } /* Keyword.Constant */\n",
       ".output_html .kd { color: #008000; font-weight: bold } /* Keyword.Declaration */\n",
       ".output_html .kn { color: #008000; font-weight: bold } /* Keyword.Namespace */\n",
       ".output_html .kp { color: #008000 } /* Keyword.Pseudo */\n",
       ".output_html .kr { color: #008000; font-weight: bold } /* Keyword.Reserved */\n",
       ".output_html .kt { color: #B00040 } /* Keyword.Type */\n",
       ".output_html .m { color: #666666 } /* Literal.Number */\n",
       ".output_html .s { color: #BA2121 } /* Literal.String */\n",
       ".output_html .na { color: #687822 } /* Name.Attribute */\n",
       ".output_html .nb { color: #008000 } /* Name.Builtin */\n",
       ".output_html .nc { color: #0000FF; font-weight: bold } /* Name.Class */\n",
       ".output_html .no { color: #880000 } /* Name.Constant */\n",
       ".output_html .nd { color: #AA22FF } /* Name.Decorator */\n",
       ".output_html .ni { color: #717171; font-weight: bold } /* Name.Entity */\n",
       ".output_html .ne { color: #CB3F38; font-weight: bold } /* Name.Exception */\n",
       ".output_html .nf { color: #0000FF } /* Name.Function */\n",
       ".output_html .nl { color: #767600 } /* Name.Label */\n",
       ".output_html .nn { color: #0000FF; font-weight: bold } /* Name.Namespace */\n",
       ".output_html .nt { color: #008000; font-weight: bold } /* Name.Tag */\n",
       ".output_html .nv { color: #19177C } /* Name.Variable */\n",
       ".output_html .ow { color: #AA22FF; font-weight: bold } /* Operator.Word */\n",
       ".output_html .w { color: #bbbbbb } /* Text.Whitespace */\n",
       ".output_html .mb { color: #666666 } /* Literal.Number.Bin */\n",
       ".output_html .mf { color: #666666 } /* Literal.Number.Float */\n",
       ".output_html .mh { color: #666666 } /* Literal.Number.Hex */\n",
       ".output_html .mi { color: #666666 } /* Literal.Number.Integer */\n",
       ".output_html .mo { color: #666666 } /* Literal.Number.Oct */\n",
       ".output_html .sa { color: #BA2121 } /* Literal.String.Affix */\n",
       ".output_html .sb { color: #BA2121 } /* Literal.String.Backtick */\n",
       ".output_html .sc { color: #BA2121 } /* Literal.String.Char */\n",
       ".output_html .dl { color: #BA2121 } /* Literal.String.Delimiter */\n",
       ".output_html .sd { color: #BA2121; font-style: italic } /* Literal.String.Doc */\n",
       ".output_html .s2 { color: #BA2121 } /* Literal.String.Double */\n",
       ".output_html .se { color: #AA5D1F; font-weight: bold } /* Literal.String.Escape */\n",
       ".output_html .sh { color: #BA2121 } /* Literal.String.Heredoc */\n",
       ".output_html .si { color: #A45A77; font-weight: bold } /* Literal.String.Interpol */\n",
       ".output_html .sx { color: #008000 } /* Literal.String.Other */\n",
       ".output_html .sr { color: #A45A77 } /* Literal.String.Regex */\n",
       ".output_html .s1 { color: #BA2121 } /* Literal.String.Single */\n",
       ".output_html .ss { color: #19177C } /* Literal.String.Symbol */\n",
       ".output_html .bp { color: #008000 } /* Name.Builtin.Pseudo */\n",
       ".output_html .fm { color: #0000FF } /* Name.Function.Magic */\n",
       ".output_html .vc { color: #19177C } /* Name.Variable.Class */\n",
       ".output_html .vg { color: #19177C } /* Name.Variable.Global */\n",
       ".output_html .vi { color: #19177C } /* Name.Variable.Instance */\n",
       ".output_html .vm { color: #19177C } /* Name.Variable.Magic */\n",
       ".output_html .il { color: #666666 } /* Literal.Number.Integer.Long */</style><div class=\"highlight\"><pre><span></span><span class=\"err\">```</span><span class=\"nt\">python</span>\n",
       "<span class=\"nt\">from</span><span class=\"w\"> </span><span class=\"nt\">bs4</span><span class=\"w\"> </span><span class=\"nt\">import</span><span class=\"w\"> </span><span class=\"nt\">BeautifulSoup</span>\n",
       "\n",
       "<span class=\"err\">#</span><span class=\"w\"> </span><span class=\"nt\">Create</span><span class=\"w\"> </span><span class=\"nt\">BeautifulSoup</span><span class=\"w\"> </span><span class=\"nt\">object</span><span class=\"w\"> </span><span class=\"nt\">to</span><span class=\"w\"> </span><span class=\"nt\">parse</span><span class=\"w\"> </span><span class=\"nt\">the</span><span class=\"w\"> </span><span class=\"nt\">webpage</span><span class=\"w\"> </span><span class=\"nt\">content</span>\n",
       "<span class=\"nt\">soup</span><span class=\"w\"> </span><span class=\"o\">=</span><span class=\"w\"> </span><span class=\"nt\">BeautifulSoup</span><span class=\"o\">(</span><span class=\"nt\">url</span><span class=\"o\">,</span><span class=\"w\"> </span><span class=\"s1\">&#39;html.parser&#39;</span><span class=\"o\">)</span>\n",
       "\n",
       "<span class=\"err\">#</span><span class=\"w\"> </span><span class=\"nt\">Find</span><span class=\"w\"> </span><span class=\"nt\">all</span><span class=\"w\"> </span><span class=\"nt\">div</span><span class=\"w\"> </span><span class=\"nt\">elements</span><span class=\"w\"> </span><span class=\"nt\">in</span><span class=\"w\"> </span><span class=\"nt\">the</span><span class=\"w\"> </span><span class=\"nt\">BeautifulSoup</span><span class=\"w\"> </span><span class=\"nt\">object</span>\n",
       "<span class=\"nt\">divs</span><span class=\"w\"> </span><span class=\"o\">=</span><span class=\"w\"> </span><span class=\"nt\">soup</span><span class=\"p\">.</span><span class=\"nc\">find_all</span><span class=\"o\">(</span><span class=\"s1\">&#39;div&#39;</span><span class=\"o\">)</span>\n",
       "<span class=\"err\">```</span>\n",
       "</pre></div>\n"
      ],
      "text/latex": [
       "\\begin{Verbatim}[commandchars=\\\\\\{\\}]\n",
       "\\PY{err}{`}\\PY{err}{`}\\PY{err}{`}\\PY{n+nt}{python}\n",
       "\\PY{n+nt}{from}\\PY{+w}{ }\\PY{n+nt}{bs4}\\PY{+w}{ }\\PY{n+nt}{import}\\PY{+w}{ }\\PY{n+nt}{BeautifulSoup}\n",
       "\n",
       "\\PY{err}{\\PYZsh{}}\\PY{+w}{ }\\PY{n+nt}{Create}\\PY{+w}{ }\\PY{n+nt}{BeautifulSoup}\\PY{+w}{ }\\PY{n+nt}{object}\\PY{+w}{ }\\PY{n+nt}{to}\\PY{+w}{ }\\PY{n+nt}{parse}\\PY{+w}{ }\\PY{n+nt}{the}\\PY{+w}{ }\\PY{n+nt}{webpage}\\PY{+w}{ }\\PY{n+nt}{content}\n",
       "\\PY{n+nt}{soup}\\PY{+w}{ }\\PY{o}{=}\\PY{+w}{ }\\PY{n+nt}{BeautifulSoup}\\PY{o}{(}\\PY{n+nt}{url}\\PY{o}{,}\\PY{+w}{ }\\PY{l+s+s1}{\\PYZsq{}html.parser\\PYZsq{}}\\PY{o}{)}\n",
       "\n",
       "\\PY{err}{\\PYZsh{}}\\PY{+w}{ }\\PY{n+nt}{Find}\\PY{+w}{ }\\PY{n+nt}{all}\\PY{+w}{ }\\PY{n+nt}{div}\\PY{+w}{ }\\PY{n+nt}{elements}\\PY{+w}{ }\\PY{n+nt}{in}\\PY{+w}{ }\\PY{n+nt}{the}\\PY{+w}{ }\\PY{n+nt}{BeautifulSoup}\\PY{+w}{ }\\PY{n+nt}{object}\n",
       "\\PY{n+nt}{divs}\\PY{+w}{ }\\PY{o}{=}\\PY{+w}{ }\\PY{n+nt}{soup}\\PY{p}{.}\\PY{n+nc}{find\\PYZus{}all}\\PY{o}{(}\\PY{l+s+s1}{\\PYZsq{}div\\PYZsq{}}\\PY{o}{)}\n",
       "\\PY{err}{`}\\PY{err}{`}\\PY{err}{`}\n",
       "\\end{Verbatim}\n"
      ],
      "text/plain": [
       "\n",
       "```python\n",
       "from bs4 import BeautifulSoup\n",
       "\n",
       "# Create BeautifulSoup object to parse the webpage content\n",
       "soup = BeautifulSoup(url, 'html.parser')\n",
       "\n",
       "# Find all div elements in the BeautifulSoup object\n",
       "divs = soup.find_all('div')\n",
       "```"
      ]
     },
     "metadata": {},
     "output_type": "display_data"
    }
   ],
   "source": [
    "pip_flow.plan_to_code()"
   ]
  },
  {
   "cell_type": "code",
   "execution_count": null,
   "metadata": {},
   "outputs": [],
   "source": [
    "pip_flow.visualise_plan()"
   ]
  },
  {
   "cell_type": "code",
   "execution_count": null,
   "metadata": {},
   "outputs": [],
   "source": [
    "from IPython.display import display, Code\n",
    "response = \"\"\"\n",
    "import pandas\n",
    "variable=1\n",
    "\n",
    "\"\"\"\n",
    "display(Code(data=response, language='py+ul4'))"
   ]
  }
 ],
 "metadata": {
  "kernelspec": {
   "display_name": "Python 3",
   "language": "python",
   "name": "python3"
  },
  "language_info": {
   "codemirror_mode": {
    "name": "ipython",
    "version": 3
   },
   "file_extension": ".py",
   "mimetype": "text/x-python",
   "name": "python",
   "nbconvert_exporter": "python",
   "pygments_lexer": "ipython3",
   "version": "3.10.14"
  }
 },
 "nbformat": 4,
 "nbformat_minor": 2
}
