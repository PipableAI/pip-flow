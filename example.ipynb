{
 "cells": [
  {
   "cell_type": "code",
   "execution_count": 1,
   "metadata": {},
   "outputs": [],
   "source": [
    "from pip_flow.pip_flow import PipFlow\n",
    "\n",
    "\n",
    "pip_flow=PipFlow(device='cloud', model_key=\"PipableAI/pipable-worflow-automaton-private-v2\")"
   ]
  },
  {
   "cell_type": "code",
   "execution_count": null,
   "metadata": {},
   "outputs": [],
   "source": [
    "prompt=\"\"\"\n",
    "<question>\n",
    "write a python function to double the input number.\n",
    "</question>\n",
    "\"\"\"\n",
    "print(pip_flow.generate(prompt, eos_token=\"code\", max_new_tokens=50))"
   ]
  },
  {
   "cell_type": "code",
   "execution_count": 2,
   "metadata": {},
   "outputs": [],
   "source": [
    "import requests\n",
    "from bs4 import BeautifulSoup\n",
    "\n",
    "functions = [\n",
    "requests.get,\n",
    "BeautifulSoup,\n",
    "BeautifulSoup.find_all,\n",
    "]\n",
    "# docs= pip_flow.generate_docs(requests.post)\n",
    "# print(docs)\n",
    "pip_flow.register_callables(functions,generate_docs=False) #keeps on appending to the object"
   ]
  },
  {
   "cell_type": "code",
   "execution_count": null,
   "metadata": {},
   "outputs": [],
   "source": [
    "pip_flow.functions"
   ]
  },
  {
   "cell_type": "code",
   "execution_count": null,
   "metadata": {},
   "outputs": [],
   "source": [
    "prompt = \"\"\"\n",
    "<functions>\n",
    "{func_info}\n",
    "</functions>\n",
    "<json_structure>\n",
    "{{\n",
    "  \"tasks\": [\n",
    "    {{\n",
    "      \"task_id\": 1,\n",
    "      \"function_name\": \"function name\",\n",
    "      \"parameters\": [\n",
    "        {{\n",
    "        \"name\":\"name of this parameter according to annotations.\",\n",
    "        \"value\":\"value to be passed for this parameter\",\n",
    "        \"dtype\":\"type annotation of the variable\",\n",
    "        \"description\": \"An explanation of why this value should be utilized.\"\n",
    "        }},\n",
    "        {{\n",
    "        \"name\":\"self\",\n",
    "        \"value\":\"variable name to be passed for this parameter self.\",\n",
    "        \"dtype\":\"type annotation of the self parameter\",\n",
    "        \"description\": \"An explanation of why the cariable should be used for this self parameter.\"\n",
    "        }}\n",
    "      ],\n",
    "      \"outputs\": [\"variable_1\"],\n",
    "      \"description\": \"some description\"\n",
    "    }},\n",
    "    {{\n",
    "      \"task_id\": 2,\n",
    "      \"function_name\": \"function name\",\n",
    "      \"parameters\": [\n",
    "        {{\n",
    "        \"name\":\"self\",\n",
    "        \"value\":\"variable name to be passed for this parameter self.\",\n",
    "        \"dtype\":\"type annotation of the self parameter\",\n",
    "        \"description\": \"An explanation of why the cariable should be used for this self parameter.\"\n",
    "        }},\n",
    "        {{,\n",
    "        \"name\":\"name of this parameter according to annotations.\",\n",
    "        \"value\":\"value to be passed for this parameter\",\n",
    "        \"dtype\":\"type annotation of the variable\",\n",
    "        \"description\": \"An explanation of why this value should be utilized.\"\n",
    "        }}\n",
    "      ],\n",
    "      \"outputs\": [\"variable_2\"],\n",
    "      \"description\": \"some description\"\n",
    "    }}\n",
    "  ]\n",
    "}}\n",
    "</json_structure>\n",
    "<instructions>\n",
    "- use self parameter with proper value based on the question.\n",
    "- name outputs as variable_1 , variable_2 , variable_3 , variable_4 and more variables in chronological order.\n",
    "- give attention to the type annotation of the parameter given while filling values.\n",
    "{instructions}\n",
    "</instructions>\n",
    "<question>\n",
    "Given the above functions,\n",
    "- Do not give the parameters in json which have null values and default values of the function, only give the sequencial function calls with parameters to execute the below question:\n",
    "{question}\n",
    "</question>\n",
    "\"\"\"\n",
    "pip_flow.add_plan_template(\"new2\", prompt)"
   ]
  },
  {
   "cell_type": "code",
   "execution_count": null,
   "metadata": {},
   "outputs": [],
   "source": [
    "pip_flow.load_templates()\n",
    "pip_flow.prompt_templates"
   ]
  },
  {
   "cell_type": "code",
   "execution_count": null,
   "metadata": {},
   "outputs": [],
   "source": [
    "\n",
    "config = {\n",
    "\"func_info\":  str([\n",
    "                f\"\"\"--name:{function.name}\\n--annotations:{function.signature}\\n--doc:{function.docs}\\n\\n\"\"\"\n",
    "                for function in pip_flow.functions\n",
    "            ]),\n",
    "\"instructions\": \"\"\n",
    "}\n",
    "print(pip_flow.make_live_prompt(\"new\", config))"
   ]
  },
  {
   "cell_type": "code",
   "execution_count": null,
   "metadata": {},
   "outputs": [],
   "source": [
    "print(pip_flow.last_base_prompt)\n",
    "pip_flow.latest_config"
   ]
  },
  {
   "cell_type": "code",
   "execution_count": 3,
   "metadata": {},
   "outputs": [
    {
     "name": "stdout",
     "output_type": "stream",
     "text": [
      "{\n",
      "    \"tasks\": [\n",
      "        {\n",
      "            \"task_id\": 1,\n",
      "            \"function_name\": \"get\",\n",
      "            \"parameters\": [\n",
      "                {\n",
      "                    \"name\": \"url\",\n",
      "                    \"value\": \"https://colab.research.google.com/drive/1mB2v-d72k5DJ2sXqm7GsaAZdWOJBmmof?authuser=1#scrollTo=9NgzJt0-FoNw\",\n",
      "                    \"description\": \"URL of the page to be scraped.\",\n",
      "                    \"dtype\": \"string\"\n",
      "                }\n",
      "            ],\n",
      "            \"outputs\": [\n",
      "                \"variable_1\"\n",
      "            ],\n",
      "            \"description\": \"Fetches the content of the webpage.\"\n",
      "        },\n",
      "        {\n",
      "            \"task_id\": 2,\n",
      "            \"function_name\": \"BeautifulSoup\",\n",
      "            \"parameters\": [\n",
      "                {\n",
      "                    \"name\": \"content\",\n",
      "                    \"value\": \"variable_1\",\n",
      "                    \"description\": \"Content of the webpage fetched.\",\n",
      "                    \"dtype\": \"string\"\n",
      "                }\n",
      "            ],\n",
      "            \"outputs\": [\n",
      "                \"variable_2\"\n",
      "            ],\n",
      "            \"description\": \"Parses the webpage content into a BeautifulSoup object.\"\n",
      "        },\n",
      "        {\n",
      "            \"task_id\": 3,\n",
      "            \"function_name\": \"find_all\",\n",
      "            \"parameters\": [\n",
      "                {\n",
      "                    \"name\": \"soup\",\n",
      "                    \"value\": \"variable_2\",\n",
      "                    \"description\": \"BeautifulSoup object containing the webpage content.\",\n",
      "                    \"dtype\": \"BeautifulSoup object\"\n",
      "                },\n",
      "                {\n",
      "                    \"name\": \"name\",\n",
      "                    \"value\": \"div\",\n",
      "                    \"description\": \"Name of the HTML tag to find.\",\n",
      "                    \"dtype\": \"string\"\n",
      "                }\n",
      "            ],\n",
      "            \"outputs\": [\n",
      "                \"variable_3\"\n",
      "            ],\n",
      "            \"description\": \"Finds all div elements in the BeautifulSoup object.\"\n",
      "        }\n",
      "    ]\n",
      "}\n"
     ]
    }
   ],
   "source": [
    "ques = \"get the content of https://colab.research.google.com/drive/1mB2v-d72k5DJ2sXqm7GsaAZdWOJBmmof?authuser=1#scrollTo=9NgzJt0-FoNw create beautiful soup class and find all divs in it\"\n",
    "plan =pip_flow.generate_plan(ques)\n",
    "print(plan)"
   ]
  },
  {
   "cell_type": "code",
   "execution_count": 4,
   "metadata": {},
   "outputs": [
    {
     "data": {
      "text/markdown": [
       "\n",
       "```python\n",
       "import requests\n",
       "from bs4 import BeautifulSoup\n",
       "\n",
       "# Fetch the content of the webpage\n",
       "url = 'https://colab.research.google.com/drive/1mB2v-d72k5DJ2sXqm7GsaAZdWOJBmmof?authuser=1#scrollTo=9NgzJt0-FoNw'\n",
       "response = requests.api.get(url)\n",
       "content = response.text\n",
       "\n",
       "# Parse the webpage content into a BeautifulSoup object\n",
       "soup = BeautifulSoup(content, 'html.parser')\n",
       "\n",
       "# Find all div elements in the BeautifulSoup object\n",
       "divs = soup.find_all('div')\n",
       "\n",
       "# Print the number of div elements\n",
       "print(len(divs))\n",
       "```\n"
      ],
      "text/plain": [
       "<IPython.core.display.Markdown object>"
      ]
     },
     "metadata": {},
     "output_type": "display_data"
    }
   ],
   "source": [
    "pip_flow.plan_to_code()"
   ]
  },
  {
   "cell_type": "code",
   "execution_count": 5,
   "metadata": {},
   "outputs": [
    {
     "name": "stdout",
     "output_type": "stream",
     "text": [
      "network.html\n"
     ]
    },
    {
     "name": "stderr",
     "output_type": "stream",
     "text": [
      "/Users/avikothari/Pipable/pip-flow/pip_flow/pip_flow.py:273: UserWarning: Visualisation is not supported in VS code yet.\n",
      "  warnings.warn(\"Visualisation is not supported in VS code yet.\")\n"
     ]
    },
    {
     "data": {
      "text/html": [
       "\n",
       "        <iframe\n",
       "            width=\"100%\"\n",
       "            height=\"200px\"\n",
       "            src=\"network.html\"\n",
       "            frameborder=\"0\"\n",
       "            allowfullscreen\n",
       "            \n",
       "        ></iframe>\n",
       "        "
      ],
      "text/plain": [
       "<IPython.lib.display.IFrame at 0x1427d8520>"
      ]
     },
     "metadata": {},
     "output_type": "display_data"
    }
   ],
   "source": [
    "pip_flow.visualise_plan()"
   ]
  },
  {
   "cell_type": "code",
   "execution_count": null,
   "metadata": {},
   "outputs": [],
   "source": []
  }
 ],
 "metadata": {
  "kernelspec": {
   "display_name": "Python 3",
   "language": "python",
   "name": "python3"
  },
  "language_info": {
   "codemirror_mode": {
    "name": "ipython",
    "version": 3
   },
   "file_extension": ".py",
   "mimetype": "text/x-python",
   "name": "python",
   "nbconvert_exporter": "python",
   "pygments_lexer": "ipython3",
   "version": "3.10.13"
  }
 },
 "nbformat": 4,
 "nbformat_minor": 2
}
