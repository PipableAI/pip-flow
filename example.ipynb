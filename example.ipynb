{
 "cells": [
  {
   "cell_type": "code",
   "execution_count": 1,
   "metadata": {},
   "outputs": [],
   "source": [
    "from pip_flow.pip_flow import PipFlow\n",
    "\n",
    "\n",
    "pip_flow=PipFlow(device='cloud', model_key=\"PipableAI/pipable-worflow-automaton-private-v2\")"
   ]
  },
  {
   "cell_type": "code",
   "execution_count": 2,
   "metadata": {},
   "outputs": [
    {
     "data": {
      "text/plain": [
       "'\\n\\n```python\\ndef double_number(num):\\n  return num * 2\\n```\\n\\n'"
      ]
     },
     "execution_count": 2,
     "metadata": {},
     "output_type": "execute_result"
    }
   ],
   "source": [
    "prompt=\"\"\"\n",
    "<question>\n",
    "write a python function to double the input number.\n",
    "</question>\n",
    "<code>\n",
    "\"\"\"\n",
    "pip_flow.generate(prompt, eos_token=\"code\")"
   ]
  },
  {
   "cell_type": "code",
   "execution_count": 3,
   "metadata": {},
   "outputs": [
    {
     "name": "stdout",
     "output_type": "stream",
     "text": [
      "\n",
      "The function `post` sends a POST request to the specified URL. It takes several parameters including `url` for the URL of the site to be accessed, `data` for sending data in the body of the POST request, `json` for sending JSON data, and `**kwargs` for any other parameters that the `requests.post()` function might take.\n",
      "\n",
      "The function returns a `Response` object from the `requests` module.\n",
      "\n",
      "**Parameters**\n",
      "\n",
      "- `url`: The URL of the site to be accessed. It should be a string.\n",
      "- `data`: The data to be sent in the body of the POST request. It can be a dictionary, list of tuples, bytes, or file-like object. The default value is `None`.\n",
      "- `json`: A JSON serializable Python object to be sent in the body of the POST request. It can be a dictionary, list, tuple, string, int, float, bool, or None. The default value is `None`.\n",
      "- `**kwargs`: Any other parameters that the `requests.post()` function might take.\n",
      "\n",
      "**Return**\n",
      "\n",
      "- A `Response` object from the `requests` module.\n",
      "\n",
      "**Dtypes**\n",
      "\n",
      "- `url`: A string.\n",
      "- `data`: A dictionary, list of tuples, bytes, or file-like object.\n",
      "- `json`: A dictionary, list, tuple, string, int, float, bool, or None.\n",
      "- `**kwargs`: Any other parameters that the `requests.post()` function might take.\n",
      "\n",
      "**Possible Param Values**\n",
      "\n",
      "- `url`: A string representing the URL of the site to be accessed.\n",
      "- `data`: A dictionary, list of tuples, bytes, or file-like object representing the data to be sent in the body of the POST request.\n",
      "- `json`: A dictionary, list, tuple, string, int, float, bool, or None representing the JSON serializable Python object to be sent in the body of the POST request.\n",
      "- `**kwargs`: Any other parameters that the `requests.post()` function might take.\n",
      "\n",
      "**Default Param Value**\n",
      "\n",
      "- `url`: The default value is `None\n"
     ]
    }
   ],
   "source": [
    "import requests\n",
    "from bs4 import BeautifulSoup\n",
    "\n",
    "functions = [\n",
    "requests.get,\n",
    "BeautifulSoup,\n",
    "BeautifulSoup.find_all,\n",
    "]\n",
    "docs= pip_flow.generate_docs(requests.post)\n",
    "print(docs)\n",
    "pip_flow.register_callables(functions,generate_docs=False) #keeps on appending to the object"
   ]
  },
  {
   "cell_type": "code",
   "execution_count": 4,
   "metadata": {},
   "outputs": [
    {
     "data": {
      "text/plain": [
       "[Function(signature='(url, params=None, **kwargs)', docs='Sends a GET request.\\n\\n    :param url: URL for the new :class:`Request` object.\\n    :param params: (optional) Dictionary, list of tuples or bytes to send\\n        in the query string for the :class:`Request`.\\n    :param \\\\*\\\\*kwargs: Optional arguments that ``request`` takes.\\n    :return: :class:`Response <Response>` object\\n    :rtype: requests.Response\\n    ', name='get', full_name='requests.api.get'),\n",
       " Function(signature=\"(markup='', features=None, builder=None, parse_only=None, from_encoding=None, exclude_encodings=None, element_classes=None, **kwargs)\", docs='A data structure representing a parsed HTML or XML document.\\n\\n    Most of the methods you\\'ll call on a BeautifulSoup object are inherited from\\n    PageElement or Tag.\\n\\n    Internally, this class defines the basic interface called by the\\n    tree builders when converting an HTML/XML document into a data\\n    structure. The interface abstracts away the differences between\\n    parsers. To write a new tree builder, you\\'ll need to understand\\n    these methods as a whole.\\n\\n    These methods will be called by the BeautifulSoup constructor:\\n      * reset()\\n      * feed(markup)\\n\\n    The tree builder may call these methods from its feed() implementation:\\n      * handle_starttag(name, attrs) # See note about return value\\n      * handle_endtag(name)\\n      * handle_data(data) # Appends to the current data node\\n      * endData(containerClass) # Ends the current data node\\n\\n    No matter how complicated the underlying parser is, you should be\\n    able to build a tree using \\'start tag\\' events, \\'end tag\\' events,\\n    \\'data\\' events, and \"done with data\" events.\\n\\n    If you encounter an empty-element tag (aka a self-closing tag,\\n    like HTML\\'s <br> tag), call handle_starttag and then\\n    handle_endtag.\\n    ', name='BeautifulSoup', full_name='bs4.BeautifulSoup'),\n",
       " Function(signature='(self, name=None, attrs={}, recursive=True, string=None, limit=None, **kwargs)', docs=\"Look in the children of this PageElement and find all\\n        PageElements that match the given criteria.\\n\\n        All find_* methods take a common set of arguments. See the online\\n        documentation for detailed explanations.\\n\\n        :param name: A filter on tag name.\\n        :param attrs: A dictionary of filters on attribute values.\\n        :param recursive: If this is True, find_all() will perform a\\n            recursive search of this PageElement's children. Otherwise,\\n            only the direct children will be considered.\\n        :param limit: Stop looking after finding this many results.\\n        :kwargs: A dictionary of filters on attribute values.\\n        :return: A ResultSet of PageElements.\\n        :rtype: bs4.element.ResultSet\\n        \", name='find_all', full_name='bs4.element.Tag.find_all')]"
      ]
     },
     "execution_count": 4,
     "metadata": {},
     "output_type": "execute_result"
    }
   ],
   "source": [
    "pip_flow.functions"
   ]
  },
  {
   "cell_type": "code",
   "execution_count": 5,
   "metadata": {},
   "outputs": [],
   "source": [
    "prompt = \"\"\"\n",
    "<functions>\n",
    "{func_info}\n",
    "</functions>\n",
    "<json_structure>\n",
    "{{\n",
    "  \"tasks\": [\n",
    "    {{\n",
    "      \"task_id\": 1,\n",
    "      \"function_name\": \"function name\",\n",
    "      \"parameters\": [\n",
    "        {{\n",
    "        \"name\":\"name of this parameter according to annotations.\",\n",
    "        \"value\":\"value to be passed for this parameter\",\n",
    "        \"dtype\":\"type annotation of the variable\",\n",
    "        \"description\": \"An explanation of why this value should be utilized.\"\n",
    "        }},\n",
    "        {{\n",
    "        \"name\":\"self\",\n",
    "        \"value\":\"variable name to be passed for this parameter self.\",\n",
    "        \"dtype\":\"type annotation of the self parameter\",\n",
    "        \"description\": \"An explanation of why the cariable should be used for this self parameter.\"\n",
    "        }}\n",
    "      ],\n",
    "      \"outputs\": [\"variable_1\"],\n",
    "      \"description\": \"some description\"\n",
    "    }},\n",
    "    {{\n",
    "      \"task_id\": 2,\n",
    "      \"function_name\": \"function name\",\n",
    "      \"parameters\": [\n",
    "        {{\n",
    "        \"name\":\"self\",\n",
    "        \"value\":\"variable name to be passed for this parameter self.\",\n",
    "        \"dtype\":\"type annotation of the self parameter\",\n",
    "        \"description\": \"An explanation of why the cariable should be used for this self parameter.\"\n",
    "        }},\n",
    "        {{,\n",
    "        \"name\":\"name of this parameter according to annotations.\",\n",
    "        \"value\":\"value to be passed for this parameter\",\n",
    "        \"dtype\":\"type annotation of the variable\",\n",
    "        \"description\": \"An explanation of why this value should be utilized.\"\n",
    "        }}\n",
    "      ],\n",
    "      \"outputs\": [\"variable_2\"],\n",
    "      \"description\": \"some description\"\n",
    "    }}\n",
    "  ]\n",
    "}}\n",
    "</json_structure>\n",
    "<instructions>\n",
    "- use self parameter with proper value based on the question.\n",
    "- name outputs as variable_1 , variable_2 , variable_3 , variable_4 and more variables in chronological order.\n",
    "- give attention to the type annotation of the parameter given while filling values.\n",
    "{instructions}\n",
    "</instructions>\n",
    "<question>\n",
    "Given the above functions,\n",
    "- Do not give the parameters in json which have null values and default values of the function, only give the sequencial function calls with parameters to execute the below question:\n",
    "{question}\n",
    "</question>\n",
    "<json>\n",
    "\"\"\"\n",
    "pip_flow.add_plan_template(\"default\", prompt)"
   ]
  },
  {
   "cell_type": "code",
   "execution_count": 6,
   "metadata": {},
   "outputs": [
    {
     "name": "stdout",
     "output_type": "stream",
     "text": [
      "\n",
      "<functions>\n",
      "['--name:get\\n--annotations:(url, params=None, **kwargs)\\n--doc:Sends a GET request.\\n\\n    :param url: URL for the new :class:`Request` object.\\n    :param params: (optional) Dictionary, list of tuples or bytes to send\\n        in the query string for the :class:`Request`.\\n    :param \\\\*\\\\*kwargs: Optional arguments that ``request`` takes.\\n    :return: :class:`Response <Response>` object\\n    :rtype: requests.Response\\n    \\n\\n', '--name:BeautifulSoup\\n--annotations:(markup=\\'\\', features=None, builder=None, parse_only=None, from_encoding=None, exclude_encodings=None, element_classes=None, **kwargs)\\n--doc:A data structure representing a parsed HTML or XML document.\\n\\n    Most of the methods you\\'ll call on a BeautifulSoup object are inherited from\\n    PageElement or Tag.\\n\\n    Internally, this class defines the basic interface called by the\\n    tree builders when converting an HTML/XML document into a data\\n    structure. The interface abstracts away the differences between\\n    parsers. To write a new tree builder, you\\'ll need to understand\\n    these methods as a whole.\\n\\n    These methods will be called by the BeautifulSoup constructor:\\n      * reset()\\n      * feed(markup)\\n\\n    The tree builder may call these methods from its feed() implementation:\\n      * handle_starttag(name, attrs) # See note about return value\\n      * handle_endtag(name)\\n      * handle_data(data) # Appends to the current data node\\n      * endData(containerClass) # Ends the current data node\\n\\n    No matter how complicated the underlying parser is, you should be\\n    able to build a tree using \\'start tag\\' events, \\'end tag\\' events,\\n    \\'data\\' events, and \"done with data\" events.\\n\\n    If you encounter an empty-element tag (aka a self-closing tag,\\n    like HTML\\'s <br> tag), call handle_starttag and then\\n    handle_endtag.\\n    \\n\\n', \"--name:find_all\\n--annotations:(self, name=None, attrs={}, recursive=True, string=None, limit=None, **kwargs)\\n--doc:Look in the children of this PageElement and find all\\n        PageElements that match the given criteria.\\n\\n        All find_* methods take a common set of arguments. See the online\\n        documentation for detailed explanations.\\n\\n        :param name: A filter on tag name.\\n        :param attrs: A dictionary of filters on attribute values.\\n        :param recursive: If this is True, find_all() will perform a\\n            recursive search of this PageElement's children. Otherwise,\\n            only the direct children will be considered.\\n        :param limit: Stop looking after finding this many results.\\n        :kwargs: A dictionary of filters on attribute values.\\n        :return: A ResultSet of PageElements.\\n        :rtype: bs4.element.ResultSet\\n        \\n\\n\"]\n",
      "</functions>\n",
      "<json_structure>\n",
      "{\n",
      "  \"tasks\": [\n",
      "    {\n",
      "      \"task_id\": 1,\n",
      "      \"function_name\": \"function name\",\n",
      "      \"parameters\": [\n",
      "        {\n",
      "        \"name\":\"name of this parameter according to annotations.\",\n",
      "        \"value\":\"value to be passed for this parameter\",\n",
      "        \"dtype\":\"type annotation of the variable\",\n",
      "        \"description\": \"An explanation of why this value should be utilized.\"\n",
      "        },\n",
      "        {\n",
      "        \"name\":\"self\",\n",
      "        \"value\":\"variable name to be passed for this parameter self.\",\n",
      "        \"dtype\":\"type annotation of the self parameter\",\n",
      "        \"description\": \"An explanation of why the cariable should be used for this self parameter.\"\n",
      "        }\n",
      "      ],\n",
      "      \"outputs\": [\"variable_1\"],\n",
      "      \"description\": \"some description\"\n",
      "    },\n",
      "    {\n",
      "      \"task_id\": 2,\n",
      "      \"function_name\": \"function name\",\n",
      "      \"parameters\": [\n",
      "        {\n",
      "        \"name\":\"self\",\n",
      "        \"value\":\"variable name to be passed for this parameter self.\",\n",
      "        \"dtype\":\"type annotation of the self parameter\",\n",
      "        \"description\": \"An explanation of why the cariable should be used for this self parameter.\"\n",
      "        },\n",
      "        {,\n",
      "        \"name\":\"name of this parameter according to annotations.\",\n",
      "        \"value\":\"value to be passed for this parameter\",\n",
      "        \"dtype\":\"type annotation of the variable\",\n",
      "        \"description\": \"An explanation of why this value should be utilized.\"\n",
      "        }\n",
      "      ],\n",
      "      \"outputs\": [\"variable_2\"],\n",
      "      \"description\": \"some description\"\n",
      "    }\n",
      "  ]\n",
      "}\n",
      "</json_structure>\n",
      "<instructions>\n",
      "- use self parameter with proper value based on the question.\n",
      "- name outputs as variable_1 , variable_2 , variable_3 , variable_4 and more variables in chronological order.\n",
      "- give attention to the type annotation of the parameter given while filling values.\n",
      "\n",
      "</instructions>\n",
      "<question>\n",
      "Given the above functions,\n",
      "- Do not give the parameters in json which have null values and default values of the function, only give the sequencial function calls with parameters to execute the below question:\n",
      "get the content of https://google.com, create beautiful soup class and find all divs in it\n",
      "</question>\n",
      "<json>\n",
      "\n"
     ]
    }
   ],
   "source": [
    "\n",
    "ques = \"get the content of https://google.com, create beautiful soup class and find all divs in it\"\n",
    "config = {\n",
    "\"func_info\":  str([\n",
    "                f\"\"\"--name:{function.name}\\n--annotations:{function.signature}\\n--doc:{function.docs}\\n\\n\"\"\"\n",
    "                for function in pip_flow.functions\n",
    "            ]),\n",
    "\"instructions\": \"\",\n",
    "\"question\": ques\n",
    "}\n",
    "print(pip_flow.make_live_prompt(\"default\", config))"
   ]
  },
  {
   "cell_type": "code",
   "execution_count": 7,
   "metadata": {},
   "outputs": [
    {
     "name": "stdout",
     "output_type": "stream",
     "text": [
      "{\n",
      "    \"tasks\": [\n",
      "        {\n",
      "            \"task_id\": 1,\n",
      "            \"function_name\": \"get\",\n",
      "            \"parameters\": [\n",
      "                {\n",
      "                    \"name\": \"url\",\n",
      "                    \"value\": \"https://google.com\",\n",
      "                    \"description\": \"URL to be fetched\",\n",
      "                    \"dtype\": \"string\"\n",
      "                }\n",
      "            ],\n",
      "            \"outputs\": [\n",
      "                \"variable_1\"\n",
      "            ],\n",
      "            \"description\": \"Fetches the content of the specified URL using the GET method.\"\n",
      "        },\n",
      "        {\n",
      "            \"task_id\": 2,\n",
      "            \"function_name\": \"BeautifulSoup\",\n",
      "            \"parameters\": [\n",
      "                {\n",
      "                    \"name\": \"markup\",\n",
      "                    \"value\": \"variable_1\",\n",
      "                    \"description\": \"Markup to be parsed\",\n",
      "                    \"dtype\": \"string\"\n",
      "                }\n",
      "            ],\n",
      "            \"outputs\": [\n",
      "                \"variable_2\"\n",
      "            ],\n",
      "            \"description\": \"Creates a BeautifulSoup object from the parsed HTML content.\"\n",
      "        },\n",
      "        {\n",
      "            \"task_id\": 3,\n",
      "            \"function_name\": \"find_all\",\n",
      "            \"parameters\": [\n",
      "                {\n",
      "                    \"name\": \"self\",\n",
      "                    \"value\": \"variable_2\",\n",
      "                    \"description\": \"BeautifulSoup object to search in\",\n",
      "                    \"dtype\": \"BeautifulSoup object\"\n",
      "                },\n",
      "                {\n",
      "                    \"name\": \"name\",\n",
      "                    \"value\": \"div\",\n",
      "                    \"description\": \"Name of the tag to search for\",\n",
      "                    \"dtype\": \"string\"\n",
      "                }\n",
      "            ],\n",
      "            \"outputs\": [\n",
      "                \"variable_3\"\n",
      "            ],\n",
      "            \"description\": \"Finds all div elements in the BeautifulSoup object.\"\n",
      "        }\n",
      "    ]\n",
      "}\n"
     ]
    }
   ],
   "source": [
    "plan =pip_flow.generate_plan()\n",
    "print(plan)"
   ]
  },
  {
   "cell_type": "code",
   "execution_count": 8,
   "metadata": {},
   "outputs": [
    {
     "data": {
      "text/markdown": [
       "\n",
       "```python\n",
       "import requests\n",
       "from bs4 import BeautifulSoup\n",
       "\n",
       "# Fetch the content of the URL\n",
       "response = requests.api.get('https://google.com')\n",
       "\n",
       "# Create BeautifulSoup object from the fetched content\n",
       "soup = BeautifulSoup(response.content, 'html.parser')\n",
       "\n",
       "# Find all div elements in the BeautifulSoup object\n",
       "divs = soup.find_all('div')\n",
       "\n",
       "# Print the div elements\n",
       "for div in divs:\n",
       "    print(div)\n",
       "```\n"
      ],
      "text/plain": [
       "<IPython.core.display.Markdown object>"
      ]
     },
     "metadata": {},
     "output_type": "display_data"
    }
   ],
   "source": [
    "pip_flow.plan_to_code()"
   ]
  },
  {
   "cell_type": "code",
   "execution_count": null,
   "metadata": {},
   "outputs": [],
   "source": []
  }
 ],
 "metadata": {
  "kernelspec": {
   "display_name": "Python 3",
   "language": "python",
   "name": "python3"
  },
  "language_info": {
   "codemirror_mode": {
    "name": "ipython",
    "version": 3
   },
   "file_extension": ".py",
   "mimetype": "text/x-python",
   "name": "python",
   "nbconvert_exporter": "python",
   "pygments_lexer": "ipython3",
   "version": "3.10.13"
  }
 },
 "nbformat": 4,
 "nbformat_minor": 2
}
