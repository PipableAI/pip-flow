{
 "cells": [
  {
   "cell_type": "code",
   "execution_count": 1,
   "metadata": {},
   "outputs": [],
   "source": [
    "from pip_flow.pip_flow import PipFlow"
   ]
  },
  {
   "cell_type": "code",
   "execution_count": 2,
   "metadata": {},
   "outputs": [],
   "source": [
    "pip_flow = PipFlow()"
   ]
  },
  {
   "cell_type": "markdown",
   "metadata": {},
   "source": [
    "## Generate responses from a prompt [Some miscellaneous examples]."
   ]
  },
  {
   "cell_type": "code",
   "execution_count": 3,
   "metadata": {},
   "outputs": [
    {
     "name": "stdout",
     "output_type": "stream",
     "text": [
      "\n",
      "The story begins with a boy who grows bored and watches over a village sheep. He yells to a wolf to chase the sheep, but no wolf is seen. The boy tells the villagers to not do it again. Later, the boy sees a wolf sneaking amongst the flock, and he calls for help. The villagers tell him that the boy is lying, but he is still lying. The story ends with the boy telling the villagers that there is a\n"
     ]
    }
   ],
   "source": [
    "prompt = \"\"\"\n",
    "<story>\n",
    "There once was a boy who grew bored while watching over the village sheep. He wanted to make things more exciting. So, he yelled out that he saw a wolf chasing the sheep. All the villagers came running to drive the wolf away. However, they saw no wolf. The boy was amused, but the villagers were not. They told him not to do it again. Shortly after, he repeated this antic. The villagers came running again, only to find that he was lying. Later that day, the boy really sees a wolf sneaking amongst the flock. He jumped up and called out for help. But no one came this time because they thought he was still joking around. At sunset, the villagers looked for the boy. He had not returned with their sheep. They found him crying. He told them that there really was a wolf, and the entire flock was gone. An old man came to comfort him and told him that nobody would believe a liar even when they are being honest.\n",
    "</story>\n",
    "<question>\n",
    "Give a short summary of the above story.\n",
    "</question>\n",
    "\"\"\"\n",
    "\n",
    "print(pip_flow.generate(prompt, eos_token=\"response\", max_new_tokens=100))"
   ]
  },
  {
   "cell_type": "code",
   "execution_count": 4,
   "metadata": {},
   "outputs": [
    {
     "name": "stdout",
     "output_type": "stream",
     "text": [
      "\n",
      "<data>\n",
      "<a>1, 3 and 5</a>\n",
      "<b>John and Michael</b>\n",
      "</data>\n",
      "\n"
     ]
    }
   ],
   "source": [
    "prompt = \"\"\"\n",
    "<data>\n",
    "a = 1, 3 and 5\n",
    "b = 'John' and 'Michael'\n",
    "</data>\n",
    "<question>\n",
    "Create a XML file with the data above.\n",
    "</question>\n",
    "\"\"\"\n",
    "\n",
    "print(pip_flow.generate(prompt, eos_token=\"xml\", max_new_tokens=50))"
   ]
  },
  {
   "cell_type": "code",
   "execution_count": 5,
   "metadata": {},
   "outputs": [
    {
     "name": "stdout",
     "output_type": "stream",
     "text": [
      "\n",
      "{\n",
      "  \"a\": [1, 3, 5],\n",
      "  \"b\": ['John', 'Michael']\n",
      "}\n",
      "\n"
     ]
    }
   ],
   "source": [
    "prompt = \"\"\"\n",
    "<data>\n",
    "a = 1, 3 and 5\n",
    "b = 'John' and 'Michael'\n",
    "</data>\n",
    "<question>\n",
    "Create a JSON file with the data above.\n",
    "</question>\n",
    "\"\"\"\n",
    "\n",
    "print(pip_flow.generate(prompt, eos_token=\"json\", max_new_tokens=50))"
   ]
  },
  {
   "cell_type": "code",
   "execution_count": 6,
   "metadata": {},
   "outputs": [
    {
     "name": "stdout",
     "output_type": "stream",
     "text": [
      "\n",
      "\n",
      "\n",
      "```python\n",
      "def double_number(n):\n",
      "  return n * 2\n",
      "```\n",
      "\n",
      "\n"
     ]
    }
   ],
   "source": [
    "prompt = \"\"\"\n",
    "<question>\n",
    "write a python function to double the input number.\n",
    "</question>\n",
    "\"\"\"\n",
    "\n",
    "print(pip_flow.generate(prompt, eos_token=\"code\", max_new_tokens=50))"
   ]
  },
  {
   "cell_type": "code",
   "execution_count": 23,
   "metadata": {},
   "outputs": [
    {
     "name": "stdout",
     "output_type": "stream",
     "text": [
      "\n",
      "<a>[1, 3, 5]</a>\n",
      "<b>John, Michael</b>\n",
      "\n"
     ]
    }
   ],
   "source": [
    "prompt = \"\"\"\n",
    "<json>\n",
    "{\n",
    "  \"a\": [1, 3, 5],\n",
    "  \"b\": ['John', 'Michael']\n",
    "}\n",
    "</json>\n",
    "<question>\n",
    "Parse the json to xml.\n",
    "</question>\n",
    "\"\"\"\n",
    "\n",
    "print(pip_flow.generate(prompt, eos_token=\"xml\", max_new_tokens=50))"
   ]
  },
  {
   "cell_type": "markdown",
   "metadata": {},
   "source": [
    "## SQL Example"
   ]
  },
  {
   "cell_type": "code",
   "execution_count": 7,
   "metadata": {},
   "outputs": [
    {
     "data": {
      "text/html": [
       "<style>pre { line-height: 125%; }\n",
       "td.linenos .normal { color: inherit; background-color: transparent; padding-left: 5px; padding-right: 5px; }\n",
       "span.linenos { color: inherit; background-color: transparent; padding-left: 5px; padding-right: 5px; }\n",
       "td.linenos .special { color: #000000; background-color: #ffffc0; padding-left: 5px; padding-right: 5px; }\n",
       "span.linenos.special { color: #000000; background-color: #ffffc0; padding-left: 5px; padding-right: 5px; }\n",
       ".output_html .hll { background-color: #ffffcc }\n",
       ".output_html { background: #f8f8f8; }\n",
       ".output_html .c { color: #3D7B7B; font-style: italic } /* Comment */\n",
       ".output_html .err { border: 1px solid #FF0000 } /* Error */\n",
       ".output_html .k { color: #008000; font-weight: bold } /* Keyword */\n",
       ".output_html .o { color: #666666 } /* Operator */\n",
       ".output_html .ch { color: #3D7B7B; font-style: italic } /* Comment.Hashbang */\n",
       ".output_html .cm { color: #3D7B7B; font-style: italic } /* Comment.Multiline */\n",
       ".output_html .cp { color: #9C6500 } /* Comment.Preproc */\n",
       ".output_html .cpf { color: #3D7B7B; font-style: italic } /* Comment.PreprocFile */\n",
       ".output_html .c1 { color: #3D7B7B; font-style: italic } /* Comment.Single */\n",
       ".output_html .cs { color: #3D7B7B; font-style: italic } /* Comment.Special */\n",
       ".output_html .gd { color: #A00000 } /* Generic.Deleted */\n",
       ".output_html .ge { font-style: italic } /* Generic.Emph */\n",
       ".output_html .ges { font-weight: bold; font-style: italic } /* Generic.EmphStrong */\n",
       ".output_html .gr { color: #E40000 } /* Generic.Error */\n",
       ".output_html .gh { color: #000080; font-weight: bold } /* Generic.Heading */\n",
       ".output_html .gi { color: #008400 } /* Generic.Inserted */\n",
       ".output_html .go { color: #717171 } /* Generic.Output */\n",
       ".output_html .gp { color: #000080; font-weight: bold } /* Generic.Prompt */\n",
       ".output_html .gs { font-weight: bold } /* Generic.Strong */\n",
       ".output_html .gu { color: #800080; font-weight: bold } /* Generic.Subheading */\n",
       ".output_html .gt { color: #0044DD } /* Generic.Traceback */\n",
       ".output_html .kc { color: #008000; font-weight: bold } /* Keyword.Constant */\n",
       ".output_html .kd { color: #008000; font-weight: bold } /* Keyword.Declaration */\n",
       ".output_html .kn { color: #008000; font-weight: bold } /* Keyword.Namespace */\n",
       ".output_html .kp { color: #008000 } /* Keyword.Pseudo */\n",
       ".output_html .kr { color: #008000; font-weight: bold } /* Keyword.Reserved */\n",
       ".output_html .kt { color: #B00040 } /* Keyword.Type */\n",
       ".output_html .m { color: #666666 } /* Literal.Number */\n",
       ".output_html .s { color: #BA2121 } /* Literal.String */\n",
       ".output_html .na { color: #687822 } /* Name.Attribute */\n",
       ".output_html .nb { color: #008000 } /* Name.Builtin */\n",
       ".output_html .nc { color: #0000FF; font-weight: bold } /* Name.Class */\n",
       ".output_html .no { color: #880000 } /* Name.Constant */\n",
       ".output_html .nd { color: #AA22FF } /* Name.Decorator */\n",
       ".output_html .ni { color: #717171; font-weight: bold } /* Name.Entity */\n",
       ".output_html .ne { color: #CB3F38; font-weight: bold } /* Name.Exception */\n",
       ".output_html .nf { color: #0000FF } /* Name.Function */\n",
       ".output_html .nl { color: #767600 } /* Name.Label */\n",
       ".output_html .nn { color: #0000FF; font-weight: bold } /* Name.Namespace */\n",
       ".output_html .nt { color: #008000; font-weight: bold } /* Name.Tag */\n",
       ".output_html .nv { color: #19177C } /* Name.Variable */\n",
       ".output_html .ow { color: #AA22FF; font-weight: bold } /* Operator.Word */\n",
       ".output_html .w { color: #bbbbbb } /* Text.Whitespace */\n",
       ".output_html .mb { color: #666666 } /* Literal.Number.Bin */\n",
       ".output_html .mf { color: #666666 } /* Literal.Number.Float */\n",
       ".output_html .mh { color: #666666 } /* Literal.Number.Hex */\n",
       ".output_html .mi { color: #666666 } /* Literal.Number.Integer */\n",
       ".output_html .mo { color: #666666 } /* Literal.Number.Oct */\n",
       ".output_html .sa { color: #BA2121 } /* Literal.String.Affix */\n",
       ".output_html .sb { color: #BA2121 } /* Literal.String.Backtick */\n",
       ".output_html .sc { color: #BA2121 } /* Literal.String.Char */\n",
       ".output_html .dl { color: #BA2121 } /* Literal.String.Delimiter */\n",
       ".output_html .sd { color: #BA2121; font-style: italic } /* Literal.String.Doc */\n",
       ".output_html .s2 { color: #BA2121 } /* Literal.String.Double */\n",
       ".output_html .se { color: #AA5D1F; font-weight: bold } /* Literal.String.Escape */\n",
       ".output_html .sh { color: #BA2121 } /* Literal.String.Heredoc */\n",
       ".output_html .si { color: #A45A77; font-weight: bold } /* Literal.String.Interpol */\n",
       ".output_html .sx { color: #008000 } /* Literal.String.Other */\n",
       ".output_html .sr { color: #A45A77 } /* Literal.String.Regex */\n",
       ".output_html .s1 { color: #BA2121 } /* Literal.String.Single */\n",
       ".output_html .ss { color: #19177C } /* Literal.String.Symbol */\n",
       ".output_html .bp { color: #008000 } /* Name.Builtin.Pseudo */\n",
       ".output_html .fm { color: #0000FF } /* Name.Function.Magic */\n",
       ".output_html .vc { color: #19177C } /* Name.Variable.Class */\n",
       ".output_html .vg { color: #19177C } /* Name.Variable.Global */\n",
       ".output_html .vi { color: #19177C } /* Name.Variable.Instance */\n",
       ".output_html .vm { color: #19177C } /* Name.Variable.Magic */\n",
       ".output_html .il { color: #666666 } /* Literal.Number.Integer.Long */</style><div class=\"highlight\"><pre><span></span><span class=\"nt\">SELECT</span><span class=\"w\"> </span><span class=\"nt\">h</span><span class=\"p\">.</span><span class=\"nc\">name</span><span class=\"o\">,</span><span class=\"w\"> </span><span class=\"nt\">d</span><span class=\"p\">.</span><span class=\"nc\">name</span>\n",
       "<span class=\"nt\">FROM</span><span class=\"w\"> </span><span class=\"nt\">head</span><span class=\"w\"> </span><span class=\"nt\">h</span>\n",
       "<span class=\"nt\">JOIN</span><span class=\"w\"> </span><span class=\"nt\">management</span><span class=\"w\"> </span><span class=\"nt\">m</span><span class=\"w\"> </span><span class=\"nt\">ON</span><span class=\"w\"> </span><span class=\"nt\">h</span><span class=\"p\">.</span><span class=\"nc\">head_ID</span><span class=\"w\"> </span><span class=\"o\">=</span><span class=\"w\"> </span><span class=\"nt\">m</span><span class=\"p\">.</span><span class=\"nc\">head_ID</span>\n",
       "<span class=\"nt\">JOIN</span><span class=\"w\"> </span><span class=\"nt\">department</span><span class=\"w\"> </span><span class=\"nt\">d</span><span class=\"w\"> </span><span class=\"nt\">ON</span><span class=\"w\"> </span><span class=\"nt\">m</span><span class=\"p\">.</span><span class=\"nc\">department_ID</span><span class=\"w\"> </span><span class=\"o\">=</span><span class=\"w\"> </span><span class=\"nt\">d</span><span class=\"p\">.</span><span class=\"nc\">Department_ID</span>\n",
       "<span class=\"nt\">WHERE</span><span class=\"w\"> </span><span class=\"nt\">h</span><span class=\"p\">.</span><span class=\"nc\">born_state</span><span class=\"w\"> </span><span class=\"o\">!=</span><span class=\"w\"> </span><span class=\"s1\">&#39;California&#39;</span><span class=\"o\">;</span>\n",
       "</pre></div>\n"
      ],
      "text/latex": [
       "\\begin{Verbatim}[commandchars=\\\\\\{\\}]\n",
       "\\PY{n+nt}{SELECT}\\PY{+w}{ }\\PY{n+nt}{h}\\PY{p}{.}\\PY{n+nc}{name}\\PY{o}{,}\\PY{+w}{ }\\PY{n+nt}{d}\\PY{p}{.}\\PY{n+nc}{name}\n",
       "\\PY{n+nt}{FROM}\\PY{+w}{ }\\PY{n+nt}{head}\\PY{+w}{ }\\PY{n+nt}{h}\n",
       "\\PY{n+nt}{JOIN}\\PY{+w}{ }\\PY{n+nt}{management}\\PY{+w}{ }\\PY{n+nt}{m}\\PY{+w}{ }\\PY{n+nt}{ON}\\PY{+w}{ }\\PY{n+nt}{h}\\PY{p}{.}\\PY{n+nc}{head\\PYZus{}ID}\\PY{+w}{ }\\PY{o}{=}\\PY{+w}{ }\\PY{n+nt}{m}\\PY{p}{.}\\PY{n+nc}{head\\PYZus{}ID}\n",
       "\\PY{n+nt}{JOIN}\\PY{+w}{ }\\PY{n+nt}{department}\\PY{+w}{ }\\PY{n+nt}{d}\\PY{+w}{ }\\PY{n+nt}{ON}\\PY{+w}{ }\\PY{n+nt}{m}\\PY{p}{.}\\PY{n+nc}{department\\PYZus{}ID}\\PY{+w}{ }\\PY{o}{=}\\PY{+w}{ }\\PY{n+nt}{d}\\PY{p}{.}\\PY{n+nc}{Department\\PYZus{}ID}\n",
       "\\PY{n+nt}{WHERE}\\PY{+w}{ }\\PY{n+nt}{h}\\PY{p}{.}\\PY{n+nc}{born\\PYZus{}state}\\PY{+w}{ }\\PY{o}{!}\\PY{o}{=}\\PY{+w}{ }\\PY{l+s+s1}{\\PYZsq{}California\\PYZsq{}}\\PY{o}{;}\n",
       "\\end{Verbatim}\n"
      ],
      "text/plain": [
       "\n",
       "SELECT h.name, d.name\n",
       "FROM head h\n",
       "JOIN management m ON h.head_ID = m.head_ID\n",
       "JOIN department d ON m.department_ID = d.Department_ID\n",
       "WHERE h.born_state != 'California';"
      ]
     },
     "metadata": {},
     "output_type": "display_data"
    }
   ],
   "source": [
    "instructions = \"\"\"\n",
    "1. In department table, column Budget_in_Billions is in billions, so 1 will represent 1 billion\n",
    "\"\"\"\n",
    "\n",
    "schema = f\"\"\"\n",
    "<schema>\n",
    "CREATE TABLE department (\n",
    "  Department_ID number,         -- Unique identifier for the department\n",
    "  Name text,                     -- Name of the department\n",
    "  Creation text,                 -- Date of creation or establishment\n",
    "  Ranking number,                -- Ranking of the department\n",
    "  Budget_in_Billions number,     -- Budget of the department in billions\n",
    "  Num_Employees number          -- Number of employees in the department\n",
    ");\n",
    "\n",
    "CREATE TABLE head (\n",
    "  head_ID number,                -- Unique identifier for the head\n",
    "  name text,                     -- Name of the head\n",
    "  born_state text,               -- State where the head was born\n",
    "  age number                     -- Age of the head\n",
    ");\n",
    "\n",
    "CREATE TABLE management (\n",
    "  department_ID number,          -- Foreign key referencing Department_ID in department table\n",
    "  head_ID number,                -- Foreign key referencing head_ID in head table\n",
    "  temporary_acting text          -- Indicates if the head is temporarily acting\n",
    ");\n",
    "</schema>\n",
    "\"\"\"\n",
    "\n",
    "question = \"What are the names of the heads and their departments who are born outside the California state ?\"\n",
    "\n",
    "query = pip_flow.generate_sql(\n",
    "    schema=schema, question=question, instructions=instructions\n",
    ")"
   ]
  },
  {
   "cell_type": "markdown",
   "metadata": {},
   "source": [
    "## Generate Docstring Example"
   ]
  },
  {
   "cell_type": "code",
   "execution_count": 26,
   "metadata": {},
   "outputs": [
    {
     "data": {
      "text/markdown": [
       "\n",
       "\n",
       "The function `some_function` takes two parameters: `a` and `b`. It returns the result of the division of `a` by `b`.\n",
       "\n",
       "- `a`: A float. The numerator of the division.\n",
       "- `b`: A float. The denominator of the division.\n",
       "\n",
       "- Dtypes: `a` should be a float, `b` should be a float.\n",
       "\n",
       "- Possible values for `a` and `b`: Any float value.\n",
       "\n",
       "- Default value of `a` and `b`: 1.0.\n",
       "\n",
       "- Return type: float. The result of the division.\n",
       "\n"
      ],
      "text/plain": [
       "<IPython.core.display.Markdown object>"
      ]
     },
     "metadata": {},
     "output_type": "display_data"
    }
   ],
   "source": [
    "# code with syntax error\n",
    "code = \"\"\"\n",
    "def some_function(a: float, b:float):\n",
    "    retueern a / b\n",
    "\"\"\"\n",
    "\n",
    "docs = pip_flow.generate_docs(code=code)"
   ]
  },
  {
   "cell_type": "code",
   "execution_count": 8,
   "metadata": {},
   "outputs": [
    {
     "data": {
      "text/markdown": [
       "\n",
       "The function `post` sends a POST request to the specified URL. It takes several parameters, including `url` for the target URL, `data` for sending data in the body of the request, `json` for sending JSON data, and `**kwargs` for passing additional parameters to the `request` function.\n",
       "\n",
       "The function returns a `Response` object from the `request` function.\n",
       "\n",
       "**Parameters:**\n",
       "\n",
       "- `url`: The URL of the server to which the request is sent. It should be a string.\n",
       "- `data`: The data to be sent in the body of the request. It can be a dictionary, list of tuples, bytes, or file-like object.\n",
       "- `json`: A JSON serializable Python object to be sent in the body of the request.\n",
       "- `**kwargs`: Additional parameters to be passed to the `request` function.\n",
       "\n",
       "**Return Value:**\n",
       "\n",
       "- A `Response` object from the `request` function.\n",
       "\n",
       "**Dtypes:**\n",
       "\n",
       "- `url`: A string.\n",
       "- `data`: A dictionary, list of tuples, bytes, or file-like object.\n",
       "- `json`: A dictionary, list of tuples, bytes, or file-like object.\n",
       "- `**kwargs`: A dictionary.\n",
       "\n",
       "**Possible Param Values:**\n",
       "\n",
       "- `url`: A string representing the URL of the server to which the request is sent.\n",
       "- `data`: A dictionary, list of tuples, bytes, or file-like object representing the data to be sent in the body of the request.\n",
       "- `json`: A dictionary, list of tuples, bytes, or file-like object representing the JSON data to be sent in the body of the request.\n",
       "- `**kwargs`: A dictionary containing additional parameters to be passed to the `request` function.\n",
       "\n",
       "**Default Param Value:**\n",
       "\n",
       "- `url`: A string representing the URL of the server to which the request is sent.\n",
       "- `data`: A dictionary, list of tuples, bytes, or file-like object representing the data to be sent in the body of the request.\n",
       "- `json`: A dictionary, list of tuples, bytes, or file-like"
      ],
      "text/plain": [
       "<IPython.core.display.Markdown object>"
      ]
     },
     "metadata": {},
     "output_type": "display_data"
    }
   ],
   "source": [
    "import requests\n",
    "\n",
    "docs = pip_flow.generate_docs(requests.post)"
   ]
  },
  {
   "cell_type": "markdown",
   "metadata": {},
   "source": [
    "## Generate Function Call Examples"
   ]
  },
  {
   "cell_type": "code",
   "execution_count": 9,
   "metadata": {},
   "outputs": [
    {
     "data": {
      "text/html": [
       "<style>pre { line-height: 125%; }\n",
       "td.linenos .normal { color: inherit; background-color: transparent; padding-left: 5px; padding-right: 5px; }\n",
       "span.linenos { color: inherit; background-color: transparent; padding-left: 5px; padding-right: 5px; }\n",
       "td.linenos .special { color: #000000; background-color: #ffffc0; padding-left: 5px; padding-right: 5px; }\n",
       "span.linenos.special { color: #000000; background-color: #ffffc0; padding-left: 5px; padding-right: 5px; }\n",
       ".output_html .hll { background-color: #ffffcc }\n",
       ".output_html { background: #f8f8f8; }\n",
       ".output_html .c { color: #3D7B7B; font-style: italic } /* Comment */\n",
       ".output_html .err { border: 1px solid #FF0000 } /* Error */\n",
       ".output_html .k { color: #008000; font-weight: bold } /* Keyword */\n",
       ".output_html .o { color: #666666 } /* Operator */\n",
       ".output_html .ch { color: #3D7B7B; font-style: italic } /* Comment.Hashbang */\n",
       ".output_html .cm { color: #3D7B7B; font-style: italic } /* Comment.Multiline */\n",
       ".output_html .cp { color: #9C6500 } /* Comment.Preproc */\n",
       ".output_html .cpf { color: #3D7B7B; font-style: italic } /* Comment.PreprocFile */\n",
       ".output_html .c1 { color: #3D7B7B; font-style: italic } /* Comment.Single */\n",
       ".output_html .cs { color: #3D7B7B; font-style: italic } /* Comment.Special */\n",
       ".output_html .gd { color: #A00000 } /* Generic.Deleted */\n",
       ".output_html .ge { font-style: italic } /* Generic.Emph */\n",
       ".output_html .ges { font-weight: bold; font-style: italic } /* Generic.EmphStrong */\n",
       ".output_html .gr { color: #E40000 } /* Generic.Error */\n",
       ".output_html .gh { color: #000080; font-weight: bold } /* Generic.Heading */\n",
       ".output_html .gi { color: #008400 } /* Generic.Inserted */\n",
       ".output_html .go { color: #717171 } /* Generic.Output */\n",
       ".output_html .gp { color: #000080; font-weight: bold } /* Generic.Prompt */\n",
       ".output_html .gs { font-weight: bold } /* Generic.Strong */\n",
       ".output_html .gu { color: #800080; font-weight: bold } /* Generic.Subheading */\n",
       ".output_html .gt { color: #0044DD } /* Generic.Traceback */\n",
       ".output_html .kc { color: #008000; font-weight: bold } /* Keyword.Constant */\n",
       ".output_html .kd { color: #008000; font-weight: bold } /* Keyword.Declaration */\n",
       ".output_html .kn { color: #008000; font-weight: bold } /* Keyword.Namespace */\n",
       ".output_html .kp { color: #008000 } /* Keyword.Pseudo */\n",
       ".output_html .kr { color: #008000; font-weight: bold } /* Keyword.Reserved */\n",
       ".output_html .kt { color: #B00040 } /* Keyword.Type */\n",
       ".output_html .m { color: #666666 } /* Literal.Number */\n",
       ".output_html .s { color: #BA2121 } /* Literal.String */\n",
       ".output_html .na { color: #687822 } /* Name.Attribute */\n",
       ".output_html .nb { color: #008000 } /* Name.Builtin */\n",
       ".output_html .nc { color: #0000FF; font-weight: bold } /* Name.Class */\n",
       ".output_html .no { color: #880000 } /* Name.Constant */\n",
       ".output_html .nd { color: #AA22FF } /* Name.Decorator */\n",
       ".output_html .ni { color: #717171; font-weight: bold } /* Name.Entity */\n",
       ".output_html .ne { color: #CB3F38; font-weight: bold } /* Name.Exception */\n",
       ".output_html .nf { color: #0000FF } /* Name.Function */\n",
       ".output_html .nl { color: #767600 } /* Name.Label */\n",
       ".output_html .nn { color: #0000FF; font-weight: bold } /* Name.Namespace */\n",
       ".output_html .nt { color: #008000; font-weight: bold } /* Name.Tag */\n",
       ".output_html .nv { color: #19177C } /* Name.Variable */\n",
       ".output_html .ow { color: #AA22FF; font-weight: bold } /* Operator.Word */\n",
       ".output_html .w { color: #bbbbbb } /* Text.Whitespace */\n",
       ".output_html .mb { color: #666666 } /* Literal.Number.Bin */\n",
       ".output_html .mf { color: #666666 } /* Literal.Number.Float */\n",
       ".output_html .mh { color: #666666 } /* Literal.Number.Hex */\n",
       ".output_html .mi { color: #666666 } /* Literal.Number.Integer */\n",
       ".output_html .mo { color: #666666 } /* Literal.Number.Oct */\n",
       ".output_html .sa { color: #BA2121 } /* Literal.String.Affix */\n",
       ".output_html .sb { color: #BA2121 } /* Literal.String.Backtick */\n",
       ".output_html .sc { color: #BA2121 } /* Literal.String.Char */\n",
       ".output_html .dl { color: #BA2121 } /* Literal.String.Delimiter */\n",
       ".output_html .sd { color: #BA2121; font-style: italic } /* Literal.String.Doc */\n",
       ".output_html .s2 { color: #BA2121 } /* Literal.String.Double */\n",
       ".output_html .se { color: #AA5D1F; font-weight: bold } /* Literal.String.Escape */\n",
       ".output_html .sh { color: #BA2121 } /* Literal.String.Heredoc */\n",
       ".output_html .si { color: #A45A77; font-weight: bold } /* Literal.String.Interpol */\n",
       ".output_html .sx { color: #008000 } /* Literal.String.Other */\n",
       ".output_html .sr { color: #A45A77 } /* Literal.String.Regex */\n",
       ".output_html .s1 { color: #BA2121 } /* Literal.String.Single */\n",
       ".output_html .ss { color: #19177C } /* Literal.String.Symbol */\n",
       ".output_html .bp { color: #008000 } /* Name.Builtin.Pseudo */\n",
       ".output_html .fm { color: #0000FF } /* Name.Function.Magic */\n",
       ".output_html .vc { color: #19177C } /* Name.Variable.Class */\n",
       ".output_html .vg { color: #19177C } /* Name.Variable.Global */\n",
       ".output_html .vi { color: #19177C } /* Name.Variable.Instance */\n",
       ".output_html .vm { color: #19177C } /* Name.Variable.Magic */\n",
       ".output_html .il { color: #666666 } /* Literal.Number.Integer.Long */</style><div class=\"highlight\"><pre><span></span><span class=\"nt\">requests</span><span class=\"p\">.</span><span class=\"nc\">post</span><span class=\"o\">(</span><span class=\"nt\">url</span><span class=\"o\">=</span><span class=\"s1\">&#39;https://website_url.com&#39;</span><span class=\"o\">,</span><span class=\"w\"> </span><span class=\"nt\">data</span><span class=\"o\">=</span><span class=\"s1\">&#39;{&quot;name&quot;: &quot;John&quot;, &quot;age&quot;: 30}&#39;</span><span class=\"o\">,</span><span class=\"w\"> </span><span class=\"nt\">headers</span><span class=\"o\">=</span><span class=\"s1\">&#39;Content-Type: application/json&#39;</span><span class=\"o\">)</span>\n",
       "</pre></div>\n"
      ],
      "text/latex": [
       "\\begin{Verbatim}[commandchars=\\\\\\{\\}]\n",
       "\\PY{n+nt}{requests}\\PY{p}{.}\\PY{n+nc}{post}\\PY{o}{(}\\PY{n+nt}{url}\\PY{o}{=}\\PY{l+s+s1}{\\PYZsq{}https://website\\PYZus{}url.com\\PYZsq{}}\\PY{o}{,}\\PY{+w}{ }\\PY{n+nt}{data}\\PY{o}{=}\\PY{l+s+s1}{\\PYZsq{}\\PYZob{}\\PYZdq{}name\\PYZdq{}: \\PYZdq{}John\\PYZdq{}, \\PYZdq{}age\\PYZdq{}: 30\\PYZcb{}\\PYZsq{}}\\PY{o}{,}\\PY{+w}{ }\\PY{n+nt}{headers}\\PY{o}{=}\\PY{l+s+s1}{\\PYZsq{}Content\\PYZhy{}Type: application/json\\PYZsq{}}\\PY{o}{)}\n",
       "\\end{Verbatim}\n"
      ],
      "text/plain": [
       "\n",
       "requests.post(url='https://website_url.com', data='{\"name\": \"John\", \"age\": 30}', headers='Content-Type: application/json')"
      ]
     },
     "metadata": {},
     "output_type": "display_data"
    }
   ],
   "source": [
    "import requests \n",
    "\n",
    "question = \"\"\"\n",
    "Make a POST request to https://website_url.com, with data '{\"name\": \"John\", \"age\": 30}' and headers 'Content-Type: application/json'.\n",
    "\"\"\"\n",
    "\n",
    "function_call = pip_flow.generate_function_call(question=question, function=requests.post)"
   ]
  },
  {
   "cell_type": "code",
   "execution_count": 10,
   "metadata": {},
   "outputs": [
    {
     "name": "stdout",
     "output_type": "stream",
     "text": [
      "Generating docstring for the code..\n"
     ]
    },
    {
     "data": {
      "text/markdown": [
       "\n",
       "\n",
       "The function `add_numbers` takes two parameters: `a` and `b`. It is designed to add two numbers together. The function takes two parameters, `a` and `b`, which are both of type `float`. The function returns a single value of type `float`.\n",
       "\n",
       "The function has the following parameters:\n",
       "\n",
       "- `a`: The first number to be added. It is of type `float`.\n",
       "- `b`: The second number to be added. It is of type `float`.\n",
       "\n",
       "The function returns a value of type `float`.\n",
       "\n",
       "The function has the following parameters with default values:\n",
       "\n",
       "- `a`: Defaults to `0.0`.\n",
       "- `b`: Defaults to `0.0`.\n",
       "\n",
       "The function has the following parameters with possible values:\n",
       "\n",
       "- `a`: Possible values range from `-1.7976931348623157e+308` to `1.7976931348623157e+308`.\n",
       "- `b`: Possible values range from `-1.7976931348623157e+308` to `1.7976931348623157e+308`.\n",
       "\n"
      ],
      "text/plain": [
       "<IPython.core.display.Markdown object>"
      ]
     },
     "metadata": {},
     "output_type": "display_data"
    },
    {
     "data": {
      "text/html": [
       "<style>pre { line-height: 125%; }\n",
       "td.linenos .normal { color: inherit; background-color: transparent; padding-left: 5px; padding-right: 5px; }\n",
       "span.linenos { color: inherit; background-color: transparent; padding-left: 5px; padding-right: 5px; }\n",
       "td.linenos .special { color: #000000; background-color: #ffffc0; padding-left: 5px; padding-right: 5px; }\n",
       "span.linenos.special { color: #000000; background-color: #ffffc0; padding-left: 5px; padding-right: 5px; }\n",
       ".output_html .hll { background-color: #ffffcc }\n",
       ".output_html { background: #f8f8f8; }\n",
       ".output_html .c { color: #3D7B7B; font-style: italic } /* Comment */\n",
       ".output_html .err { border: 1px solid #FF0000 } /* Error */\n",
       ".output_html .k { color: #008000; font-weight: bold } /* Keyword */\n",
       ".output_html .o { color: #666666 } /* Operator */\n",
       ".output_html .ch { color: #3D7B7B; font-style: italic } /* Comment.Hashbang */\n",
       ".output_html .cm { color: #3D7B7B; font-style: italic } /* Comment.Multiline */\n",
       ".output_html .cp { color: #9C6500 } /* Comment.Preproc */\n",
       ".output_html .cpf { color: #3D7B7B; font-style: italic } /* Comment.PreprocFile */\n",
       ".output_html .c1 { color: #3D7B7B; font-style: italic } /* Comment.Single */\n",
       ".output_html .cs { color: #3D7B7B; font-style: italic } /* Comment.Special */\n",
       ".output_html .gd { color: #A00000 } /* Generic.Deleted */\n",
       ".output_html .ge { font-style: italic } /* Generic.Emph */\n",
       ".output_html .ges { font-weight: bold; font-style: italic } /* Generic.EmphStrong */\n",
       ".output_html .gr { color: #E40000 } /* Generic.Error */\n",
       ".output_html .gh { color: #000080; font-weight: bold } /* Generic.Heading */\n",
       ".output_html .gi { color: #008400 } /* Generic.Inserted */\n",
       ".output_html .go { color: #717171 } /* Generic.Output */\n",
       ".output_html .gp { color: #000080; font-weight: bold } /* Generic.Prompt */\n",
       ".output_html .gs { font-weight: bold } /* Generic.Strong */\n",
       ".output_html .gu { color: #800080; font-weight: bold } /* Generic.Subheading */\n",
       ".output_html .gt { color: #0044DD } /* Generic.Traceback */\n",
       ".output_html .kc { color: #008000; font-weight: bold } /* Keyword.Constant */\n",
       ".output_html .kd { color: #008000; font-weight: bold } /* Keyword.Declaration */\n",
       ".output_html .kn { color: #008000; font-weight: bold } /* Keyword.Namespace */\n",
       ".output_html .kp { color: #008000 } /* Keyword.Pseudo */\n",
       ".output_html .kr { color: #008000; font-weight: bold } /* Keyword.Reserved */\n",
       ".output_html .kt { color: #B00040 } /* Keyword.Type */\n",
       ".output_html .m { color: #666666 } /* Literal.Number */\n",
       ".output_html .s { color: #BA2121 } /* Literal.String */\n",
       ".output_html .na { color: #687822 } /* Name.Attribute */\n",
       ".output_html .nb { color: #008000 } /* Name.Builtin */\n",
       ".output_html .nc { color: #0000FF; font-weight: bold } /* Name.Class */\n",
       ".output_html .no { color: #880000 } /* Name.Constant */\n",
       ".output_html .nd { color: #AA22FF } /* Name.Decorator */\n",
       ".output_html .ni { color: #717171; font-weight: bold } /* Name.Entity */\n",
       ".output_html .ne { color: #CB3F38; font-weight: bold } /* Name.Exception */\n",
       ".output_html .nf { color: #0000FF } /* Name.Function */\n",
       ".output_html .nl { color: #767600 } /* Name.Label */\n",
       ".output_html .nn { color: #0000FF; font-weight: bold } /* Name.Namespace */\n",
       ".output_html .nt { color: #008000; font-weight: bold } /* Name.Tag */\n",
       ".output_html .nv { color: #19177C } /* Name.Variable */\n",
       ".output_html .ow { color: #AA22FF; font-weight: bold } /* Operator.Word */\n",
       ".output_html .w { color: #bbbbbb } /* Text.Whitespace */\n",
       ".output_html .mb { color: #666666 } /* Literal.Number.Bin */\n",
       ".output_html .mf { color: #666666 } /* Literal.Number.Float */\n",
       ".output_html .mh { color: #666666 } /* Literal.Number.Hex */\n",
       ".output_html .mi { color: #666666 } /* Literal.Number.Integer */\n",
       ".output_html .mo { color: #666666 } /* Literal.Number.Oct */\n",
       ".output_html .sa { color: #BA2121 } /* Literal.String.Affix */\n",
       ".output_html .sb { color: #BA2121 } /* Literal.String.Backtick */\n",
       ".output_html .sc { color: #BA2121 } /* Literal.String.Char */\n",
       ".output_html .dl { color: #BA2121 } /* Literal.String.Delimiter */\n",
       ".output_html .sd { color: #BA2121; font-style: italic } /* Literal.String.Doc */\n",
       ".output_html .s2 { color: #BA2121 } /* Literal.String.Double */\n",
       ".output_html .se { color: #AA5D1F; font-weight: bold } /* Literal.String.Escape */\n",
       ".output_html .sh { color: #BA2121 } /* Literal.String.Heredoc */\n",
       ".output_html .si { color: #A45A77; font-weight: bold } /* Literal.String.Interpol */\n",
       ".output_html .sx { color: #008000 } /* Literal.String.Other */\n",
       ".output_html .sr { color: #A45A77 } /* Literal.String.Regex */\n",
       ".output_html .s1 { color: #BA2121 } /* Literal.String.Single */\n",
       ".output_html .ss { color: #19177C } /* Literal.String.Symbol */\n",
       ".output_html .bp { color: #008000 } /* Name.Builtin.Pseudo */\n",
       ".output_html .fm { color: #0000FF } /* Name.Function.Magic */\n",
       ".output_html .vc { color: #19177C } /* Name.Variable.Class */\n",
       ".output_html .vg { color: #19177C } /* Name.Variable.Global */\n",
       ".output_html .vi { color: #19177C } /* Name.Variable.Instance */\n",
       ".output_html .vm { color: #19177C } /* Name.Variable.Magic */\n",
       ".output_html .il { color: #666666 } /* Literal.Number.Integer.Long */</style><div class=\"highlight\"><pre><span></span><span class=\"nt\">add_numbers</span><span class=\"o\">(</span><span class=\"nt\">a</span><span class=\"o\">=</span><span class=\"nt\">4</span><span class=\"p\">.</span><span class=\"nc\">5</span><span class=\"o\">,</span><span class=\"w\"> </span><span class=\"nt\">b</span><span class=\"o\">=</span><span class=\"nt\">6</span><span class=\"p\">.</span><span class=\"nc\">7</span><span class=\"o\">)</span>\n",
       "</pre></div>\n"
      ],
      "text/latex": [
       "\\begin{Verbatim}[commandchars=\\\\\\{\\}]\n",
       "\\PY{n+nt}{add\\PYZus{}numbers}\\PY{o}{(}\\PY{n+nt}{a}\\PY{o}{=}\\PY{n+nt}{4}\\PY{p}{.}\\PY{n+nc}{5}\\PY{o}{,}\\PY{+w}{ }\\PY{n+nt}{b}\\PY{o}{=}\\PY{n+nt}{6}\\PY{p}{.}\\PY{n+nc}{7}\\PY{o}{)}\n",
       "\\end{Verbatim}\n"
      ],
      "text/plain": [
       "\n",
       "add_numbers(a=4.5, b=6.7)"
      ]
     },
     "metadata": {},
     "output_type": "display_data"
    }
   ],
   "source": [
    "code = \"\"\"\n",
    "def add_numbers(a: float, b:float):\n",
    "    return a + b\n",
    "\"\"\"\n",
    "\n",
    "question = \"\"\"\n",
    "I want to add 4.5 and 6.7\n",
    "\"\"\"\n",
    "function_call = pip_flow.generate_function_call(question=question, code=code)"
   ]
  },
  {
   "cell_type": "code",
   "execution_count": 11,
   "metadata": {},
   "outputs": [
    {
     "data": {
      "text/html": [
       "<style>pre { line-height: 125%; }\n",
       "td.linenos .normal { color: inherit; background-color: transparent; padding-left: 5px; padding-right: 5px; }\n",
       "span.linenos { color: inherit; background-color: transparent; padding-left: 5px; padding-right: 5px; }\n",
       "td.linenos .special { color: #000000; background-color: #ffffc0; padding-left: 5px; padding-right: 5px; }\n",
       "span.linenos.special { color: #000000; background-color: #ffffc0; padding-left: 5px; padding-right: 5px; }\n",
       ".output_html .hll { background-color: #ffffcc }\n",
       ".output_html { background: #f8f8f8; }\n",
       ".output_html .c { color: #3D7B7B; font-style: italic } /* Comment */\n",
       ".output_html .err { border: 1px solid #FF0000 } /* Error */\n",
       ".output_html .k { color: #008000; font-weight: bold } /* Keyword */\n",
       ".output_html .o { color: #666666 } /* Operator */\n",
       ".output_html .ch { color: #3D7B7B; font-style: italic } /* Comment.Hashbang */\n",
       ".output_html .cm { color: #3D7B7B; font-style: italic } /* Comment.Multiline */\n",
       ".output_html .cp { color: #9C6500 } /* Comment.Preproc */\n",
       ".output_html .cpf { color: #3D7B7B; font-style: italic } /* Comment.PreprocFile */\n",
       ".output_html .c1 { color: #3D7B7B; font-style: italic } /* Comment.Single */\n",
       ".output_html .cs { color: #3D7B7B; font-style: italic } /* Comment.Special */\n",
       ".output_html .gd { color: #A00000 } /* Generic.Deleted */\n",
       ".output_html .ge { font-style: italic } /* Generic.Emph */\n",
       ".output_html .ges { font-weight: bold; font-style: italic } /* Generic.EmphStrong */\n",
       ".output_html .gr { color: #E40000 } /* Generic.Error */\n",
       ".output_html .gh { color: #000080; font-weight: bold } /* Generic.Heading */\n",
       ".output_html .gi { color: #008400 } /* Generic.Inserted */\n",
       ".output_html .go { color: #717171 } /* Generic.Output */\n",
       ".output_html .gp { color: #000080; font-weight: bold } /* Generic.Prompt */\n",
       ".output_html .gs { font-weight: bold } /* Generic.Strong */\n",
       ".output_html .gu { color: #800080; font-weight: bold } /* Generic.Subheading */\n",
       ".output_html .gt { color: #0044DD } /* Generic.Traceback */\n",
       ".output_html .kc { color: #008000; font-weight: bold } /* Keyword.Constant */\n",
       ".output_html .kd { color: #008000; font-weight: bold } /* Keyword.Declaration */\n",
       ".output_html .kn { color: #008000; font-weight: bold } /* Keyword.Namespace */\n",
       ".output_html .kp { color: #008000 } /* Keyword.Pseudo */\n",
       ".output_html .kr { color: #008000; font-weight: bold } /* Keyword.Reserved */\n",
       ".output_html .kt { color: #B00040 } /* Keyword.Type */\n",
       ".output_html .m { color: #666666 } /* Literal.Number */\n",
       ".output_html .s { color: #BA2121 } /* Literal.String */\n",
       ".output_html .na { color: #687822 } /* Name.Attribute */\n",
       ".output_html .nb { color: #008000 } /* Name.Builtin */\n",
       ".output_html .nc { color: #0000FF; font-weight: bold } /* Name.Class */\n",
       ".output_html .no { color: #880000 } /* Name.Constant */\n",
       ".output_html .nd { color: #AA22FF } /* Name.Decorator */\n",
       ".output_html .ni { color: #717171; font-weight: bold } /* Name.Entity */\n",
       ".output_html .ne { color: #CB3F38; font-weight: bold } /* Name.Exception */\n",
       ".output_html .nf { color: #0000FF } /* Name.Function */\n",
       ".output_html .nl { color: #767600 } /* Name.Label */\n",
       ".output_html .nn { color: #0000FF; font-weight: bold } /* Name.Namespace */\n",
       ".output_html .nt { color: #008000; font-weight: bold } /* Name.Tag */\n",
       ".output_html .nv { color: #19177C } /* Name.Variable */\n",
       ".output_html .ow { color: #AA22FF; font-weight: bold } /* Operator.Word */\n",
       ".output_html .w { color: #bbbbbb } /* Text.Whitespace */\n",
       ".output_html .mb { color: #666666 } /* Literal.Number.Bin */\n",
       ".output_html .mf { color: #666666 } /* Literal.Number.Float */\n",
       ".output_html .mh { color: #666666 } /* Literal.Number.Hex */\n",
       ".output_html .mi { color: #666666 } /* Literal.Number.Integer */\n",
       ".output_html .mo { color: #666666 } /* Literal.Number.Oct */\n",
       ".output_html .sa { color: #BA2121 } /* Literal.String.Affix */\n",
       ".output_html .sb { color: #BA2121 } /* Literal.String.Backtick */\n",
       ".output_html .sc { color: #BA2121 } /* Literal.String.Char */\n",
       ".output_html .dl { color: #BA2121 } /* Literal.String.Delimiter */\n",
       ".output_html .sd { color: #BA2121; font-style: italic } /* Literal.String.Doc */\n",
       ".output_html .s2 { color: #BA2121 } /* Literal.String.Double */\n",
       ".output_html .se { color: #AA5D1F; font-weight: bold } /* Literal.String.Escape */\n",
       ".output_html .sh { color: #BA2121 } /* Literal.String.Heredoc */\n",
       ".output_html .si { color: #A45A77; font-weight: bold } /* Literal.String.Interpol */\n",
       ".output_html .sx { color: #008000 } /* Literal.String.Other */\n",
       ".output_html .sr { color: #A45A77 } /* Literal.String.Regex */\n",
       ".output_html .s1 { color: #BA2121 } /* Literal.String.Single */\n",
       ".output_html .ss { color: #19177C } /* Literal.String.Symbol */\n",
       ".output_html .bp { color: #008000 } /* Name.Builtin.Pseudo */\n",
       ".output_html .fm { color: #0000FF } /* Name.Function.Magic */\n",
       ".output_html .vc { color: #19177C } /* Name.Variable.Class */\n",
       ".output_html .vg { color: #19177C } /* Name.Variable.Global */\n",
       ".output_html .vi { color: #19177C } /* Name.Variable.Instance */\n",
       ".output_html .vm { color: #19177C } /* Name.Variable.Magic */\n",
       ".output_html .il { color: #666666 } /* Literal.Number.Integer.Long */</style><div class=\"highlight\"><pre><span></span><span class=\"nt\">make_get_req</span><span class=\"o\">(</span><span class=\"nt\">path</span><span class=\"o\">=</span><span class=\"s1\">&#39;variable_2&#39;</span><span class=\"o\">,</span><span class=\"w\"> </span><span class=\"nt\">data</span><span class=\"o\">=</span><span class=\"nt\">variable_1</span><span class=\"o\">,</span><span class=\"w\"> </span><span class=\"nt\">params</span><span class=\"o\">=</span><span class=\"p\">{</span><span class=\"err\">&#39;weight&#39;:</span><span class=\"w\"> </span><span class=\"err\">variable_3</span><span class=\"p\">}</span><span class=\"o\">,</span><span class=\"w\"> </span><span class=\"nt\">headers</span><span class=\"o\">=</span><span class=\"p\">{}</span><span class=\"o\">,</span><span class=\"w\"> </span><span class=\"nt\">not_json_response</span><span class=\"o\">=</span><span class=\"nt\">True</span><span class=\"o\">,</span><span class=\"w\"> </span><span class=\"nt\">absolute</span><span class=\"o\">=</span><span class=\"nt\">True</span><span class=\"o\">)</span>\n",
       "</pre></div>\n"
      ],
      "text/latex": [
       "\\begin{Verbatim}[commandchars=\\\\\\{\\}]\n",
       "\\PY{n+nt}{make\\PYZus{}get\\PYZus{}req}\\PY{o}{(}\\PY{n+nt}{path}\\PY{o}{=}\\PY{l+s+s1}{\\PYZsq{}variable\\PYZus{}2\\PYZsq{}}\\PY{o}{,}\\PY{+w}{ }\\PY{n+nt}{data}\\PY{o}{=}\\PY{n+nt}{variable\\PYZus{}1}\\PY{o}{,}\\PY{+w}{ }\\PY{n+nt}{params}\\PY{o}{=}\\PY{p}{\\PYZob{}}\\PY{err}{\\PYZsq{}}\\PY{err}{w}\\PY{err}{e}\\PY{err}{i}\\PY{err}{g}\\PY{err}{h}\\PY{err}{t}\\PY{err}{\\PYZsq{}}\\PY{err}{:}\\PY{+w}{ }\\PY{err}{v}\\PY{err}{a}\\PY{err}{r}\\PY{err}{i}\\PY{err}{a}\\PY{err}{b}\\PY{err}{l}\\PY{err}{e}\\PY{err}{\\PYZus{}}\\PY{err}{3}\\PY{p}{\\PYZcb{}}\\PY{o}{,}\\PY{+w}{ }\\PY{n+nt}{headers}\\PY{o}{=}\\PY{p}{\\PYZob{}}\\PY{p}{\\PYZcb{}}\\PY{o}{,}\\PY{+w}{ }\\PY{n+nt}{not\\PYZus{}json\\PYZus{}response}\\PY{o}{=}\\PY{n+nt}{True}\\PY{o}{,}\\PY{+w}{ }\\PY{n+nt}{absolute}\\PY{o}{=}\\PY{n+nt}{True}\\PY{o}{)}\n",
       "\\end{Verbatim}\n"
      ],
      "text/plain": [
       "\n",
       "make_get_req(path='variable_2', data=variable_1, params={'weight': variable_3}, headers={}, not_json_response=True, absolute=True)"
      ]
     },
     "metadata": {},
     "output_type": "display_data"
    }
   ],
   "source": [
    "docstring = \"\"\"\n",
    "Function Name: make_get_req\n",
    "Description: This function is used to make a GET request.\n",
    "Parameters:\n",
    "- path (str): The path of the URL to be requested.\n",
    "- data (dict): The data to be sent in the body of the request.\n",
    "- flags (dict): The flags to be sent in the request.\n",
    "- params (dict): The parameters to be sent in the request.\n",
    "- headers (dict): The headers to be sent in the request.\n",
    "- not_json_response (bool): OPTIONAL: If set to True, the function will return the raw response content instead of trying to parse it as JSON.\n",
    "- trailing (str): OPTIONAL: For wrapping slash symbol in the end of string.\n",
    "- absolute (bool): OPTIONAL: If set to True, the function will not prefix the URL with the base URL.\n",
    "- advanced_mode (bool): OPTIONAL: If set to True, the function will return the raw response instead of trying to parse it as JSON.\n",
    "Returns:\n",
    "- Union[str, dict, list, None]: The response content as a string, a dictionary, a list, or None if the response was not successful.\n",
    "\"\"\"\n",
    "\n",
    "question = \"\"\"\n",
    "Make a GET request for the URL parameter using variable_2. For the params parameter, use 'weight' as one of the keys with variable_3 as its value, and 'width' as another key with a value of 10. For the data parameter, use variable_1. Prefix the URL with the base URL, and ensure the response is in raw format.\n",
    "\"\"\"\n",
    "\n",
    "\n",
    "function_call = pip_flow.generate_function_call(question=question, docstring=docstring)"
   ]
  },
  {
   "cell_type": "markdown",
   "metadata": {},
   "source": [
    "## Plan Examples"
   ]
  },
  {
   "cell_type": "markdown",
   "metadata": {},
   "source": [
    "#### Add functions / callbales to PipFlow class"
   ]
  },
  {
   "cell_type": "code",
   "execution_count": 12,
   "metadata": {},
   "outputs": [
    {
     "data": {
      "text/plain": [
       "[Function(signature='(url, params=None, **kwargs)', docs='Sends a GET request.\\n\\n    :param url: URL for the new :class:`Request` object.\\n    :param params: (optional) Dictionary, list of tuples or bytes to send\\n        in the query string for the :class:`Request`.\\n    :param \\\\*\\\\*kwargs: Optional arguments that ``request`` takes.\\n    :return: :class:`Response <Response>` object\\n    :rtype: requests.Response\\n    ', name='get', full_name='requests.api.get'),\n",
       " Function(signature=\"(markup='', features=None, builder=None, parse_only=None, from_encoding=None, exclude_encodings=None, element_classes=None, **kwargs)\", docs='A data structure representing a parsed HTML or XML document.\\n\\n    Most of the methods you\\'ll call on a BeautifulSoup object are inherited from\\n    PageElement or Tag.\\n\\n    Internally, this class defines the basic interface called by the\\n    tree builders when converting an HTML/XML document into a data\\n    structure. The interface abstracts away the differences between\\n    parsers. To write a new tree builder, you\\'ll need to understand\\n    these methods as a whole.\\n\\n    These methods will be called by the BeautifulSoup constructor:\\n      * reset()\\n      * feed(markup)\\n\\n    The tree builder may call these methods from its feed() implementation:\\n      * handle_starttag(name, attrs) # See note about return value\\n      * handle_endtag(name)\\n      * handle_data(data) # Appends to the current data node\\n      * endData(containerClass) # Ends the current data node\\n\\n    No matter how complicated the underlying parser is, you should be\\n    able to build a tree using \\'start tag\\' events, \\'end tag\\' events,\\n    \\'data\\' events, and \"done with data\" events.\\n\\n    If you encounter an empty-element tag (aka a self-closing tag,\\n    like HTML\\'s <br> tag), call handle_starttag and then\\n    handle_endtag.\\n    ', name='BeautifulSoup', full_name='bs4.BeautifulSoup'),\n",
       " Function(signature='(self, name=None, attrs={}, recursive=True, string=None, limit=None, **kwargs)', docs=\"Look in the children of this PageElement and find all\\n        PageElements that match the given criteria.\\n\\n        All find_* methods take a common set of arguments. See the online\\n        documentation for detailed explanations.\\n\\n        :param name: A filter on tag name.\\n        :param attrs: A dictionary of filters on attribute values.\\n        :param recursive: If this is True, find_all() will perform a\\n            recursive search of this PageElement's children. Otherwise,\\n            only the direct children will be considered.\\n        :param limit: Stop looking after finding this many results.\\n        :kwargs: A dictionary of filters on attribute values.\\n        :return: A ResultSet of PageElements.\\n        :rtype: bs4.element.ResultSet\\n        \", name='find_all', full_name='bs4.element.Tag.find_all')]"
      ]
     },
     "execution_count": 12,
     "metadata": {},
     "output_type": "execute_result"
    }
   ],
   "source": [
    "import requests\n",
    "from bs4 import BeautifulSoup\n",
    "\n",
    "functions = [\n",
    "    requests.get,\n",
    "    BeautifulSoup,\n",
    "    BeautifulSoup.find_all,\n",
    "]\n",
    "\n",
    "pip_flow.add_callables(\n",
    "    functions, generate_docs=False\n",
    ")\n",
    "\n",
    "pip_flow.functions"
   ]
  },
  {
   "cell_type": "markdown",
   "metadata": {},
   "source": [
    "#### Create a Plan"
   ]
  },
  {
   "cell_type": "code",
   "execution_count": 13,
   "metadata": {},
   "outputs": [
    {
     "name": "stdout",
     "output_type": "stream",
     "text": [
      "{\n",
      "    \"tasks\": [\n",
      "        {\n",
      "            \"task_id\": 1,\n",
      "            \"function_name\": \"get\",\n",
      "            \"parameters\": [\n",
      "                {\n",
      "                    \"name\": \"url\",\n",
      "                    \"value\": \"https://colab.research.google.com/drive/1mB2v-d72k5DJ2sXqm7GsaAZdWOJBmmof?authuser=1#scrollTo=9NgzJt0-FoNw\",\n",
      "                    \"description\": \"URL of the page to be scraped\",\n",
      "                    \"dtype\": \"string\"\n",
      "                }\n",
      "            ],\n",
      "            \"outputs\": [\n",
      "                \"variable_1\"\n",
      "            ],\n",
      "            \"description\": \"Fetches the content of the page and converts it into a BeautifulSoup object.\"\n",
      "        },\n",
      "        {\n",
      "            \"task_id\": 2,\n",
      "            \"function_name\": \"BeautifulSoup\",\n",
      "            \"parameters\": [\n",
      "                {\n",
      "                    \"name\": \"markup\",\n",
      "                    \"value\": \"variable_1\",\n",
      "                    \"description\": \"The markup content of the page\",\n",
      "                    \"dtype\": \"string\"\n",
      "                }\n",
      "            ],\n",
      "            \"outputs\": [\n",
      "                \"variable_2\"\n",
      "            ],\n",
      "            \"description\": \"Creates a BeautifulSoup object from the markup content.\"\n",
      "        },\n",
      "        {\n",
      "            \"task_id\": 3,\n",
      "            \"function_name\": \"find_all\",\n",
      "            \"parameters\": [\n",
      "                {\n",
      "                    \"name\": \"self\",\n",
      "                    \"value\": \"variable_2\",\n",
      "                    \"description\": \"The BeautifulSoup object created from the markup content\",\n",
      "                    \"dtype\": \"BeautifulSoup object\"\n",
      "                },\n",
      "                {\n",
      "                    \"name\": \"name\",\n",
      "                    \"value\": \"div\",\n",
      "                    \"description\": \"The name of the tag to find\",\n",
      "                    \"dtype\": \"string\"\n",
      "                }\n",
      "            ],\n",
      "            \"outputs\": [\n",
      "                \"variable_3\"\n",
      "            ],\n",
      "            \"description\": \"Finds all div elements on the page.\"\n",
      "        }\n",
      "    ]\n",
      "}\n"
     ]
    }
   ],
   "source": [
    "question = \"\"\"\n",
    "Make get request to https://colab.research.google.com/drive/1mB2v-d72k5DJ2sXqm7GsaAZdWOJBmmof?authuser=1#scrollTo=9NgzJt0-FoNw.\n",
    "Create Beautiful soup class and find all the divs\n",
    "\"\"\"\n",
    "\n",
    "plan = pip_flow.generate_plan(question)"
   ]
  },
  {
   "cell_type": "markdown",
   "metadata": {},
   "source": [
    "#### Generate Code from the Plan"
   ]
  },
  {
   "cell_type": "code",
   "execution_count": 14,
   "metadata": {},
   "outputs": [
    {
     "data": {
      "text/html": [
       "<style>pre { line-height: 125%; }\n",
       "td.linenos .normal { color: inherit; background-color: transparent; padding-left: 5px; padding-right: 5px; }\n",
       "span.linenos { color: inherit; background-color: transparent; padding-left: 5px; padding-right: 5px; }\n",
       "td.linenos .special { color: #000000; background-color: #ffffc0; padding-left: 5px; padding-right: 5px; }\n",
       "span.linenos.special { color: #000000; background-color: #ffffc0; padding-left: 5px; padding-right: 5px; }\n",
       ".output_html .hll { background-color: #ffffcc }\n",
       ".output_html { background: #f8f8f8; }\n",
       ".output_html .c { color: #3D7B7B; font-style: italic } /* Comment */\n",
       ".output_html .err { border: 1px solid #FF0000 } /* Error */\n",
       ".output_html .k { color: #008000; font-weight: bold } /* Keyword */\n",
       ".output_html .o { color: #666666 } /* Operator */\n",
       ".output_html .ch { color: #3D7B7B; font-style: italic } /* Comment.Hashbang */\n",
       ".output_html .cm { color: #3D7B7B; font-style: italic } /* Comment.Multiline */\n",
       ".output_html .cp { color: #9C6500 } /* Comment.Preproc */\n",
       ".output_html .cpf { color: #3D7B7B; font-style: italic } /* Comment.PreprocFile */\n",
       ".output_html .c1 { color: #3D7B7B; font-style: italic } /* Comment.Single */\n",
       ".output_html .cs { color: #3D7B7B; font-style: italic } /* Comment.Special */\n",
       ".output_html .gd { color: #A00000 } /* Generic.Deleted */\n",
       ".output_html .ge { font-style: italic } /* Generic.Emph */\n",
       ".output_html .ges { font-weight: bold; font-style: italic } /* Generic.EmphStrong */\n",
       ".output_html .gr { color: #E40000 } /* Generic.Error */\n",
       ".output_html .gh { color: #000080; font-weight: bold } /* Generic.Heading */\n",
       ".output_html .gi { color: #008400 } /* Generic.Inserted */\n",
       ".output_html .go { color: #717171 } /* Generic.Output */\n",
       ".output_html .gp { color: #000080; font-weight: bold } /* Generic.Prompt */\n",
       ".output_html .gs { font-weight: bold } /* Generic.Strong */\n",
       ".output_html .gu { color: #800080; font-weight: bold } /* Generic.Subheading */\n",
       ".output_html .gt { color: #0044DD } /* Generic.Traceback */\n",
       ".output_html .kc { color: #008000; font-weight: bold } /* Keyword.Constant */\n",
       ".output_html .kd { color: #008000; font-weight: bold } /* Keyword.Declaration */\n",
       ".output_html .kn { color: #008000; font-weight: bold } /* Keyword.Namespace */\n",
       ".output_html .kp { color: #008000 } /* Keyword.Pseudo */\n",
       ".output_html .kr { color: #008000; font-weight: bold } /* Keyword.Reserved */\n",
       ".output_html .kt { color: #B00040 } /* Keyword.Type */\n",
       ".output_html .m { color: #666666 } /* Literal.Number */\n",
       ".output_html .s { color: #BA2121 } /* Literal.String */\n",
       ".output_html .na { color: #687822 } /* Name.Attribute */\n",
       ".output_html .nb { color: #008000 } /* Name.Builtin */\n",
       ".output_html .nc { color: #0000FF; font-weight: bold } /* Name.Class */\n",
       ".output_html .no { color: #880000 } /* Name.Constant */\n",
       ".output_html .nd { color: #AA22FF } /* Name.Decorator */\n",
       ".output_html .ni { color: #717171; font-weight: bold } /* Name.Entity */\n",
       ".output_html .ne { color: #CB3F38; font-weight: bold } /* Name.Exception */\n",
       ".output_html .nf { color: #0000FF } /* Name.Function */\n",
       ".output_html .nl { color: #767600 } /* Name.Label */\n",
       ".output_html .nn { color: #0000FF; font-weight: bold } /* Name.Namespace */\n",
       ".output_html .nt { color: #008000; font-weight: bold } /* Name.Tag */\n",
       ".output_html .nv { color: #19177C } /* Name.Variable */\n",
       ".output_html .ow { color: #AA22FF; font-weight: bold } /* Operator.Word */\n",
       ".output_html .w { color: #bbbbbb } /* Text.Whitespace */\n",
       ".output_html .mb { color: #666666 } /* Literal.Number.Bin */\n",
       ".output_html .mf { color: #666666 } /* Literal.Number.Float */\n",
       ".output_html .mh { color: #666666 } /* Literal.Number.Hex */\n",
       ".output_html .mi { color: #666666 } /* Literal.Number.Integer */\n",
       ".output_html .mo { color: #666666 } /* Literal.Number.Oct */\n",
       ".output_html .sa { color: #BA2121 } /* Literal.String.Affix */\n",
       ".output_html .sb { color: #BA2121 } /* Literal.String.Backtick */\n",
       ".output_html .sc { color: #BA2121 } /* Literal.String.Char */\n",
       ".output_html .dl { color: #BA2121 } /* Literal.String.Delimiter */\n",
       ".output_html .sd { color: #BA2121; font-style: italic } /* Literal.String.Doc */\n",
       ".output_html .s2 { color: #BA2121 } /* Literal.String.Double */\n",
       ".output_html .se { color: #AA5D1F; font-weight: bold } /* Literal.String.Escape */\n",
       ".output_html .sh { color: #BA2121 } /* Literal.String.Heredoc */\n",
       ".output_html .si { color: #A45A77; font-weight: bold } /* Literal.String.Interpol */\n",
       ".output_html .sx { color: #008000 } /* Literal.String.Other */\n",
       ".output_html .sr { color: #A45A77 } /* Literal.String.Regex */\n",
       ".output_html .s1 { color: #BA2121 } /* Literal.String.Single */\n",
       ".output_html .ss { color: #19177C } /* Literal.String.Symbol */\n",
       ".output_html .bp { color: #008000 } /* Name.Builtin.Pseudo */\n",
       ".output_html .fm { color: #0000FF } /* Name.Function.Magic */\n",
       ".output_html .vc { color: #19177C } /* Name.Variable.Class */\n",
       ".output_html .vg { color: #19177C } /* Name.Variable.Global */\n",
       ".output_html .vi { color: #19177C } /* Name.Variable.Instance */\n",
       ".output_html .vm { color: #19177C } /* Name.Variable.Magic */\n",
       ".output_html .il { color: #666666 } /* Literal.Number.Integer.Long */</style><div class=\"highlight\"><pre><span></span><span class=\"err\">#</span><span class=\"w\"> </span><span class=\"nt\">Importing</span><span class=\"w\"> </span><span class=\"nt\">required</span><span class=\"w\"> </span><span class=\"nt\">libraries</span>\n",
       "<span class=\"nt\">from</span><span class=\"w\"> </span><span class=\"nt\">bs4</span><span class=\"w\"> </span><span class=\"nt\">import</span><span class=\"w\"> </span><span class=\"nt\">BeautifulSoup</span>\n",
       "<span class=\"nt\">import</span><span class=\"w\"> </span><span class=\"nt\">requests</span>\n",
       "\n",
       "<span class=\"err\">#</span><span class=\"w\"> </span><span class=\"nt\">Get</span><span class=\"w\"> </span><span class=\"nt\">the</span><span class=\"w\"> </span><span class=\"nt\">page</span><span class=\"w\"> </span><span class=\"nt\">content</span>\n",
       "<span class=\"nt\">url</span><span class=\"w\"> </span><span class=\"o\">=</span><span class=\"w\"> </span><span class=\"s1\">&#39;https://colab.research.google.com/drive/1mB2v-d72k5DJ2sXqm7GsaAZdWOJBmmof?authuser=1#scrollTo=9NgzJt0-FoNw&#39;</span>\n",
       "<span class=\"nt\">response</span><span class=\"w\"> </span><span class=\"o\">=</span><span class=\"w\"> </span><span class=\"nt\">requests</span><span class=\"p\">.</span><span class=\"nc\">get</span><span class=\"o\">(</span><span class=\"nt\">url</span><span class=\"o\">)</span>\n",
       "\n",
       "<span class=\"err\">#</span><span class=\"w\"> </span><span class=\"nt\">Create</span><span class=\"w\"> </span><span class=\"nt\">BeautifulSoup</span><span class=\"w\"> </span><span class=\"nt\">object</span>\n",
       "<span class=\"nt\">soup</span><span class=\"w\"> </span><span class=\"o\">=</span><span class=\"w\"> </span><span class=\"nt\">BeautifulSoup</span><span class=\"o\">(</span><span class=\"nt\">response</span><span class=\"p\">.</span><span class=\"nc\">text</span><span class=\"o\">,</span><span class=\"w\"> </span><span class=\"s1\">&#39;html.parser&#39;</span><span class=\"o\">)</span>\n",
       "\n",
       "<span class=\"err\">#</span><span class=\"w\"> </span><span class=\"nt\">Find</span><span class=\"w\"> </span><span class=\"nt\">all</span><span class=\"w\"> </span><span class=\"nt\">div</span><span class=\"w\"> </span><span class=\"nt\">elements</span>\n",
       "<span class=\"nt\">divs</span><span class=\"w\"> </span><span class=\"o\">=</span><span class=\"w\"> </span><span class=\"nt\">soup</span><span class=\"p\">.</span><span class=\"nc\">find_all</span><span class=\"o\">(</span><span class=\"s1\">&#39;div&#39;</span><span class=\"o\">)</span>\n",
       "\n",
       "<span class=\"err\">#</span><span class=\"w\"> </span><span class=\"nt\">Print</span><span class=\"w\"> </span><span class=\"nt\">the</span><span class=\"w\"> </span><span class=\"nt\">divs</span>\n",
       "<span class=\"nt\">for</span><span class=\"w\"> </span><span class=\"nt\">div</span><span class=\"w\"> </span><span class=\"nt\">in</span><span class=\"w\"> </span><span class=\"nt\">divs</span><span class=\"o\">:</span>\n",
       "<span class=\"w\">    </span><span class=\"nt\">print</span><span class=\"o\">(</span><span class=\"nt\">div</span><span class=\"o\">)</span>\n",
       "</pre></div>\n"
      ],
      "text/latex": [
       "\\begin{Verbatim}[commandchars=\\\\\\{\\}]\n",
       "\\PY{err}{\\PYZsh{}}\\PY{+w}{ }\\PY{n+nt}{Importing}\\PY{+w}{ }\\PY{n+nt}{required}\\PY{+w}{ }\\PY{n+nt}{libraries}\n",
       "\\PY{n+nt}{from}\\PY{+w}{ }\\PY{n+nt}{bs4}\\PY{+w}{ }\\PY{n+nt}{import}\\PY{+w}{ }\\PY{n+nt}{BeautifulSoup}\n",
       "\\PY{n+nt}{import}\\PY{+w}{ }\\PY{n+nt}{requests}\n",
       "\n",
       "\\PY{err}{\\PYZsh{}}\\PY{+w}{ }\\PY{n+nt}{Get}\\PY{+w}{ }\\PY{n+nt}{the}\\PY{+w}{ }\\PY{n+nt}{page}\\PY{+w}{ }\\PY{n+nt}{content}\n",
       "\\PY{n+nt}{url}\\PY{+w}{ }\\PY{o}{=}\\PY{+w}{ }\\PY{l+s+s1}{\\PYZsq{}https://colab.research.google.com/drive/1mB2v\\PYZhy{}d72k5DJ2sXqm7GsaAZdWOJBmmof?authuser=1\\PYZsh{}scrollTo=9NgzJt0\\PYZhy{}FoNw\\PYZsq{}}\n",
       "\\PY{n+nt}{response}\\PY{+w}{ }\\PY{o}{=}\\PY{+w}{ }\\PY{n+nt}{requests}\\PY{p}{.}\\PY{n+nc}{get}\\PY{o}{(}\\PY{n+nt}{url}\\PY{o}{)}\n",
       "\n",
       "\\PY{err}{\\PYZsh{}}\\PY{+w}{ }\\PY{n+nt}{Create}\\PY{+w}{ }\\PY{n+nt}{BeautifulSoup}\\PY{+w}{ }\\PY{n+nt}{object}\n",
       "\\PY{n+nt}{soup}\\PY{+w}{ }\\PY{o}{=}\\PY{+w}{ }\\PY{n+nt}{BeautifulSoup}\\PY{o}{(}\\PY{n+nt}{response}\\PY{p}{.}\\PY{n+nc}{text}\\PY{o}{,}\\PY{+w}{ }\\PY{l+s+s1}{\\PYZsq{}html.parser\\PYZsq{}}\\PY{o}{)}\n",
       "\n",
       "\\PY{err}{\\PYZsh{}}\\PY{+w}{ }\\PY{n+nt}{Find}\\PY{+w}{ }\\PY{n+nt}{all}\\PY{+w}{ }\\PY{n+nt}{div}\\PY{+w}{ }\\PY{n+nt}{elements}\n",
       "\\PY{n+nt}{divs}\\PY{+w}{ }\\PY{o}{=}\\PY{+w}{ }\\PY{n+nt}{soup}\\PY{p}{.}\\PY{n+nc}{find\\PYZus{}all}\\PY{o}{(}\\PY{l+s+s1}{\\PYZsq{}div\\PYZsq{}}\\PY{o}{)}\n",
       "\n",
       "\\PY{err}{\\PYZsh{}}\\PY{+w}{ }\\PY{n+nt}{Print}\\PY{+w}{ }\\PY{n+nt}{the}\\PY{+w}{ }\\PY{n+nt}{divs}\n",
       "\\PY{n+nt}{for}\\PY{+w}{ }\\PY{n+nt}{div}\\PY{+w}{ }\\PY{n+nt}{in}\\PY{+w}{ }\\PY{n+nt}{divs}\\PY{o}{:}\n",
       "\\PY{+w}{    }\\PY{n+nt}{print}\\PY{o}{(}\\PY{n+nt}{div}\\PY{o}{)}\n",
       "\\end{Verbatim}\n"
      ],
      "text/plain": [
       "\n",
       "\n",
       "# Importing required libraries\n",
       "from bs4 import BeautifulSoup\n",
       "import requests\n",
       "\n",
       "# Get the page content\n",
       "url = 'https://colab.research.google.com/drive/1mB2v-d72k5DJ2sXqm7GsaAZdWOJBmmof?authuser=1#scrollTo=9NgzJt0-FoNw'\n",
       "response = requests.get(url)\n",
       "\n",
       "# Create BeautifulSoup object\n",
       "soup = BeautifulSoup(response.text, 'html.parser')\n",
       "\n",
       "# Find all div elements\n",
       "divs = soup.find_all('div')\n",
       "\n",
       "# Print the divs\n",
       "for div in divs:\n",
       "    print(div)\n"
      ]
     },
     "metadata": {},
     "output_type": "display_data"
    }
   ],
   "source": [
    "pip_flow.plan_to_code()"
   ]
  },
  {
   "cell_type": "markdown",
   "metadata": {},
   "source": [
    "#### Visualise the Plan"
   ]
  },
  {
   "cell_type": "code",
   "execution_count": 15,
   "metadata": {},
   "outputs": [],
   "source": [
    "pip_flow.visualise_plan()"
   ]
  },
  {
   "cell_type": "markdown",
   "metadata": {},
   "source": [
    "### Create Custom Plan Templates"
   ]
  },
  {
   "cell_type": "markdown",
   "metadata": {},
   "source": [
    "#### Register template with a unique name"
   ]
  },
  {
   "cell_type": "code",
   "execution_count": 16,
   "metadata": {},
   "outputs": [
    {
     "name": "stdout",
     "output_type": "stream",
     "text": [
      "Template Name : default\n",
      "Template Name : template_name\n"
     ]
    }
   ],
   "source": [
    "prompt = \"\"\"\n",
    "<functions>\n",
    "{func_info}\n",
    "</functions>\n",
    "<json_structure>\n",
    "{{\n",
    "  \"tasks\": [\n",
    "    {{\n",
    "      \"task_id\": 1,\n",
    "      \"function_name\": \"function name\",\n",
    "      \"parameters\": [\n",
    "        {{\n",
    "        \"name\":\"name of this parameter according to annotations.\",\n",
    "        \"value\":\"value to be passed for this parameter\",\n",
    "        \"dtype\":\"type annotation of the variable\",\n",
    "        \"description\": \"An explanation of why this value should be utilized.\"\n",
    "        }},\n",
    "        {{\n",
    "        \"name\":\"self\",\n",
    "        \"value\":\"variable name to be passed for this parameter self.\",\n",
    "        \"dtype\":\"type annotation of the self parameter\",\n",
    "        \"description\": \"An explanation of why the cariable should be used for this self parameter.\"\n",
    "        }}\n",
    "      ],\n",
    "      \"outputs\": [\"variable_1\"],\n",
    "      \"description\": \"some description\"\n",
    "    }},\n",
    "    {{\n",
    "      \"task_id\": 2,\n",
    "      \"function_name\": \"function name\",\n",
    "      \"parameters\": [\n",
    "        {{\n",
    "        \"name\":\"self\",\n",
    "        \"value\":\"variable name to be passed for this parameter self.\",\n",
    "        \"dtype\":\"type annotation of the self parameter\",\n",
    "        \"description\": \"An explanation of why the cariable should be used for this self parameter.\"\n",
    "        }},\n",
    "        {{,\n",
    "        \"name\":\"name of this parameter according to annotations.\",\n",
    "        \"value\":\"value to be passed for this parameter\",\n",
    "        \"dtype\":\"type annotation of the variable\",\n",
    "        \"description\": \"An explanation of why this value should be utilized.\"\n",
    "        }}\n",
    "      ],\n",
    "      \"outputs\": [\"variable_2\"],\n",
    "      \"description\": \"some description\"\n",
    "    }}\n",
    "  ]\n",
    "}}\n",
    "</json_structure>\n",
    "<instructions>\n",
    "- use self parameter with proper value based on the question.\n",
    "- name outputs as variable_1 , variable_2 , variable_3 , variable_4 and more variables in chronological order.\n",
    "- give attention to the type annotation of the parameter given while filling values.\n",
    "{instructions}\n",
    "</instructions>\n",
    "<question>\n",
    "Given the above functions,\n",
    "- Do not give the parameters in json which have null values and default values of the function, only give the sequencial function calls with parameters to execute the below question:\n",
    "{question}\n",
    "</question>\n",
    "\"\"\"\n",
    "\n",
    "pip_flow.add_plan_template(\"template_name\", prompt)\n",
    "\n",
    "for template_name in pip_flow.prompt_templates.keys():\n",
    "  print(f\"Template Name : {template_name}\")\n"
   ]
  },
  {
   "cell_type": "markdown",
   "metadata": {},
   "source": [
    "#### Load templates from JSON file"
   ]
  },
  {
   "cell_type": "code",
   "execution_count": 17,
   "metadata": {},
   "outputs": [
    {
     "name": "stdout",
     "output_type": "stream",
     "text": [
      "Template Name : default\n",
      "Template Name : new_template\n",
      "Template Name : new_template_2\n"
     ]
    }
   ],
   "source": [
    "pip_flow.load_templates(filepath=\"templates.json\")\n",
    "\n",
    "for template_name in pip_flow.prompt_templates.keys():\n",
    "  print(f\"Template Name : {template_name}\")"
   ]
  },
  {
   "cell_type": "markdown",
   "metadata": {},
   "source": [
    "#### Update Configurations in Templates\n",
    "\n",
    "- When we create a plan using `generate_plan`, the latest base template and configs are used to substitute the values in the selected template.\n",
    "\n",
    "- We can override that with the `make_live_prompt` function."
   ]
  },
  {
   "cell_type": "code",
   "execution_count": 18,
   "metadata": {},
   "outputs": [
    {
     "data": {
      "text/plain": [
       "'Updated config and base prompt template successfully.'"
      ]
     },
     "execution_count": 18,
     "metadata": {},
     "output_type": "execute_result"
    }
   ],
   "source": [
    "config = {\n",
    "    \"func_info\": str(\n",
    "        [\n",
    "            f\"\"\"--name:{function.name}\\n--annotations:{function.signature}\\n--doc:{function.docs}\\n\\n\"\"\"\n",
    "            for function in pip_flow.functions[:2]\n",
    "        ]\n",
    "    ),\n",
    "    \"function_list\": [function.name for function in pip_flow.functions[:2]],\n",
    "    \"instructions\": \"Some new Instruction\",\n",
    "}\n",
    "\n",
    "template_name = \"new_template\"\n",
    "\n",
    "pip_flow.make_live_prompt(template_name, config)"
   ]
  },
  {
   "cell_type": "code",
   "execution_count": 19,
   "metadata": {},
   "outputs": [
    {
     "name": "stdout",
     "output_type": "stream",
     "text": [
      "\n",
      "<functions>\n",
      "{func_info}\n",
      "</functions>\n",
      "<json_structure>\n",
      "{{\n",
      "  \"tasks\": [\n",
      "    {{\n",
      "      \"task_id\": 1,\n",
      "      \"function_name\": \"function name\",\n",
      "      \"parameters\": [\n",
      "        {{\n",
      "        \"name\":\"name of this parameter according to annotations.\",\n",
      "        \"value\":\"value to be passed for this parameter\",\n",
      "        \"dtype\":\"type annotation of the variable\",\n",
      "        \"description\": \"An explanation of why this value should be utilized.\"\n",
      "        }},\n",
      "        {{\n",
      "        \"name\":\"self\",\n",
      "        \"value\":\"variable name to be passed for this parameter self.\",\n",
      "        \"dtype\":\"type annotation of the self parameter\",\n",
      "        \"description\": \"An explanation of why the cariable should be used for this self parameter.\"\n",
      "        }}\n",
      "      ],\n",
      "      \"outputs\": [\"variable_1\"],\n",
      "      \"description\": \"some description\"\n",
      "    }},\n",
      "    {{\n",
      "      \"task_id\": 2,\n",
      "      \"function_name\": \"function name\",\n",
      "      \"parameters\": [\n",
      "        {{\n",
      "        \"name\":\"self\",\n",
      "        \"value\":\"variable name to be passed for this parameter self.\",\n",
      "        \"dtype\":\"type annotation of the self parameter\",\n",
      "        \"description\": \"An explanation of why the cariable should be used for this self parameter.\"\n",
      "        }},\n",
      "        {{,\n",
      "        \"name\":\"name of this parameter according to annotations.\",\n",
      "        \"value\":\"value to be passed for this parameter\",\n",
      "        \"dtype\":\"type annotation of the variable\",\n",
      "        \"description\": \"An explanation of why this value should be utilized.\"\n",
      "        }}\n",
      "      ],\n",
      "      \"outputs\": [\"variable_2\"],\n",
      "      \"description\": \"some description\"\n",
      "    }}\n",
      "  ]\n",
      "}}\n",
      "</json_structure>\n",
      "<instructions>\n",
      "- use self parameter with proper value based on the question.\n",
      "- name outputs as variable_1 , variable_2 , variable_3 , variable_4 and more variables in chronological order.\n",
      "- give attention to the type annotation of the parameter given while filling values.\n",
      "{instructions}\n",
      "</instructions>\n",
      "<question>\n",
      "Given the above functions,\n",
      "- Do not give the parameters in json which have null values and default values of the function, only give the sequencial function calls with parameters to execute the below question:\n",
      "{question}\n",
      "</question>\n",
      "\n"
     ]
    }
   ],
   "source": [
    "print(pip_flow.latest_base_prompt)"
   ]
  },
  {
   "cell_type": "code",
   "execution_count": 20,
   "metadata": {},
   "outputs": [
    {
     "data": {
      "text/plain": [
       "{'func_info': '[\\'--name:get\\\\n--annotations:(url, params=None, **kwargs)\\\\n--doc:Sends a GET request.\\\\n\\\\n    :param url: URL for the new :class:`Request` object.\\\\n    :param params: (optional) Dictionary, list of tuples or bytes to send\\\\n        in the query string for the :class:`Request`.\\\\n    :param \\\\\\\\*\\\\\\\\*kwargs: Optional arguments that ``request`` takes.\\\\n    :return: :class:`Response <Response>` object\\\\n    :rtype: requests.Response\\\\n    \\\\n\\\\n\\', \\'--name:BeautifulSoup\\\\n--annotations:(markup=\\\\\\'\\\\\\', features=None, builder=None, parse_only=None, from_encoding=None, exclude_encodings=None, element_classes=None, **kwargs)\\\\n--doc:A data structure representing a parsed HTML or XML document.\\\\n\\\\n    Most of the methods you\\\\\\'ll call on a BeautifulSoup object are inherited from\\\\n    PageElement or Tag.\\\\n\\\\n    Internally, this class defines the basic interface called by the\\\\n    tree builders when converting an HTML/XML document into a data\\\\n    structure. The interface abstracts away the differences between\\\\n    parsers. To write a new tree builder, you\\\\\\'ll need to understand\\\\n    these methods as a whole.\\\\n\\\\n    These methods will be called by the BeautifulSoup constructor:\\\\n      * reset()\\\\n      * feed(markup)\\\\n\\\\n    The tree builder may call these methods from its feed() implementation:\\\\n      * handle_starttag(name, attrs) # See note about return value\\\\n      * handle_endtag(name)\\\\n      * handle_data(data) # Appends to the current data node\\\\n      * endData(containerClass) # Ends the current data node\\\\n\\\\n    No matter how complicated the underlying parser is, you should be\\\\n    able to build a tree using \\\\\\'start tag\\\\\\' events, \\\\\\'end tag\\\\\\' events,\\\\n    \\\\\\'data\\\\\\' events, and \"done with data\" events.\\\\n\\\\n    If you encounter an empty-element tag (aka a self-closing tag,\\\\n    like HTML\\\\\\'s <br> tag), call handle_starttag and then\\\\n    handle_endtag.\\\\n    \\\\n\\\\n\\']',\n",
       " 'function_list': ['get', 'BeautifulSoup'],\n",
       " 'instructions': 'Some new Instruction',\n",
       " 'question': '\\nMake get request to https://colab.research.google.com/drive/1mB2v-d72k5DJ2sXqm7GsaAZdWOJBmmof?authuser=1#scrollTo=9NgzJt0-FoNw.\\nCreate Beautiful soup class and find all the divs\\n'}"
      ]
     },
     "execution_count": 20,
     "metadata": {},
     "output_type": "execute_result"
    }
   ],
   "source": [
    "pip_flow.latest_configs\n"
   ]
  },
  {
   "cell_type": "code",
   "execution_count": 21,
   "metadata": {},
   "outputs": [
    {
     "name": "stdout",
     "output_type": "stream",
     "text": [
      "{\n",
      "    \"tasks\": [\n",
      "        {\n",
      "            \"task_id\": 1,\n",
      "            \"function_name\": \"get_request\",\n",
      "            \"parameters\": [\n",
      "                {\n",
      "                    \"name\": \"url\",\n",
      "                    \"value\": \"https://colab.research.google.com/drive/1mB2v-d72k5DJ2sXqm7GsaAZdWOJBmmof?authuser=1#scrollTo=9NgzJt0-FoNw\",\n",
      "                    \"description\": \"URL for the new :class:`Request` object.\",\n",
      "                    \"dtype\": \"str\"\n",
      "                }\n",
      "            ],\n",
      "            \"outputs\": [\n",
      "                \"variable_1\"\n",
      "            ],\n",
      "            \"description\": \"Sends a GET request to the specified URL.\"\n",
      "        },\n",
      "        {\n",
      "            \"task_id\": 2,\n",
      "            \"function_name\": \"beautiful_soup\",\n",
      "            \"parameters\": [\n",
      "                {\n",
      "                    \"name\": \"html_content\",\n",
      "                    \"value\": \"variable_1\",\n",
      "                    \"description\": \"HTML content to parse.\",\n",
      "                    \"dtype\": \"str\"\n",
      "                }\n",
      "            ],\n",
      "            \"outputs\": [\n",
      "                \"variable_2\"\n",
      "            ],\n",
      "            \"description\": \"Creates a BeautifulSoup object from the HTML content.\"\n",
      "        }\n",
      "    ]\n",
      "}\n"
     ]
    }
   ],
   "source": [
    "question = \"\"\"\n",
    "Make get request to https://colab.research.google.com/drive/1mB2v-d72k5DJ2sXqm7GsaAZdWOJBmmof?authuser=1#scrollTo=9NgzJt0-FoNw, and Create Beautiful soup class\n",
    "\"\"\"\n",
    "\n",
    "plan = pip_flow.generate_plan(question)"
   ]
  },
  {
   "cell_type": "markdown",
   "metadata": {},
   "source": []
  }
 ],
 "metadata": {
  "kernelspec": {
   "display_name": "Python 3",
   "language": "python",
   "name": "python3"
  },
  "language_info": {
   "codemirror_mode": {
    "name": "ipython",
    "version": 3
   },
   "file_extension": ".py",
   "mimetype": "text/x-python",
   "name": "python",
   "nbconvert_exporter": "python",
   "pygments_lexer": "ipython3",
   "version": "3.10.14"
  }
 },
 "nbformat": 4,
 "nbformat_minor": 2
}
